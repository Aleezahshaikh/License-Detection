{
  "cells": [
    {
      "cell_type": "markdown",
      "metadata": {
        "id": "view-in-github",
        "colab_type": "text"
      },
      "source": [
        "<a href=\"https://colab.research.google.com/github/Aleezahshaikh/License-Detection/blob/main/LicenseDetection.ipynb\" target=\"_parent\"><img src=\"https://colab.research.google.com/assets/colab-badge.svg\" alt=\"Open In Colab\"/></a>"
      ]
    },
    {
      "cell_type": "code",
      "execution_count": null,
      "metadata": {
        "id": "I1de7dSLSxUk"
      },
      "outputs": [],
      "source": [
        "cd /content/Licence-Plate-Detection-using-YOLO-V8"
      ]
    },
    {
      "cell_type": "code",
      "execution_count": 1,
      "metadata": {
        "colab": {
          "base_uri": "https://localhost:8080/"
        },
        "id": "BliseGYpS6sq",
        "outputId": "8cfb398b-bb3c-445a-f839-f854bba63917"
      },
      "outputs": [
        {
          "output_type": "stream",
          "name": "stdout",
          "text": [
            "Collecting roboflow\n",
            "  Downloading roboflow-1.1.61-py3-none-any.whl.metadata (9.7 kB)\n",
            "Requirement already satisfied: certifi in /usr/local/lib/python3.11/dist-packages (from roboflow) (2025.1.31)\n",
            "Collecting idna==3.7 (from roboflow)\n",
            "  Downloading idna-3.7-py3-none-any.whl.metadata (9.9 kB)\n",
            "Requirement already satisfied: cycler in /usr/local/lib/python3.11/dist-packages (from roboflow) (0.12.1)\n",
            "Requirement already satisfied: kiwisolver>=1.3.1 in /usr/local/lib/python3.11/dist-packages (from roboflow) (1.4.8)\n",
            "Requirement already satisfied: matplotlib in /usr/local/lib/python3.11/dist-packages (from roboflow) (3.10.0)\n",
            "Requirement already satisfied: numpy>=1.18.5 in /usr/local/lib/python3.11/dist-packages (from roboflow) (2.0.2)\n",
            "Collecting opencv-python-headless==4.10.0.84 (from roboflow)\n",
            "  Downloading opencv_python_headless-4.10.0.84-cp37-abi3-manylinux_2_17_x86_64.manylinux2014_x86_64.whl.metadata (20 kB)\n",
            "Requirement already satisfied: Pillow>=7.1.2 in /usr/local/lib/python3.11/dist-packages (from roboflow) (11.1.0)\n",
            "Collecting pillow-heif>=0.18.0 (from roboflow)\n",
            "  Downloading pillow_heif-0.22.0-cp311-cp311-manylinux_2_17_x86_64.manylinux2014_x86_64.whl.metadata (9.6 kB)\n",
            "Requirement already satisfied: python-dateutil in /usr/local/lib/python3.11/dist-packages (from roboflow) (2.8.2)\n",
            "Collecting python-dotenv (from roboflow)\n",
            "  Downloading python_dotenv-1.1.0-py3-none-any.whl.metadata (24 kB)\n",
            "Requirement already satisfied: requests in /usr/local/lib/python3.11/dist-packages (from roboflow) (2.32.3)\n",
            "Requirement already satisfied: six in /usr/local/lib/python3.11/dist-packages (from roboflow) (1.17.0)\n",
            "Requirement already satisfied: urllib3>=1.26.6 in /usr/local/lib/python3.11/dist-packages (from roboflow) (2.3.0)\n",
            "Requirement already satisfied: tqdm>=4.41.0 in /usr/local/lib/python3.11/dist-packages (from roboflow) (4.67.1)\n",
            "Requirement already satisfied: PyYAML>=5.3.1 in /usr/local/lib/python3.11/dist-packages (from roboflow) (6.0.2)\n",
            "Requirement already satisfied: requests-toolbelt in /usr/local/lib/python3.11/dist-packages (from roboflow) (1.0.0)\n",
            "Collecting filetype (from roboflow)\n",
            "  Downloading filetype-1.2.0-py2.py3-none-any.whl.metadata (6.5 kB)\n",
            "Requirement already satisfied: contourpy>=1.0.1 in /usr/local/lib/python3.11/dist-packages (from matplotlib->roboflow) (1.3.2)\n",
            "Requirement already satisfied: fonttools>=4.22.0 in /usr/local/lib/python3.11/dist-packages (from matplotlib->roboflow) (4.57.0)\n",
            "Requirement already satisfied: packaging>=20.0 in /usr/local/lib/python3.11/dist-packages (from matplotlib->roboflow) (24.2)\n",
            "Requirement already satisfied: pyparsing>=2.3.1 in /usr/local/lib/python3.11/dist-packages (from matplotlib->roboflow) (3.2.3)\n",
            "Requirement already satisfied: charset-normalizer<4,>=2 in /usr/local/lib/python3.11/dist-packages (from requests->roboflow) (3.4.1)\n",
            "Downloading roboflow-1.1.61-py3-none-any.whl (85 kB)\n",
            "\u001b[2K   \u001b[90m━━━━━━━━━━━━━━━━━━━━━━━━━━━━━━━━━━━━━━━━\u001b[0m \u001b[32m85.2/85.2 kB\u001b[0m \u001b[31m8.2 MB/s\u001b[0m eta \u001b[36m0:00:00\u001b[0m\n",
            "\u001b[?25hDownloading idna-3.7-py3-none-any.whl (66 kB)\n",
            "\u001b[2K   \u001b[90m━━━━━━━━━━━━━━━━━━━━━━━━━━━━━━━━━━━━━━━━\u001b[0m \u001b[32m66.8/66.8 kB\u001b[0m \u001b[31m6.4 MB/s\u001b[0m eta \u001b[36m0:00:00\u001b[0m\n",
            "\u001b[?25hDownloading opencv_python_headless-4.10.0.84-cp37-abi3-manylinux_2_17_x86_64.manylinux2014_x86_64.whl (49.9 MB)\n",
            "\u001b[2K   \u001b[90m━━━━━━━━━━━━━━━━━━━━━━━━━━━━━━━━━━━━━━━━\u001b[0m \u001b[32m49.9/49.9 MB\u001b[0m \u001b[31m21.9 MB/s\u001b[0m eta \u001b[36m0:00:00\u001b[0m\n",
            "\u001b[?25hDownloading pillow_heif-0.22.0-cp311-cp311-manylinux_2_17_x86_64.manylinux2014_x86_64.whl (7.8 MB)\n",
            "\u001b[2K   \u001b[90m━━━━━━━━━━━━━━━━━━━━━━━━━━━━━━━━━━━━━━━━\u001b[0m \u001b[32m7.8/7.8 MB\u001b[0m \u001b[31m90.8 MB/s\u001b[0m eta \u001b[36m0:00:00\u001b[0m\n",
            "\u001b[?25hDownloading filetype-1.2.0-py2.py3-none-any.whl (19 kB)\n",
            "Downloading python_dotenv-1.1.0-py3-none-any.whl (20 kB)\n",
            "Installing collected packages: filetype, python-dotenv, pillow-heif, opencv-python-headless, idna, roboflow\n",
            "  Attempting uninstall: opencv-python-headless\n",
            "    Found existing installation: opencv-python-headless 4.11.0.86\n",
            "    Uninstalling opencv-python-headless-4.11.0.86:\n",
            "      Successfully uninstalled opencv-python-headless-4.11.0.86\n",
            "  Attempting uninstall: idna\n",
            "    Found existing installation: idna 3.10\n",
            "    Uninstalling idna-3.10:\n",
            "      Successfully uninstalled idna-3.10\n",
            "Successfully installed filetype-1.2.0 idna-3.7 opencv-python-headless-4.10.0.84 pillow-heif-0.22.0 python-dotenv-1.1.0 roboflow-1.1.61\n",
            "loading Roboflow workspace...\n",
            "loading Roboflow project...\n"
          ]
        },
        {
          "output_type": "stream",
          "name": "stderr",
          "text": [
            "Downloading Dataset Version Zip in License-Plate-Detector-2 to yolov8:: 100%|██████████| 65914/65914 [00:05<00:00, 12663.95it/s]"
          ]
        },
        {
          "output_type": "stream",
          "name": "stdout",
          "text": [
            "\n"
          ]
        },
        {
          "output_type": "stream",
          "name": "stderr",
          "text": [
            "\n",
            "Extracting Dataset Version Zip to License-Plate-Detector-2 in yolov8:: 100%|██████████| 1648/1648 [00:00<00:00, 5206.80it/s]\n"
          ]
        }
      ],
      "source": [
        "!pip install roboflow\n",
        "\n",
        "from roboflow import Roboflow\n",
        "rf = Roboflow(api_key=\"ZwPuTXKBbxYB80WFuVUK\")\n",
        "project = rf.workspace(\"cv-xyxrk\").project(\"license-plate-detector-ogxxg-4vajy\")\n",
        "version = project.version(2)\n",
        "dataset = version.download(\"yolov8\")"
      ]
    },
    {
      "cell_type": "code",
      "execution_count": 2,
      "metadata": {
        "colab": {
          "base_uri": "https://localhost:8080/"
        },
        "id": "Q3MX7BV8TB5I",
        "outputId": "b09006f4-a163-44f2-eb30-8afb41f0d62a"
      },
      "outputs": [
        {
          "output_type": "stream",
          "name": "stdout",
          "text": [
            "Collecting ultralytics\n",
            "  Downloading ultralytics-8.3.112-py3-none-any.whl.metadata (37 kB)\n",
            "Requirement already satisfied: numpy<=2.1.1,>=1.23.0 in /usr/local/lib/python3.11/dist-packages (from ultralytics) (2.0.2)\n",
            "Requirement already satisfied: matplotlib>=3.3.0 in /usr/local/lib/python3.11/dist-packages (from ultralytics) (3.10.0)\n",
            "Requirement already satisfied: opencv-python>=4.6.0 in /usr/local/lib/python3.11/dist-packages (from ultralytics) (4.11.0.86)\n",
            "Requirement already satisfied: pillow>=7.1.2 in /usr/local/lib/python3.11/dist-packages (from ultralytics) (11.1.0)\n",
            "Requirement already satisfied: pyyaml>=5.3.1 in /usr/local/lib/python3.11/dist-packages (from ultralytics) (6.0.2)\n",
            "Requirement already satisfied: requests>=2.23.0 in /usr/local/lib/python3.11/dist-packages (from ultralytics) (2.32.3)\n",
            "Requirement already satisfied: scipy>=1.4.1 in /usr/local/lib/python3.11/dist-packages (from ultralytics) (1.14.1)\n",
            "Requirement already satisfied: torch>=1.8.0 in /usr/local/lib/python3.11/dist-packages (from ultralytics) (2.6.0+cu124)\n",
            "Requirement already satisfied: torchvision>=0.9.0 in /usr/local/lib/python3.11/dist-packages (from ultralytics) (0.21.0+cu124)\n",
            "Requirement already satisfied: tqdm>=4.64.0 in /usr/local/lib/python3.11/dist-packages (from ultralytics) (4.67.1)\n",
            "Requirement already satisfied: psutil in /usr/local/lib/python3.11/dist-packages (from ultralytics) (5.9.5)\n",
            "Requirement already satisfied: py-cpuinfo in /usr/local/lib/python3.11/dist-packages (from ultralytics) (9.0.0)\n",
            "Requirement already satisfied: pandas>=1.1.4 in /usr/local/lib/python3.11/dist-packages (from ultralytics) (2.2.2)\n",
            "Requirement already satisfied: seaborn>=0.11.0 in /usr/local/lib/python3.11/dist-packages (from ultralytics) (0.13.2)\n",
            "Collecting ultralytics-thop>=2.0.0 (from ultralytics)\n",
            "  Downloading ultralytics_thop-2.0.14-py3-none-any.whl.metadata (9.4 kB)\n",
            "Requirement already satisfied: contourpy>=1.0.1 in /usr/local/lib/python3.11/dist-packages (from matplotlib>=3.3.0->ultralytics) (1.3.2)\n",
            "Requirement already satisfied: cycler>=0.10 in /usr/local/lib/python3.11/dist-packages (from matplotlib>=3.3.0->ultralytics) (0.12.1)\n",
            "Requirement already satisfied: fonttools>=4.22.0 in /usr/local/lib/python3.11/dist-packages (from matplotlib>=3.3.0->ultralytics) (4.57.0)\n",
            "Requirement already satisfied: kiwisolver>=1.3.1 in /usr/local/lib/python3.11/dist-packages (from matplotlib>=3.3.0->ultralytics) (1.4.8)\n",
            "Requirement already satisfied: packaging>=20.0 in /usr/local/lib/python3.11/dist-packages (from matplotlib>=3.3.0->ultralytics) (24.2)\n",
            "Requirement already satisfied: pyparsing>=2.3.1 in /usr/local/lib/python3.11/dist-packages (from matplotlib>=3.3.0->ultralytics) (3.2.3)\n",
            "Requirement already satisfied: python-dateutil>=2.7 in /usr/local/lib/python3.11/dist-packages (from matplotlib>=3.3.0->ultralytics) (2.8.2)\n",
            "Requirement already satisfied: pytz>=2020.1 in /usr/local/lib/python3.11/dist-packages (from pandas>=1.1.4->ultralytics) (2025.2)\n",
            "Requirement already satisfied: tzdata>=2022.7 in /usr/local/lib/python3.11/dist-packages (from pandas>=1.1.4->ultralytics) (2025.2)\n",
            "Requirement already satisfied: charset-normalizer<4,>=2 in /usr/local/lib/python3.11/dist-packages (from requests>=2.23.0->ultralytics) (3.4.1)\n",
            "Requirement already satisfied: idna<4,>=2.5 in /usr/local/lib/python3.11/dist-packages (from requests>=2.23.0->ultralytics) (3.7)\n",
            "Requirement already satisfied: urllib3<3,>=1.21.1 in /usr/local/lib/python3.11/dist-packages (from requests>=2.23.0->ultralytics) (2.3.0)\n",
            "Requirement already satisfied: certifi>=2017.4.17 in /usr/local/lib/python3.11/dist-packages (from requests>=2.23.0->ultralytics) (2025.1.31)\n",
            "Requirement already satisfied: filelock in /usr/local/lib/python3.11/dist-packages (from torch>=1.8.0->ultralytics) (3.18.0)\n",
            "Requirement already satisfied: typing-extensions>=4.10.0 in /usr/local/lib/python3.11/dist-packages (from torch>=1.8.0->ultralytics) (4.13.2)\n",
            "Requirement already satisfied: networkx in /usr/local/lib/python3.11/dist-packages (from torch>=1.8.0->ultralytics) (3.4.2)\n",
            "Requirement already satisfied: jinja2 in /usr/local/lib/python3.11/dist-packages (from torch>=1.8.0->ultralytics) (3.1.6)\n",
            "Requirement already satisfied: fsspec in /usr/local/lib/python3.11/dist-packages (from torch>=1.8.0->ultralytics) (2025.3.2)\n",
            "Collecting nvidia-cuda-nvrtc-cu12==12.4.127 (from torch>=1.8.0->ultralytics)\n",
            "  Downloading nvidia_cuda_nvrtc_cu12-12.4.127-py3-none-manylinux2014_x86_64.whl.metadata (1.5 kB)\n",
            "Collecting nvidia-cuda-runtime-cu12==12.4.127 (from torch>=1.8.0->ultralytics)\n",
            "  Downloading nvidia_cuda_runtime_cu12-12.4.127-py3-none-manylinux2014_x86_64.whl.metadata (1.5 kB)\n",
            "Collecting nvidia-cuda-cupti-cu12==12.4.127 (from torch>=1.8.0->ultralytics)\n",
            "  Downloading nvidia_cuda_cupti_cu12-12.4.127-py3-none-manylinux2014_x86_64.whl.metadata (1.6 kB)\n",
            "Collecting nvidia-cudnn-cu12==9.1.0.70 (from torch>=1.8.0->ultralytics)\n",
            "  Downloading nvidia_cudnn_cu12-9.1.0.70-py3-none-manylinux2014_x86_64.whl.metadata (1.6 kB)\n",
            "Collecting nvidia-cublas-cu12==12.4.5.8 (from torch>=1.8.0->ultralytics)\n",
            "  Downloading nvidia_cublas_cu12-12.4.5.8-py3-none-manylinux2014_x86_64.whl.metadata (1.5 kB)\n",
            "Collecting nvidia-cufft-cu12==11.2.1.3 (from torch>=1.8.0->ultralytics)\n",
            "  Downloading nvidia_cufft_cu12-11.2.1.3-py3-none-manylinux2014_x86_64.whl.metadata (1.5 kB)\n",
            "Collecting nvidia-curand-cu12==10.3.5.147 (from torch>=1.8.0->ultralytics)\n",
            "  Downloading nvidia_curand_cu12-10.3.5.147-py3-none-manylinux2014_x86_64.whl.metadata (1.5 kB)\n",
            "Collecting nvidia-cusolver-cu12==11.6.1.9 (from torch>=1.8.0->ultralytics)\n",
            "  Downloading nvidia_cusolver_cu12-11.6.1.9-py3-none-manylinux2014_x86_64.whl.metadata (1.6 kB)\n",
            "Collecting nvidia-cusparse-cu12==12.3.1.170 (from torch>=1.8.0->ultralytics)\n",
            "  Downloading nvidia_cusparse_cu12-12.3.1.170-py3-none-manylinux2014_x86_64.whl.metadata (1.6 kB)\n",
            "Requirement already satisfied: nvidia-cusparselt-cu12==0.6.2 in /usr/local/lib/python3.11/dist-packages (from torch>=1.8.0->ultralytics) (0.6.2)\n",
            "Requirement already satisfied: nvidia-nccl-cu12==2.21.5 in /usr/local/lib/python3.11/dist-packages (from torch>=1.8.0->ultralytics) (2.21.5)\n",
            "Requirement already satisfied: nvidia-nvtx-cu12==12.4.127 in /usr/local/lib/python3.11/dist-packages (from torch>=1.8.0->ultralytics) (12.4.127)\n",
            "Collecting nvidia-nvjitlink-cu12==12.4.127 (from torch>=1.8.0->ultralytics)\n",
            "  Downloading nvidia_nvjitlink_cu12-12.4.127-py3-none-manylinux2014_x86_64.whl.metadata (1.5 kB)\n",
            "Requirement already satisfied: triton==3.2.0 in /usr/local/lib/python3.11/dist-packages (from torch>=1.8.0->ultralytics) (3.2.0)\n",
            "Requirement already satisfied: sympy==1.13.1 in /usr/local/lib/python3.11/dist-packages (from torch>=1.8.0->ultralytics) (1.13.1)\n",
            "Requirement already satisfied: mpmath<1.4,>=1.1.0 in /usr/local/lib/python3.11/dist-packages (from sympy==1.13.1->torch>=1.8.0->ultralytics) (1.3.0)\n",
            "Requirement already satisfied: six>=1.5 in /usr/local/lib/python3.11/dist-packages (from python-dateutil>=2.7->matplotlib>=3.3.0->ultralytics) (1.17.0)\n",
            "Requirement already satisfied: MarkupSafe>=2.0 in /usr/local/lib/python3.11/dist-packages (from jinja2->torch>=1.8.0->ultralytics) (3.0.2)\n",
            "Downloading ultralytics-8.3.112-py3-none-any.whl (981 kB)\n",
            "\u001b[2K   \u001b[90m━━━━━━━━━━━━━━━━━━━━━━━━━━━━━━━━━━━━━━━━\u001b[0m \u001b[32m981.3/981.3 kB\u001b[0m \u001b[31m57.1 MB/s\u001b[0m eta \u001b[36m0:00:00\u001b[0m\n",
            "\u001b[?25hDownloading nvidia_cublas_cu12-12.4.5.8-py3-none-manylinux2014_x86_64.whl (363.4 MB)\n",
            "\u001b[2K   \u001b[90m━━━━━━━━━━━━━━━━━━━━━━━━━━━━━━━━━━━━━━━━\u001b[0m \u001b[32m363.4/363.4 MB\u001b[0m \u001b[31m4.3 MB/s\u001b[0m eta \u001b[36m0:00:00\u001b[0m\n",
            "\u001b[?25hDownloading nvidia_cuda_cupti_cu12-12.4.127-py3-none-manylinux2014_x86_64.whl (13.8 MB)\n",
            "\u001b[2K   \u001b[90m━━━━━━━━━━━━━━━━━━━━━━━━━━━━━━━━━━━━━━━━\u001b[0m \u001b[32m13.8/13.8 MB\u001b[0m \u001b[31m50.4 MB/s\u001b[0m eta \u001b[36m0:00:00\u001b[0m\n",
            "\u001b[?25hDownloading nvidia_cuda_nvrtc_cu12-12.4.127-py3-none-manylinux2014_x86_64.whl (24.6 MB)\n",
            "\u001b[2K   \u001b[90m━━━━━━━━━━━━━━━━━━━━━━━━━━━━━━━━━━━━━━━━\u001b[0m \u001b[32m24.6/24.6 MB\u001b[0m \u001b[31m35.0 MB/s\u001b[0m eta \u001b[36m0:00:00\u001b[0m\n",
            "\u001b[?25hDownloading nvidia_cuda_runtime_cu12-12.4.127-py3-none-manylinux2014_x86_64.whl (883 kB)\n",
            "\u001b[2K   \u001b[90m━━━━━━━━━━━━━━━━━━━━━━━━━━━━━━━━━━━━━━━━\u001b[0m \u001b[32m883.7/883.7 kB\u001b[0m \u001b[31m17.4 MB/s\u001b[0m eta \u001b[36m0:00:00\u001b[0m\n",
            "\u001b[?25hDownloading nvidia_cudnn_cu12-9.1.0.70-py3-none-manylinux2014_x86_64.whl (664.8 MB)\n",
            "\u001b[2K   \u001b[90m━━━━━━━━━━━━━━━━━━━━━━━━━━━━━━━━━━━━━━━━\u001b[0m \u001b[32m664.8/664.8 MB\u001b[0m \u001b[31m2.1 MB/s\u001b[0m eta \u001b[36m0:00:00\u001b[0m\n",
            "\u001b[?25hDownloading nvidia_cufft_cu12-11.2.1.3-py3-none-manylinux2014_x86_64.whl (211.5 MB)\n",
            "\u001b[2K   \u001b[90m━━━━━━━━━━━━━━━━━━━━━━━━━━━━━━━━━━━━━━━━\u001b[0m \u001b[32m211.5/211.5 MB\u001b[0m \u001b[31m6.1 MB/s\u001b[0m eta \u001b[36m0:00:00\u001b[0m\n",
            "\u001b[?25hDownloading nvidia_curand_cu12-10.3.5.147-py3-none-manylinux2014_x86_64.whl (56.3 MB)\n",
            "\u001b[2K   \u001b[90m━━━━━━━━━━━━━━━━━━━━━━━━━━━━━━━━━━━━━━━━\u001b[0m \u001b[32m56.3/56.3 MB\u001b[0m \u001b[31m11.7 MB/s\u001b[0m eta \u001b[36m0:00:00\u001b[0m\n",
            "\u001b[?25hDownloading nvidia_cusolver_cu12-11.6.1.9-py3-none-manylinux2014_x86_64.whl (127.9 MB)\n",
            "\u001b[2K   \u001b[90m━━━━━━━━━━━━━━━━━━━━━━━━━━━━━━━━━━━━━━━━\u001b[0m \u001b[32m127.9/127.9 MB\u001b[0m \u001b[31m7.5 MB/s\u001b[0m eta \u001b[36m0:00:00\u001b[0m\n",
            "\u001b[?25hDownloading nvidia_cusparse_cu12-12.3.1.170-py3-none-manylinux2014_x86_64.whl (207.5 MB)\n",
            "\u001b[2K   \u001b[90m━━━━━━━━━━━━━━━━━━━━━━━━━━━━━━━━━━━━━━━━\u001b[0m \u001b[32m207.5/207.5 MB\u001b[0m \u001b[31m5.5 MB/s\u001b[0m eta \u001b[36m0:00:00\u001b[0m\n",
            "\u001b[?25hDownloading nvidia_nvjitlink_cu12-12.4.127-py3-none-manylinux2014_x86_64.whl (21.1 MB)\n",
            "\u001b[2K   \u001b[90m━━━━━━━━━━━━━━━━━━━━━━━━━━━━━━━━━━━━━━━━\u001b[0m \u001b[32m21.1/21.1 MB\u001b[0m \u001b[31m102.7 MB/s\u001b[0m eta \u001b[36m0:00:00\u001b[0m\n",
            "\u001b[?25hDownloading ultralytics_thop-2.0.14-py3-none-any.whl (26 kB)\n",
            "Installing collected packages: nvidia-nvjitlink-cu12, nvidia-curand-cu12, nvidia-cufft-cu12, nvidia-cuda-runtime-cu12, nvidia-cuda-nvrtc-cu12, nvidia-cuda-cupti-cu12, nvidia-cublas-cu12, nvidia-cusparse-cu12, nvidia-cudnn-cu12, nvidia-cusolver-cu12, ultralytics-thop, ultralytics\n",
            "  Attempting uninstall: nvidia-nvjitlink-cu12\n",
            "    Found existing installation: nvidia-nvjitlink-cu12 12.5.82\n",
            "    Uninstalling nvidia-nvjitlink-cu12-12.5.82:\n",
            "      Successfully uninstalled nvidia-nvjitlink-cu12-12.5.82\n",
            "  Attempting uninstall: nvidia-curand-cu12\n",
            "    Found existing installation: nvidia-curand-cu12 10.3.6.82\n",
            "    Uninstalling nvidia-curand-cu12-10.3.6.82:\n",
            "      Successfully uninstalled nvidia-curand-cu12-10.3.6.82\n",
            "  Attempting uninstall: nvidia-cufft-cu12\n",
            "    Found existing installation: nvidia-cufft-cu12 11.2.3.61\n",
            "    Uninstalling nvidia-cufft-cu12-11.2.3.61:\n",
            "      Successfully uninstalled nvidia-cufft-cu12-11.2.3.61\n",
            "  Attempting uninstall: nvidia-cuda-runtime-cu12\n",
            "    Found existing installation: nvidia-cuda-runtime-cu12 12.5.82\n",
            "    Uninstalling nvidia-cuda-runtime-cu12-12.5.82:\n",
            "      Successfully uninstalled nvidia-cuda-runtime-cu12-12.5.82\n",
            "  Attempting uninstall: nvidia-cuda-nvrtc-cu12\n",
            "    Found existing installation: nvidia-cuda-nvrtc-cu12 12.5.82\n",
            "    Uninstalling nvidia-cuda-nvrtc-cu12-12.5.82:\n",
            "      Successfully uninstalled nvidia-cuda-nvrtc-cu12-12.5.82\n",
            "  Attempting uninstall: nvidia-cuda-cupti-cu12\n",
            "    Found existing installation: nvidia-cuda-cupti-cu12 12.5.82\n",
            "    Uninstalling nvidia-cuda-cupti-cu12-12.5.82:\n",
            "      Successfully uninstalled nvidia-cuda-cupti-cu12-12.5.82\n",
            "  Attempting uninstall: nvidia-cublas-cu12\n",
            "    Found existing installation: nvidia-cublas-cu12 12.5.3.2\n",
            "    Uninstalling nvidia-cublas-cu12-12.5.3.2:\n",
            "      Successfully uninstalled nvidia-cublas-cu12-12.5.3.2\n",
            "  Attempting uninstall: nvidia-cusparse-cu12\n",
            "    Found existing installation: nvidia-cusparse-cu12 12.5.1.3\n",
            "    Uninstalling nvidia-cusparse-cu12-12.5.1.3:\n",
            "      Successfully uninstalled nvidia-cusparse-cu12-12.5.1.3\n",
            "  Attempting uninstall: nvidia-cudnn-cu12\n",
            "    Found existing installation: nvidia-cudnn-cu12 9.3.0.75\n",
            "    Uninstalling nvidia-cudnn-cu12-9.3.0.75:\n",
            "      Successfully uninstalled nvidia-cudnn-cu12-9.3.0.75\n",
            "  Attempting uninstall: nvidia-cusolver-cu12\n",
            "    Found existing installation: nvidia-cusolver-cu12 11.6.3.83\n",
            "    Uninstalling nvidia-cusolver-cu12-11.6.3.83:\n",
            "      Successfully uninstalled nvidia-cusolver-cu12-11.6.3.83\n",
            "Successfully installed nvidia-cublas-cu12-12.4.5.8 nvidia-cuda-cupti-cu12-12.4.127 nvidia-cuda-nvrtc-cu12-12.4.127 nvidia-cuda-runtime-cu12-12.4.127 nvidia-cudnn-cu12-9.1.0.70 nvidia-cufft-cu12-11.2.1.3 nvidia-curand-cu12-10.3.5.147 nvidia-cusolver-cu12-11.6.1.9 nvidia-cusparse-cu12-12.3.1.170 nvidia-nvjitlink-cu12-12.4.127 ultralytics-8.3.112 ultralytics-thop-2.0.14\n"
          ]
        }
      ],
      "source": [
        "!pip install ultralytics\n"
      ]
    },
    {
      "cell_type": "code",
      "execution_count": 3,
      "metadata": {
        "colab": {
          "base_uri": "https://localhost:8080/"
        },
        "id": "y-TTn5LeTuE9",
        "outputId": "b7490cb9-148d-48ea-a8d5-a80558a4f2c7"
      },
      "outputs": [
        {
          "output_type": "stream",
          "name": "stdout",
          "text": [
            "Drive already mounted at /content/drive; to attempt to forcibly remount, call drive.mount(\"/content/drive\", force_remount=True).\n"
          ]
        }
      ],
      "source": [
        "from google.colab import drive\n",
        "drive.mount('/content/drive')"
      ]
    },
    {
      "cell_type": "code",
      "execution_count": null,
      "metadata": {
        "colab": {
          "base_uri": "https://localhost:8080/"
        },
        "id": "s7XdT5DeTEwp",
        "outputId": "7828b7f0-a5d2-461f-c918-20c3c4fc59f4"
      },
      "outputs": [
        {
          "output_type": "stream",
          "name": "stdout",
          "text": [
            "Ultralytics 8.3.112 🚀 Python-3.11.12 torch-2.6.0+cu124 CUDA:0 (Tesla T4, 15095MiB)\n",
            "\u001b[34m\u001b[1mengine/trainer: \u001b[0mtask=detect, mode=train, model=yolov8n.pt, data=/content/License-Plate-Detector-2/data.yaml, epochs=100, time=None, patience=100, batch=16, imgsz=640, save=True, save_period=-1, cache=False, device=None, workers=8, project=None, name=train3, exist_ok=False, pretrained=True, optimizer=auto, verbose=True, seed=0, deterministic=True, single_cls=False, rect=False, cos_lr=False, close_mosaic=10, resume=False, amp=True, fraction=1.0, profile=False, freeze=None, multi_scale=False, overlap_mask=True, mask_ratio=4, dropout=0.0, val=True, split=val, save_json=False, conf=None, iou=0.7, max_det=300, half=False, dnn=False, plots=True, source=None, vid_stride=1, stream_buffer=False, visualize=False, augment=False, agnostic_nms=False, classes=None, retina_masks=False, embed=None, show=False, save_frames=False, save_txt=False, save_conf=False, save_crop=False, show_labels=True, show_conf=True, show_boxes=True, line_width=None, format=torchscript, keras=False, optimize=False, int8=False, dynamic=False, simplify=True, opset=None, workspace=None, nms=False, lr0=0.01, lrf=0.01, momentum=0.937, weight_decay=0.0005, warmup_epochs=3.0, warmup_momentum=0.8, warmup_bias_lr=0.1, box=7.5, cls=0.5, dfl=1.5, pose=12.0, kobj=1.0, nbs=64, hsv_h=0.015, hsv_s=0.7, hsv_v=0.4, degrees=0.0, translate=0.1, scale=0.5, shear=0.0, perspective=0.0, flipud=0.0, fliplr=0.5, bgr=0.0, mosaic=1.0, mixup=0.0, copy_paste=0.0, copy_paste_mode=flip, auto_augment=randaugment, erasing=0.4, cfg=None, tracker=botsort.yaml, save_dir=runs/detect/train3\n",
            "Overriding model.yaml nc=80 with nc=1\n",
            "\n",
            "                   from  n    params  module                                       arguments                     \n",
            "  0                  -1  1       464  ultralytics.nn.modules.conv.Conv             [3, 16, 3, 2]                 \n",
            "  1                  -1  1      4672  ultralytics.nn.modules.conv.Conv             [16, 32, 3, 2]                \n",
            "  2                  -1  1      7360  ultralytics.nn.modules.block.C2f             [32, 32, 1, True]             \n",
            "  3                  -1  1     18560  ultralytics.nn.modules.conv.Conv             [32, 64, 3, 2]                \n",
            "  4                  -1  2     49664  ultralytics.nn.modules.block.C2f             [64, 64, 2, True]             \n",
            "  5                  -1  1     73984  ultralytics.nn.modules.conv.Conv             [64, 128, 3, 2]               \n",
            "  6                  -1  2    197632  ultralytics.nn.modules.block.C2f             [128, 128, 2, True]           \n",
            "  7                  -1  1    295424  ultralytics.nn.modules.conv.Conv             [128, 256, 3, 2]              \n",
            "  8                  -1  1    460288  ultralytics.nn.modules.block.C2f             [256, 256, 1, True]           \n",
            "  9                  -1  1    164608  ultralytics.nn.modules.block.SPPF            [256, 256, 5]                 \n",
            " 10                  -1  1         0  torch.nn.modules.upsampling.Upsample         [None, 2, 'nearest']          \n",
            " 11             [-1, 6]  1         0  ultralytics.nn.modules.conv.Concat           [1]                           \n",
            " 12                  -1  1    148224  ultralytics.nn.modules.block.C2f             [384, 128, 1]                 \n",
            " 13                  -1  1         0  torch.nn.modules.upsampling.Upsample         [None, 2, 'nearest']          \n",
            " 14             [-1, 4]  1         0  ultralytics.nn.modules.conv.Concat           [1]                           \n",
            " 15                  -1  1     37248  ultralytics.nn.modules.block.C2f             [192, 64, 1]                  \n",
            " 16                  -1  1     36992  ultralytics.nn.modules.conv.Conv             [64, 64, 3, 2]                \n",
            " 17            [-1, 12]  1         0  ultralytics.nn.modules.conv.Concat           [1]                           \n",
            " 18                  -1  1    123648  ultralytics.nn.modules.block.C2f             [192, 128, 1]                 \n",
            " 19                  -1  1    147712  ultralytics.nn.modules.conv.Conv             [128, 128, 3, 2]              \n",
            " 20             [-1, 9]  1         0  ultralytics.nn.modules.conv.Concat           [1]                           \n",
            " 21                  -1  1    493056  ultralytics.nn.modules.block.C2f             [384, 256, 1]                 \n",
            " 22        [15, 18, 21]  1    751507  ultralytics.nn.modules.head.Detect           [1, [64, 128, 256]]           \n",
            "Model summary: 129 layers, 3,011,043 parameters, 3,011,027 gradients, 8.2 GFLOPs\n",
            "\n",
            "Transferred 319/355 items from pretrained weights\n",
            "Freezing layer 'model.22.dfl.conv.weight'\n",
            "\u001b[34m\u001b[1mAMP: \u001b[0mrunning Automatic Mixed Precision (AMP) checks...\n",
            "\u001b[34m\u001b[1mAMP: \u001b[0mchecks passed ✅\n",
            "\u001b[34m\u001b[1mtrain: \u001b[0mFast image access ✅ (ping: 0.0±0.0 ms, read: 45.2±31.4 MB/s, size: 80.4 KB)\n"
          ]
        },
        {
          "output_type": "stream",
          "name": "stderr",
          "text": [
            "\u001b[34m\u001b[1mtrain: \u001b[0mScanning /content/License-Plate-Detector-2/train/labels... 677 images, 0 backgrounds, 0 corrupt: 100%|██████████| 677/677 [00:01<00:00, 486.70it/s]"
          ]
        },
        {
          "output_type": "stream",
          "name": "stdout",
          "text": [
            "\u001b[34m\u001b[1mtrain: \u001b[0mNew cache created: /content/License-Plate-Detector-2/train/labels.cache\n",
            "\u001b[34m\u001b[1malbumentations: \u001b[0mBlur(p=0.01, blur_limit=(3, 7)), MedianBlur(p=0.01, blur_limit=(3, 7)), ToGray(p=0.01, num_output_channels=3, method='weighted_average'), CLAHE(p=0.01, clip_limit=(1.0, 4.0), tile_grid_size=(8, 8))\n"
          ]
        },
        {
          "output_type": "stream",
          "name": "stderr",
          "text": [
            "\n"
          ]
        },
        {
          "output_type": "stream",
          "name": "stdout",
          "text": [
            "\u001b[34m\u001b[1mval: \u001b[0mFast image access ✅ (ping: 0.0±0.0 ms, read: 51.2±22.9 MB/s, size: 77.7 KB)\n"
          ]
        },
        {
          "output_type": "stream",
          "name": "stderr",
          "text": [
            "\u001b[34m\u001b[1mval: \u001b[0mScanning /content/License-Plate-Detector-2/valid/labels... 93 images, 0 backgrounds, 0 corrupt: 100%|██████████| 93/93 [00:00<00:00, 461.63it/s]"
          ]
        },
        {
          "output_type": "stream",
          "name": "stdout",
          "text": [
            "\u001b[34m\u001b[1mval: \u001b[0mNew cache created: /content/License-Plate-Detector-2/valid/labels.cache\n"
          ]
        },
        {
          "output_type": "stream",
          "name": "stderr",
          "text": [
            "\n"
          ]
        },
        {
          "output_type": "stream",
          "name": "stdout",
          "text": [
            "Plotting labels to runs/detect/train3/labels.jpg... \n",
            "\u001b[34m\u001b[1moptimizer:\u001b[0m 'optimizer=auto' found, ignoring 'lr0=0.01' and 'momentum=0.937' and determining best 'optimizer', 'lr0' and 'momentum' automatically... \n",
            "\u001b[34m\u001b[1moptimizer:\u001b[0m AdamW(lr=0.002, momentum=0.9) with parameter groups 57 weight(decay=0.0), 64 weight(decay=0.0005), 63 bias(decay=0.0)\n",
            "Image sizes 640 train, 640 val\n",
            "Using 2 dataloader workers\n",
            "Logging results to \u001b[1mruns/detect/train3\u001b[0m\n",
            "Starting training for 100 epochs...\n",
            "\n",
            "      Epoch    GPU_mem   box_loss   cls_loss   dfl_loss  Instances       Size\n"
          ]
        },
        {
          "output_type": "stream",
          "name": "stderr",
          "text": [
            "      1/100      3.94G      1.057      2.333       1.16         11        640: 100%|██████████| 43/43 [00:14<00:00,  2.99it/s]\n",
            "                 Class     Images  Instances      Box(P          R      mAP50  mAP50-95): 100%|██████████| 3/3 [00:01<00:00,  2.09it/s]"
          ]
        },
        {
          "output_type": "stream",
          "name": "stdout",
          "text": [
            "                   all         93         93          1     0.0931       0.65      0.478\n"
          ]
        },
        {
          "output_type": "stream",
          "name": "stderr",
          "text": [
            "\n"
          ]
        },
        {
          "output_type": "stream",
          "name": "stdout",
          "text": [
            "\n",
            "      Epoch    GPU_mem   box_loss   cls_loss   dfl_loss  Instances       Size\n"
          ]
        },
        {
          "output_type": "stream",
          "name": "stderr",
          "text": [
            "      2/100      3.96G      1.064       1.57      1.117         11        640: 100%|██████████| 43/43 [00:12<00:00,  3.40it/s]\n",
            "                 Class     Images  Instances      Box(P          R      mAP50  mAP50-95): 100%|██████████| 3/3 [00:00<00:00,  3.01it/s]"
          ]
        },
        {
          "output_type": "stream",
          "name": "stdout",
          "text": [
            "                   all         93         93      0.628      0.562      0.666      0.457\n"
          ]
        },
        {
          "output_type": "stream",
          "name": "stderr",
          "text": [
            "\n"
          ]
        },
        {
          "output_type": "stream",
          "name": "stdout",
          "text": [
            "\n",
            "      Epoch    GPU_mem   box_loss   cls_loss   dfl_loss  Instances       Size\n"
          ]
        },
        {
          "output_type": "stream",
          "name": "stderr",
          "text": [
            "      3/100      3.98G      1.069      1.489      1.144          8        640: 100%|██████████| 43/43 [00:12<00:00,  3.45it/s]\n",
            "                 Class     Images  Instances      Box(P          R      mAP50  mAP50-95): 100%|██████████| 3/3 [00:01<00:00,  2.71it/s]"
          ]
        },
        {
          "output_type": "stream",
          "name": "stdout",
          "text": [
            "                   all         93         93      0.883      0.656      0.779      0.462\n"
          ]
        },
        {
          "output_type": "stream",
          "name": "stderr",
          "text": [
            "\n"
          ]
        },
        {
          "output_type": "stream",
          "name": "stdout",
          "text": [
            "\n",
            "      Epoch    GPU_mem   box_loss   cls_loss   dfl_loss  Instances       Size\n"
          ]
        },
        {
          "output_type": "stream",
          "name": "stderr",
          "text": [
            "      4/100         4G      1.042      1.289       1.11          6        640: 100%|██████████| 43/43 [00:12<00:00,  3.46it/s]\n",
            "                 Class     Images  Instances      Box(P          R      mAP50  mAP50-95): 100%|██████████| 3/3 [00:01<00:00,  2.53it/s]"
          ]
        },
        {
          "output_type": "stream",
          "name": "stdout",
          "text": [
            "                   all         93         93      0.649      0.505      0.577      0.387\n"
          ]
        },
        {
          "output_type": "stream",
          "name": "stderr",
          "text": [
            "\n"
          ]
        },
        {
          "output_type": "stream",
          "name": "stdout",
          "text": [
            "\n",
            "      Epoch    GPU_mem   box_loss   cls_loss   dfl_loss  Instances       Size\n"
          ]
        },
        {
          "output_type": "stream",
          "name": "stderr",
          "text": [
            "      5/100      4.01G      1.041      1.116      1.128          7        640: 100%|██████████| 43/43 [00:12<00:00,  3.50it/s]\n",
            "                 Class     Images  Instances      Box(P          R      mAP50  mAP50-95): 100%|██████████| 3/3 [00:01<00:00,  2.79it/s]"
          ]
        },
        {
          "output_type": "stream",
          "name": "stdout",
          "text": [
            "                   all         93         93      0.816       0.81      0.868      0.585\n"
          ]
        },
        {
          "output_type": "stream",
          "name": "stderr",
          "text": [
            "\n"
          ]
        },
        {
          "output_type": "stream",
          "name": "stdout",
          "text": [
            "\n",
            "      Epoch    GPU_mem   box_loss   cls_loss   dfl_loss  Instances       Size\n"
          ]
        },
        {
          "output_type": "stream",
          "name": "stderr",
          "text": [
            "      6/100      4.04G     0.9649     0.9426       1.09          6        640: 100%|██████████| 43/43 [00:12<00:00,  3.49it/s]\n",
            "                 Class     Images  Instances      Box(P          R      mAP50  mAP50-95): 100%|██████████| 3/3 [00:00<00:00,  3.04it/s]"
          ]
        },
        {
          "output_type": "stream",
          "name": "stdout",
          "text": [
            "                   all         93         93      0.918      0.914      0.955      0.726\n"
          ]
        },
        {
          "output_type": "stream",
          "name": "stderr",
          "text": [
            "\n"
          ]
        },
        {
          "output_type": "stream",
          "name": "stdout",
          "text": [
            "\n",
            "      Epoch    GPU_mem   box_loss   cls_loss   dfl_loss  Instances       Size\n"
          ]
        },
        {
          "output_type": "stream",
          "name": "stderr",
          "text": [
            "      7/100      4.05G     0.9544     0.8655       1.09         11        640: 100%|██████████| 43/43 [00:12<00:00,  3.38it/s]\n",
            "                 Class     Images  Instances      Box(P          R      mAP50  mAP50-95): 100%|██████████| 3/3 [00:01<00:00,  2.60it/s]"
          ]
        },
        {
          "output_type": "stream",
          "name": "stdout",
          "text": [
            "                   all         93         93       0.97      0.903      0.951      0.712\n"
          ]
        },
        {
          "output_type": "stream",
          "name": "stderr",
          "text": [
            "\n"
          ]
        },
        {
          "output_type": "stream",
          "name": "stdout",
          "text": [
            "\n",
            "      Epoch    GPU_mem   box_loss   cls_loss   dfl_loss  Instances       Size\n"
          ]
        },
        {
          "output_type": "stream",
          "name": "stderr",
          "text": [
            "      8/100      4.07G       0.96     0.8661      1.089          9        640: 100%|██████████| 43/43 [00:12<00:00,  3.51it/s]\n",
            "                 Class     Images  Instances      Box(P          R      mAP50  mAP50-95): 100%|██████████| 3/3 [00:01<00:00,  2.24it/s]"
          ]
        },
        {
          "output_type": "stream",
          "name": "stdout",
          "text": [
            "                   all         93         93      0.989      0.955      0.972       0.71\n"
          ]
        },
        {
          "output_type": "stream",
          "name": "stderr",
          "text": [
            "\n"
          ]
        },
        {
          "output_type": "stream",
          "name": "stdout",
          "text": [
            "\n",
            "      Epoch    GPU_mem   box_loss   cls_loss   dfl_loss  Instances       Size\n"
          ]
        },
        {
          "output_type": "stream",
          "name": "stderr",
          "text": [
            "      9/100      4.07G     0.9416     0.8258      1.093          9        640: 100%|██████████| 43/43 [00:11<00:00,  3.68it/s]\n",
            "                 Class     Images  Instances      Box(P          R      mAP50  mAP50-95): 100%|██████████| 3/3 [00:01<00:00,  1.90it/s]"
          ]
        },
        {
          "output_type": "stream",
          "name": "stdout",
          "text": [
            "                   all         93         93      0.947      0.953      0.966      0.729\n"
          ]
        },
        {
          "output_type": "stream",
          "name": "stderr",
          "text": [
            "\n"
          ]
        },
        {
          "output_type": "stream",
          "name": "stdout",
          "text": [
            "\n",
            "      Epoch    GPU_mem   box_loss   cls_loss   dfl_loss  Instances       Size\n"
          ]
        },
        {
          "output_type": "stream",
          "name": "stderr",
          "text": [
            "     10/100       4.1G     0.9027     0.7928      1.068          3        640: 100%|██████████| 43/43 [00:10<00:00,  3.94it/s]\n",
            "                 Class     Images  Instances      Box(P          R      mAP50  mAP50-95): 100%|██████████| 3/3 [00:01<00:00,  1.68it/s]"
          ]
        },
        {
          "output_type": "stream",
          "name": "stdout",
          "text": [
            "                   all         93         93       0.93      0.957       0.97      0.745\n"
          ]
        },
        {
          "output_type": "stream",
          "name": "stderr",
          "text": [
            "\n"
          ]
        },
        {
          "output_type": "stream",
          "name": "stdout",
          "text": [
            "\n",
            "      Epoch    GPU_mem   box_loss   cls_loss   dfl_loss  Instances       Size\n"
          ]
        },
        {
          "output_type": "stream",
          "name": "stderr",
          "text": [
            "     11/100      4.12G     0.8543     0.7009      1.031          6        640: 100%|██████████| 43/43 [00:10<00:00,  3.99it/s]\n",
            "                 Class     Images  Instances      Box(P          R      mAP50  mAP50-95): 100%|██████████| 3/3 [00:01<00:00,  1.73it/s]"
          ]
        },
        {
          "output_type": "stream",
          "name": "stdout",
          "text": [
            "                   all         93         93      0.966      0.968      0.981      0.783\n"
          ]
        },
        {
          "output_type": "stream",
          "name": "stderr",
          "text": [
            "\n"
          ]
        },
        {
          "output_type": "stream",
          "name": "stdout",
          "text": [
            "\n",
            "      Epoch    GPU_mem   box_loss   cls_loss   dfl_loss  Instances       Size\n"
          ]
        },
        {
          "output_type": "stream",
          "name": "stderr",
          "text": [
            "     12/100      4.14G     0.8585     0.6871      1.056          8        640: 100%|██████████| 43/43 [00:11<00:00,  3.77it/s]\n",
            "                 Class     Images  Instances      Box(P          R      mAP50  mAP50-95): 100%|██████████| 3/3 [00:01<00:00,  2.22it/s]"
          ]
        },
        {
          "output_type": "stream",
          "name": "stdout",
          "text": [
            "                   all         93         93      0.977      0.989      0.985      0.765\n"
          ]
        },
        {
          "output_type": "stream",
          "name": "stderr",
          "text": [
            "\n"
          ]
        },
        {
          "output_type": "stream",
          "name": "stdout",
          "text": [
            "\n",
            "      Epoch    GPU_mem   box_loss   cls_loss   dfl_loss  Instances       Size\n"
          ]
        },
        {
          "output_type": "stream",
          "name": "stderr",
          "text": [
            "     13/100      4.14G     0.8272     0.6546      1.019          8        640: 100%|██████████| 43/43 [00:11<00:00,  3.71it/s]\n",
            "                 Class     Images  Instances      Box(P          R      mAP50  mAP50-95): 100%|██████████| 3/3 [00:00<00:00,  3.76it/s]"
          ]
        },
        {
          "output_type": "stream",
          "name": "stdout",
          "text": [
            "                   all         93         93      0.979      0.968      0.981      0.788\n"
          ]
        },
        {
          "output_type": "stream",
          "name": "stderr",
          "text": [
            "\n"
          ]
        },
        {
          "output_type": "stream",
          "name": "stdout",
          "text": [
            "\n",
            "      Epoch    GPU_mem   box_loss   cls_loss   dfl_loss  Instances       Size\n"
          ]
        },
        {
          "output_type": "stream",
          "name": "stderr",
          "text": [
            "     14/100      4.17G     0.7965     0.6372      1.007         11        640: 100%|██████████| 43/43 [00:12<00:00,  3.48it/s]\n",
            "                 Class     Images  Instances      Box(P          R      mAP50  mAP50-95): 100%|██████████| 3/3 [00:01<00:00,  2.94it/s]"
          ]
        },
        {
          "output_type": "stream",
          "name": "stdout",
          "text": [
            "                   all         93         93      0.978      0.977      0.984      0.788\n"
          ]
        },
        {
          "output_type": "stream",
          "name": "stderr",
          "text": [
            "\n"
          ]
        },
        {
          "output_type": "stream",
          "name": "stdout",
          "text": [
            "\n",
            "      Epoch    GPU_mem   box_loss   cls_loss   dfl_loss  Instances       Size\n"
          ]
        },
        {
          "output_type": "stream",
          "name": "stderr",
          "text": [
            "     15/100      4.19G     0.8106     0.6488      1.043          9        640: 100%|██████████| 43/43 [00:12<00:00,  3.44it/s]\n",
            "                 Class     Images  Instances      Box(P          R      mAP50  mAP50-95): 100%|██████████| 3/3 [00:00<00:00,  3.07it/s]"
          ]
        },
        {
          "output_type": "stream",
          "name": "stdout",
          "text": [
            "                   all         93         93      0.947      0.968      0.977      0.769\n"
          ]
        },
        {
          "output_type": "stream",
          "name": "stderr",
          "text": [
            "\n"
          ]
        },
        {
          "output_type": "stream",
          "name": "stdout",
          "text": [
            "\n",
            "      Epoch    GPU_mem   box_loss   cls_loss   dfl_loss  Instances       Size\n"
          ]
        },
        {
          "output_type": "stream",
          "name": "stderr",
          "text": [
            "     16/100       4.2G     0.8103     0.6346      1.005          7        640: 100%|██████████| 43/43 [00:12<00:00,  3.48it/s]\n",
            "                 Class     Images  Instances      Box(P          R      mAP50  mAP50-95): 100%|██████████| 3/3 [00:01<00:00,  2.75it/s]"
          ]
        },
        {
          "output_type": "stream",
          "name": "stdout",
          "text": [
            "                   all         93         93      0.968      0.967      0.983      0.763\n"
          ]
        },
        {
          "output_type": "stream",
          "name": "stderr",
          "text": [
            "\n"
          ]
        },
        {
          "output_type": "stream",
          "name": "stdout",
          "text": [
            "\n",
            "      Epoch    GPU_mem   box_loss   cls_loss   dfl_loss  Instances       Size\n"
          ]
        },
        {
          "output_type": "stream",
          "name": "stderr",
          "text": [
            "     17/100      4.21G     0.7962     0.6014      1.009          7        640: 100%|██████████| 43/43 [00:12<00:00,  3.48it/s]\n",
            "                 Class     Images  Instances      Box(P          R      mAP50  mAP50-95): 100%|██████████| 3/3 [00:00<00:00,  3.30it/s]"
          ]
        },
        {
          "output_type": "stream",
          "name": "stdout",
          "text": [
            "                   all         93         93      0.978      0.952      0.978      0.792\n"
          ]
        },
        {
          "output_type": "stream",
          "name": "stderr",
          "text": [
            "\n"
          ]
        },
        {
          "output_type": "stream",
          "name": "stdout",
          "text": [
            "\n",
            "      Epoch    GPU_mem   box_loss   cls_loss   dfl_loss  Instances       Size\n"
          ]
        },
        {
          "output_type": "stream",
          "name": "stderr",
          "text": [
            "     18/100      4.24G     0.7776     0.5982     0.9926          7        640: 100%|██████████| 43/43 [00:12<00:00,  3.56it/s]\n",
            "                 Class     Images  Instances      Box(P          R      mAP50  mAP50-95): 100%|██████████| 3/3 [00:00<00:00,  3.41it/s]"
          ]
        },
        {
          "output_type": "stream",
          "name": "stdout",
          "text": [
            "                   all         93         93      0.968      0.978      0.977      0.763\n"
          ]
        },
        {
          "output_type": "stream",
          "name": "stderr",
          "text": [
            "\n"
          ]
        },
        {
          "output_type": "stream",
          "name": "stdout",
          "text": [
            "\n",
            "      Epoch    GPU_mem   box_loss   cls_loss   dfl_loss  Instances       Size\n"
          ]
        },
        {
          "output_type": "stream",
          "name": "stderr",
          "text": [
            "     19/100      4.26G     0.7876     0.5843      1.002          8        640: 100%|██████████| 43/43 [00:12<00:00,  3.38it/s]\n",
            "                 Class     Images  Instances      Box(P          R      mAP50  mAP50-95): 100%|██████████| 3/3 [00:00<00:00,  3.00it/s]"
          ]
        },
        {
          "output_type": "stream",
          "name": "stdout",
          "text": [
            "                   all         93         93      0.966      0.968      0.976      0.779\n"
          ]
        },
        {
          "output_type": "stream",
          "name": "stderr",
          "text": [
            "\n"
          ]
        },
        {
          "output_type": "stream",
          "name": "stdout",
          "text": [
            "\n",
            "      Epoch    GPU_mem   box_loss   cls_loss   dfl_loss  Instances       Size\n"
          ]
        },
        {
          "output_type": "stream",
          "name": "stderr",
          "text": [
            "     20/100      4.27G     0.7392     0.5401     0.9814         11        640: 100%|██████████| 43/43 [00:12<00:00,  3.56it/s]\n",
            "                 Class     Images  Instances      Box(P          R      mAP50  mAP50-95): 100%|██████████| 3/3 [00:00<00:00,  3.39it/s]"
          ]
        },
        {
          "output_type": "stream",
          "name": "stdout",
          "text": [
            "                   all         93         93      0.977      0.957      0.965      0.788\n"
          ]
        },
        {
          "output_type": "stream",
          "name": "stderr",
          "text": [
            "\n"
          ]
        },
        {
          "output_type": "stream",
          "name": "stdout",
          "text": [
            "\n",
            "      Epoch    GPU_mem   box_loss   cls_loss   dfl_loss  Instances       Size\n"
          ]
        },
        {
          "output_type": "stream",
          "name": "stderr",
          "text": [
            "     21/100      4.28G     0.7478     0.5534     0.9897          8        640: 100%|██████████| 43/43 [00:12<00:00,  3.43it/s]\n",
            "                 Class     Images  Instances      Box(P          R      mAP50  mAP50-95): 100%|██████████| 3/3 [00:00<00:00,  3.42it/s]"
          ]
        },
        {
          "output_type": "stream",
          "name": "stdout",
          "text": [
            "                   all         93         93      0.976      0.957      0.976      0.796\n"
          ]
        },
        {
          "output_type": "stream",
          "name": "stderr",
          "text": [
            "\n"
          ]
        },
        {
          "output_type": "stream",
          "name": "stdout",
          "text": [
            "\n",
            "      Epoch    GPU_mem   box_loss   cls_loss   dfl_loss  Instances       Size\n"
          ]
        },
        {
          "output_type": "stream",
          "name": "stderr",
          "text": [
            "     22/100      4.31G     0.7552      0.554     0.9918          6        640: 100%|██████████| 43/43 [00:12<00:00,  3.55it/s]\n",
            "                 Class     Images  Instances      Box(P          R      mAP50  mAP50-95): 100%|██████████| 3/3 [00:00<00:00,  3.37it/s]\n"
          ]
        },
        {
          "output_type": "stream",
          "name": "stdout",
          "text": [
            "                   all         93         93      0.978      0.989      0.985      0.809\n",
            "\n",
            "      Epoch    GPU_mem   box_loss   cls_loss   dfl_loss  Instances       Size\n"
          ]
        },
        {
          "output_type": "stream",
          "name": "stderr",
          "text": [
            "     23/100      4.32G     0.7612     0.5428     0.9921          9        640: 100%|██████████| 43/43 [00:12<00:00,  3.53it/s]\n",
            "                 Class     Images  Instances      Box(P          R      mAP50  mAP50-95): 100%|██████████| 3/3 [00:01<00:00,  2.72it/s]"
          ]
        },
        {
          "output_type": "stream",
          "name": "stdout",
          "text": [
            "                   all         93         93      0.978      0.989      0.985       0.77\n"
          ]
        },
        {
          "output_type": "stream",
          "name": "stderr",
          "text": [
            "\n"
          ]
        },
        {
          "output_type": "stream",
          "name": "stdout",
          "text": [
            "\n",
            "      Epoch    GPU_mem   box_loss   cls_loss   dfl_loss  Instances       Size\n"
          ]
        },
        {
          "output_type": "stream",
          "name": "stderr",
          "text": [
            "     24/100      4.34G     0.7123     0.5129     0.9686         10        640: 100%|██████████| 43/43 [00:13<00:00,  3.30it/s]\n",
            "                 Class     Images  Instances      Box(P          R      mAP50  mAP50-95): 100%|██████████| 3/3 [00:00<00:00,  3.33it/s]"
          ]
        },
        {
          "output_type": "stream",
          "name": "stdout",
          "text": [
            "                   all         93         93      0.966      0.968      0.981      0.808\n"
          ]
        },
        {
          "output_type": "stream",
          "name": "stderr",
          "text": [
            "\n"
          ]
        },
        {
          "output_type": "stream",
          "name": "stdout",
          "text": [
            "\n",
            "      Epoch    GPU_mem   box_loss   cls_loss   dfl_loss  Instances       Size\n"
          ]
        },
        {
          "output_type": "stream",
          "name": "stderr",
          "text": [
            "     25/100      4.35G     0.6998     0.5004     0.9702          7        640: 100%|██████████| 43/43 [00:12<00:00,  3.47it/s]\n",
            "                 Class     Images  Instances      Box(P          R      mAP50  mAP50-95): 100%|██████████| 3/3 [00:00<00:00,  3.45it/s]"
          ]
        },
        {
          "output_type": "stream",
          "name": "stdout",
          "text": [
            "                   all         93         93      0.989      0.978      0.985      0.793\n"
          ]
        },
        {
          "output_type": "stream",
          "name": "stderr",
          "text": [
            "\n"
          ]
        },
        {
          "output_type": "stream",
          "name": "stdout",
          "text": [
            "\n",
            "      Epoch    GPU_mem   box_loss   cls_loss   dfl_loss  Instances       Size\n"
          ]
        },
        {
          "output_type": "stream",
          "name": "stderr",
          "text": [
            "     26/100      4.38G     0.6978       0.51     0.9638         12        640: 100%|██████████| 43/43 [00:12<00:00,  3.51it/s]\n",
            "                 Class     Images  Instances      Box(P          R      mAP50  mAP50-95): 100%|██████████| 3/3 [00:01<00:00,  2.71it/s]"
          ]
        },
        {
          "output_type": "stream",
          "name": "stdout",
          "text": [
            "                   all         93         93      0.989      0.978      0.978      0.811\n"
          ]
        },
        {
          "output_type": "stream",
          "name": "stderr",
          "text": [
            "\n"
          ]
        },
        {
          "output_type": "stream",
          "name": "stdout",
          "text": [
            "\n",
            "      Epoch    GPU_mem   box_loss   cls_loss   dfl_loss  Instances       Size\n"
          ]
        },
        {
          "output_type": "stream",
          "name": "stderr",
          "text": [
            "     27/100      4.39G     0.7268      0.495     0.9742          9        640: 100%|██████████| 43/43 [00:12<00:00,  3.51it/s]\n",
            "                 Class     Images  Instances      Box(P          R      mAP50  mAP50-95): 100%|██████████| 3/3 [00:01<00:00,  2.32it/s]"
          ]
        },
        {
          "output_type": "stream",
          "name": "stdout",
          "text": [
            "                   all         93         93      0.987      0.978      0.983        0.8\n"
          ]
        },
        {
          "output_type": "stream",
          "name": "stderr",
          "text": [
            "\n"
          ]
        },
        {
          "output_type": "stream",
          "name": "stdout",
          "text": [
            "\n",
            "      Epoch    GPU_mem   box_loss   cls_loss   dfl_loss  Instances       Size\n"
          ]
        },
        {
          "output_type": "stream",
          "name": "stderr",
          "text": [
            "     28/100      4.41G     0.7234     0.5352     0.9847          5        640: 100%|██████████| 43/43 [00:12<00:00,  3.57it/s]\n",
            "                 Class     Images  Instances      Box(P          R      mAP50  mAP50-95): 100%|██████████| 3/3 [00:01<00:00,  1.98it/s]"
          ]
        },
        {
          "output_type": "stream",
          "name": "stdout",
          "text": [
            "                   all         93         93      0.978      0.972      0.983      0.784\n"
          ]
        },
        {
          "output_type": "stream",
          "name": "stderr",
          "text": [
            "\n"
          ]
        },
        {
          "output_type": "stream",
          "name": "stdout",
          "text": [
            "\n",
            "      Epoch    GPU_mem   box_loss   cls_loss   dfl_loss  Instances       Size\n"
          ]
        },
        {
          "output_type": "stream",
          "name": "stderr",
          "text": [
            "     29/100      4.42G      0.714     0.5171      1.012         11        640: 100%|██████████| 43/43 [00:11<00:00,  3.71it/s]\n",
            "                 Class     Images  Instances      Box(P          R      mAP50  mAP50-95): 100%|██████████| 3/3 [00:01<00:00,  1.67it/s]"
          ]
        },
        {
          "output_type": "stream",
          "name": "stdout",
          "text": [
            "                   all         93         93      0.975      0.989      0.985      0.808\n"
          ]
        },
        {
          "output_type": "stream",
          "name": "stderr",
          "text": [
            "\n"
          ]
        },
        {
          "output_type": "stream",
          "name": "stdout",
          "text": [
            "\n",
            "      Epoch    GPU_mem   box_loss   cls_loss   dfl_loss  Instances       Size\n"
          ]
        },
        {
          "output_type": "stream",
          "name": "stderr",
          "text": [
            "     30/100      4.44G     0.6688      0.489     0.9521          7        640: 100%|██████████| 43/43 [00:11<00:00,  3.69it/s]\n",
            "                 Class     Images  Instances      Box(P          R      mAP50  mAP50-95): 100%|██████████| 3/3 [00:01<00:00,  1.79it/s]"
          ]
        },
        {
          "output_type": "stream",
          "name": "stdout",
          "text": [
            "                   all         93         93      0.976      0.978      0.978      0.796\n"
          ]
        },
        {
          "output_type": "stream",
          "name": "stderr",
          "text": [
            "\n"
          ]
        },
        {
          "output_type": "stream",
          "name": "stdout",
          "text": [
            "\n",
            "      Epoch    GPU_mem   box_loss   cls_loss   dfl_loss  Instances       Size\n"
          ]
        },
        {
          "output_type": "stream",
          "name": "stderr",
          "text": [
            "     31/100      4.46G     0.6653     0.4647     0.9602          6        640: 100%|██████████| 43/43 [00:11<00:00,  3.74it/s]\n",
            "                 Class     Images  Instances      Box(P          R      mAP50  mAP50-95): 100%|██████████| 3/3 [00:01<00:00,  2.19it/s]"
          ]
        },
        {
          "output_type": "stream",
          "name": "stdout",
          "text": [
            "                   all         93         93      0.966      0.989      0.987      0.803\n"
          ]
        },
        {
          "output_type": "stream",
          "name": "stderr",
          "text": [
            "\n"
          ]
        },
        {
          "output_type": "stream",
          "name": "stdout",
          "text": [
            "\n",
            "      Epoch    GPU_mem   box_loss   cls_loss   dfl_loss  Instances       Size\n"
          ]
        },
        {
          "output_type": "stream",
          "name": "stderr",
          "text": [
            "     32/100      4.48G     0.6886      0.496     0.9816          5        640: 100%|██████████| 43/43 [00:10<00:00,  3.93it/s]\n",
            "                 Class     Images  Instances      Box(P          R      mAP50  mAP50-95): 100%|██████████| 3/3 [00:01<00:00,  1.84it/s]"
          ]
        },
        {
          "output_type": "stream",
          "name": "stdout",
          "text": [
            "                   all         93         93      0.978      0.964      0.981      0.799\n"
          ]
        },
        {
          "output_type": "stream",
          "name": "stderr",
          "text": [
            "\n"
          ]
        },
        {
          "output_type": "stream",
          "name": "stdout",
          "text": [
            "\n",
            "      Epoch    GPU_mem   box_loss   cls_loss   dfl_loss  Instances       Size\n"
          ]
        },
        {
          "output_type": "stream",
          "name": "stderr",
          "text": [
            "     33/100      4.49G     0.6741     0.5006     0.9591         11        640: 100%|██████████| 43/43 [00:11<00:00,  3.78it/s]\n",
            "                 Class     Images  Instances      Box(P          R      mAP50  mAP50-95): 100%|██████████| 3/3 [00:01<00:00,  2.77it/s]"
          ]
        },
        {
          "output_type": "stream",
          "name": "stdout",
          "text": [
            "                   all         93         93      0.986      0.978      0.977      0.828\n"
          ]
        },
        {
          "output_type": "stream",
          "name": "stderr",
          "text": [
            "\n"
          ]
        },
        {
          "output_type": "stream",
          "name": "stdout",
          "text": [
            "\n",
            "      Epoch    GPU_mem   box_loss   cls_loss   dfl_loss  Instances       Size\n"
          ]
        },
        {
          "output_type": "stream",
          "name": "stderr",
          "text": [
            "     34/100      4.51G     0.6657     0.4734     0.9765          6        640: 100%|██████████| 43/43 [00:12<00:00,  3.56it/s]\n",
            "                 Class     Images  Instances      Box(P          R      mAP50  mAP50-95): 100%|██████████| 3/3 [00:00<00:00,  3.18it/s]"
          ]
        },
        {
          "output_type": "stream",
          "name": "stdout",
          "text": [
            "                   all         93         93      0.947      0.967      0.972      0.763\n"
          ]
        },
        {
          "output_type": "stream",
          "name": "stderr",
          "text": [
            "\n"
          ]
        },
        {
          "output_type": "stream",
          "name": "stdout",
          "text": [
            "\n",
            "      Epoch    GPU_mem   box_loss   cls_loss   dfl_loss  Instances       Size\n"
          ]
        },
        {
          "output_type": "stream",
          "name": "stderr",
          "text": [
            "     35/100      4.53G     0.6457     0.4603     0.9452          8        640: 100%|██████████| 43/43 [00:12<00:00,  3.43it/s]\n",
            "                 Class     Images  Instances      Box(P          R      mAP50  mAP50-95): 100%|██████████| 3/3 [00:00<00:00,  3.07it/s]"
          ]
        },
        {
          "output_type": "stream",
          "name": "stdout",
          "text": [
            "                   all         93         93      0.989      0.966      0.968      0.801\n"
          ]
        },
        {
          "output_type": "stream",
          "name": "stderr",
          "text": [
            "\n"
          ]
        },
        {
          "output_type": "stream",
          "name": "stdout",
          "text": [
            "\n",
            "      Epoch    GPU_mem   box_loss   cls_loss   dfl_loss  Instances       Size\n"
          ]
        },
        {
          "output_type": "stream",
          "name": "stderr",
          "text": [
            "     36/100      4.54G     0.6499     0.4518      0.957          5        640: 100%|██████████| 43/43 [00:14<00:00,  2.96it/s]\n",
            "                 Class     Images  Instances      Box(P          R      mAP50  mAP50-95): 100%|██████████| 3/3 [00:01<00:00,  2.28it/s]"
          ]
        },
        {
          "output_type": "stream",
          "name": "stdout",
          "text": [
            "                   all         93         93      0.985      0.978      0.982      0.796\n"
          ]
        },
        {
          "output_type": "stream",
          "name": "stderr",
          "text": [
            "\n"
          ]
        },
        {
          "output_type": "stream",
          "name": "stdout",
          "text": [
            "\n",
            "      Epoch    GPU_mem   box_loss   cls_loss   dfl_loss  Instances       Size\n"
          ]
        },
        {
          "output_type": "stream",
          "name": "stderr",
          "text": [
            "     37/100      4.55G     0.6763     0.4599     0.9791          5        640: 100%|██████████| 43/43 [00:11<00:00,  3.60it/s]\n",
            "                 Class     Images  Instances      Box(P          R      mAP50  mAP50-95): 100%|██████████| 3/3 [00:00<00:00,  3.45it/s]\n"
          ]
        },
        {
          "output_type": "stream",
          "name": "stdout",
          "text": [
            "                   all         93         93      0.978      0.989      0.986      0.827\n",
            "\n",
            "      Epoch    GPU_mem   box_loss   cls_loss   dfl_loss  Instances       Size\n"
          ]
        },
        {
          "output_type": "stream",
          "name": "stderr",
          "text": [
            "     38/100      4.58G     0.6733     0.4738     0.9729          7        640: 100%|██████████| 43/43 [00:11<00:00,  3.60it/s]\n",
            "                 Class     Images  Instances      Box(P          R      mAP50  mAP50-95): 100%|██████████| 3/3 [00:00<00:00,  3.27it/s]"
          ]
        },
        {
          "output_type": "stream",
          "name": "stdout",
          "text": [
            "                   all         93         93      0.979      0.988      0.988      0.815\n"
          ]
        },
        {
          "output_type": "stream",
          "name": "stderr",
          "text": [
            "\n"
          ]
        },
        {
          "output_type": "stream",
          "name": "stdout",
          "text": [
            "\n",
            "      Epoch    GPU_mem   box_loss   cls_loss   dfl_loss  Instances       Size\n"
          ]
        },
        {
          "output_type": "stream",
          "name": "stderr",
          "text": [
            "     39/100       4.6G     0.6415     0.4468     0.9557          6        640: 100%|██████████| 43/43 [00:12<00:00,  3.51it/s]\n",
            "                 Class     Images  Instances      Box(P          R      mAP50  mAP50-95): 100%|██████████| 3/3 [00:00<00:00,  3.04it/s]"
          ]
        },
        {
          "output_type": "stream",
          "name": "stdout",
          "text": [
            "                   all         93         93      0.989      0.977      0.987      0.827\n"
          ]
        },
        {
          "output_type": "stream",
          "name": "stderr",
          "text": [
            "\n"
          ]
        },
        {
          "output_type": "stream",
          "name": "stdout",
          "text": [
            "\n",
            "      Epoch    GPU_mem   box_loss   cls_loss   dfl_loss  Instances       Size\n"
          ]
        },
        {
          "output_type": "stream",
          "name": "stderr",
          "text": [
            "     40/100      4.62G     0.6355     0.4519     0.9405         10        640: 100%|██████████| 43/43 [00:12<00:00,  3.46it/s]\n",
            "                 Class     Images  Instances      Box(P          R      mAP50  mAP50-95): 100%|██████████| 3/3 [00:00<00:00,  3.26it/s]"
          ]
        },
        {
          "output_type": "stream",
          "name": "stdout",
          "text": [
            "                   all         93         93      0.987      0.978      0.986      0.808\n"
          ]
        },
        {
          "output_type": "stream",
          "name": "stderr",
          "text": [
            "\n"
          ]
        },
        {
          "output_type": "stream",
          "name": "stdout",
          "text": [
            "\n",
            "      Epoch    GPU_mem   box_loss   cls_loss   dfl_loss  Instances       Size\n"
          ]
        },
        {
          "output_type": "stream",
          "name": "stderr",
          "text": [
            "     41/100      4.62G     0.6024     0.4316     0.9387         15        640: 100%|██████████| 43/43 [00:12<00:00,  3.44it/s]\n",
            "                 Class     Images  Instances      Box(P          R      mAP50  mAP50-95): 100%|██████████| 3/3 [00:01<00:00,  2.97it/s]"
          ]
        },
        {
          "output_type": "stream",
          "name": "stdout",
          "text": [
            "                   all         93         93      0.989      0.987      0.985      0.813\n"
          ]
        },
        {
          "output_type": "stream",
          "name": "stderr",
          "text": [
            "\n"
          ]
        },
        {
          "output_type": "stream",
          "name": "stdout",
          "text": [
            "\n",
            "      Epoch    GPU_mem   box_loss   cls_loss   dfl_loss  Instances       Size\n"
          ]
        },
        {
          "output_type": "stream",
          "name": "stderr",
          "text": [
            "     42/100      4.65G     0.6225     0.4398     0.9404         10        640: 100%|██████████| 43/43 [00:12<00:00,  3.48it/s]\n",
            "                 Class     Images  Instances      Box(P          R      mAP50  mAP50-95): 100%|██████████| 3/3 [00:00<00:00,  3.32it/s]"
          ]
        },
        {
          "output_type": "stream",
          "name": "stdout",
          "text": [
            "                   all         93         93      0.977      0.978      0.975      0.795\n"
          ]
        },
        {
          "output_type": "stream",
          "name": "stderr",
          "text": [
            "\n"
          ]
        },
        {
          "output_type": "stream",
          "name": "stdout",
          "text": [
            "\n",
            "      Epoch    GPU_mem   box_loss   cls_loss   dfl_loss  Instances       Size\n"
          ]
        },
        {
          "output_type": "stream",
          "name": "stderr",
          "text": [
            "     43/100      4.66G     0.6098     0.4482     0.9323          6        640: 100%|██████████| 43/43 [00:12<00:00,  3.43it/s]\n",
            "                 Class     Images  Instances      Box(P          R      mAP50  mAP50-95): 100%|██████████| 3/3 [00:00<00:00,  3.07it/s]"
          ]
        },
        {
          "output_type": "stream",
          "name": "stdout",
          "text": [
            "                   all         93         93      0.978      0.968      0.982      0.801\n"
          ]
        },
        {
          "output_type": "stream",
          "name": "stderr",
          "text": [
            "\n"
          ]
        },
        {
          "output_type": "stream",
          "name": "stdout",
          "text": [
            "\n",
            "      Epoch    GPU_mem   box_loss   cls_loss   dfl_loss  Instances       Size\n"
          ]
        },
        {
          "output_type": "stream",
          "name": "stderr",
          "text": [
            "     44/100      4.68G     0.6151      0.441     0.9541         15        640: 100%|██████████| 43/43 [00:12<00:00,  3.52it/s]\n",
            "                 Class     Images  Instances      Box(P          R      mAP50  mAP50-95): 100%|██████████| 3/3 [00:00<00:00,  3.36it/s]"
          ]
        },
        {
          "output_type": "stream",
          "name": "stdout",
          "text": [
            "                   all         93         93      0.988      0.978      0.976       0.83\n"
          ]
        },
        {
          "output_type": "stream",
          "name": "stderr",
          "text": [
            "\n"
          ]
        },
        {
          "output_type": "stream",
          "name": "stdout",
          "text": [
            "\n",
            "      Epoch    GPU_mem   box_loss   cls_loss   dfl_loss  Instances       Size\n"
          ]
        },
        {
          "output_type": "stream",
          "name": "stderr",
          "text": [
            "     45/100      4.69G     0.6241     0.4332     0.9504          6        640: 100%|██████████| 43/43 [00:12<00:00,  3.57it/s]\n",
            "                 Class     Images  Instances      Box(P          R      mAP50  mAP50-95): 100%|██████████| 3/3 [00:00<00:00,  3.04it/s]"
          ]
        },
        {
          "output_type": "stream",
          "name": "stdout",
          "text": [
            "                   all         93         93      0.968      0.988       0.98      0.823\n"
          ]
        },
        {
          "output_type": "stream",
          "name": "stderr",
          "text": [
            "\n"
          ]
        },
        {
          "output_type": "stream",
          "name": "stdout",
          "text": [
            "\n",
            "      Epoch    GPU_mem   box_loss   cls_loss   dfl_loss  Instances       Size\n"
          ]
        },
        {
          "output_type": "stream",
          "name": "stderr",
          "text": [
            "     46/100      4.72G     0.5969      0.415     0.9298          8        640: 100%|██████████| 43/43 [00:12<00:00,  3.46it/s]\n",
            "                 Class     Images  Instances      Box(P          R      mAP50  mAP50-95): 100%|██████████| 3/3 [00:00<00:00,  3.31it/s]"
          ]
        },
        {
          "output_type": "stream",
          "name": "stdout",
          "text": [
            "                   all         93         93      0.968      0.988      0.985       0.81\n"
          ]
        },
        {
          "output_type": "stream",
          "name": "stderr",
          "text": [
            "\n"
          ]
        },
        {
          "output_type": "stream",
          "name": "stdout",
          "text": [
            "\n",
            "      Epoch    GPU_mem   box_loss   cls_loss   dfl_loss  Instances       Size\n"
          ]
        },
        {
          "output_type": "stream",
          "name": "stderr",
          "text": [
            "     47/100      4.73G     0.5855      0.414     0.9241          9        640: 100%|██████████| 43/43 [00:12<00:00,  3.54it/s]\n",
            "                 Class     Images  Instances      Box(P          R      mAP50  mAP50-95): 100%|██████████| 3/3 [00:00<00:00,  3.03it/s]"
          ]
        },
        {
          "output_type": "stream",
          "name": "stdout",
          "text": [
            "                   all         93         93      0.979      0.988      0.986      0.807\n"
          ]
        },
        {
          "output_type": "stream",
          "name": "stderr",
          "text": [
            "\n"
          ]
        },
        {
          "output_type": "stream",
          "name": "stdout",
          "text": [
            "\n",
            "      Epoch    GPU_mem   box_loss   cls_loss   dfl_loss  Instances       Size\n"
          ]
        },
        {
          "output_type": "stream",
          "name": "stderr",
          "text": [
            "     48/100      4.75G     0.5539     0.3931     0.9121          9        640: 100%|██████████| 43/43 [00:12<00:00,  3.44it/s]\n",
            "                 Class     Images  Instances      Box(P          R      mAP50  mAP50-95): 100%|██████████| 3/3 [00:01<00:00,  2.88it/s]"
          ]
        },
        {
          "output_type": "stream",
          "name": "stdout",
          "text": [
            "                   all         93         93      0.997      0.978      0.987      0.843\n"
          ]
        },
        {
          "output_type": "stream",
          "name": "stderr",
          "text": [
            "\n"
          ]
        },
        {
          "output_type": "stream",
          "name": "stdout",
          "text": [
            "\n",
            "      Epoch    GPU_mem   box_loss   cls_loss   dfl_loss  Instances       Size\n"
          ]
        },
        {
          "output_type": "stream",
          "name": "stderr",
          "text": [
            "     49/100      4.76G     0.5775     0.4023     0.9413          7        640: 100%|██████████| 43/43 [00:12<00:00,  3.46it/s]\n",
            "                 Class     Images  Instances      Box(P          R      mAP50  mAP50-95): 100%|██████████| 3/3 [00:00<00:00,  3.07it/s]"
          ]
        },
        {
          "output_type": "stream",
          "name": "stdout",
          "text": [
            "                   all         93         93      0.976      0.978      0.985      0.824\n"
          ]
        },
        {
          "output_type": "stream",
          "name": "stderr",
          "text": [
            "\n"
          ]
        },
        {
          "output_type": "stream",
          "name": "stdout",
          "text": [
            "\n",
            "      Epoch    GPU_mem   box_loss   cls_loss   dfl_loss  Instances       Size\n"
          ]
        },
        {
          "output_type": "stream",
          "name": "stderr",
          "text": [
            "     50/100      4.79G     0.5795     0.4004     0.9286         14        640: 100%|██████████| 43/43 [00:12<00:00,  3.49it/s]\n",
            "                 Class     Images  Instances      Box(P          R      mAP50  mAP50-95): 100%|██████████| 3/3 [00:00<00:00,  3.59it/s]"
          ]
        },
        {
          "output_type": "stream",
          "name": "stdout",
          "text": [
            "                   all         93         93      0.987      0.978      0.979       0.82\n"
          ]
        },
        {
          "output_type": "stream",
          "name": "stderr",
          "text": [
            "\n"
          ]
        },
        {
          "output_type": "stream",
          "name": "stdout",
          "text": [
            "\n",
            "      Epoch    GPU_mem   box_loss   cls_loss   dfl_loss  Instances       Size\n"
          ]
        },
        {
          "output_type": "stream",
          "name": "stderr",
          "text": [
            "     51/100       4.8G     0.5787      0.404     0.9213          9        640: 100%|██████████| 43/43 [00:12<00:00,  3.45it/s]\n",
            "                 Class     Images  Instances      Box(P          R      mAP50  mAP50-95): 100%|██████████| 3/3 [00:00<00:00,  3.05it/s]"
          ]
        },
        {
          "output_type": "stream",
          "name": "stdout",
          "text": [
            "                   all         93         93      0.987      0.978      0.986      0.833\n"
          ]
        },
        {
          "output_type": "stream",
          "name": "stderr",
          "text": [
            "\n"
          ]
        },
        {
          "output_type": "stream",
          "name": "stdout",
          "text": [
            "\n",
            "      Epoch    GPU_mem   box_loss   cls_loss   dfl_loss  Instances       Size\n"
          ]
        },
        {
          "output_type": "stream",
          "name": "stderr",
          "text": [
            "     52/100      4.82G     0.5628     0.3948      0.924         12        640: 100%|██████████| 43/43 [00:12<00:00,  3.49it/s]\n",
            "                 Class     Images  Instances      Box(P          R      mAP50  mAP50-95): 100%|██████████| 3/3 [00:00<00:00,  3.56it/s]"
          ]
        },
        {
          "output_type": "stream",
          "name": "stdout",
          "text": [
            "                   all         93         93      0.977      0.978      0.986      0.818\n"
          ]
        },
        {
          "output_type": "stream",
          "name": "stderr",
          "text": [
            "\n"
          ]
        },
        {
          "output_type": "stream",
          "name": "stdout",
          "text": [
            "\n",
            "      Epoch    GPU_mem   box_loss   cls_loss   dfl_loss  Instances       Size\n"
          ]
        },
        {
          "output_type": "stream",
          "name": "stderr",
          "text": [
            "     53/100      4.83G     0.5778     0.4047      0.924         10        640: 100%|██████████| 43/43 [00:12<00:00,  3.44it/s]\n",
            "                 Class     Images  Instances      Box(P          R      mAP50  mAP50-95): 100%|██████████| 3/3 [00:01<00:00,  2.91it/s]\n"
          ]
        },
        {
          "output_type": "stream",
          "name": "stdout",
          "text": [
            "                   all         93         93      0.987      0.989      0.987      0.832\n",
            "\n",
            "      Epoch    GPU_mem   box_loss   cls_loss   dfl_loss  Instances       Size\n"
          ]
        },
        {
          "output_type": "stream",
          "name": "stderr",
          "text": [
            "     54/100      4.86G     0.5674     0.3976     0.9181         15        640: 100%|██████████| 43/43 [00:11<00:00,  3.59it/s]\n",
            "                 Class     Images  Instances      Box(P          R      mAP50  mAP50-95): 100%|██████████| 3/3 [00:01<00:00,  2.48it/s]"
          ]
        },
        {
          "output_type": "stream",
          "name": "stdout",
          "text": [
            "                   all         93         93      0.988      0.978       0.98      0.804\n"
          ]
        },
        {
          "output_type": "stream",
          "name": "stderr",
          "text": [
            "\n"
          ]
        },
        {
          "output_type": "stream",
          "name": "stdout",
          "text": [
            "\n",
            "      Epoch    GPU_mem   box_loss   cls_loss   dfl_loss  Instances       Size\n"
          ]
        },
        {
          "output_type": "stream",
          "name": "stderr",
          "text": [
            "     55/100      4.87G     0.5686     0.3944     0.9088          4        640: 100%|██████████| 43/43 [00:11<00:00,  3.86it/s]\n",
            "                 Class     Images  Instances      Box(P          R      mAP50  mAP50-95): 100%|██████████| 3/3 [00:01<00:00,  1.71it/s]"
          ]
        },
        {
          "output_type": "stream",
          "name": "stdout",
          "text": [
            "                   all         93         93      0.987      0.968      0.969       0.81\n"
          ]
        },
        {
          "output_type": "stream",
          "name": "stderr",
          "text": [
            "\n"
          ]
        },
        {
          "output_type": "stream",
          "name": "stdout",
          "text": [
            "\n",
            "      Epoch    GPU_mem   box_loss   cls_loss   dfl_loss  Instances       Size\n"
          ]
        },
        {
          "output_type": "stream",
          "name": "stderr",
          "text": [
            "     56/100      4.89G      0.543     0.3873     0.9086          6        640: 100%|██████████| 43/43 [00:10<00:00,  4.01it/s]\n",
            "                 Class     Images  Instances      Box(P          R      mAP50  mAP50-95): 100%|██████████| 3/3 [00:01<00:00,  1.70it/s]"
          ]
        },
        {
          "output_type": "stream",
          "name": "stdout",
          "text": [
            "                   all         93         93      0.989      0.989      0.988      0.829\n"
          ]
        },
        {
          "output_type": "stream",
          "name": "stderr",
          "text": [
            "\n"
          ]
        },
        {
          "output_type": "stream",
          "name": "stdout",
          "text": [
            "\n",
            "      Epoch    GPU_mem   box_loss   cls_loss   dfl_loss  Instances       Size\n"
          ]
        },
        {
          "output_type": "stream",
          "name": "stderr",
          "text": [
            "     57/100      4.89G     0.5308     0.3769     0.9215          9        640: 100%|██████████| 43/43 [00:10<00:00,  3.96it/s]\n",
            "                 Class     Images  Instances      Box(P          R      mAP50  mAP50-95): 100%|██████████| 3/3 [00:01<00:00,  1.97it/s]"
          ]
        },
        {
          "output_type": "stream",
          "name": "stdout",
          "text": [
            "                   all         93         93      0.988      0.978      0.986      0.833\n"
          ]
        },
        {
          "output_type": "stream",
          "name": "stderr",
          "text": [
            "\n"
          ]
        },
        {
          "output_type": "stream",
          "name": "stdout",
          "text": [
            "\n",
            "      Epoch    GPU_mem   box_loss   cls_loss   dfl_loss  Instances       Size\n"
          ]
        },
        {
          "output_type": "stream",
          "name": "stderr",
          "text": [
            "     58/100      4.92G     0.5314     0.3804     0.9119         10        640: 100%|██████████| 43/43 [00:11<00:00,  3.64it/s]\n",
            "                 Class     Images  Instances      Box(P          R      mAP50  mAP50-95): 100%|██████████| 3/3 [00:01<00:00,  2.14it/s]"
          ]
        },
        {
          "output_type": "stream",
          "name": "stdout",
          "text": [
            "                   all         93         93          1      0.976      0.985      0.823\n"
          ]
        },
        {
          "output_type": "stream",
          "name": "stderr",
          "text": [
            "\n"
          ]
        },
        {
          "output_type": "stream",
          "name": "stdout",
          "text": [
            "\n",
            "      Epoch    GPU_mem   box_loss   cls_loss   dfl_loss  Instances       Size\n"
          ]
        },
        {
          "output_type": "stream",
          "name": "stderr",
          "text": [
            "     59/100      4.94G     0.5286     0.3655     0.9043          8        640: 100%|██████████| 43/43 [00:11<00:00,  3.81it/s]\n",
            "                 Class     Images  Instances      Box(P          R      mAP50  mAP50-95): 100%|██████████| 3/3 [00:01<00:00,  2.57it/s]"
          ]
        },
        {
          "output_type": "stream",
          "name": "stdout",
          "text": [
            "                   all         93         93      0.999      0.978      0.982      0.827\n"
          ]
        },
        {
          "output_type": "stream",
          "name": "stderr",
          "text": [
            "\n"
          ]
        },
        {
          "output_type": "stream",
          "name": "stdout",
          "text": [
            "\n",
            "      Epoch    GPU_mem   box_loss   cls_loss   dfl_loss  Instances       Size\n"
          ]
        },
        {
          "output_type": "stream",
          "name": "stderr",
          "text": [
            "     60/100      4.96G     0.5391     0.3731     0.9093          7        640: 100%|██████████| 43/43 [00:12<00:00,  3.49it/s]\n",
            "                 Class     Images  Instances      Box(P          R      mAP50  mAP50-95): 100%|██████████| 3/3 [00:01<00:00,  2.98it/s]"
          ]
        },
        {
          "output_type": "stream",
          "name": "stdout",
          "text": [
            "                   all         93         93      0.995      0.978      0.981       0.83\n"
          ]
        },
        {
          "output_type": "stream",
          "name": "stderr",
          "text": [
            "\n"
          ]
        },
        {
          "output_type": "stream",
          "name": "stdout",
          "text": [
            "\n",
            "      Epoch    GPU_mem   box_loss   cls_loss   dfl_loss  Instances       Size\n"
          ]
        },
        {
          "output_type": "stream",
          "name": "stderr",
          "text": [
            "     61/100      4.96G     0.5219     0.3704     0.9134          5        640: 100%|██████████| 43/43 [00:12<00:00,  3.39it/s]\n",
            "                 Class     Images  Instances      Box(P          R      mAP50  mAP50-95): 100%|██████████| 3/3 [00:00<00:00,  3.13it/s]"
          ]
        },
        {
          "output_type": "stream",
          "name": "stdout",
          "text": [
            "                   all         93         93      0.997      0.978      0.985      0.835\n"
          ]
        },
        {
          "output_type": "stream",
          "name": "stderr",
          "text": [
            "\n"
          ]
        },
        {
          "output_type": "stream",
          "name": "stdout",
          "text": [
            "\n",
            "      Epoch    GPU_mem   box_loss   cls_loss   dfl_loss  Instances       Size\n"
          ]
        },
        {
          "output_type": "stream",
          "name": "stderr",
          "text": [
            "     62/100      4.99G     0.5085     0.3667      0.905          7        640: 100%|██████████| 43/43 [00:12<00:00,  3.47it/s]\n",
            "                 Class     Images  Instances      Box(P          R      mAP50  mAP50-95): 100%|██████████| 3/3 [00:00<00:00,  3.54it/s]"
          ]
        },
        {
          "output_type": "stream",
          "name": "stdout",
          "text": [
            "                   all         93         93      0.989      0.977      0.982      0.817\n"
          ]
        },
        {
          "output_type": "stream",
          "name": "stderr",
          "text": [
            "\n"
          ]
        },
        {
          "output_type": "stream",
          "name": "stdout",
          "text": [
            "\n",
            "      Epoch    GPU_mem   box_loss   cls_loss   dfl_loss  Instances       Size\n"
          ]
        },
        {
          "output_type": "stream",
          "name": "stderr",
          "text": [
            "     63/100      5.01G     0.5117     0.3683     0.9082          8        640: 100%|██████████| 43/43 [00:12<00:00,  3.52it/s]\n",
            "                 Class     Images  Instances      Box(P          R      mAP50  mAP50-95): 100%|██████████| 3/3 [00:00<00:00,  3.27it/s]\n"
          ]
        },
        {
          "output_type": "stream",
          "name": "stdout",
          "text": [
            "                   all         93         93      0.988      0.968      0.975       0.82\n",
            "\n",
            "      Epoch    GPU_mem   box_loss   cls_loss   dfl_loss  Instances       Size\n"
          ]
        },
        {
          "output_type": "stream",
          "name": "stderr",
          "text": [
            "     64/100      5.02G     0.5146     0.3601     0.8992          7        640: 100%|██████████| 43/43 [00:12<00:00,  3.49it/s]\n",
            "                 Class     Images  Instances      Box(P          R      mAP50  mAP50-95): 100%|██████████| 3/3 [00:00<00:00,  3.18it/s]"
          ]
        },
        {
          "output_type": "stream",
          "name": "stdout",
          "text": [
            "                   all         93         93      0.988      0.978      0.983      0.819\n"
          ]
        },
        {
          "output_type": "stream",
          "name": "stderr",
          "text": [
            "\n"
          ]
        },
        {
          "output_type": "stream",
          "name": "stdout",
          "text": [
            "\n",
            "      Epoch    GPU_mem   box_loss   cls_loss   dfl_loss  Instances       Size\n"
          ]
        },
        {
          "output_type": "stream",
          "name": "stderr",
          "text": [
            "     65/100      5.03G     0.5051     0.3624     0.9066         10        640: 100%|██████████| 43/43 [00:12<00:00,  3.47it/s]\n",
            "                 Class     Images  Instances      Box(P          R      mAP50  mAP50-95): 100%|██████████| 3/3 [00:01<00:00,  2.82it/s]"
          ]
        },
        {
          "output_type": "stream",
          "name": "stdout",
          "text": [
            "                   all         93         93      0.977      0.978      0.981      0.827\n"
          ]
        },
        {
          "output_type": "stream",
          "name": "stderr",
          "text": [
            "\n"
          ]
        },
        {
          "output_type": "stream",
          "name": "stdout",
          "text": [
            "\n",
            "      Epoch    GPU_mem   box_loss   cls_loss   dfl_loss  Instances       Size\n"
          ]
        },
        {
          "output_type": "stream",
          "name": "stderr",
          "text": [
            "     66/100      5.06G     0.5106     0.3592     0.9071          8        640: 100%|██████████| 43/43 [00:12<00:00,  3.32it/s]\n",
            "                 Class     Images  Instances      Box(P          R      mAP50  mAP50-95): 100%|██████████| 3/3 [00:00<00:00,  3.22it/s]\n"
          ]
        },
        {
          "output_type": "stream",
          "name": "stdout",
          "text": [
            "                   all         93         93      0.981      0.968      0.986      0.839\n",
            "\n",
            "      Epoch    GPU_mem   box_loss   cls_loss   dfl_loss  Instances       Size\n"
          ]
        },
        {
          "output_type": "stream",
          "name": "stderr",
          "text": [
            "     67/100      5.08G      0.485     0.3409     0.8866         10        640: 100%|██████████| 43/43 [00:12<00:00,  3.50it/s]\n",
            "                 Class     Images  Instances      Box(P          R      mAP50  mAP50-95): 100%|██████████| 3/3 [00:01<00:00,  2.88it/s]"
          ]
        },
        {
          "output_type": "stream",
          "name": "stdout",
          "text": [
            "                   all         93         93      0.988      0.978      0.986      0.835\n"
          ]
        },
        {
          "output_type": "stream",
          "name": "stderr",
          "text": [
            "\n"
          ]
        },
        {
          "output_type": "stream",
          "name": "stdout",
          "text": [
            "\n",
            "      Epoch    GPU_mem   box_loss   cls_loss   dfl_loss  Instances       Size\n"
          ]
        },
        {
          "output_type": "stream",
          "name": "stderr",
          "text": [
            "     68/100      5.09G     0.4982     0.3504      0.904         10        640: 100%|██████████| 43/43 [00:12<00:00,  3.39it/s]\n",
            "                 Class     Images  Instances      Box(P          R      mAP50  mAP50-95): 100%|██████████| 3/3 [00:00<00:00,  3.86it/s]"
          ]
        },
        {
          "output_type": "stream",
          "name": "stdout",
          "text": [
            "                   all         93         93      0.987      0.978      0.985       0.84\n"
          ]
        },
        {
          "output_type": "stream",
          "name": "stderr",
          "text": [
            "\n"
          ]
        },
        {
          "output_type": "stream",
          "name": "stdout",
          "text": [
            "\n",
            "      Epoch    GPU_mem   box_loss   cls_loss   dfl_loss  Instances       Size\n"
          ]
        },
        {
          "output_type": "stream",
          "name": "stderr",
          "text": [
            "     69/100       5.1G     0.4861     0.3516     0.8965         10        640: 100%|██████████| 43/43 [00:12<00:00,  3.52it/s]\n",
            "                 Class     Images  Instances      Box(P          R      mAP50  mAP50-95): 100%|██████████| 3/3 [00:00<00:00,  3.21it/s]\n"
          ]
        },
        {
          "output_type": "stream",
          "name": "stdout",
          "text": [
            "                   all         93         93      0.989      0.977      0.986      0.836\n",
            "\n",
            "      Epoch    GPU_mem   box_loss   cls_loss   dfl_loss  Instances       Size\n"
          ]
        },
        {
          "output_type": "stream",
          "name": "stderr",
          "text": [
            "     70/100      5.12G     0.4975     0.3614     0.8971          7        640: 100%|██████████| 43/43 [00:12<00:00,  3.45it/s]\n",
            "                 Class     Images  Instances      Box(P          R      mAP50  mAP50-95): 100%|██████████| 3/3 [00:00<00:00,  3.09it/s]"
          ]
        },
        {
          "output_type": "stream",
          "name": "stdout",
          "text": [
            "                   all         93         93      0.989      0.968      0.978      0.823\n"
          ]
        },
        {
          "output_type": "stream",
          "name": "stderr",
          "text": [
            "\n"
          ]
        },
        {
          "output_type": "stream",
          "name": "stdout",
          "text": [
            "\n",
            "      Epoch    GPU_mem   box_loss   cls_loss   dfl_loss  Instances       Size\n"
          ]
        },
        {
          "output_type": "stream",
          "name": "stderr",
          "text": [
            "     71/100      5.14G      0.486     0.3512     0.9009         10        640: 100%|██████████| 43/43 [00:12<00:00,  3.38it/s]\n",
            "                 Class     Images  Instances      Box(P          R      mAP50  mAP50-95): 100%|██████████| 3/3 [00:01<00:00,  2.62it/s]"
          ]
        },
        {
          "output_type": "stream",
          "name": "stdout",
          "text": [
            "                   all         93         93      0.987      0.978      0.983      0.825\n"
          ]
        },
        {
          "output_type": "stream",
          "name": "stderr",
          "text": [
            "\n"
          ]
        },
        {
          "output_type": "stream",
          "name": "stdout",
          "text": [
            "\n",
            "      Epoch    GPU_mem   box_loss   cls_loss   dfl_loss  Instances       Size\n"
          ]
        },
        {
          "output_type": "stream",
          "name": "stderr",
          "text": [
            "     72/100      5.16G     0.4746     0.3342      0.891         14        640: 100%|██████████| 43/43 [00:12<00:00,  3.48it/s]\n",
            "                 Class     Images  Instances      Box(P          R      mAP50  mAP50-95): 100%|██████████| 3/3 [00:01<00:00,  2.98it/s]"
          ]
        },
        {
          "output_type": "stream",
          "name": "stdout",
          "text": [
            "                   all         93         93      0.988      0.968      0.983      0.816\n"
          ]
        },
        {
          "output_type": "stream",
          "name": "stderr",
          "text": [
            "\n"
          ]
        },
        {
          "output_type": "stream",
          "name": "stdout",
          "text": [
            "\n",
            "      Epoch    GPU_mem   box_loss   cls_loss   dfl_loss  Instances       Size\n"
          ]
        },
        {
          "output_type": "stream",
          "name": "stderr",
          "text": [
            "     73/100      5.17G      0.462     0.3365     0.8896          5        640: 100%|██████████| 43/43 [00:12<00:00,  3.39it/s]\n",
            "                 Class     Images  Instances      Box(P          R      mAP50  mAP50-95): 100%|██████████| 3/3 [00:00<00:00,  3.36it/s]"
          ]
        },
        {
          "output_type": "stream",
          "name": "stdout",
          "text": [
            "                   all         93         93      0.989      0.978      0.983      0.831\n"
          ]
        },
        {
          "output_type": "stream",
          "name": "stderr",
          "text": [
            "\n"
          ]
        },
        {
          "output_type": "stream",
          "name": "stdout",
          "text": [
            "\n",
            "      Epoch    GPU_mem   box_loss   cls_loss   dfl_loss  Instances       Size\n"
          ]
        },
        {
          "output_type": "stream",
          "name": "stderr",
          "text": [
            "     74/100       5.2G     0.4709      0.337     0.9047          8        640: 100%|██████████| 43/43 [00:12<00:00,  3.44it/s]\n",
            "                 Class     Images  Instances      Box(P          R      mAP50  mAP50-95): 100%|██████████| 3/3 [00:00<00:00,  3.42it/s]"
          ]
        },
        {
          "output_type": "stream",
          "name": "stdout",
          "text": [
            "                   all         93         93      0.979      0.988      0.991      0.833\n"
          ]
        },
        {
          "output_type": "stream",
          "name": "stderr",
          "text": [
            "\n"
          ]
        },
        {
          "output_type": "stream",
          "name": "stdout",
          "text": [
            "\n",
            "      Epoch    GPU_mem   box_loss   cls_loss   dfl_loss  Instances       Size\n"
          ]
        },
        {
          "output_type": "stream",
          "name": "stderr",
          "text": [
            "     75/100      5.21G     0.4461     0.3266     0.8838          7        640: 100%|██████████| 43/43 [00:12<00:00,  3.38it/s]\n",
            "                 Class     Images  Instances      Box(P          R      mAP50  mAP50-95): 100%|██████████| 3/3 [00:01<00:00,  2.75it/s]"
          ]
        },
        {
          "output_type": "stream",
          "name": "stdout",
          "text": [
            "                   all         93         93      0.987      0.978      0.986      0.839\n"
          ]
        },
        {
          "output_type": "stream",
          "name": "stderr",
          "text": [
            "\n"
          ]
        },
        {
          "output_type": "stream",
          "name": "stdout",
          "text": [
            "\n",
            "      Epoch    GPU_mem   box_loss   cls_loss   dfl_loss  Instances       Size\n"
          ]
        },
        {
          "output_type": "stream",
          "name": "stderr",
          "text": [
            "     76/100      5.23G     0.4847     0.3484     0.9058         11        640: 100%|██████████| 43/43 [00:12<00:00,  3.51it/s]\n",
            "                 Class     Images  Instances      Box(P          R      mAP50  mAP50-95): 100%|██████████| 3/3 [00:01<00:00,  2.86it/s]"
          ]
        },
        {
          "output_type": "stream",
          "name": "stdout",
          "text": [
            "                   all         93         93      0.988      0.978       0.98      0.835\n"
          ]
        },
        {
          "output_type": "stream",
          "name": "stderr",
          "text": [
            "\n"
          ]
        },
        {
          "output_type": "stream",
          "name": "stdout",
          "text": [
            "\n",
            "      Epoch    GPU_mem   box_loss   cls_loss   dfl_loss  Instances       Size\n"
          ]
        },
        {
          "output_type": "stream",
          "name": "stderr",
          "text": [
            "     77/100      5.24G     0.4531     0.3191     0.8803         11        640: 100%|██████████| 43/43 [00:12<00:00,  3.43it/s]\n",
            "                 Class     Images  Instances      Box(P          R      mAP50  mAP50-95): 100%|██████████| 3/3 [00:00<00:00,  3.24it/s]"
          ]
        },
        {
          "output_type": "stream",
          "name": "stdout",
          "text": [
            "                   all         93         93      0.987      0.968      0.969      0.829\n"
          ]
        },
        {
          "output_type": "stream",
          "name": "stderr",
          "text": [
            "\n"
          ]
        },
        {
          "output_type": "stream",
          "name": "stdout",
          "text": [
            "\n",
            "      Epoch    GPU_mem   box_loss   cls_loss   dfl_loss  Instances       Size\n"
          ]
        },
        {
          "output_type": "stream",
          "name": "stderr",
          "text": [
            "     78/100      5.26G     0.4551     0.3339     0.8913          9        640: 100%|██████████| 43/43 [00:12<00:00,  3.43it/s]\n",
            "                 Class     Images  Instances      Box(P          R      mAP50  mAP50-95): 100%|██████████| 3/3 [00:00<00:00,  3.15it/s]"
          ]
        },
        {
          "output_type": "stream",
          "name": "stdout",
          "text": [
            "                   all         93         93      0.986      0.968       0.97      0.825\n"
          ]
        },
        {
          "output_type": "stream",
          "name": "stderr",
          "text": [
            "\n"
          ]
        },
        {
          "output_type": "stream",
          "name": "stdout",
          "text": [
            "\n",
            "      Epoch    GPU_mem   box_loss   cls_loss   dfl_loss  Instances       Size\n"
          ]
        },
        {
          "output_type": "stream",
          "name": "stderr",
          "text": [
            "     79/100      5.28G      0.447     0.3173     0.8783         10        640: 100%|██████████| 43/43 [00:12<00:00,  3.51it/s]\n",
            "                 Class     Images  Instances      Box(P          R      mAP50  mAP50-95): 100%|██████████| 3/3 [00:01<00:00,  3.00it/s]"
          ]
        },
        {
          "output_type": "stream",
          "name": "stdout",
          "text": [
            "                   all         93         93      0.978      0.968      0.979      0.833\n"
          ]
        },
        {
          "output_type": "stream",
          "name": "stderr",
          "text": [
            "\n"
          ]
        },
        {
          "output_type": "stream",
          "name": "stdout",
          "text": [
            "\n",
            "      Epoch    GPU_mem   box_loss   cls_loss   dfl_loss  Instances       Size\n"
          ]
        },
        {
          "output_type": "stream",
          "name": "stderr",
          "text": [
            "     80/100       5.3G     0.4504     0.3215     0.8795          5        640: 100%|██████████| 43/43 [00:11<00:00,  3.71it/s]\n",
            "                 Class     Images  Instances      Box(P          R      mAP50  mAP50-95): 100%|██████████| 3/3 [00:01<00:00,  1.82it/s]"
          ]
        },
        {
          "output_type": "stream",
          "name": "stdout",
          "text": [
            "                   all         93         93      0.978      0.977      0.979      0.839\n"
          ]
        },
        {
          "output_type": "stream",
          "name": "stderr",
          "text": [
            "\n"
          ]
        },
        {
          "output_type": "stream",
          "name": "stdout",
          "text": [
            "\n",
            "      Epoch    GPU_mem   box_loss   cls_loss   dfl_loss  Instances       Size\n"
          ]
        },
        {
          "output_type": "stream",
          "name": "stderr",
          "text": [
            "     81/100       5.3G     0.4561     0.3321     0.8858          5        640: 100%|██████████| 43/43 [00:10<00:00,  3.97it/s]\n",
            "                 Class     Images  Instances      Box(P          R      mAP50  mAP50-95): 100%|██████████| 3/3 [00:01<00:00,  2.12it/s]"
          ]
        },
        {
          "output_type": "stream",
          "name": "stdout",
          "text": [
            "                   all         93         93      0.986      0.968       0.98      0.842\n"
          ]
        },
        {
          "output_type": "stream",
          "name": "stderr",
          "text": [
            "\n"
          ]
        },
        {
          "output_type": "stream",
          "name": "stdout",
          "text": [
            "\n",
            "      Epoch    GPU_mem   box_loss   cls_loss   dfl_loss  Instances       Size\n"
          ]
        },
        {
          "output_type": "stream",
          "name": "stderr",
          "text": [
            "     82/100      5.33G     0.4321     0.3148     0.8792          8        640: 100%|██████████| 43/43 [00:10<00:00,  3.95it/s]\n",
            "                 Class     Images  Instances      Box(P          R      mAP50  mAP50-95): 100%|██████████| 3/3 [00:01<00:00,  2.48it/s]"
          ]
        },
        {
          "output_type": "stream",
          "name": "stdout",
          "text": [
            "                   all         93         93      0.978      0.968      0.978      0.827\n"
          ]
        },
        {
          "output_type": "stream",
          "name": "stderr",
          "text": [
            "\n"
          ]
        },
        {
          "output_type": "stream",
          "name": "stdout",
          "text": [
            "\n",
            "      Epoch    GPU_mem   box_loss   cls_loss   dfl_loss  Instances       Size\n"
          ]
        },
        {
          "output_type": "stream",
          "name": "stderr",
          "text": [
            "     83/100      5.35G     0.4242     0.3202      0.877          9        640: 100%|██████████| 43/43 [00:11<00:00,  3.67it/s]\n",
            "                 Class     Images  Instances      Box(P          R      mAP50  mAP50-95): 100%|██████████| 3/3 [00:01<00:00,  2.78it/s]"
          ]
        },
        {
          "output_type": "stream",
          "name": "stdout",
          "text": [
            "                   all         93         93      0.988      0.968      0.977      0.826\n"
          ]
        },
        {
          "output_type": "stream",
          "name": "stderr",
          "text": [
            "\n"
          ]
        },
        {
          "output_type": "stream",
          "name": "stdout",
          "text": [
            "\n",
            "      Epoch    GPU_mem   box_loss   cls_loss   dfl_loss  Instances       Size\n"
          ]
        },
        {
          "output_type": "stream",
          "name": "stderr",
          "text": [
            "     84/100      5.37G     0.4231     0.3086     0.8692          7        640: 100%|██████████| 43/43 [00:11<00:00,  3.62it/s]\n",
            "                 Class     Images  Instances      Box(P          R      mAP50  mAP50-95): 100%|██████████| 3/3 [00:00<00:00,  3.12it/s]"
          ]
        },
        {
          "output_type": "stream",
          "name": "stdout",
          "text": [
            "                   all         93         93      0.989      0.978      0.983      0.833\n"
          ]
        },
        {
          "output_type": "stream",
          "name": "stderr",
          "text": [
            "\n"
          ]
        },
        {
          "output_type": "stream",
          "name": "stdout",
          "text": [
            "\n",
            "      Epoch    GPU_mem   box_loss   cls_loss   dfl_loss  Instances       Size\n"
          ]
        },
        {
          "output_type": "stream",
          "name": "stderr",
          "text": [
            "     85/100      5.38G     0.4235     0.3098     0.8825         10        640: 100%|██████████| 43/43 [00:12<00:00,  3.46it/s]\n",
            "                 Class     Images  Instances      Box(P          R      mAP50  mAP50-95): 100%|██████████| 3/3 [00:00<00:00,  3.53it/s]"
          ]
        },
        {
          "output_type": "stream",
          "name": "stdout",
          "text": [
            "                   all         93         93      0.978      0.978      0.982      0.833\n"
          ]
        },
        {
          "output_type": "stream",
          "name": "stderr",
          "text": [
            "\n"
          ]
        },
        {
          "output_type": "stream",
          "name": "stdout",
          "text": [
            "\n",
            "      Epoch    GPU_mem   box_loss   cls_loss   dfl_loss  Instances       Size\n"
          ]
        },
        {
          "output_type": "stream",
          "name": "stderr",
          "text": [
            "     86/100       5.4G     0.4278     0.3149     0.8826          5        640: 100%|██████████| 43/43 [00:12<00:00,  3.43it/s]\n",
            "                 Class     Images  Instances      Box(P          R      mAP50  mAP50-95): 100%|██████████| 3/3 [00:00<00:00,  3.36it/s]"
          ]
        },
        {
          "output_type": "stream",
          "name": "stdout",
          "text": [
            "                   all         93         93      0.977      0.978      0.985      0.831\n"
          ]
        },
        {
          "output_type": "stream",
          "name": "stderr",
          "text": [
            "\n"
          ]
        },
        {
          "output_type": "stream",
          "name": "stdout",
          "text": [
            "\n",
            "      Epoch    GPU_mem   box_loss   cls_loss   dfl_loss  Instances       Size\n"
          ]
        },
        {
          "output_type": "stream",
          "name": "stderr",
          "text": [
            "     87/100      5.42G     0.4143     0.2967     0.8769         11        640: 100%|██████████| 43/43 [00:12<00:00,  3.52it/s]\n",
            "                 Class     Images  Instances      Box(P          R      mAP50  mAP50-95): 100%|██████████| 3/3 [00:00<00:00,  3.35it/s]"
          ]
        },
        {
          "output_type": "stream",
          "name": "stdout",
          "text": [
            "                   all         93         93      0.987      0.968      0.979      0.833\n"
          ]
        },
        {
          "output_type": "stream",
          "name": "stderr",
          "text": [
            "\n"
          ]
        },
        {
          "output_type": "stream",
          "name": "stdout",
          "text": [
            "\n",
            "      Epoch    GPU_mem   box_loss   cls_loss   dfl_loss  Instances       Size\n"
          ]
        },
        {
          "output_type": "stream",
          "name": "stderr",
          "text": [
            "     88/100      5.44G     0.4086      0.303     0.8784          9        640: 100%|██████████| 43/43 [00:12<00:00,  3.51it/s]\n",
            "                 Class     Images  Instances      Box(P          R      mAP50  mAP50-95): 100%|██████████| 3/3 [00:00<00:00,  3.03it/s]\n"
          ]
        },
        {
          "output_type": "stream",
          "name": "stdout",
          "text": [
            "                   all         93         93      0.988      0.968      0.979      0.832\n",
            "\n",
            "      Epoch    GPU_mem   box_loss   cls_loss   dfl_loss  Instances       Size\n"
          ]
        },
        {
          "output_type": "stream",
          "name": "stderr",
          "text": [
            "     89/100      5.44G     0.3992     0.2893     0.8783          7        640: 100%|██████████| 43/43 [00:12<00:00,  3.52it/s]\n",
            "                 Class     Images  Instances      Box(P          R      mAP50  mAP50-95): 100%|██████████| 3/3 [00:01<00:00,  2.94it/s]"
          ]
        },
        {
          "output_type": "stream",
          "name": "stdout",
          "text": [
            "                   all         93         93      0.987      0.968      0.979      0.833\n"
          ]
        },
        {
          "output_type": "stream",
          "name": "stderr",
          "text": [
            "\n"
          ]
        },
        {
          "output_type": "stream",
          "name": "stdout",
          "text": [
            "\n",
            "      Epoch    GPU_mem   box_loss   cls_loss   dfl_loss  Instances       Size\n"
          ]
        },
        {
          "output_type": "stream",
          "name": "stderr",
          "text": [
            "     90/100      5.47G      0.409     0.2883     0.8713          4        640: 100%|██████████| 43/43 [00:12<00:00,  3.42it/s]\n",
            "                 Class     Images  Instances      Box(P          R      mAP50  mAP50-95): 100%|██████████| 3/3 [00:00<00:00,  3.15it/s]"
          ]
        },
        {
          "output_type": "stream",
          "name": "stdout",
          "text": [
            "                   all         93         93      0.988      0.968      0.979       0.82\n"
          ]
        },
        {
          "output_type": "stream",
          "name": "stderr",
          "text": [
            "\n"
          ]
        },
        {
          "output_type": "stream",
          "name": "stdout",
          "text": [
            "Closing dataloader mosaic\n",
            "\u001b[34m\u001b[1malbumentations: \u001b[0mBlur(p=0.01, blur_limit=(3, 7)), MedianBlur(p=0.01, blur_limit=(3, 7)), ToGray(p=0.01, num_output_channels=3, method='weighted_average'), CLAHE(p=0.01, clip_limit=(1.0, 4.0), tile_grid_size=(8, 8))\n",
            "\n",
            "      Epoch    GPU_mem   box_loss   cls_loss   dfl_loss  Instances       Size\n"
          ]
        },
        {
          "output_type": "stream",
          "name": "stderr",
          "text": [
            "     91/100      5.48G     0.3337      0.243     0.8148          5        640: 100%|██████████| 43/43 [00:13<00:00,  3.18it/s]\n",
            "                 Class     Images  Instances      Box(P          R      mAP50  mAP50-95): 100%|██████████| 3/3 [00:00<00:00,  3.31it/s]"
          ]
        },
        {
          "output_type": "stream",
          "name": "stdout",
          "text": [
            "                   all         93         93      0.975      0.968      0.983      0.838\n"
          ]
        },
        {
          "output_type": "stream",
          "name": "stderr",
          "text": [
            "\n"
          ]
        },
        {
          "output_type": "stream",
          "name": "stdout",
          "text": [
            "\n",
            "      Epoch    GPU_mem   box_loss   cls_loss   dfl_loss  Instances       Size\n"
          ]
        },
        {
          "output_type": "stream",
          "name": "stderr",
          "text": [
            "     92/100       5.5G     0.3427     0.2371     0.8245          5        640: 100%|██████████| 43/43 [00:12<00:00,  3.57it/s]\n",
            "                 Class     Images  Instances      Box(P          R      mAP50  mAP50-95): 100%|██████████| 3/3 [00:00<00:00,  3.23it/s]"
          ]
        },
        {
          "output_type": "stream",
          "name": "stdout",
          "text": [
            "                   all         93         93      0.989      0.977      0.984      0.842\n"
          ]
        },
        {
          "output_type": "stream",
          "name": "stderr",
          "text": [
            "\n"
          ]
        },
        {
          "output_type": "stream",
          "name": "stdout",
          "text": [
            "\n",
            "      Epoch    GPU_mem   box_loss   cls_loss   dfl_loss  Instances       Size\n"
          ]
        },
        {
          "output_type": "stream",
          "name": "stderr",
          "text": [
            "     93/100      5.51G     0.3285     0.2369     0.8191          5        640: 100%|██████████| 43/43 [00:11<00:00,  3.66it/s]\n",
            "                 Class     Images  Instances      Box(P          R      mAP50  mAP50-95): 100%|██████████| 3/3 [00:00<00:00,  3.44it/s]"
          ]
        },
        {
          "output_type": "stream",
          "name": "stdout",
          "text": [
            "                   all         93         93      0.978      0.978      0.981      0.838\n"
          ]
        },
        {
          "output_type": "stream",
          "name": "stderr",
          "text": [
            "\n"
          ]
        },
        {
          "output_type": "stream",
          "name": "stdout",
          "text": [
            "\n",
            "      Epoch    GPU_mem   box_loss   cls_loss   dfl_loss  Instances       Size\n"
          ]
        },
        {
          "output_type": "stream",
          "name": "stderr",
          "text": [
            "     94/100      5.54G     0.3294      0.239     0.8215          5        640: 100%|██████████| 43/43 [00:11<00:00,  3.63it/s]\n",
            "                 Class     Images  Instances      Box(P          R      mAP50  mAP50-95): 100%|██████████| 3/3 [00:00<00:00,  3.40it/s]"
          ]
        },
        {
          "output_type": "stream",
          "name": "stdout",
          "text": [
            "                   all         93         93      0.977      0.968      0.981      0.837\n"
          ]
        },
        {
          "output_type": "stream",
          "name": "stderr",
          "text": [
            "\n"
          ]
        },
        {
          "output_type": "stream",
          "name": "stdout",
          "text": [
            "\n",
            "      Epoch    GPU_mem   box_loss   cls_loss   dfl_loss  Instances       Size\n"
          ]
        },
        {
          "output_type": "stream",
          "name": "stderr",
          "text": [
            "     95/100      5.55G     0.3183     0.2247      0.808          5        640: 100%|██████████| 43/43 [00:12<00:00,  3.57it/s]\n",
            "                 Class     Images  Instances      Box(P          R      mAP50  mAP50-95): 100%|██████████| 3/3 [00:00<00:00,  3.73it/s]"
          ]
        },
        {
          "output_type": "stream",
          "name": "stdout",
          "text": [
            "                   all         93         93      0.978      0.978      0.982      0.841\n"
          ]
        },
        {
          "output_type": "stream",
          "name": "stderr",
          "text": [
            "\n"
          ]
        },
        {
          "output_type": "stream",
          "name": "stdout",
          "text": [
            "\n",
            "      Epoch    GPU_mem   box_loss   cls_loss   dfl_loss  Instances       Size\n"
          ]
        },
        {
          "output_type": "stream",
          "name": "stderr",
          "text": [
            "     96/100      5.57G     0.3156     0.2357     0.8223          5        640: 100%|██████████| 43/43 [00:11<00:00,  3.76it/s]\n",
            "                 Class     Images  Instances      Box(P          R      mAP50  mAP50-95): 100%|██████████| 3/3 [00:01<00:00,  2.65it/s]"
          ]
        },
        {
          "output_type": "stream",
          "name": "stdout",
          "text": [
            "                   all         93         93      0.989      0.978      0.982      0.846\n"
          ]
        },
        {
          "output_type": "stream",
          "name": "stderr",
          "text": [
            "\n"
          ]
        },
        {
          "output_type": "stream",
          "name": "stdout",
          "text": [
            "\n",
            "      Epoch    GPU_mem   box_loss   cls_loss   dfl_loss  Instances       Size\n"
          ]
        },
        {
          "output_type": "stream",
          "name": "stderr",
          "text": [
            "     97/100      5.58G     0.3112     0.2205     0.8214          5        640: 100%|██████████| 43/43 [00:11<00:00,  3.87it/s]\n",
            "                 Class     Images  Instances      Box(P          R      mAP50  mAP50-95): 100%|██████████| 3/3 [00:01<00:00,  1.97it/s]"
          ]
        },
        {
          "output_type": "stream",
          "name": "stdout",
          "text": [
            "                   all         93         93      0.988      0.978      0.982      0.843\n"
          ]
        },
        {
          "output_type": "stream",
          "name": "stderr",
          "text": [
            "\n"
          ]
        },
        {
          "output_type": "stream",
          "name": "stdout",
          "text": [
            "\n",
            "      Epoch    GPU_mem   box_loss   cls_loss   dfl_loss  Instances       Size\n"
          ]
        },
        {
          "output_type": "stream",
          "name": "stderr",
          "text": [
            "     98/100       5.6G     0.3106      0.224     0.8179          5        640: 100%|██████████| 43/43 [00:10<00:00,  4.19it/s]\n",
            "                 Class     Images  Instances      Box(P          R      mAP50  mAP50-95): 100%|██████████| 3/3 [00:01<00:00,  2.24it/s]"
          ]
        },
        {
          "output_type": "stream",
          "name": "stdout",
          "text": [
            "                   all         93         93      0.988      0.978      0.982       0.84\n"
          ]
        },
        {
          "output_type": "stream",
          "name": "stderr",
          "text": [
            "\n"
          ]
        },
        {
          "output_type": "stream",
          "name": "stdout",
          "text": [
            "\n",
            "      Epoch    GPU_mem   box_loss   cls_loss   dfl_loss  Instances       Size\n"
          ]
        },
        {
          "output_type": "stream",
          "name": "stderr",
          "text": [
            "     99/100      5.62G     0.3017     0.2152     0.8102          5        640: 100%|██████████| 43/43 [00:10<00:00,  3.97it/s]\n",
            "                 Class     Images  Instances      Box(P          R      mAP50  mAP50-95): 100%|██████████| 3/3 [00:00<00:00,  3.27it/s]"
          ]
        },
        {
          "output_type": "stream",
          "name": "stdout",
          "text": [
            "                   all         93         93      0.989      0.978      0.982      0.846\n"
          ]
        },
        {
          "output_type": "stream",
          "name": "stderr",
          "text": [
            "\n"
          ]
        },
        {
          "output_type": "stream",
          "name": "stdout",
          "text": [
            "\n",
            "      Epoch    GPU_mem   box_loss   cls_loss   dfl_loss  Instances       Size\n"
          ]
        },
        {
          "output_type": "stream",
          "name": "stderr",
          "text": [
            "    100/100      5.64G     0.3017     0.2257     0.8148          5        640: 100%|██████████| 43/43 [00:11<00:00,  3.67it/s]\n",
            "                 Class     Images  Instances      Box(P          R      mAP50  mAP50-95): 100%|██████████| 3/3 [00:00<00:00,  3.61it/s]"
          ]
        },
        {
          "output_type": "stream",
          "name": "stdout",
          "text": [
            "                   all         93         93      0.988      0.978      0.983      0.847\n"
          ]
        },
        {
          "output_type": "stream",
          "name": "stderr",
          "text": [
            "\n"
          ]
        },
        {
          "output_type": "stream",
          "name": "stdout",
          "text": [
            "\n",
            "100 epochs completed in 0.378 hours.\n",
            "Optimizer stripped from runs/detect/train3/weights/last.pt, 6.3MB\n",
            "Optimizer stripped from runs/detect/train3/weights/best.pt, 6.3MB\n",
            "\n",
            "Validating runs/detect/train3/weights/best.pt...\n",
            "Ultralytics 8.3.112 🚀 Python-3.11.12 torch-2.6.0+cu124 CUDA:0 (Tesla T4, 15095MiB)\n",
            "Model summary (fused): 72 layers, 3,005,843 parameters, 0 gradients, 8.1 GFLOPs\n"
          ]
        },
        {
          "output_type": "stream",
          "name": "stderr",
          "text": [
            "                 Class     Images  Instances      Box(P          R      mAP50  mAP50-95): 100%|██████████| 3/3 [00:02<00:00,  1.44it/s]\n"
          ]
        },
        {
          "output_type": "stream",
          "name": "stdout",
          "text": [
            "                   all         93         93      0.988      0.978      0.983      0.846\n",
            "Speed: 0.3ms preprocess, 2.9ms inference, 0.0ms loss, 6.1ms postprocess per image\n",
            "Results saved to \u001b[1mruns/detect/train3\u001b[0m\n"
          ]
        },
        {
          "output_type": "execute_result",
          "data": {
            "text/plain": [
              "ultralytics.utils.metrics.DetMetrics object with attributes:\n",
              "\n",
              "ap_class_index: array([0])\n",
              "box: ultralytics.utils.metrics.Metric object\n",
              "confusion_matrix: <ultralytics.utils.metrics.ConfusionMatrix object at 0x7d769b5add50>\n",
              "curves: ['Precision-Recall(B)', 'F1-Confidence(B)', 'Precision-Confidence(B)', 'Recall-Confidence(B)']\n",
              "curves_results: [[array([          0,    0.001001,    0.002002,    0.003003,    0.004004,    0.005005,    0.006006,    0.007007,    0.008008,    0.009009,     0.01001,    0.011011,    0.012012,    0.013013,    0.014014,    0.015015,    0.016016,    0.017017,    0.018018,    0.019019,     0.02002,    0.021021,    0.022022,    0.023023,\n",
              "          0.024024,    0.025025,    0.026026,    0.027027,    0.028028,    0.029029,     0.03003,    0.031031,    0.032032,    0.033033,    0.034034,    0.035035,    0.036036,    0.037037,    0.038038,    0.039039,     0.04004,    0.041041,    0.042042,    0.043043,    0.044044,    0.045045,    0.046046,    0.047047,\n",
              "          0.048048,    0.049049,     0.05005,    0.051051,    0.052052,    0.053053,    0.054054,    0.055055,    0.056056,    0.057057,    0.058058,    0.059059,     0.06006,    0.061061,    0.062062,    0.063063,    0.064064,    0.065065,    0.066066,    0.067067,    0.068068,    0.069069,     0.07007,    0.071071,\n",
              "          0.072072,    0.073073,    0.074074,    0.075075,    0.076076,    0.077077,    0.078078,    0.079079,     0.08008,    0.081081,    0.082082,    0.083083,    0.084084,    0.085085,    0.086086,    0.087087,    0.088088,    0.089089,     0.09009,    0.091091,    0.092092,    0.093093,    0.094094,    0.095095,\n",
              "          0.096096,    0.097097,    0.098098,    0.099099,      0.1001,      0.1011,      0.1021,      0.1031,      0.1041,     0.10511,     0.10611,     0.10711,     0.10811,     0.10911,     0.11011,     0.11111,     0.11211,     0.11311,     0.11411,     0.11512,     0.11612,     0.11712,     0.11812,     0.11912,\n",
              "           0.12012,     0.12112,     0.12212,     0.12312,     0.12412,     0.12513,     0.12613,     0.12713,     0.12813,     0.12913,     0.13013,     0.13113,     0.13213,     0.13313,     0.13413,     0.13514,     0.13614,     0.13714,     0.13814,     0.13914,     0.14014,     0.14114,     0.14214,     0.14314,\n",
              "           0.14414,     0.14515,     0.14615,     0.14715,     0.14815,     0.14915,     0.15015,     0.15115,     0.15215,     0.15315,     0.15415,     0.15516,     0.15616,     0.15716,     0.15816,     0.15916,     0.16016,     0.16116,     0.16216,     0.16316,     0.16416,     0.16517,     0.16617,     0.16717,\n",
              "           0.16817,     0.16917,     0.17017,     0.17117,     0.17217,     0.17317,     0.17417,     0.17518,     0.17618,     0.17718,     0.17818,     0.17918,     0.18018,     0.18118,     0.18218,     0.18318,     0.18418,     0.18519,     0.18619,     0.18719,     0.18819,     0.18919,     0.19019,     0.19119,\n",
              "           0.19219,     0.19319,     0.19419,      0.1952,      0.1962,      0.1972,      0.1982,      0.1992,      0.2002,      0.2012,      0.2022,      0.2032,      0.2042,     0.20521,     0.20621,     0.20721,     0.20821,     0.20921,     0.21021,     0.21121,     0.21221,     0.21321,     0.21421,     0.21522,\n",
              "           0.21622,     0.21722,     0.21822,     0.21922,     0.22022,     0.22122,     0.22222,     0.22322,     0.22422,     0.22523,     0.22623,     0.22723,     0.22823,     0.22923,     0.23023,     0.23123,     0.23223,     0.23323,     0.23423,     0.23524,     0.23624,     0.23724,     0.23824,     0.23924,\n",
              "           0.24024,     0.24124,     0.24224,     0.24324,     0.24424,     0.24525,     0.24625,     0.24725,     0.24825,     0.24925,     0.25025,     0.25125,     0.25225,     0.25325,     0.25425,     0.25526,     0.25626,     0.25726,     0.25826,     0.25926,     0.26026,     0.26126,     0.26226,     0.26326,\n",
              "           0.26426,     0.26527,     0.26627,     0.26727,     0.26827,     0.26927,     0.27027,     0.27127,     0.27227,     0.27327,     0.27427,     0.27528,     0.27628,     0.27728,     0.27828,     0.27928,     0.28028,     0.28128,     0.28228,     0.28328,     0.28428,     0.28529,     0.28629,     0.28729,\n",
              "           0.28829,     0.28929,     0.29029,     0.29129,     0.29229,     0.29329,     0.29429,      0.2953,      0.2963,      0.2973,      0.2983,      0.2993,      0.3003,      0.3013,      0.3023,      0.3033,      0.3043,     0.30531,     0.30631,     0.30731,     0.30831,     0.30931,     0.31031,     0.31131,\n",
              "           0.31231,     0.31331,     0.31431,     0.31532,     0.31632,     0.31732,     0.31832,     0.31932,     0.32032,     0.32132,     0.32232,     0.32332,     0.32432,     0.32533,     0.32633,     0.32733,     0.32833,     0.32933,     0.33033,     0.33133,     0.33233,     0.33333,     0.33433,     0.33534,\n",
              "           0.33634,     0.33734,     0.33834,     0.33934,     0.34034,     0.34134,     0.34234,     0.34334,     0.34434,     0.34535,     0.34635,     0.34735,     0.34835,     0.34935,     0.35035,     0.35135,     0.35235,     0.35335,     0.35435,     0.35536,     0.35636,     0.35736,     0.35836,     0.35936,\n",
              "           0.36036,     0.36136,     0.36236,     0.36336,     0.36436,     0.36537,     0.36637,     0.36737,     0.36837,     0.36937,     0.37037,     0.37137,     0.37237,     0.37337,     0.37437,     0.37538,     0.37638,     0.37738,     0.37838,     0.37938,     0.38038,     0.38138,     0.38238,     0.38338,\n",
              "           0.38438,     0.38539,     0.38639,     0.38739,     0.38839,     0.38939,     0.39039,     0.39139,     0.39239,     0.39339,     0.39439,      0.3954,      0.3964,      0.3974,      0.3984,      0.3994,      0.4004,      0.4014,      0.4024,      0.4034,      0.4044,     0.40541,     0.40641,     0.40741,\n",
              "           0.40841,     0.40941,     0.41041,     0.41141,     0.41241,     0.41341,     0.41441,     0.41542,     0.41642,     0.41742,     0.41842,     0.41942,     0.42042,     0.42142,     0.42242,     0.42342,     0.42442,     0.42543,     0.42643,     0.42743,     0.42843,     0.42943,     0.43043,     0.43143,\n",
              "           0.43243,     0.43343,     0.43443,     0.43544,     0.43644,     0.43744,     0.43844,     0.43944,     0.44044,     0.44144,     0.44244,     0.44344,     0.44444,     0.44545,     0.44645,     0.44745,     0.44845,     0.44945,     0.45045,     0.45145,     0.45245,     0.45345,     0.45445,     0.45546,\n",
              "           0.45646,     0.45746,     0.45846,     0.45946,     0.46046,     0.46146,     0.46246,     0.46346,     0.46446,     0.46547,     0.46647,     0.46747,     0.46847,     0.46947,     0.47047,     0.47147,     0.47247,     0.47347,     0.47447,     0.47548,     0.47648,     0.47748,     0.47848,     0.47948,\n",
              "           0.48048,     0.48148,     0.48248,     0.48348,     0.48448,     0.48549,     0.48649,     0.48749,     0.48849,     0.48949,     0.49049,     0.49149,     0.49249,     0.49349,     0.49449,      0.4955,      0.4965,      0.4975,      0.4985,      0.4995,      0.5005,      0.5015,      0.5025,      0.5035,\n",
              "            0.5045,     0.50551,     0.50651,     0.50751,     0.50851,     0.50951,     0.51051,     0.51151,     0.51251,     0.51351,     0.51451,     0.51552,     0.51652,     0.51752,     0.51852,     0.51952,     0.52052,     0.52152,     0.52252,     0.52352,     0.52452,     0.52553,     0.52653,     0.52753,\n",
              "           0.52853,     0.52953,     0.53053,     0.53153,     0.53253,     0.53353,     0.53453,     0.53554,     0.53654,     0.53754,     0.53854,     0.53954,     0.54054,     0.54154,     0.54254,     0.54354,     0.54454,     0.54555,     0.54655,     0.54755,     0.54855,     0.54955,     0.55055,     0.55155,\n",
              "           0.55255,     0.55355,     0.55455,     0.55556,     0.55656,     0.55756,     0.55856,     0.55956,     0.56056,     0.56156,     0.56256,     0.56356,     0.56456,     0.56557,     0.56657,     0.56757,     0.56857,     0.56957,     0.57057,     0.57157,     0.57257,     0.57357,     0.57457,     0.57558,\n",
              "           0.57658,     0.57758,     0.57858,     0.57958,     0.58058,     0.58158,     0.58258,     0.58358,     0.58458,     0.58559,     0.58659,     0.58759,     0.58859,     0.58959,     0.59059,     0.59159,     0.59259,     0.59359,     0.59459,      0.5956,      0.5966,      0.5976,      0.5986,      0.5996,\n",
              "            0.6006,      0.6016,      0.6026,      0.6036,      0.6046,     0.60561,     0.60661,     0.60761,     0.60861,     0.60961,     0.61061,     0.61161,     0.61261,     0.61361,     0.61461,     0.61562,     0.61662,     0.61762,     0.61862,     0.61962,     0.62062,     0.62162,     0.62262,     0.62362,\n",
              "           0.62462,     0.62563,     0.62663,     0.62763,     0.62863,     0.62963,     0.63063,     0.63163,     0.63263,     0.63363,     0.63463,     0.63564,     0.63664,     0.63764,     0.63864,     0.63964,     0.64064,     0.64164,     0.64264,     0.64364,     0.64464,     0.64565,     0.64665,     0.64765,\n",
              "           0.64865,     0.64965,     0.65065,     0.65165,     0.65265,     0.65365,     0.65465,     0.65566,     0.65666,     0.65766,     0.65866,     0.65966,     0.66066,     0.66166,     0.66266,     0.66366,     0.66466,     0.66567,     0.66667,     0.66767,     0.66867,     0.66967,     0.67067,     0.67167,\n",
              "           0.67267,     0.67367,     0.67467,     0.67568,     0.67668,     0.67768,     0.67868,     0.67968,     0.68068,     0.68168,     0.68268,     0.68368,     0.68468,     0.68569,     0.68669,     0.68769,     0.68869,     0.68969,     0.69069,     0.69169,     0.69269,     0.69369,     0.69469,      0.6957,\n",
              "            0.6967,      0.6977,      0.6987,      0.6997,      0.7007,      0.7017,      0.7027,      0.7037,      0.7047,     0.70571,     0.70671,     0.70771,     0.70871,     0.70971,     0.71071,     0.71171,     0.71271,     0.71371,     0.71471,     0.71572,     0.71672,     0.71772,     0.71872,     0.71972,\n",
              "           0.72072,     0.72172,     0.72272,     0.72372,     0.72472,     0.72573,     0.72673,     0.72773,     0.72873,     0.72973,     0.73073,     0.73173,     0.73273,     0.73373,     0.73473,     0.73574,     0.73674,     0.73774,     0.73874,     0.73974,     0.74074,     0.74174,     0.74274,     0.74374,\n",
              "           0.74474,     0.74575,     0.74675,     0.74775,     0.74875,     0.74975,     0.75075,     0.75175,     0.75275,     0.75375,     0.75475,     0.75576,     0.75676,     0.75776,     0.75876,     0.75976,     0.76076,     0.76176,     0.76276,     0.76376,     0.76476,     0.76577,     0.76677,     0.76777,\n",
              "           0.76877,     0.76977,     0.77077,     0.77177,     0.77277,     0.77377,     0.77477,     0.77578,     0.77678,     0.77778,     0.77878,     0.77978,     0.78078,     0.78178,     0.78278,     0.78378,     0.78478,     0.78579,     0.78679,     0.78779,     0.78879,     0.78979,     0.79079,     0.79179,\n",
              "           0.79279,     0.79379,     0.79479,      0.7958,      0.7968,      0.7978,      0.7988,      0.7998,      0.8008,      0.8018,      0.8028,      0.8038,      0.8048,     0.80581,     0.80681,     0.80781,     0.80881,     0.80981,     0.81081,     0.81181,     0.81281,     0.81381,     0.81481,     0.81582,\n",
              "           0.81682,     0.81782,     0.81882,     0.81982,     0.82082,     0.82182,     0.82282,     0.82382,     0.82482,     0.82583,     0.82683,     0.82783,     0.82883,     0.82983,     0.83083,     0.83183,     0.83283,     0.83383,     0.83483,     0.83584,     0.83684,     0.83784,     0.83884,     0.83984,\n",
              "           0.84084,     0.84184,     0.84284,     0.84384,     0.84484,     0.84585,     0.84685,     0.84785,     0.84885,     0.84985,     0.85085,     0.85185,     0.85285,     0.85385,     0.85485,     0.85586,     0.85686,     0.85786,     0.85886,     0.85986,     0.86086,     0.86186,     0.86286,     0.86386,\n",
              "           0.86486,     0.86587,     0.86687,     0.86787,     0.86887,     0.86987,     0.87087,     0.87187,     0.87287,     0.87387,     0.87487,     0.87588,     0.87688,     0.87788,     0.87888,     0.87988,     0.88088,     0.88188,     0.88288,     0.88388,     0.88488,     0.88589,     0.88689,     0.88789,\n",
              "           0.88889,     0.88989,     0.89089,     0.89189,     0.89289,     0.89389,     0.89489,      0.8959,      0.8969,      0.8979,      0.8989,      0.8999,      0.9009,      0.9019,      0.9029,      0.9039,      0.9049,     0.90591,     0.90691,     0.90791,     0.90891,     0.90991,     0.91091,     0.91191,\n",
              "           0.91291,     0.91391,     0.91491,     0.91592,     0.91692,     0.91792,     0.91892,     0.91992,     0.92092,     0.92192,     0.92292,     0.92392,     0.92492,     0.92593,     0.92693,     0.92793,     0.92893,     0.92993,     0.93093,     0.93193,     0.93293,     0.93393,     0.93493,     0.93594,\n",
              "           0.93694,     0.93794,     0.93894,     0.93994,     0.94094,     0.94194,     0.94294,     0.94394,     0.94494,     0.94595,     0.94695,     0.94795,     0.94895,     0.94995,     0.95095,     0.95195,     0.95295,     0.95395,     0.95495,     0.95596,     0.95696,     0.95796,     0.95896,     0.95996,\n",
              "           0.96096,     0.96196,     0.96296,     0.96396,     0.96496,     0.96597,     0.96697,     0.96797,     0.96897,     0.96997,     0.97097,     0.97197,     0.97297,     0.97397,     0.97497,     0.97598,     0.97698,     0.97798,     0.97898,     0.97998,     0.98098,     0.98198,     0.98298,     0.98398,\n",
              "           0.98498,     0.98599,     0.98699,     0.98799,     0.98899,     0.98999,     0.99099,     0.99199,     0.99299,     0.99399,     0.99499,       0.996,       0.997,       0.998,       0.999,           1]), array([[          1,           1,           1,           1,           1,           1,           1,           1,           1,           1,           1,           1,           1,           1,           1,           1,           1,           1,           1,           1,           1,           1,           1,\n",
              "                  1,           1,           1,           1,           1,           1,           1,           1,           1,           1,           1,           1,           1,           1,           1,           1,           1,           1,           1,           1,           1,           1,           1,\n",
              "                  1,           1,           1,           1,           1,           1,           1,           1,           1,           1,           1,           1,           1,           1,           1,           1,           1,           1,           1,           1,           1,           1,           1,\n",
              "                  1,           1,           1,           1,           1,           1,           1,           1,           1,           1,           1,           1,           1,           1,           1,           1,           1,           1,           1,           1,           1,           1,           1,\n",
              "                  1,           1,           1,           1,           1,           1,           1,           1,           1,           1,           1,           1,           1,           1,           1,           1,           1,           1,           1,           1,           1,           1,           1,\n",
              "                  1,           1,           1,           1,           1,           1,           1,           1,           1,           1,           1,           1,           1,           1,           1,           1,           1,           1,           1,           1,           1,           1,           1,\n",
              "                  1,           1,           1,           1,           1,           1,           1,           1,           1,           1,           1,           1,           1,           1,           1,           1,           1,           1,           1,           1,           1,           1,           1,\n",
              "                  1,           1,           1,           1,           1,           1,           1,           1,           1,           1,           1,           1,           1,           1,           1,           1,           1,           1,           1,           1,           1,           1,           1,\n",
              "                  1,           1,           1,           1,           1,           1,           1,           1,           1,           1,           1,           1,           1,           1,           1,           1,           1,           1,           1,           1,           1,           1,           1,\n",
              "                  1,           1,           1,           1,           1,           1,           1,           1,           1,           1,           1,           1,           1,           1,           1,           1,           1,           1,           1,           1,           1,           1,           1,\n",
              "                  1,           1,           1,           1,           1,           1,           1,           1,           1,           1,           1,           1,           1,           1,           1,           1,           1,           1,           1,           1,           1,           1,           1,\n",
              "                  1,           1,           1,           1,           1,           1,           1,           1,           1,           1,           1,           1,           1,           1,           1,           1,           1,           1,           1,           1,           1,           1,           1,\n",
              "                  1,           1,           1,           1,           1,           1,           1,           1,           1,           1,           1,           1,           1,           1,           1,           1,           1,           1,           1,           1,           1,           1,           1,\n",
              "                  1,           1,           1,           1,           1,           1,           1,           1,           1,           1,           1,           1,           1,           1,           1,           1,           1,           1,           1,           1,           1,           1,           1,\n",
              "                  1,           1,           1,           1,           1,           1,           1,           1,           1,           1,           1,           1,           1,           1,           1,           1,           1,           1,           1,           1,           1,           1,           1,\n",
              "                  1,           1,           1,           1,           1,           1,           1,           1,           1,           1,           1,           1,           1,           1,           1,           1,           1,           1,           1,           1,           1,           1,           1,\n",
              "                  1,           1,           1,           1,           1,           1,           1,           1,           1,           1,           1,           1,           1,           1,           1,           1,           1,           1,           1,           1,           1,           1,           1,\n",
              "                  1,           1,           1,           1,           1,           1,           1,           1,           1,           1,           1,           1,           1,           1,           1,           1,           1,           1,           1,           1,           1,           1,           1,\n",
              "                  1,           1,           1,           1,           1,           1,           1,           1,           1,           1,           1,           1,           1,           1,           1,           1,           1,           1,           1,           1,           1,           1,           1,\n",
              "                  1,           1,           1,           1,           1,           1,           1,           1,           1,           1,           1,           1,           1,           1,           1,           1,           1,           1,           1,           1,           1,           1,           1,\n",
              "                  1,           1,           1,           1,           1,           1,           1,           1,           1,           1,           1,           1,           1,           1,           1,           1,           1,           1,           1,           1,           1,           1,           1,\n",
              "                  1,           1,           1,           1,           1,           1,           1,           1,           1,           1,           1,           1,           1,           1,           1,           1,           1,           1,           1,           1,           1,           1,           1,\n",
              "                  1,           1,           1,           1,           1,           1,           1,           1,           1,           1,           1,           1,           1,           1,           1,           1,           1,           1,           1,           1,           1,           1,           1,\n",
              "                  1,           1,           1,           1,           1,           1,           1,           1,           1,           1,           1,           1,           1,           1,           1,           1,           1,           1,           1,           1,           1,           1,           1,\n",
              "                  1,           1,           1,           1,           1,           1,           1,           1,           1,           1,           1,           1,           1,           1,           1,           1,           1,           1,           1,           1,           1,           1,           1,\n",
              "                  1,           1,           1,           1,           1,           1,           1,           1,           1,           1,           1,           1,           1,           1,           1,           1,           1,           1,           1,           1,           1,           1,           1,\n",
              "                  1,           1,           1,           1,           1,           1,           1,           1,           1,           1,           1,           1,           1,           1,           1,           1,           1,           1,           1,           1,           1,           1,           1,\n",
              "                  1,           1,           1,           1,           1,           1,           1,           1,           1,           1,           1,           1,           1,           1,           1,           1,           1,           1,           1,           1,           1,           1,           1,\n",
              "                  1,           1,           1,           1,           1,           1,           1,           1,           1,           1,           1,           1,           1,           1,           1,           1,           1,           1,           1,           1,           1,           1,           1,\n",
              "                  1,           1,           1,           1,           1,           1,           1,           1,           1,           1,           1,           1,           1,           1,           1,           1,           1,           1,           1,           1,           1,           1,           1,\n",
              "                  1,           1,           1,           1,           1,           1,           1,           1,           1,           1,           1,           1,           1,           1,           1,           1,           1,           1,           1,           1,           1,           1,           1,\n",
              "                  1,           1,           1,           1,           1,           1,           1,           1,           1,           1,           1,           1,           1,           1,           1,           1,           1,           1,           1,           1,           1,           1,           1,\n",
              "                  1,           1,           1,           1,           1,           1,           1,           1,           1,           1,           1,           1,           1,           1,           1,           1,           1,           1,           1,           1,           1,           1,           1,\n",
              "                  1,           1,           1,           1,           1,           1,           1,           1,           1,           1,           1,           1,           1,           1,           1,           1,           1,           1,           1,           1,           1,           1,           1,\n",
              "                  1,           1,           1,           1,           1,           1,           1,           1,           1,           1,           1,           1,           1,           1,           1,           1,           1,           1,           1,           1,           1,           1,           1,\n",
              "                  1,           1,           1,           1,           1,           1,           1,           1,           1,           1,           1,           1,           1,           1,           1,           1,           1,           1,           1,           1,           1,           1,           1,\n",
              "                  1,           1,           1,           1,           1,           1,           1,           1,           1,           1,           1,           1,           1,           1,           1,           1,           1,           1,           1,           1,           1,           1,           1,\n",
              "                  1,           1,           1,           1,           1,           1,           1,           1,           1,           1,           1,           1,           1,           1,           1,           1,           1,           1,           1,           1,           1,           1,           1,\n",
              "                  1,           1,           1,           1,           1,           1,           1,           1,           1,           1,           1,           1,           1,           1,           1,           1,           1,           1,           1,           1,           1,           1,           1,\n",
              "                  1,           1,           1,           1,           1,           1,           1,           1,           1,           1,           1,           1,           1,           1,           1,           1,           1,           1,           1,           1,           1,           1,           1,\n",
              "                  1,           1,           1,           1,           1,           1,           1,           1,           1,           1,           1,           1,           1,           1,           1,           1,           1,           1,           1,           1,           1,           1,           1,\n",
              "                  1,           1,           1,           1,           1,           1,           1,           1,           1,           1,           1,           1,           1,           1,     0.98913,     0.98913,     0.98913,     0.98913,     0.98913,     0.98913,     0.98913,     0.98913,     0.98913,\n",
              "            0.98913,     0.98913,     0.98913,     0.98913,     0.98913,     0.98913,     0.98913,     0.98913,     0.98913,     0.98913,     0.98913,     0.98913,     0.55594,     0.52947,     0.50299,     0.47652,     0.45005,     0.42357,      0.3971,     0.37063,     0.34415,     0.31768,     0.29121,\n",
              "            0.26473,     0.23826,     0.21179,     0.18531,     0.15884,     0.13237,     0.10589,     0.07942,    0.052947,    0.026473,           0]]), 'Recall', 'Precision'], [array([          0,    0.001001,    0.002002,    0.003003,    0.004004,    0.005005,    0.006006,    0.007007,    0.008008,    0.009009,     0.01001,    0.011011,    0.012012,    0.013013,    0.014014,    0.015015,    0.016016,    0.017017,    0.018018,    0.019019,     0.02002,    0.021021,    0.022022,    0.023023,\n",
              "          0.024024,    0.025025,    0.026026,    0.027027,    0.028028,    0.029029,     0.03003,    0.031031,    0.032032,    0.033033,    0.034034,    0.035035,    0.036036,    0.037037,    0.038038,    0.039039,     0.04004,    0.041041,    0.042042,    0.043043,    0.044044,    0.045045,    0.046046,    0.047047,\n",
              "          0.048048,    0.049049,     0.05005,    0.051051,    0.052052,    0.053053,    0.054054,    0.055055,    0.056056,    0.057057,    0.058058,    0.059059,     0.06006,    0.061061,    0.062062,    0.063063,    0.064064,    0.065065,    0.066066,    0.067067,    0.068068,    0.069069,     0.07007,    0.071071,\n",
              "          0.072072,    0.073073,    0.074074,    0.075075,    0.076076,    0.077077,    0.078078,    0.079079,     0.08008,    0.081081,    0.082082,    0.083083,    0.084084,    0.085085,    0.086086,    0.087087,    0.088088,    0.089089,     0.09009,    0.091091,    0.092092,    0.093093,    0.094094,    0.095095,\n",
              "          0.096096,    0.097097,    0.098098,    0.099099,      0.1001,      0.1011,      0.1021,      0.1031,      0.1041,     0.10511,     0.10611,     0.10711,     0.10811,     0.10911,     0.11011,     0.11111,     0.11211,     0.11311,     0.11411,     0.11512,     0.11612,     0.11712,     0.11812,     0.11912,\n",
              "           0.12012,     0.12112,     0.12212,     0.12312,     0.12412,     0.12513,     0.12613,     0.12713,     0.12813,     0.12913,     0.13013,     0.13113,     0.13213,     0.13313,     0.13413,     0.13514,     0.13614,     0.13714,     0.13814,     0.13914,     0.14014,     0.14114,     0.14214,     0.14314,\n",
              "           0.14414,     0.14515,     0.14615,     0.14715,     0.14815,     0.14915,     0.15015,     0.15115,     0.15215,     0.15315,     0.15415,     0.15516,     0.15616,     0.15716,     0.15816,     0.15916,     0.16016,     0.16116,     0.16216,     0.16316,     0.16416,     0.16517,     0.16617,     0.16717,\n",
              "           0.16817,     0.16917,     0.17017,     0.17117,     0.17217,     0.17317,     0.17417,     0.17518,     0.17618,     0.17718,     0.17818,     0.17918,     0.18018,     0.18118,     0.18218,     0.18318,     0.18418,     0.18519,     0.18619,     0.18719,     0.18819,     0.18919,     0.19019,     0.19119,\n",
              "           0.19219,     0.19319,     0.19419,      0.1952,      0.1962,      0.1972,      0.1982,      0.1992,      0.2002,      0.2012,      0.2022,      0.2032,      0.2042,     0.20521,     0.20621,     0.20721,     0.20821,     0.20921,     0.21021,     0.21121,     0.21221,     0.21321,     0.21421,     0.21522,\n",
              "           0.21622,     0.21722,     0.21822,     0.21922,     0.22022,     0.22122,     0.22222,     0.22322,     0.22422,     0.22523,     0.22623,     0.22723,     0.22823,     0.22923,     0.23023,     0.23123,     0.23223,     0.23323,     0.23423,     0.23524,     0.23624,     0.23724,     0.23824,     0.23924,\n",
              "           0.24024,     0.24124,     0.24224,     0.24324,     0.24424,     0.24525,     0.24625,     0.24725,     0.24825,     0.24925,     0.25025,     0.25125,     0.25225,     0.25325,     0.25425,     0.25526,     0.25626,     0.25726,     0.25826,     0.25926,     0.26026,     0.26126,     0.26226,     0.26326,\n",
              "           0.26426,     0.26527,     0.26627,     0.26727,     0.26827,     0.26927,     0.27027,     0.27127,     0.27227,     0.27327,     0.27427,     0.27528,     0.27628,     0.27728,     0.27828,     0.27928,     0.28028,     0.28128,     0.28228,     0.28328,     0.28428,     0.28529,     0.28629,     0.28729,\n",
              "           0.28829,     0.28929,     0.29029,     0.29129,     0.29229,     0.29329,     0.29429,      0.2953,      0.2963,      0.2973,      0.2983,      0.2993,      0.3003,      0.3013,      0.3023,      0.3033,      0.3043,     0.30531,     0.30631,     0.30731,     0.30831,     0.30931,     0.31031,     0.31131,\n",
              "           0.31231,     0.31331,     0.31431,     0.31532,     0.31632,     0.31732,     0.31832,     0.31932,     0.32032,     0.32132,     0.32232,     0.32332,     0.32432,     0.32533,     0.32633,     0.32733,     0.32833,     0.32933,     0.33033,     0.33133,     0.33233,     0.33333,     0.33433,     0.33534,\n",
              "           0.33634,     0.33734,     0.33834,     0.33934,     0.34034,     0.34134,     0.34234,     0.34334,     0.34434,     0.34535,     0.34635,     0.34735,     0.34835,     0.34935,     0.35035,     0.35135,     0.35235,     0.35335,     0.35435,     0.35536,     0.35636,     0.35736,     0.35836,     0.35936,\n",
              "           0.36036,     0.36136,     0.36236,     0.36336,     0.36436,     0.36537,     0.36637,     0.36737,     0.36837,     0.36937,     0.37037,     0.37137,     0.37237,     0.37337,     0.37437,     0.37538,     0.37638,     0.37738,     0.37838,     0.37938,     0.38038,     0.38138,     0.38238,     0.38338,\n",
              "           0.38438,     0.38539,     0.38639,     0.38739,     0.38839,     0.38939,     0.39039,     0.39139,     0.39239,     0.39339,     0.39439,      0.3954,      0.3964,      0.3974,      0.3984,      0.3994,      0.4004,      0.4014,      0.4024,      0.4034,      0.4044,     0.40541,     0.40641,     0.40741,\n",
              "           0.40841,     0.40941,     0.41041,     0.41141,     0.41241,     0.41341,     0.41441,     0.41542,     0.41642,     0.41742,     0.41842,     0.41942,     0.42042,     0.42142,     0.42242,     0.42342,     0.42442,     0.42543,     0.42643,     0.42743,     0.42843,     0.42943,     0.43043,     0.43143,\n",
              "           0.43243,     0.43343,     0.43443,     0.43544,     0.43644,     0.43744,     0.43844,     0.43944,     0.44044,     0.44144,     0.44244,     0.44344,     0.44444,     0.44545,     0.44645,     0.44745,     0.44845,     0.44945,     0.45045,     0.45145,     0.45245,     0.45345,     0.45445,     0.45546,\n",
              "           0.45646,     0.45746,     0.45846,     0.45946,     0.46046,     0.46146,     0.46246,     0.46346,     0.46446,     0.46547,     0.46647,     0.46747,     0.46847,     0.46947,     0.47047,     0.47147,     0.47247,     0.47347,     0.47447,     0.47548,     0.47648,     0.47748,     0.47848,     0.47948,\n",
              "           0.48048,     0.48148,     0.48248,     0.48348,     0.48448,     0.48549,     0.48649,     0.48749,     0.48849,     0.48949,     0.49049,     0.49149,     0.49249,     0.49349,     0.49449,      0.4955,      0.4965,      0.4975,      0.4985,      0.4995,      0.5005,      0.5015,      0.5025,      0.5035,\n",
              "            0.5045,     0.50551,     0.50651,     0.50751,     0.50851,     0.50951,     0.51051,     0.51151,     0.51251,     0.51351,     0.51451,     0.51552,     0.51652,     0.51752,     0.51852,     0.51952,     0.52052,     0.52152,     0.52252,     0.52352,     0.52452,     0.52553,     0.52653,     0.52753,\n",
              "           0.52853,     0.52953,     0.53053,     0.53153,     0.53253,     0.53353,     0.53453,     0.53554,     0.53654,     0.53754,     0.53854,     0.53954,     0.54054,     0.54154,     0.54254,     0.54354,     0.54454,     0.54555,     0.54655,     0.54755,     0.54855,     0.54955,     0.55055,     0.55155,\n",
              "           0.55255,     0.55355,     0.55455,     0.55556,     0.55656,     0.55756,     0.55856,     0.55956,     0.56056,     0.56156,     0.56256,     0.56356,     0.56456,     0.56557,     0.56657,     0.56757,     0.56857,     0.56957,     0.57057,     0.57157,     0.57257,     0.57357,     0.57457,     0.57558,\n",
              "           0.57658,     0.57758,     0.57858,     0.57958,     0.58058,     0.58158,     0.58258,     0.58358,     0.58458,     0.58559,     0.58659,     0.58759,     0.58859,     0.58959,     0.59059,     0.59159,     0.59259,     0.59359,     0.59459,      0.5956,      0.5966,      0.5976,      0.5986,      0.5996,\n",
              "            0.6006,      0.6016,      0.6026,      0.6036,      0.6046,     0.60561,     0.60661,     0.60761,     0.60861,     0.60961,     0.61061,     0.61161,     0.61261,     0.61361,     0.61461,     0.61562,     0.61662,     0.61762,     0.61862,     0.61962,     0.62062,     0.62162,     0.62262,     0.62362,\n",
              "           0.62462,     0.62563,     0.62663,     0.62763,     0.62863,     0.62963,     0.63063,     0.63163,     0.63263,     0.63363,     0.63463,     0.63564,     0.63664,     0.63764,     0.63864,     0.63964,     0.64064,     0.64164,     0.64264,     0.64364,     0.64464,     0.64565,     0.64665,     0.64765,\n",
              "           0.64865,     0.64965,     0.65065,     0.65165,     0.65265,     0.65365,     0.65465,     0.65566,     0.65666,     0.65766,     0.65866,     0.65966,     0.66066,     0.66166,     0.66266,     0.66366,     0.66466,     0.66567,     0.66667,     0.66767,     0.66867,     0.66967,     0.67067,     0.67167,\n",
              "           0.67267,     0.67367,     0.67467,     0.67568,     0.67668,     0.67768,     0.67868,     0.67968,     0.68068,     0.68168,     0.68268,     0.68368,     0.68468,     0.68569,     0.68669,     0.68769,     0.68869,     0.68969,     0.69069,     0.69169,     0.69269,     0.69369,     0.69469,      0.6957,\n",
              "            0.6967,      0.6977,      0.6987,      0.6997,      0.7007,      0.7017,      0.7027,      0.7037,      0.7047,     0.70571,     0.70671,     0.70771,     0.70871,     0.70971,     0.71071,     0.71171,     0.71271,     0.71371,     0.71471,     0.71572,     0.71672,     0.71772,     0.71872,     0.71972,\n",
              "           0.72072,     0.72172,     0.72272,     0.72372,     0.72472,     0.72573,     0.72673,     0.72773,     0.72873,     0.72973,     0.73073,     0.73173,     0.73273,     0.73373,     0.73473,     0.73574,     0.73674,     0.73774,     0.73874,     0.73974,     0.74074,     0.74174,     0.74274,     0.74374,\n",
              "           0.74474,     0.74575,     0.74675,     0.74775,     0.74875,     0.74975,     0.75075,     0.75175,     0.75275,     0.75375,     0.75475,     0.75576,     0.75676,     0.75776,     0.75876,     0.75976,     0.76076,     0.76176,     0.76276,     0.76376,     0.76476,     0.76577,     0.76677,     0.76777,\n",
              "           0.76877,     0.76977,     0.77077,     0.77177,     0.77277,     0.77377,     0.77477,     0.77578,     0.77678,     0.77778,     0.77878,     0.77978,     0.78078,     0.78178,     0.78278,     0.78378,     0.78478,     0.78579,     0.78679,     0.78779,     0.78879,     0.78979,     0.79079,     0.79179,\n",
              "           0.79279,     0.79379,     0.79479,      0.7958,      0.7968,      0.7978,      0.7988,      0.7998,      0.8008,      0.8018,      0.8028,      0.8038,      0.8048,     0.80581,     0.80681,     0.80781,     0.80881,     0.80981,     0.81081,     0.81181,     0.81281,     0.81381,     0.81481,     0.81582,\n",
              "           0.81682,     0.81782,     0.81882,     0.81982,     0.82082,     0.82182,     0.82282,     0.82382,     0.82482,     0.82583,     0.82683,     0.82783,     0.82883,     0.82983,     0.83083,     0.83183,     0.83283,     0.83383,     0.83483,     0.83584,     0.83684,     0.83784,     0.83884,     0.83984,\n",
              "           0.84084,     0.84184,     0.84284,     0.84384,     0.84484,     0.84585,     0.84685,     0.84785,     0.84885,     0.84985,     0.85085,     0.85185,     0.85285,     0.85385,     0.85485,     0.85586,     0.85686,     0.85786,     0.85886,     0.85986,     0.86086,     0.86186,     0.86286,     0.86386,\n",
              "           0.86486,     0.86587,     0.86687,     0.86787,     0.86887,     0.86987,     0.87087,     0.87187,     0.87287,     0.87387,     0.87487,     0.87588,     0.87688,     0.87788,     0.87888,     0.87988,     0.88088,     0.88188,     0.88288,     0.88388,     0.88488,     0.88589,     0.88689,     0.88789,\n",
              "           0.88889,     0.88989,     0.89089,     0.89189,     0.89289,     0.89389,     0.89489,      0.8959,      0.8969,      0.8979,      0.8989,      0.8999,      0.9009,      0.9019,      0.9029,      0.9039,      0.9049,     0.90591,     0.90691,     0.90791,     0.90891,     0.90991,     0.91091,     0.91191,\n",
              "           0.91291,     0.91391,     0.91491,     0.91592,     0.91692,     0.91792,     0.91892,     0.91992,     0.92092,     0.92192,     0.92292,     0.92392,     0.92492,     0.92593,     0.92693,     0.92793,     0.92893,     0.92993,     0.93093,     0.93193,     0.93293,     0.93393,     0.93493,     0.93594,\n",
              "           0.93694,     0.93794,     0.93894,     0.93994,     0.94094,     0.94194,     0.94294,     0.94394,     0.94494,     0.94595,     0.94695,     0.94795,     0.94895,     0.94995,     0.95095,     0.95195,     0.95295,     0.95395,     0.95495,     0.95596,     0.95696,     0.95796,     0.95896,     0.95996,\n",
              "           0.96096,     0.96196,     0.96296,     0.96396,     0.96496,     0.96597,     0.96697,     0.96797,     0.96897,     0.96997,     0.97097,     0.97197,     0.97297,     0.97397,     0.97497,     0.97598,     0.97698,     0.97798,     0.97898,     0.97998,     0.98098,     0.98198,     0.98298,     0.98398,\n",
              "           0.98498,     0.98599,     0.98699,     0.98799,     0.98899,     0.98999,     0.99099,     0.99199,     0.99299,     0.99399,     0.99499,       0.996,       0.997,       0.998,       0.999,           1]), array([[    0.71937,     0.71937,     0.83869,     0.88794,     0.90592,      0.9107,     0.91465,     0.91791,     0.92065,     0.92307,     0.92705,     0.93032,     0.93288,     0.93386,      0.9345,     0.93513,     0.93577,     0.93641,     0.93704,     0.93768,     0.93958,     0.94309,      0.9433,\n",
              "            0.94351,     0.94372,     0.94394,     0.94415,     0.94436,     0.94457,     0.94478,       0.945,     0.94521,     0.94542,     0.94563,     0.94584,     0.94606,     0.94627,     0.94648,     0.94669,      0.9469,     0.94711,     0.94732,     0.94753,     0.94775,     0.94832,     0.95044,\n",
              "            0.95255,     0.95312,      0.9534,     0.95368,     0.95396,     0.95423,     0.95451,     0.95479,     0.95507,     0.95535,     0.95563,     0.95591,     0.95619,     0.95647,     0.95674,     0.95702,      0.9573,     0.95758,     0.95785,     0.95811,     0.95836,     0.95861,     0.95886,\n",
              "            0.95912,     0.95937,     0.95962,     0.95987,     0.96012,     0.96037,     0.96062,     0.96087,     0.96112,     0.96137,     0.96162,     0.96187,     0.96212,     0.96237,     0.96262,     0.96287,     0.96331,     0.96388,     0.96445,     0.96502,     0.96559,     0.96615,     0.96672,\n",
              "            0.96729,     0.96785,     0.96814,     0.96822,     0.96831,      0.9684,     0.96848,     0.96857,     0.96866,     0.96874,     0.96883,     0.96892,       0.969,     0.96909,     0.96918,     0.96926,     0.96935,     0.96944,     0.96952,     0.96961,     0.96969,     0.96978,     0.96987,\n",
              "            0.96995,     0.97004,     0.97013,     0.97021,      0.9703,     0.97039,     0.97047,     0.97056,     0.97064,     0.97073,     0.97082,      0.9709,     0.97099,     0.97108,     0.97116,     0.97125,     0.97133,     0.97142,     0.97151,     0.97159,     0.97168,     0.97177,     0.97185,\n",
              "            0.97194,     0.97202,     0.97211,      0.9722,     0.97228,     0.97237,     0.97245,     0.97254,     0.97263,     0.97271,      0.9728,     0.97288,     0.97297,     0.97306,     0.97314,     0.97323,     0.97327,     0.97329,     0.97331,     0.97333,     0.97335,     0.97337,     0.97339,\n",
              "             0.9734,     0.97342,     0.97344,     0.97346,     0.97348,      0.9735,     0.97352,     0.97354,     0.97356,     0.97357,     0.97359,     0.97361,     0.97363,     0.97365,     0.97367,     0.97369,     0.97371,     0.97373,     0.97374,     0.97376,     0.97378,      0.9738,     0.97382,\n",
              "            0.97384,     0.97386,     0.97388,     0.97389,     0.97391,     0.97393,     0.97395,     0.97397,     0.97399,     0.97401,     0.97403,     0.97404,     0.97406,     0.97408,      0.9741,     0.97412,     0.97414,     0.97416,     0.97418,      0.9742,     0.97421,     0.97423,     0.97425,\n",
              "            0.97427,     0.97429,     0.97431,     0.97433,     0.97435,     0.97436,     0.97438,      0.9744,     0.97442,     0.97444,     0.97446,     0.97448,      0.9745,     0.97451,     0.97453,     0.97455,     0.97457,     0.97459,     0.97461,     0.97463,     0.97465,     0.97467,     0.97468,\n",
              "             0.9747,     0.97472,     0.97474,     0.97476,     0.97478,      0.9748,     0.97482,     0.97483,     0.97485,     0.97487,     0.97489,     0.97491,     0.97493,     0.97495,     0.97497,     0.97498,       0.975,     0.97502,     0.97504,     0.97506,     0.97508,      0.9751,     0.97512,\n",
              "            0.97513,     0.97515,     0.97517,     0.97519,     0.97521,     0.97523,     0.97525,     0.97527,     0.97528,      0.9753,     0.97532,     0.97534,     0.97536,     0.97538,      0.9754,     0.97542,     0.97543,     0.97545,     0.97547,     0.97549,     0.97551,     0.97553,     0.97555,\n",
              "            0.97557,     0.97558,      0.9756,     0.97562,     0.97564,     0.97566,     0.97568,      0.9757,     0.97572,     0.97573,     0.97575,     0.97577,     0.97579,     0.97581,     0.97583,     0.97585,     0.97587,     0.97588,      0.9759,     0.97592,     0.97594,     0.97596,     0.97598,\n",
              "              0.976,     0.97602,     0.97603,     0.97605,     0.97607,     0.97609,     0.97611,     0.97613,     0.97615,     0.97617,     0.97618,      0.9762,     0.97622,     0.97624,     0.97626,     0.97628,      0.9763,     0.97632,     0.97633,     0.97635,     0.97637,     0.97639,     0.97641,\n",
              "            0.97643,     0.97645,     0.97647,     0.97648,      0.9765,     0.97652,     0.97654,     0.97656,     0.97658,      0.9766,     0.97661,     0.97663,     0.97665,     0.97667,     0.97669,     0.97671,     0.97673,     0.97675,     0.97676,     0.97678,      0.9768,     0.97682,     0.97684,\n",
              "            0.97686,     0.97688,      0.9769,     0.97691,     0.97693,     0.97695,     0.97697,     0.97699,     0.97701,     0.97703,     0.97704,     0.97706,     0.97708,      0.9771,     0.97712,     0.97714,     0.97716,     0.97718,     0.97719,     0.97721,     0.97723,     0.97725,     0.97727,\n",
              "            0.97729,     0.97731,     0.97733,     0.97734,     0.97736,     0.97738,      0.9774,     0.97742,     0.97744,     0.97746,     0.97747,     0.97749,     0.97751,     0.97753,     0.97755,     0.97757,     0.97759,     0.97761,     0.97762,     0.97764,     0.97766,     0.97768,      0.9777,\n",
              "            0.97772,     0.97774,     0.97775,     0.97777,     0.97779,     0.97781,     0.97783,     0.97785,     0.97787,     0.97789,      0.9779,     0.97792,     0.97794,     0.97796,     0.97798,       0.978,     0.97802,     0.97803,     0.97805,     0.97807,     0.97809,     0.97811,     0.97813,\n",
              "            0.97815,     0.97817,     0.97818,      0.9782,     0.97822,     0.97824,     0.97826,     0.97828,      0.9783,     0.97831,     0.97833,     0.97835,     0.97837,     0.97839,     0.97841,     0.97843,     0.97844,     0.97846,     0.97848,      0.9785,     0.97852,     0.97854,     0.97855,\n",
              "            0.97857,     0.97859,     0.97861,     0.97862,     0.97864,     0.97866,     0.97868,     0.97869,     0.97871,     0.97873,     0.97874,     0.97876,     0.97878,      0.9788,     0.97881,     0.97883,     0.97885,     0.97887,     0.97888,      0.9789,     0.97892,     0.97894,     0.97895,\n",
              "            0.97897,     0.97899,     0.97901,     0.97902,     0.97904,     0.97906,     0.97908,     0.97909,     0.97911,     0.97913,     0.97915,     0.97916,     0.97918,      0.9792,     0.97922,     0.97923,     0.97925,     0.97927,     0.97929,      0.9793,     0.97932,     0.97934,     0.97936,\n",
              "            0.97937,     0.97939,     0.97941,     0.97943,     0.97944,     0.97946,     0.97948,      0.9795,     0.97951,     0.97953,     0.97955,     0.97956,     0.97958,      0.9796,     0.97962,     0.97963,     0.97965,     0.97967,     0.97969,      0.9797,     0.97972,     0.97974,     0.97976,\n",
              "            0.97977,     0.97979,     0.97981,     0.97983,     0.97984,     0.97986,     0.97988,      0.9799,     0.97991,     0.97993,     0.97995,     0.97997,     0.97998,        0.98,     0.98002,     0.98004,     0.98005,     0.98007,     0.98009,     0.98011,     0.98012,     0.98014,     0.98016,\n",
              "            0.98017,     0.98019,     0.98021,     0.98023,     0.98024,     0.98026,     0.98028,      0.9803,     0.98031,     0.98033,     0.98035,     0.98037,     0.98038,      0.9804,     0.98042,     0.98044,     0.98045,     0.98047,     0.98049,     0.98051,     0.98052,     0.98054,     0.98056,\n",
              "            0.98057,     0.98059,     0.98061,     0.98063,     0.98064,     0.98066,     0.98068,      0.9807,     0.98071,     0.98073,     0.98075,     0.98077,     0.98078,      0.9808,     0.98082,     0.98084,     0.98085,     0.98087,     0.98089,     0.98091,     0.98092,     0.98094,     0.98096,\n",
              "            0.98097,     0.98099,     0.98101,     0.98103,     0.98104,     0.98106,     0.98108,      0.9811,     0.98111,     0.98113,     0.98115,     0.98117,     0.98118,      0.9812,     0.98122,     0.98124,     0.98125,     0.98127,     0.98129,     0.98131,     0.98132,     0.98134,     0.98136,\n",
              "            0.98137,     0.98139,     0.98141,     0.98143,     0.98144,     0.98146,     0.98148,      0.9815,     0.98151,     0.98153,     0.98155,     0.98157,     0.98158,      0.9816,     0.98162,     0.98164,     0.98165,     0.98167,     0.98169,      0.9817,     0.98172,     0.98174,     0.98176,\n",
              "            0.98177,     0.98179,     0.98181,     0.98183,     0.98184,     0.98186,     0.98188,      0.9819,     0.98191,     0.98193,     0.98195,     0.98196,     0.98198,       0.982,     0.98202,     0.98203,     0.98205,     0.98207,     0.98209,      0.9821,     0.98212,     0.98214,     0.98216,\n",
              "            0.98217,     0.98219,     0.98221,     0.98222,     0.98224,     0.98226,     0.98228,     0.98229,     0.98231,     0.98233,     0.98235,     0.98236,     0.98238,      0.9824,     0.98242,     0.98243,     0.98245,     0.98247,     0.98248,      0.9825,     0.98252,     0.98254,     0.98255,\n",
              "            0.98257,     0.98259,     0.98261,     0.98262,     0.98264,     0.98266,     0.98268,     0.98269,     0.98271,     0.98273,     0.98274,     0.98276,     0.98278,      0.9828,     0.98281,     0.98283,     0.98285,     0.98287,     0.98288,      0.9829,     0.98292,     0.98294,     0.98295,\n",
              "            0.98297,     0.98299,       0.983,     0.98302,     0.98304,     0.98306,     0.98307,     0.98309,     0.98311,     0.98313,     0.98314,     0.98316,     0.98318,     0.98319,     0.98321,     0.98323,     0.98325,     0.98326,     0.98328,      0.9833,     0.98332,     0.98333,     0.98335,\n",
              "            0.98337,     0.98339,      0.9834,     0.98342,     0.98344,     0.98345,     0.98347,     0.98349,     0.98351,     0.98352,     0.98354,     0.98356,     0.98358,     0.98359,     0.98361,     0.98363,     0.98364,     0.98366,     0.98368,      0.9837,     0.98371,     0.98373,     0.98375,\n",
              "            0.98377,     0.98378,     0.98374,     0.98369,     0.98365,      0.9836,     0.98355,     0.98351,     0.98346,     0.98342,     0.98337,     0.98332,     0.98328,     0.98323,     0.98318,     0.98314,     0.98309,     0.98304,       0.983,     0.98295,     0.98291,     0.98286,     0.98281,\n",
              "            0.98277,     0.98272,     0.98267,     0.98263,     0.98258,     0.98253,     0.98249,     0.98244,     0.98239,     0.98235,      0.9823,     0.98225,     0.98221,     0.98216,     0.98212,     0.98207,     0.98202,     0.98198,     0.98193,     0.98188,     0.98184,     0.98179,     0.98174,\n",
              "             0.9817,     0.98165,      0.9816,     0.98156,     0.98151,     0.98146,     0.98142,     0.98137,     0.98132,     0.98128,     0.98123,     0.98118,     0.98114,     0.98109,     0.98104,       0.981,     0.98095,      0.9809,     0.98086,     0.98081,     0.98077,     0.98072,     0.98067,\n",
              "            0.98063,     0.98058,     0.98053,     0.98049,     0.98044,     0.98039,     0.98035,      0.9803,     0.98025,     0.98021,     0.98016,     0.98011,     0.98007,     0.98002,     0.97997,     0.97993,     0.97988,     0.97983,     0.97979,     0.97974,     0.97969,     0.97965,      0.9796,\n",
              "            0.97955,      0.9795,     0.97946,     0.97941,     0.97936,     0.97932,     0.97927,     0.97922,     0.97918,     0.97913,     0.97908,     0.97904,     0.97899,     0.97894,      0.9789,     0.97885,      0.9788,     0.97876,     0.97871,     0.97866,     0.97862,     0.97857,     0.97852,\n",
              "            0.97848,     0.97843,     0.97838,     0.97834,     0.97829,     0.97797,     0.97726,     0.97654,     0.97583,     0.97511,      0.9744,     0.97368,     0.97296,     0.97351,     0.97489,     0.97625,     0.97762,     0.97667,     0.97474,     0.97281,     0.97209,     0.97173,     0.97136,\n",
              "              0.971,     0.97064,     0.97027,      0.9699,     0.96954,     0.96917,     0.96881,     0.96844,     0.96807,     0.96771,     0.96734,     0.96697,     0.96651,     0.96561,      0.9647,     0.96379,     0.96288,     0.96197,     0.96105,     0.95843,     0.95543,     0.94758,     0.94349,\n",
              "            0.94128,     0.93922,     0.93715,     0.92975,     0.92722,      0.9244,      0.9183,     0.91506,      0.9119,     0.90929,     0.90666,     0.89868,     0.89533,     0.88925,     0.88267,     0.87126,     0.86655,     0.85978,     0.85638,     0.85349,     0.84867,     0.84132,     0.83569,\n",
              "            0.83194,     0.81456,     0.79163,     0.78353,     0.77433,     0.75106,     0.74674,     0.73987,     0.72844,     0.71281,     0.68762,     0.67525,      0.6683,     0.66438,     0.64852,     0.61814,     0.55985,     0.52441,     0.50634,     0.48165,     0.40994,     0.36773,     0.35184,\n",
              "            0.33484,     0.32716,     0.31447,     0.28812,     0.27331,     0.26671,     0.25356,     0.19813,      0.1669,     0.10884,    0.058973,    0.048536,    0.038811,    0.030296,    0.021706,           0,           0,           0,           0,           0,           0,           0,           0,\n",
              "                  0,           0,           0,           0,           0,           0,           0,           0,           0,           0,           0,           0,           0,           0,           0,           0,           0,           0,           0,           0,           0,           0,           0,\n",
              "                  0,           0,           0,           0,           0,           0,           0,           0,           0,           0,           0]]), 'Confidence', 'F1'], [array([          0,    0.001001,    0.002002,    0.003003,    0.004004,    0.005005,    0.006006,    0.007007,    0.008008,    0.009009,     0.01001,    0.011011,    0.012012,    0.013013,    0.014014,    0.015015,    0.016016,    0.017017,    0.018018,    0.019019,     0.02002,    0.021021,    0.022022,    0.023023,\n",
              "          0.024024,    0.025025,    0.026026,    0.027027,    0.028028,    0.029029,     0.03003,    0.031031,    0.032032,    0.033033,    0.034034,    0.035035,    0.036036,    0.037037,    0.038038,    0.039039,     0.04004,    0.041041,    0.042042,    0.043043,    0.044044,    0.045045,    0.046046,    0.047047,\n",
              "          0.048048,    0.049049,     0.05005,    0.051051,    0.052052,    0.053053,    0.054054,    0.055055,    0.056056,    0.057057,    0.058058,    0.059059,     0.06006,    0.061061,    0.062062,    0.063063,    0.064064,    0.065065,    0.066066,    0.067067,    0.068068,    0.069069,     0.07007,    0.071071,\n",
              "          0.072072,    0.073073,    0.074074,    0.075075,    0.076076,    0.077077,    0.078078,    0.079079,     0.08008,    0.081081,    0.082082,    0.083083,    0.084084,    0.085085,    0.086086,    0.087087,    0.088088,    0.089089,     0.09009,    0.091091,    0.092092,    0.093093,    0.094094,    0.095095,\n",
              "          0.096096,    0.097097,    0.098098,    0.099099,      0.1001,      0.1011,      0.1021,      0.1031,      0.1041,     0.10511,     0.10611,     0.10711,     0.10811,     0.10911,     0.11011,     0.11111,     0.11211,     0.11311,     0.11411,     0.11512,     0.11612,     0.11712,     0.11812,     0.11912,\n",
              "           0.12012,     0.12112,     0.12212,     0.12312,     0.12412,     0.12513,     0.12613,     0.12713,     0.12813,     0.12913,     0.13013,     0.13113,     0.13213,     0.13313,     0.13413,     0.13514,     0.13614,     0.13714,     0.13814,     0.13914,     0.14014,     0.14114,     0.14214,     0.14314,\n",
              "           0.14414,     0.14515,     0.14615,     0.14715,     0.14815,     0.14915,     0.15015,     0.15115,     0.15215,     0.15315,     0.15415,     0.15516,     0.15616,     0.15716,     0.15816,     0.15916,     0.16016,     0.16116,     0.16216,     0.16316,     0.16416,     0.16517,     0.16617,     0.16717,\n",
              "           0.16817,     0.16917,     0.17017,     0.17117,     0.17217,     0.17317,     0.17417,     0.17518,     0.17618,     0.17718,     0.17818,     0.17918,     0.18018,     0.18118,     0.18218,     0.18318,     0.18418,     0.18519,     0.18619,     0.18719,     0.18819,     0.18919,     0.19019,     0.19119,\n",
              "           0.19219,     0.19319,     0.19419,      0.1952,      0.1962,      0.1972,      0.1982,      0.1992,      0.2002,      0.2012,      0.2022,      0.2032,      0.2042,     0.20521,     0.20621,     0.20721,     0.20821,     0.20921,     0.21021,     0.21121,     0.21221,     0.21321,     0.21421,     0.21522,\n",
              "           0.21622,     0.21722,     0.21822,     0.21922,     0.22022,     0.22122,     0.22222,     0.22322,     0.22422,     0.22523,     0.22623,     0.22723,     0.22823,     0.22923,     0.23023,     0.23123,     0.23223,     0.23323,     0.23423,     0.23524,     0.23624,     0.23724,     0.23824,     0.23924,\n",
              "           0.24024,     0.24124,     0.24224,     0.24324,     0.24424,     0.24525,     0.24625,     0.24725,     0.24825,     0.24925,     0.25025,     0.25125,     0.25225,     0.25325,     0.25425,     0.25526,     0.25626,     0.25726,     0.25826,     0.25926,     0.26026,     0.26126,     0.26226,     0.26326,\n",
              "           0.26426,     0.26527,     0.26627,     0.26727,     0.26827,     0.26927,     0.27027,     0.27127,     0.27227,     0.27327,     0.27427,     0.27528,     0.27628,     0.27728,     0.27828,     0.27928,     0.28028,     0.28128,     0.28228,     0.28328,     0.28428,     0.28529,     0.28629,     0.28729,\n",
              "           0.28829,     0.28929,     0.29029,     0.29129,     0.29229,     0.29329,     0.29429,      0.2953,      0.2963,      0.2973,      0.2983,      0.2993,      0.3003,      0.3013,      0.3023,      0.3033,      0.3043,     0.30531,     0.30631,     0.30731,     0.30831,     0.30931,     0.31031,     0.31131,\n",
              "           0.31231,     0.31331,     0.31431,     0.31532,     0.31632,     0.31732,     0.31832,     0.31932,     0.32032,     0.32132,     0.32232,     0.32332,     0.32432,     0.32533,     0.32633,     0.32733,     0.32833,     0.32933,     0.33033,     0.33133,     0.33233,     0.33333,     0.33433,     0.33534,\n",
              "           0.33634,     0.33734,     0.33834,     0.33934,     0.34034,     0.34134,     0.34234,     0.34334,     0.34434,     0.34535,     0.34635,     0.34735,     0.34835,     0.34935,     0.35035,     0.35135,     0.35235,     0.35335,     0.35435,     0.35536,     0.35636,     0.35736,     0.35836,     0.35936,\n",
              "           0.36036,     0.36136,     0.36236,     0.36336,     0.36436,     0.36537,     0.36637,     0.36737,     0.36837,     0.36937,     0.37037,     0.37137,     0.37237,     0.37337,     0.37437,     0.37538,     0.37638,     0.37738,     0.37838,     0.37938,     0.38038,     0.38138,     0.38238,     0.38338,\n",
              "           0.38438,     0.38539,     0.38639,     0.38739,     0.38839,     0.38939,     0.39039,     0.39139,     0.39239,     0.39339,     0.39439,      0.3954,      0.3964,      0.3974,      0.3984,      0.3994,      0.4004,      0.4014,      0.4024,      0.4034,      0.4044,     0.40541,     0.40641,     0.40741,\n",
              "           0.40841,     0.40941,     0.41041,     0.41141,     0.41241,     0.41341,     0.41441,     0.41542,     0.41642,     0.41742,     0.41842,     0.41942,     0.42042,     0.42142,     0.42242,     0.42342,     0.42442,     0.42543,     0.42643,     0.42743,     0.42843,     0.42943,     0.43043,     0.43143,\n",
              "           0.43243,     0.43343,     0.43443,     0.43544,     0.43644,     0.43744,     0.43844,     0.43944,     0.44044,     0.44144,     0.44244,     0.44344,     0.44444,     0.44545,     0.44645,     0.44745,     0.44845,     0.44945,     0.45045,     0.45145,     0.45245,     0.45345,     0.45445,     0.45546,\n",
              "           0.45646,     0.45746,     0.45846,     0.45946,     0.46046,     0.46146,     0.46246,     0.46346,     0.46446,     0.46547,     0.46647,     0.46747,     0.46847,     0.46947,     0.47047,     0.47147,     0.47247,     0.47347,     0.47447,     0.47548,     0.47648,     0.47748,     0.47848,     0.47948,\n",
              "           0.48048,     0.48148,     0.48248,     0.48348,     0.48448,     0.48549,     0.48649,     0.48749,     0.48849,     0.48949,     0.49049,     0.49149,     0.49249,     0.49349,     0.49449,      0.4955,      0.4965,      0.4975,      0.4985,      0.4995,      0.5005,      0.5015,      0.5025,      0.5035,\n",
              "            0.5045,     0.50551,     0.50651,     0.50751,     0.50851,     0.50951,     0.51051,     0.51151,     0.51251,     0.51351,     0.51451,     0.51552,     0.51652,     0.51752,     0.51852,     0.51952,     0.52052,     0.52152,     0.52252,     0.52352,     0.52452,     0.52553,     0.52653,     0.52753,\n",
              "           0.52853,     0.52953,     0.53053,     0.53153,     0.53253,     0.53353,     0.53453,     0.53554,     0.53654,     0.53754,     0.53854,     0.53954,     0.54054,     0.54154,     0.54254,     0.54354,     0.54454,     0.54555,     0.54655,     0.54755,     0.54855,     0.54955,     0.55055,     0.55155,\n",
              "           0.55255,     0.55355,     0.55455,     0.55556,     0.55656,     0.55756,     0.55856,     0.55956,     0.56056,     0.56156,     0.56256,     0.56356,     0.56456,     0.56557,     0.56657,     0.56757,     0.56857,     0.56957,     0.57057,     0.57157,     0.57257,     0.57357,     0.57457,     0.57558,\n",
              "           0.57658,     0.57758,     0.57858,     0.57958,     0.58058,     0.58158,     0.58258,     0.58358,     0.58458,     0.58559,     0.58659,     0.58759,     0.58859,     0.58959,     0.59059,     0.59159,     0.59259,     0.59359,     0.59459,      0.5956,      0.5966,      0.5976,      0.5986,      0.5996,\n",
              "            0.6006,      0.6016,      0.6026,      0.6036,      0.6046,     0.60561,     0.60661,     0.60761,     0.60861,     0.60961,     0.61061,     0.61161,     0.61261,     0.61361,     0.61461,     0.61562,     0.61662,     0.61762,     0.61862,     0.61962,     0.62062,     0.62162,     0.62262,     0.62362,\n",
              "           0.62462,     0.62563,     0.62663,     0.62763,     0.62863,     0.62963,     0.63063,     0.63163,     0.63263,     0.63363,     0.63463,     0.63564,     0.63664,     0.63764,     0.63864,     0.63964,     0.64064,     0.64164,     0.64264,     0.64364,     0.64464,     0.64565,     0.64665,     0.64765,\n",
              "           0.64865,     0.64965,     0.65065,     0.65165,     0.65265,     0.65365,     0.65465,     0.65566,     0.65666,     0.65766,     0.65866,     0.65966,     0.66066,     0.66166,     0.66266,     0.66366,     0.66466,     0.66567,     0.66667,     0.66767,     0.66867,     0.66967,     0.67067,     0.67167,\n",
              "           0.67267,     0.67367,     0.67467,     0.67568,     0.67668,     0.67768,     0.67868,     0.67968,     0.68068,     0.68168,     0.68268,     0.68368,     0.68468,     0.68569,     0.68669,     0.68769,     0.68869,     0.68969,     0.69069,     0.69169,     0.69269,     0.69369,     0.69469,      0.6957,\n",
              "            0.6967,      0.6977,      0.6987,      0.6997,      0.7007,      0.7017,      0.7027,      0.7037,      0.7047,     0.70571,     0.70671,     0.70771,     0.70871,     0.70971,     0.71071,     0.71171,     0.71271,     0.71371,     0.71471,     0.71572,     0.71672,     0.71772,     0.71872,     0.71972,\n",
              "           0.72072,     0.72172,     0.72272,     0.72372,     0.72472,     0.72573,     0.72673,     0.72773,     0.72873,     0.72973,     0.73073,     0.73173,     0.73273,     0.73373,     0.73473,     0.73574,     0.73674,     0.73774,     0.73874,     0.73974,     0.74074,     0.74174,     0.74274,     0.74374,\n",
              "           0.74474,     0.74575,     0.74675,     0.74775,     0.74875,     0.74975,     0.75075,     0.75175,     0.75275,     0.75375,     0.75475,     0.75576,     0.75676,     0.75776,     0.75876,     0.75976,     0.76076,     0.76176,     0.76276,     0.76376,     0.76476,     0.76577,     0.76677,     0.76777,\n",
              "           0.76877,     0.76977,     0.77077,     0.77177,     0.77277,     0.77377,     0.77477,     0.77578,     0.77678,     0.77778,     0.77878,     0.77978,     0.78078,     0.78178,     0.78278,     0.78378,     0.78478,     0.78579,     0.78679,     0.78779,     0.78879,     0.78979,     0.79079,     0.79179,\n",
              "           0.79279,     0.79379,     0.79479,      0.7958,      0.7968,      0.7978,      0.7988,      0.7998,      0.8008,      0.8018,      0.8028,      0.8038,      0.8048,     0.80581,     0.80681,     0.80781,     0.80881,     0.80981,     0.81081,     0.81181,     0.81281,     0.81381,     0.81481,     0.81582,\n",
              "           0.81682,     0.81782,     0.81882,     0.81982,     0.82082,     0.82182,     0.82282,     0.82382,     0.82482,     0.82583,     0.82683,     0.82783,     0.82883,     0.82983,     0.83083,     0.83183,     0.83283,     0.83383,     0.83483,     0.83584,     0.83684,     0.83784,     0.83884,     0.83984,\n",
              "           0.84084,     0.84184,     0.84284,     0.84384,     0.84484,     0.84585,     0.84685,     0.84785,     0.84885,     0.84985,     0.85085,     0.85185,     0.85285,     0.85385,     0.85485,     0.85586,     0.85686,     0.85786,     0.85886,     0.85986,     0.86086,     0.86186,     0.86286,     0.86386,\n",
              "           0.86486,     0.86587,     0.86687,     0.86787,     0.86887,     0.86987,     0.87087,     0.87187,     0.87287,     0.87387,     0.87487,     0.87588,     0.87688,     0.87788,     0.87888,     0.87988,     0.88088,     0.88188,     0.88288,     0.88388,     0.88488,     0.88589,     0.88689,     0.88789,\n",
              "           0.88889,     0.88989,     0.89089,     0.89189,     0.89289,     0.89389,     0.89489,      0.8959,      0.8969,      0.8979,      0.8989,      0.8999,      0.9009,      0.9019,      0.9029,      0.9039,      0.9049,     0.90591,     0.90691,     0.90791,     0.90891,     0.90991,     0.91091,     0.91191,\n",
              "           0.91291,     0.91391,     0.91491,     0.91592,     0.91692,     0.91792,     0.91892,     0.91992,     0.92092,     0.92192,     0.92292,     0.92392,     0.92492,     0.92593,     0.92693,     0.92793,     0.92893,     0.92993,     0.93093,     0.93193,     0.93293,     0.93393,     0.93493,     0.93594,\n",
              "           0.93694,     0.93794,     0.93894,     0.93994,     0.94094,     0.94194,     0.94294,     0.94394,     0.94494,     0.94595,     0.94695,     0.94795,     0.94895,     0.94995,     0.95095,     0.95195,     0.95295,     0.95395,     0.95495,     0.95596,     0.95696,     0.95796,     0.95896,     0.95996,\n",
              "           0.96096,     0.96196,     0.96296,     0.96396,     0.96496,     0.96597,     0.96697,     0.96797,     0.96897,     0.96997,     0.97097,     0.97197,     0.97297,     0.97397,     0.97497,     0.97598,     0.97698,     0.97798,     0.97898,     0.97998,     0.98098,     0.98198,     0.98298,     0.98398,\n",
              "           0.98498,     0.98599,     0.98699,     0.98799,     0.98899,     0.98999,     0.99099,     0.99199,     0.99299,     0.99399,     0.99499,       0.996,       0.997,       0.998,       0.999,           1]), array([[    0.56875,     0.56875,     0.73384,     0.81273,     0.84337,     0.85169,     0.85863,     0.86438,     0.86927,     0.87358,     0.88075,     0.88666,     0.89132,     0.89312,     0.89428,     0.89545,     0.89662,     0.89779,     0.89896,     0.90013,     0.90364,     0.91015,     0.91055,\n",
              "            0.91094,     0.91134,     0.91173,     0.91213,     0.91253,     0.91292,     0.91332,     0.91372,     0.91411,     0.91451,     0.91491,      0.9153,      0.9157,      0.9161,     0.91649,     0.91689,     0.91729,     0.91768,     0.91808,     0.91847,     0.91887,     0.91995,     0.92395,\n",
              "            0.92794,     0.92902,     0.92955,     0.93008,     0.93062,     0.93115,     0.93168,     0.93221,     0.93275,     0.93328,     0.93381,     0.93434,     0.93487,     0.93541,     0.93594,     0.93647,       0.937,     0.93754,     0.93807,     0.93856,     0.93904,     0.93952,     0.94001,\n",
              "            0.94049,     0.94097,     0.94145,     0.94194,     0.94242,      0.9429,     0.94338,     0.94387,     0.94435,     0.94483,     0.94532,      0.9458,     0.94628,     0.94676,     0.94725,     0.94773,     0.94859,      0.9497,      0.9508,     0.95191,     0.95302,     0.95412,     0.95523,\n",
              "            0.95633,     0.95744,     0.95799,     0.95816,     0.95833,      0.9585,     0.95867,     0.95884,     0.95901,     0.95918,     0.95935,     0.95952,     0.95969,     0.95986,     0.96003,      0.9602,     0.96037,     0.96054,     0.96071,     0.96088,     0.96105,     0.96122,     0.96139,\n",
              "            0.96156,     0.96173,      0.9619,     0.96207,     0.96224,     0.96241,     0.96258,     0.96275,     0.96292,     0.96309,     0.96326,     0.96343,      0.9636,     0.96377,     0.96394,     0.96411,     0.96428,     0.96445,     0.96462,     0.96479,     0.96496,     0.96513,      0.9653,\n",
              "            0.96547,     0.96564,     0.96581,     0.96598,     0.96615,     0.96632,     0.96649,     0.96666,     0.96683,       0.967,     0.96717,     0.96734,     0.96751,     0.96768,     0.96785,     0.96802,     0.96811,     0.96814,     0.96818,     0.96822,     0.96826,     0.96829,     0.96833,\n",
              "            0.96837,     0.96841,     0.96844,     0.96848,     0.96852,     0.96855,     0.96859,     0.96863,     0.96867,      0.9687,     0.96874,     0.96878,     0.96882,     0.96885,     0.96889,     0.96893,     0.96896,       0.969,     0.96904,     0.96908,     0.96911,     0.96915,     0.96919,\n",
              "            0.96923,     0.96926,      0.9693,     0.96934,     0.96937,     0.96941,     0.96945,     0.96949,     0.96952,     0.96956,      0.9696,     0.96964,     0.96967,     0.96971,     0.96975,     0.96978,     0.96982,     0.96986,      0.9699,     0.96993,     0.96997,     0.97001,     0.97005,\n",
              "            0.97008,     0.97012,     0.97016,     0.97019,     0.97023,     0.97027,     0.97031,     0.97034,     0.97038,     0.97042,     0.97046,     0.97049,     0.97053,     0.97057,      0.9706,     0.97064,     0.97068,     0.97072,     0.97075,     0.97079,     0.97083,     0.97087,      0.9709,\n",
              "            0.97094,     0.97098,     0.97101,     0.97105,     0.97109,     0.97113,     0.97116,      0.9712,     0.97124,     0.97128,     0.97131,     0.97135,     0.97139,     0.97142,     0.97146,      0.9715,     0.97154,     0.97157,     0.97161,     0.97165,     0.97169,     0.97172,     0.97176,\n",
              "             0.9718,     0.97183,     0.97187,     0.97191,     0.97195,     0.97198,     0.97202,     0.97206,      0.9721,     0.97213,     0.97217,     0.97221,     0.97224,     0.97228,     0.97232,     0.97236,     0.97239,     0.97243,     0.97247,     0.97251,     0.97254,     0.97258,     0.97262,\n",
              "            0.97265,     0.97269,     0.97273,     0.97277,      0.9728,     0.97284,     0.97288,     0.97292,     0.97295,     0.97299,     0.97303,     0.97306,      0.9731,     0.97314,     0.97318,     0.97321,     0.97325,     0.97329,     0.97333,     0.97336,      0.9734,     0.97344,     0.97347,\n",
              "            0.97351,     0.97355,     0.97359,     0.97362,     0.97366,      0.9737,     0.97374,     0.97377,     0.97381,     0.97385,     0.97388,     0.97392,     0.97396,       0.974,     0.97403,     0.97407,     0.97411,     0.97415,     0.97418,     0.97422,     0.97426,     0.97429,     0.97433,\n",
              "            0.97437,     0.97441,     0.97444,     0.97448,     0.97452,     0.97456,     0.97459,     0.97463,     0.97467,      0.9747,     0.97474,     0.97478,     0.97482,     0.97485,     0.97489,     0.97493,     0.97497,       0.975,     0.97504,     0.97508,     0.97511,     0.97515,     0.97519,\n",
              "            0.97523,     0.97526,      0.9753,     0.97534,     0.97538,     0.97541,     0.97545,     0.97549,     0.97552,     0.97556,      0.9756,     0.97564,     0.97567,     0.97571,     0.97575,     0.97579,     0.97582,     0.97586,      0.9759,     0.97593,     0.97597,     0.97601,     0.97605,\n",
              "            0.97608,     0.97612,     0.97616,      0.9762,     0.97623,     0.97627,     0.97631,     0.97634,     0.97638,     0.97642,     0.97646,     0.97649,     0.97653,     0.97657,     0.97661,     0.97664,     0.97668,     0.97672,     0.97675,     0.97679,     0.97683,     0.97687,      0.9769,\n",
              "            0.97694,     0.97698,     0.97702,     0.97705,     0.97709,     0.97713,     0.97716,      0.9772,     0.97724,     0.97728,     0.97731,     0.97735,     0.97739,     0.97743,     0.97746,      0.9775,     0.97754,     0.97757,     0.97761,     0.97765,     0.97769,     0.97772,     0.97776,\n",
              "             0.9778,     0.97784,     0.97787,     0.97791,     0.97795,     0.97798,     0.97802,     0.97806,      0.9781,     0.97813,     0.97817,     0.97821,     0.97825,     0.97828,     0.97832,     0.97836,      0.9784,     0.97843,     0.97847,     0.97851,     0.97854,     0.97858,     0.97861,\n",
              "            0.97865,     0.97868,     0.97872,     0.97875,     0.97879,     0.97882,     0.97886,     0.97889,     0.97893,     0.97896,       0.979,     0.97903,     0.97907,      0.9791,     0.97914,     0.97917,      0.9792,     0.97924,     0.97927,     0.97931,     0.97934,     0.97938,     0.97941,\n",
              "            0.97945,     0.97948,     0.97952,     0.97955,     0.97959,     0.97962,     0.97966,     0.97969,     0.97973,     0.97976,      0.9798,     0.97983,     0.97987,      0.9799,     0.97994,     0.97997,     0.98001,     0.98004,     0.98008,     0.98011,     0.98015,     0.98018,     0.98022,\n",
              "            0.98025,     0.98029,     0.98032,     0.98036,     0.98039,     0.98043,     0.98046,      0.9805,     0.98053,     0.98057,      0.9806,     0.98064,     0.98067,     0.98071,     0.98074,     0.98078,     0.98081,     0.98085,     0.98088,     0.98092,     0.98095,     0.98099,     0.98102,\n",
              "            0.98106,     0.98109,     0.98113,     0.98116,      0.9812,     0.98123,     0.98127,      0.9813,     0.98134,     0.98137,     0.98141,     0.98144,     0.98148,     0.98151,     0.98155,     0.98158,     0.98162,     0.98165,     0.98169,     0.98172,     0.98176,     0.98179,     0.98183,\n",
              "            0.98186,      0.9819,     0.98193,     0.98197,       0.982,     0.98204,     0.98207,     0.98211,     0.98214,     0.98218,     0.98221,     0.98224,     0.98228,     0.98231,     0.98235,     0.98238,     0.98242,     0.98245,     0.98249,     0.98252,     0.98256,     0.98259,     0.98263,\n",
              "            0.98266,      0.9827,     0.98273,     0.98277,      0.9828,     0.98284,     0.98287,     0.98291,     0.98294,     0.98298,     0.98301,     0.98305,     0.98308,     0.98312,     0.98315,     0.98319,     0.98322,     0.98326,     0.98329,     0.98333,     0.98336,      0.9834,     0.98343,\n",
              "            0.98347,      0.9835,     0.98354,     0.98357,     0.98361,     0.98364,     0.98368,     0.98371,     0.98375,     0.98378,     0.98382,     0.98385,     0.98389,     0.98392,     0.98396,     0.98399,     0.98403,     0.98406,      0.9841,     0.98413,     0.98417,      0.9842,     0.98424,\n",
              "            0.98427,     0.98431,     0.98434,     0.98438,     0.98441,     0.98445,     0.98448,     0.98452,     0.98455,     0.98459,     0.98462,     0.98466,     0.98469,     0.98473,     0.98476,      0.9848,     0.98483,     0.98487,      0.9849,     0.98494,     0.98497,     0.98501,     0.98504,\n",
              "            0.98508,     0.98511,     0.98515,     0.98518,     0.98521,     0.98525,     0.98528,     0.98532,     0.98535,     0.98539,     0.98542,     0.98546,     0.98549,     0.98553,     0.98556,      0.9856,     0.98563,     0.98567,      0.9857,     0.98574,     0.98577,     0.98581,     0.98584,\n",
              "            0.98588,     0.98591,     0.98595,     0.98598,     0.98602,     0.98605,     0.98609,     0.98612,     0.98616,     0.98619,     0.98623,     0.98626,      0.9863,     0.98633,     0.98637,      0.9864,     0.98644,     0.98647,     0.98651,     0.98654,     0.98658,     0.98661,     0.98665,\n",
              "            0.98668,     0.98672,     0.98675,     0.98679,     0.98682,     0.98686,     0.98689,     0.98693,     0.98696,       0.987,     0.98703,     0.98707,      0.9871,     0.98714,     0.98717,     0.98721,     0.98724,     0.98728,     0.98731,     0.98735,     0.98738,     0.98742,     0.98745,\n",
              "            0.98749,     0.98752,     0.98756,     0.98759,     0.98763,     0.98766,      0.9877,     0.98773,     0.98777,      0.9878,     0.98784,     0.98787,     0.98791,     0.98794,     0.98798,     0.98801,     0.98805,     0.98808,     0.98812,     0.98815,     0.98819,     0.98822,     0.98825,\n",
              "            0.98829,     0.98832,     0.98836,     0.98839,     0.98843,     0.98846,      0.9885,     0.98853,     0.98857,      0.9886,     0.98864,     0.98867,     0.98871,     0.98874,     0.98878,     0.98881,     0.98885,     0.98888,     0.98892,     0.98895,     0.98899,     0.98902,     0.98906,\n",
              "            0.98909,     0.98913,     0.98913,     0.98913,     0.98913,     0.98913,     0.98913,     0.98912,     0.98912,     0.98912,     0.98912,     0.98912,     0.98912,     0.98912,     0.98912,     0.98912,     0.98912,     0.98911,     0.98911,     0.98911,     0.98911,     0.98911,     0.98911,\n",
              "            0.98911,     0.98911,     0.98911,     0.98911,      0.9891,      0.9891,      0.9891,      0.9891,      0.9891,      0.9891,      0.9891,      0.9891,      0.9891,      0.9891,     0.98909,     0.98909,     0.98909,     0.98909,     0.98909,     0.98909,     0.98909,     0.98909,     0.98909,\n",
              "            0.98909,     0.98908,     0.98908,     0.98908,     0.98908,     0.98908,     0.98908,     0.98908,     0.98908,     0.98908,     0.98908,     0.98907,     0.98907,     0.98907,     0.98907,     0.98907,     0.98907,     0.98907,     0.98907,     0.98907,     0.98906,     0.98906,     0.98906,\n",
              "            0.98906,     0.98906,     0.98906,     0.98906,     0.98906,     0.98906,     0.98906,     0.98905,     0.98905,     0.98905,     0.98905,     0.98905,     0.98905,     0.98905,     0.98905,     0.98905,     0.98905,     0.98904,     0.98904,     0.98904,     0.98904,     0.98904,     0.98904,\n",
              "            0.98904,     0.98904,     0.98904,     0.98904,     0.98903,     0.98903,     0.98903,     0.98903,     0.98903,     0.98903,     0.98903,     0.98903,     0.98903,     0.98903,     0.98902,     0.98902,     0.98902,     0.98902,     0.98902,     0.98902,     0.98902,     0.98902,     0.98902,\n",
              "            0.98902,     0.98901,     0.98901,     0.98901,     0.98901,       0.989,     0.98899,     0.98897,     0.98896,     0.98894,     0.98893,     0.98891,      0.9889,     0.99062,     0.99346,     0.99631,     0.99916,           1,           1,           1,           1,           1,           1,\n",
              "                  1,           1,           1,           1,           1,           1,           1,           1,           1,           1,           1,           1,           1,           1,           1,           1,           1,           1,           1,           1,           1,           1,           1,\n",
              "                  1,           1,           1,           1,           1,           1,           1,           1,           1,           1,           1,           1,           1,           1,           1,           1,           1,           1,           1,           1,           1,           1,           1,\n",
              "                  1,           1,           1,           1,           1,           1,           1,           1,           1,           1,           1,           1,           1,           1,           1,           1,           1,           1,           1,           1,           1,           1,           1,\n",
              "                  1,           1,           1,           1,           1,           1,           1,           1,           1,           1,           1,           1,           1,           1,           1,           1,           1,           1,           1,           1,           1,           1,           1,\n",
              "                  1,           1,           1,           1,           1,           1,           1,           1,           1,           1,           1,           1,           1,           1,           1,           1,           1,           1,           1,           1,           1,           1,           1,\n",
              "                  1,           1,           1,           1,           1,           1,           1,           1,           1,           1,           1]]), 'Confidence', 'Precision'], [array([          0,    0.001001,    0.002002,    0.003003,    0.004004,    0.005005,    0.006006,    0.007007,    0.008008,    0.009009,     0.01001,    0.011011,    0.012012,    0.013013,    0.014014,    0.015015,    0.016016,    0.017017,    0.018018,    0.019019,     0.02002,    0.021021,    0.022022,    0.023023,\n",
              "          0.024024,    0.025025,    0.026026,    0.027027,    0.028028,    0.029029,     0.03003,    0.031031,    0.032032,    0.033033,    0.034034,    0.035035,    0.036036,    0.037037,    0.038038,    0.039039,     0.04004,    0.041041,    0.042042,    0.043043,    0.044044,    0.045045,    0.046046,    0.047047,\n",
              "          0.048048,    0.049049,     0.05005,    0.051051,    0.052052,    0.053053,    0.054054,    0.055055,    0.056056,    0.057057,    0.058058,    0.059059,     0.06006,    0.061061,    0.062062,    0.063063,    0.064064,    0.065065,    0.066066,    0.067067,    0.068068,    0.069069,     0.07007,    0.071071,\n",
              "          0.072072,    0.073073,    0.074074,    0.075075,    0.076076,    0.077077,    0.078078,    0.079079,     0.08008,    0.081081,    0.082082,    0.083083,    0.084084,    0.085085,    0.086086,    0.087087,    0.088088,    0.089089,     0.09009,    0.091091,    0.092092,    0.093093,    0.094094,    0.095095,\n",
              "          0.096096,    0.097097,    0.098098,    0.099099,      0.1001,      0.1011,      0.1021,      0.1031,      0.1041,     0.10511,     0.10611,     0.10711,     0.10811,     0.10911,     0.11011,     0.11111,     0.11211,     0.11311,     0.11411,     0.11512,     0.11612,     0.11712,     0.11812,     0.11912,\n",
              "           0.12012,     0.12112,     0.12212,     0.12312,     0.12412,     0.12513,     0.12613,     0.12713,     0.12813,     0.12913,     0.13013,     0.13113,     0.13213,     0.13313,     0.13413,     0.13514,     0.13614,     0.13714,     0.13814,     0.13914,     0.14014,     0.14114,     0.14214,     0.14314,\n",
              "           0.14414,     0.14515,     0.14615,     0.14715,     0.14815,     0.14915,     0.15015,     0.15115,     0.15215,     0.15315,     0.15415,     0.15516,     0.15616,     0.15716,     0.15816,     0.15916,     0.16016,     0.16116,     0.16216,     0.16316,     0.16416,     0.16517,     0.16617,     0.16717,\n",
              "           0.16817,     0.16917,     0.17017,     0.17117,     0.17217,     0.17317,     0.17417,     0.17518,     0.17618,     0.17718,     0.17818,     0.17918,     0.18018,     0.18118,     0.18218,     0.18318,     0.18418,     0.18519,     0.18619,     0.18719,     0.18819,     0.18919,     0.19019,     0.19119,\n",
              "           0.19219,     0.19319,     0.19419,      0.1952,      0.1962,      0.1972,      0.1982,      0.1992,      0.2002,      0.2012,      0.2022,      0.2032,      0.2042,     0.20521,     0.20621,     0.20721,     0.20821,     0.20921,     0.21021,     0.21121,     0.21221,     0.21321,     0.21421,     0.21522,\n",
              "           0.21622,     0.21722,     0.21822,     0.21922,     0.22022,     0.22122,     0.22222,     0.22322,     0.22422,     0.22523,     0.22623,     0.22723,     0.22823,     0.22923,     0.23023,     0.23123,     0.23223,     0.23323,     0.23423,     0.23524,     0.23624,     0.23724,     0.23824,     0.23924,\n",
              "           0.24024,     0.24124,     0.24224,     0.24324,     0.24424,     0.24525,     0.24625,     0.24725,     0.24825,     0.24925,     0.25025,     0.25125,     0.25225,     0.25325,     0.25425,     0.25526,     0.25626,     0.25726,     0.25826,     0.25926,     0.26026,     0.26126,     0.26226,     0.26326,\n",
              "           0.26426,     0.26527,     0.26627,     0.26727,     0.26827,     0.26927,     0.27027,     0.27127,     0.27227,     0.27327,     0.27427,     0.27528,     0.27628,     0.27728,     0.27828,     0.27928,     0.28028,     0.28128,     0.28228,     0.28328,     0.28428,     0.28529,     0.28629,     0.28729,\n",
              "           0.28829,     0.28929,     0.29029,     0.29129,     0.29229,     0.29329,     0.29429,      0.2953,      0.2963,      0.2973,      0.2983,      0.2993,      0.3003,      0.3013,      0.3023,      0.3033,      0.3043,     0.30531,     0.30631,     0.30731,     0.30831,     0.30931,     0.31031,     0.31131,\n",
              "           0.31231,     0.31331,     0.31431,     0.31532,     0.31632,     0.31732,     0.31832,     0.31932,     0.32032,     0.32132,     0.32232,     0.32332,     0.32432,     0.32533,     0.32633,     0.32733,     0.32833,     0.32933,     0.33033,     0.33133,     0.33233,     0.33333,     0.33433,     0.33534,\n",
              "           0.33634,     0.33734,     0.33834,     0.33934,     0.34034,     0.34134,     0.34234,     0.34334,     0.34434,     0.34535,     0.34635,     0.34735,     0.34835,     0.34935,     0.35035,     0.35135,     0.35235,     0.35335,     0.35435,     0.35536,     0.35636,     0.35736,     0.35836,     0.35936,\n",
              "           0.36036,     0.36136,     0.36236,     0.36336,     0.36436,     0.36537,     0.36637,     0.36737,     0.36837,     0.36937,     0.37037,     0.37137,     0.37237,     0.37337,     0.37437,     0.37538,     0.37638,     0.37738,     0.37838,     0.37938,     0.38038,     0.38138,     0.38238,     0.38338,\n",
              "           0.38438,     0.38539,     0.38639,     0.38739,     0.38839,     0.38939,     0.39039,     0.39139,     0.39239,     0.39339,     0.39439,      0.3954,      0.3964,      0.3974,      0.3984,      0.3994,      0.4004,      0.4014,      0.4024,      0.4034,      0.4044,     0.40541,     0.40641,     0.40741,\n",
              "           0.40841,     0.40941,     0.41041,     0.41141,     0.41241,     0.41341,     0.41441,     0.41542,     0.41642,     0.41742,     0.41842,     0.41942,     0.42042,     0.42142,     0.42242,     0.42342,     0.42442,     0.42543,     0.42643,     0.42743,     0.42843,     0.42943,     0.43043,     0.43143,\n",
              "           0.43243,     0.43343,     0.43443,     0.43544,     0.43644,     0.43744,     0.43844,     0.43944,     0.44044,     0.44144,     0.44244,     0.44344,     0.44444,     0.44545,     0.44645,     0.44745,     0.44845,     0.44945,     0.45045,     0.45145,     0.45245,     0.45345,     0.45445,     0.45546,\n",
              "           0.45646,     0.45746,     0.45846,     0.45946,     0.46046,     0.46146,     0.46246,     0.46346,     0.46446,     0.46547,     0.46647,     0.46747,     0.46847,     0.46947,     0.47047,     0.47147,     0.47247,     0.47347,     0.47447,     0.47548,     0.47648,     0.47748,     0.47848,     0.47948,\n",
              "           0.48048,     0.48148,     0.48248,     0.48348,     0.48448,     0.48549,     0.48649,     0.48749,     0.48849,     0.48949,     0.49049,     0.49149,     0.49249,     0.49349,     0.49449,      0.4955,      0.4965,      0.4975,      0.4985,      0.4995,      0.5005,      0.5015,      0.5025,      0.5035,\n",
              "            0.5045,     0.50551,     0.50651,     0.50751,     0.50851,     0.50951,     0.51051,     0.51151,     0.51251,     0.51351,     0.51451,     0.51552,     0.51652,     0.51752,     0.51852,     0.51952,     0.52052,     0.52152,     0.52252,     0.52352,     0.52452,     0.52553,     0.52653,     0.52753,\n",
              "           0.52853,     0.52953,     0.53053,     0.53153,     0.53253,     0.53353,     0.53453,     0.53554,     0.53654,     0.53754,     0.53854,     0.53954,     0.54054,     0.54154,     0.54254,     0.54354,     0.54454,     0.54555,     0.54655,     0.54755,     0.54855,     0.54955,     0.55055,     0.55155,\n",
              "           0.55255,     0.55355,     0.55455,     0.55556,     0.55656,     0.55756,     0.55856,     0.55956,     0.56056,     0.56156,     0.56256,     0.56356,     0.56456,     0.56557,     0.56657,     0.56757,     0.56857,     0.56957,     0.57057,     0.57157,     0.57257,     0.57357,     0.57457,     0.57558,\n",
              "           0.57658,     0.57758,     0.57858,     0.57958,     0.58058,     0.58158,     0.58258,     0.58358,     0.58458,     0.58559,     0.58659,     0.58759,     0.58859,     0.58959,     0.59059,     0.59159,     0.59259,     0.59359,     0.59459,      0.5956,      0.5966,      0.5976,      0.5986,      0.5996,\n",
              "            0.6006,      0.6016,      0.6026,      0.6036,      0.6046,     0.60561,     0.60661,     0.60761,     0.60861,     0.60961,     0.61061,     0.61161,     0.61261,     0.61361,     0.61461,     0.61562,     0.61662,     0.61762,     0.61862,     0.61962,     0.62062,     0.62162,     0.62262,     0.62362,\n",
              "           0.62462,     0.62563,     0.62663,     0.62763,     0.62863,     0.62963,     0.63063,     0.63163,     0.63263,     0.63363,     0.63463,     0.63564,     0.63664,     0.63764,     0.63864,     0.63964,     0.64064,     0.64164,     0.64264,     0.64364,     0.64464,     0.64565,     0.64665,     0.64765,\n",
              "           0.64865,     0.64965,     0.65065,     0.65165,     0.65265,     0.65365,     0.65465,     0.65566,     0.65666,     0.65766,     0.65866,     0.65966,     0.66066,     0.66166,     0.66266,     0.66366,     0.66466,     0.66567,     0.66667,     0.66767,     0.66867,     0.66967,     0.67067,     0.67167,\n",
              "           0.67267,     0.67367,     0.67467,     0.67568,     0.67668,     0.67768,     0.67868,     0.67968,     0.68068,     0.68168,     0.68268,     0.68368,     0.68468,     0.68569,     0.68669,     0.68769,     0.68869,     0.68969,     0.69069,     0.69169,     0.69269,     0.69369,     0.69469,      0.6957,\n",
              "            0.6967,      0.6977,      0.6987,      0.6997,      0.7007,      0.7017,      0.7027,      0.7037,      0.7047,     0.70571,     0.70671,     0.70771,     0.70871,     0.70971,     0.71071,     0.71171,     0.71271,     0.71371,     0.71471,     0.71572,     0.71672,     0.71772,     0.71872,     0.71972,\n",
              "           0.72072,     0.72172,     0.72272,     0.72372,     0.72472,     0.72573,     0.72673,     0.72773,     0.72873,     0.72973,     0.73073,     0.73173,     0.73273,     0.73373,     0.73473,     0.73574,     0.73674,     0.73774,     0.73874,     0.73974,     0.74074,     0.74174,     0.74274,     0.74374,\n",
              "           0.74474,     0.74575,     0.74675,     0.74775,     0.74875,     0.74975,     0.75075,     0.75175,     0.75275,     0.75375,     0.75475,     0.75576,     0.75676,     0.75776,     0.75876,     0.75976,     0.76076,     0.76176,     0.76276,     0.76376,     0.76476,     0.76577,     0.76677,     0.76777,\n",
              "           0.76877,     0.76977,     0.77077,     0.77177,     0.77277,     0.77377,     0.77477,     0.77578,     0.77678,     0.77778,     0.77878,     0.77978,     0.78078,     0.78178,     0.78278,     0.78378,     0.78478,     0.78579,     0.78679,     0.78779,     0.78879,     0.78979,     0.79079,     0.79179,\n",
              "           0.79279,     0.79379,     0.79479,      0.7958,      0.7968,      0.7978,      0.7988,      0.7998,      0.8008,      0.8018,      0.8028,      0.8038,      0.8048,     0.80581,     0.80681,     0.80781,     0.80881,     0.80981,     0.81081,     0.81181,     0.81281,     0.81381,     0.81481,     0.81582,\n",
              "           0.81682,     0.81782,     0.81882,     0.81982,     0.82082,     0.82182,     0.82282,     0.82382,     0.82482,     0.82583,     0.82683,     0.82783,     0.82883,     0.82983,     0.83083,     0.83183,     0.83283,     0.83383,     0.83483,     0.83584,     0.83684,     0.83784,     0.83884,     0.83984,\n",
              "           0.84084,     0.84184,     0.84284,     0.84384,     0.84484,     0.84585,     0.84685,     0.84785,     0.84885,     0.84985,     0.85085,     0.85185,     0.85285,     0.85385,     0.85485,     0.85586,     0.85686,     0.85786,     0.85886,     0.85986,     0.86086,     0.86186,     0.86286,     0.86386,\n",
              "           0.86486,     0.86587,     0.86687,     0.86787,     0.86887,     0.86987,     0.87087,     0.87187,     0.87287,     0.87387,     0.87487,     0.87588,     0.87688,     0.87788,     0.87888,     0.87988,     0.88088,     0.88188,     0.88288,     0.88388,     0.88488,     0.88589,     0.88689,     0.88789,\n",
              "           0.88889,     0.88989,     0.89089,     0.89189,     0.89289,     0.89389,     0.89489,      0.8959,      0.8969,      0.8979,      0.8989,      0.8999,      0.9009,      0.9019,      0.9029,      0.9039,      0.9049,     0.90591,     0.90691,     0.90791,     0.90891,     0.90991,     0.91091,     0.91191,\n",
              "           0.91291,     0.91391,     0.91491,     0.91592,     0.91692,     0.91792,     0.91892,     0.91992,     0.92092,     0.92192,     0.92292,     0.92392,     0.92492,     0.92593,     0.92693,     0.92793,     0.92893,     0.92993,     0.93093,     0.93193,     0.93293,     0.93393,     0.93493,     0.93594,\n",
              "           0.93694,     0.93794,     0.93894,     0.93994,     0.94094,     0.94194,     0.94294,     0.94394,     0.94494,     0.94595,     0.94695,     0.94795,     0.94895,     0.94995,     0.95095,     0.95195,     0.95295,     0.95395,     0.95495,     0.95596,     0.95696,     0.95796,     0.95896,     0.95996,\n",
              "           0.96096,     0.96196,     0.96296,     0.96396,     0.96496,     0.96597,     0.96697,     0.96797,     0.96897,     0.96997,     0.97097,     0.97197,     0.97297,     0.97397,     0.97497,     0.97598,     0.97698,     0.97798,     0.97898,     0.97998,     0.98098,     0.98198,     0.98298,     0.98398,\n",
              "           0.98498,     0.98599,     0.98699,     0.98799,     0.98899,     0.98999,     0.99099,     0.99199,     0.99299,     0.99399,     0.99499,       0.996,       0.997,       0.998,       0.999,           1]), array([[    0.97849,     0.97849,     0.97849,     0.97849,     0.97849,     0.97849,     0.97849,     0.97849,     0.97849,     0.97849,     0.97849,     0.97849,     0.97849,     0.97849,     0.97849,     0.97849,     0.97849,     0.97849,     0.97849,     0.97849,     0.97849,     0.97849,     0.97849,\n",
              "            0.97849,     0.97849,     0.97849,     0.97849,     0.97849,     0.97849,     0.97849,     0.97849,     0.97849,     0.97849,     0.97849,     0.97849,     0.97849,     0.97849,     0.97849,     0.97849,     0.97849,     0.97849,     0.97849,     0.97849,     0.97849,     0.97849,     0.97849,\n",
              "            0.97849,     0.97849,     0.97849,     0.97849,     0.97849,     0.97849,     0.97849,     0.97849,     0.97849,     0.97849,     0.97849,     0.97849,     0.97849,     0.97849,     0.97849,     0.97849,     0.97849,     0.97849,     0.97849,     0.97849,     0.97849,     0.97849,     0.97849,\n",
              "            0.97849,     0.97849,     0.97849,     0.97849,     0.97849,     0.97849,     0.97849,     0.97849,     0.97849,     0.97849,     0.97849,     0.97849,     0.97849,     0.97849,     0.97849,     0.97849,     0.97849,     0.97849,     0.97849,     0.97849,     0.97849,     0.97849,     0.97849,\n",
              "            0.97849,     0.97849,     0.97849,     0.97849,     0.97849,     0.97849,     0.97849,     0.97849,     0.97849,     0.97849,     0.97849,     0.97849,     0.97849,     0.97849,     0.97849,     0.97849,     0.97849,     0.97849,     0.97849,     0.97849,     0.97849,     0.97849,     0.97849,\n",
              "            0.97849,     0.97849,     0.97849,     0.97849,     0.97849,     0.97849,     0.97849,     0.97849,     0.97849,     0.97849,     0.97849,     0.97849,     0.97849,     0.97849,     0.97849,     0.97849,     0.97849,     0.97849,     0.97849,     0.97849,     0.97849,     0.97849,     0.97849,\n",
              "            0.97849,     0.97849,     0.97849,     0.97849,     0.97849,     0.97849,     0.97849,     0.97849,     0.97849,     0.97849,     0.97849,     0.97849,     0.97849,     0.97849,     0.97849,     0.97849,     0.97849,     0.97849,     0.97849,     0.97849,     0.97849,     0.97849,     0.97849,\n",
              "            0.97849,     0.97849,     0.97849,     0.97849,     0.97849,     0.97849,     0.97849,     0.97849,     0.97849,     0.97849,     0.97849,     0.97849,     0.97849,     0.97849,     0.97849,     0.97849,     0.97849,     0.97849,     0.97849,     0.97849,     0.97849,     0.97849,     0.97849,\n",
              "            0.97849,     0.97849,     0.97849,     0.97849,     0.97849,     0.97849,     0.97849,     0.97849,     0.97849,     0.97849,     0.97849,     0.97849,     0.97849,     0.97849,     0.97849,     0.97849,     0.97849,     0.97849,     0.97849,     0.97849,     0.97849,     0.97849,     0.97849,\n",
              "            0.97849,     0.97849,     0.97849,     0.97849,     0.97849,     0.97849,     0.97849,     0.97849,     0.97849,     0.97849,     0.97849,     0.97849,     0.97849,     0.97849,     0.97849,     0.97849,     0.97849,     0.97849,     0.97849,     0.97849,     0.97849,     0.97849,     0.97849,\n",
              "            0.97849,     0.97849,     0.97849,     0.97849,     0.97849,     0.97849,     0.97849,     0.97849,     0.97849,     0.97849,     0.97849,     0.97849,     0.97849,     0.97849,     0.97849,     0.97849,     0.97849,     0.97849,     0.97849,     0.97849,     0.97849,     0.97849,     0.97849,\n",
              "            0.97849,     0.97849,     0.97849,     0.97849,     0.97849,     0.97849,     0.97849,     0.97849,     0.97849,     0.97849,     0.97849,     0.97849,     0.97849,     0.97849,     0.97849,     0.97849,     0.97849,     0.97849,     0.97849,     0.97849,     0.97849,     0.97849,     0.97849,\n",
              "            0.97849,     0.97849,     0.97849,     0.97849,     0.97849,     0.97849,     0.97849,     0.97849,     0.97849,     0.97849,     0.97849,     0.97849,     0.97849,     0.97849,     0.97849,     0.97849,     0.97849,     0.97849,     0.97849,     0.97849,     0.97849,     0.97849,     0.97849,\n",
              "            0.97849,     0.97849,     0.97849,     0.97849,     0.97849,     0.97849,     0.97849,     0.97849,     0.97849,     0.97849,     0.97849,     0.97849,     0.97849,     0.97849,     0.97849,     0.97849,     0.97849,     0.97849,     0.97849,     0.97849,     0.97849,     0.97849,     0.97849,\n",
              "            0.97849,     0.97849,     0.97849,     0.97849,     0.97849,     0.97849,     0.97849,     0.97849,     0.97849,     0.97849,     0.97849,     0.97849,     0.97849,     0.97849,     0.97849,     0.97849,     0.97849,     0.97849,     0.97849,     0.97849,     0.97849,     0.97849,     0.97849,\n",
              "            0.97849,     0.97849,     0.97849,     0.97849,     0.97849,     0.97849,     0.97849,     0.97849,     0.97849,     0.97849,     0.97849,     0.97849,     0.97849,     0.97849,     0.97849,     0.97849,     0.97849,     0.97849,     0.97849,     0.97849,     0.97849,     0.97849,     0.97849,\n",
              "            0.97849,     0.97849,     0.97849,     0.97849,     0.97849,     0.97849,     0.97849,     0.97849,     0.97849,     0.97849,     0.97849,     0.97849,     0.97849,     0.97849,     0.97849,     0.97849,     0.97849,     0.97849,     0.97849,     0.97849,     0.97849,     0.97849,     0.97849,\n",
              "            0.97849,     0.97849,     0.97849,     0.97849,     0.97849,     0.97849,     0.97849,     0.97849,     0.97849,     0.97849,     0.97849,     0.97849,     0.97849,     0.97849,     0.97849,     0.97849,     0.97849,     0.97849,     0.97849,     0.97849,     0.97849,     0.97849,     0.97849,\n",
              "            0.97849,     0.97849,     0.97849,     0.97849,     0.97849,     0.97849,     0.97849,     0.97849,     0.97849,     0.97849,     0.97849,     0.97849,     0.97849,     0.97849,     0.97849,     0.97849,     0.97849,     0.97849,     0.97849,     0.97849,     0.97849,     0.97849,     0.97849,\n",
              "            0.97849,     0.97849,     0.97849,     0.97849,     0.97849,     0.97849,     0.97849,     0.97849,     0.97849,     0.97849,     0.97849,     0.97849,     0.97849,     0.97849,     0.97849,     0.97849,     0.97849,     0.97849,     0.97849,     0.97849,     0.97849,     0.97849,     0.97849,\n",
              "            0.97849,     0.97849,     0.97849,     0.97849,     0.97849,     0.97849,     0.97849,     0.97849,     0.97849,     0.97849,     0.97849,     0.97849,     0.97849,     0.97849,     0.97849,     0.97849,     0.97849,     0.97849,     0.97849,     0.97849,     0.97849,     0.97849,     0.97849,\n",
              "            0.97849,     0.97849,     0.97849,     0.97849,     0.97849,     0.97849,     0.97849,     0.97849,     0.97849,     0.97849,     0.97849,     0.97849,     0.97849,     0.97849,     0.97849,     0.97849,     0.97849,     0.97849,     0.97849,     0.97849,     0.97849,     0.97849,     0.97849,\n",
              "            0.97849,     0.97849,     0.97849,     0.97849,     0.97849,     0.97849,     0.97849,     0.97849,     0.97849,     0.97849,     0.97849,     0.97849,     0.97849,     0.97849,     0.97849,     0.97849,     0.97849,     0.97849,     0.97849,     0.97849,     0.97849,     0.97849,     0.97849,\n",
              "            0.97849,     0.97849,     0.97849,     0.97849,     0.97849,     0.97849,     0.97849,     0.97849,     0.97849,     0.97849,     0.97849,     0.97849,     0.97849,     0.97849,     0.97849,     0.97849,     0.97849,     0.97849,     0.97849,     0.97849,     0.97849,     0.97849,     0.97849,\n",
              "            0.97849,     0.97849,     0.97849,     0.97849,     0.97849,     0.97849,     0.97849,     0.97849,     0.97849,     0.97849,     0.97849,     0.97849,     0.97849,     0.97849,     0.97849,     0.97849,     0.97849,     0.97849,     0.97849,     0.97849,     0.97849,     0.97849,     0.97849,\n",
              "            0.97849,     0.97849,     0.97849,     0.97849,     0.97849,     0.97849,     0.97849,     0.97849,     0.97849,     0.97849,     0.97849,     0.97849,     0.97849,     0.97849,     0.97849,     0.97849,     0.97849,     0.97849,     0.97849,     0.97849,     0.97849,     0.97849,     0.97849,\n",
              "            0.97849,     0.97849,     0.97849,     0.97849,     0.97849,     0.97849,     0.97849,     0.97849,     0.97849,     0.97849,     0.97849,     0.97849,     0.97849,     0.97849,     0.97849,     0.97849,     0.97849,     0.97849,     0.97849,     0.97849,     0.97849,     0.97849,     0.97849,\n",
              "            0.97849,     0.97849,     0.97849,     0.97849,     0.97849,     0.97849,     0.97849,     0.97849,     0.97849,     0.97849,     0.97849,     0.97849,     0.97849,     0.97849,     0.97849,     0.97849,     0.97849,     0.97849,     0.97849,     0.97849,     0.97849,     0.97849,     0.97849,\n",
              "            0.97849,     0.97849,     0.97849,     0.97849,     0.97849,     0.97849,     0.97849,     0.97849,     0.97849,     0.97849,     0.97849,     0.97849,     0.97849,     0.97849,     0.97849,     0.97849,     0.97849,     0.97849,     0.97849,     0.97849,     0.97849,     0.97849,     0.97849,\n",
              "            0.97849,     0.97849,     0.97849,     0.97849,     0.97849,     0.97849,     0.97849,     0.97849,     0.97849,     0.97849,     0.97849,     0.97849,     0.97849,     0.97849,     0.97849,     0.97849,     0.97849,     0.97849,     0.97849,     0.97849,     0.97849,     0.97849,     0.97849,\n",
              "            0.97849,     0.97849,     0.97849,     0.97849,     0.97849,     0.97849,     0.97849,     0.97849,     0.97849,     0.97849,     0.97849,     0.97849,     0.97849,     0.97849,     0.97849,     0.97849,     0.97849,     0.97849,     0.97849,     0.97849,     0.97849,     0.97849,     0.97849,\n",
              "            0.97849,     0.97849,     0.97849,     0.97849,     0.97849,     0.97849,     0.97849,     0.97849,     0.97849,     0.97849,     0.97849,     0.97849,     0.97849,     0.97849,     0.97849,     0.97849,     0.97849,     0.97849,     0.97849,     0.97849,     0.97849,     0.97849,     0.97849,\n",
              "            0.97849,     0.97849,     0.97841,     0.97832,     0.97823,     0.97814,     0.97805,     0.97796,     0.97786,     0.97777,     0.97768,     0.97759,      0.9775,     0.97741,     0.97732,     0.97723,     0.97714,     0.97705,     0.97696,     0.97687,     0.97678,     0.97669,     0.97659,\n",
              "             0.9765,     0.97641,     0.97632,     0.97623,     0.97614,     0.97605,     0.97596,     0.97587,     0.97578,     0.97569,      0.9756,     0.97551,     0.97542,     0.97532,     0.97523,     0.97514,     0.97505,     0.97496,     0.97487,     0.97478,     0.97469,      0.9746,     0.97451,\n",
              "            0.97442,     0.97433,     0.97424,     0.97415,     0.97405,     0.97396,     0.97387,     0.97378,     0.97369,      0.9736,     0.97351,     0.97342,     0.97333,     0.97324,     0.97315,     0.97306,     0.97297,     0.97288,     0.97278,     0.97269,      0.9726,     0.97251,     0.97242,\n",
              "            0.97233,     0.97224,     0.97215,     0.97206,     0.97197,     0.97188,     0.97179,      0.9717,     0.97161,     0.97151,     0.97142,     0.97133,     0.97124,     0.97115,     0.97106,     0.97097,     0.97088,     0.97079,      0.9707,     0.97061,     0.97052,     0.97043,     0.97034,\n",
              "            0.97024,     0.97015,     0.97006,     0.96997,     0.96988,     0.96979,      0.9697,     0.96961,     0.96952,     0.96943,     0.96934,     0.96925,     0.96916,     0.96907,     0.96897,     0.96888,     0.96879,      0.9687,     0.96861,     0.96852,     0.96843,     0.96834,     0.96825,\n",
              "            0.96816,     0.96807,     0.96798,     0.96789,      0.9678,     0.96718,      0.9658,     0.96442,     0.96304,     0.96166,     0.96029,     0.95891,     0.95753,     0.95699,     0.95699,     0.95699,     0.95699,      0.9544,     0.95073,     0.94705,      0.9457,     0.94501,     0.94432,\n",
              "            0.94363,     0.94295,     0.94226,     0.94157,     0.94088,     0.94019,      0.9395,     0.93881,     0.93812,     0.93743,     0.93675,     0.93606,      0.9352,      0.9335,     0.93181,     0.93011,     0.92842,     0.92672,     0.92503,     0.92018,     0.91466,     0.90038,     0.89303,\n",
              "            0.88908,      0.8854,     0.88173,     0.86872,     0.86431,     0.85943,     0.84894,     0.84343,     0.83807,     0.83367,     0.82926,     0.81601,      0.8105,     0.80059,     0.78998,     0.77188,     0.76453,     0.75406,     0.74883,     0.74442,     0.73712,      0.7261,     0.71775,\n",
              "            0.71224,     0.68714,     0.65513,     0.64411,     0.63176,     0.60135,     0.59584,     0.58714,     0.57287,     0.55378,     0.52394,     0.50971,     0.50184,     0.49743,     0.47986,     0.44733,     0.38874,     0.35539,     0.33899,     0.31722,     0.25781,     0.22528,     0.21347,\n",
              "            0.20108,     0.19557,     0.18657,     0.16831,     0.15829,     0.15388,     0.14519,     0.10996,    0.091048,    0.057552,    0.030383,    0.024872,     0.01979,    0.015381,    0.010972,           0,           0,           0,           0,           0,           0,           0,           0,\n",
              "                  0,           0,           0,           0,           0,           0,           0,           0,           0,           0,           0,           0,           0,           0,           0,           0,           0,           0,           0,           0,           0,           0,           0,\n",
              "                  0,           0,           0,           0,           0,           0,           0,           0,           0,           0,           0]]), 'Confidence', 'Recall']]\n",
              "fitness: np.float64(0.8598859377442808)\n",
              "keys: ['metrics/precision(B)', 'metrics/recall(B)', 'metrics/mAP50(B)', 'metrics/mAP50-95(B)']\n",
              "maps: array([    0.84624])\n",
              "names: {0: 'LicensePlate'}\n",
              "plot: True\n",
              "results_dict: {'metrics/precision(B)': np.float64(0.9883248357637675), 'metrics/recall(B)': np.float64(0.978494623655914), 'metrics/mAP50(B)': np.float64(0.9827166711956521), 'metrics/mAP50-95(B)': np.float64(0.8462380784719061), 'fitness': np.float64(0.8598859377442808)}\n",
              "save_dir: PosixPath('runs/detect/train3')\n",
              "speed: {'preprocess': 0.26010573118319075, 'inference': 2.927078290315788, 'loss': 0.0005587634483182688, 'postprocess': 6.083072075266353}\n",
              "task: 'detect'"
            ]
          },
          "metadata": {},
          "execution_count": 10
        }
      ],
      "source": [
        "from ultralytics import YOLO\n",
        "\n",
        "# Load model\n",
        "model = YOLO(\"yolov8n.pt\")  # or path to your own .pt\n",
        "\n",
        "# Train the model\n",
        "model.train(\n",
        "    data=\"/content/License-Plate-Detector-2/data.yaml\",\n",
        "    epochs=100,\n",
        "    imgsz=640\n",
        ")\n"
      ]
    },
    {
      "cell_type": "code",
      "source": [
        "from ultralytics import YOLO\n",
        "\n",
        "# Load model (same as before)\n",
        "model = YOLO(\"yolov8n.pt\")  # This can also be a path to the last trained weights if you want more control\n",
        "\n",
        "# Resume training\n",
        "model.train(\n",
        "    data=\"/content/drive/Shareddrives/CV CEP/data.yaml\",\n",
        "    epochs=200,  # Total number of epochs (not from where to resume, but overall)\n",
        "    imgsz=640,\n",
        "    resume=True  # This resumes from the last checkpoint in the 'runs' folder\n",
        ")\n"
      ],
      "metadata": {
        "colab": {
          "base_uri": "https://localhost:8080/",
          "height": 1000
        },
        "id": "LLnBC8ehX3Br",
        "outputId": "de092c29-f2a9-4f6b-fb4d-79818354ae7c"
      },
      "execution_count": null,
      "outputs": [
        {
          "output_type": "stream",
          "name": "stdout",
          "text": [
            "Ultralytics 8.3.112 🚀 Python-3.11.12 torch-2.6.0+cu124 CUDA:0 (Tesla T4, 15095MiB)\n",
            "\u001b[34m\u001b[1mengine/trainer: \u001b[0mtask=detect, mode=train, model=yolov8n.pt, data=/content/drive/Shareddrives/CV CEP/data.yaml, epochs=500, time=None, patience=50, batch=16, imgsz=640, save=True, save_period=-1, cache=disk, device=0, workers=8, project=YOLOv8, name=yolov8n3, exist_ok=False, pretrained=False, optimizer=SGD, verbose=False, seed=0, deterministic=True, single_cls=False, rect=False, cos_lr=False, close_mosaic=10, resume=yolov8n.pt, amp=True, fraction=1.0, profile=False, freeze=None, multi_scale=False, overlap_mask=True, mask_ratio=4, dropout=False, val=True, split=val, save_json=False, conf=0.001, iou=0.7, max_det=300, half=True, dnn=False, plots=True, source=ultralytics/assets/, vid_stride=1, stream_buffer=False, visualize=False, augment=False, agnostic_nms=False, classes=None, retina_masks=False, embed=None, show=False, save_frames=False, save_txt=False, save_conf=False, save_crop=False, show_labels=True, show_conf=True, show_boxes=True, line_width=None, format=torchscript, keras=False, optimize=False, int8=False, dynamic=False, simplify=False, opset=17, workspace=4, nms=False, lr0=0.01, lrf=0.01, momentum=0.937, weight_decay=0.001, warmup_epochs=3.0, warmup_momentum=0.8, warmup_bias_lr=0.1, box=7.5, cls=0.5, dfl=1.5, pose=12.0, kobj=1.0, nbs=64, hsv_h=0.015, hsv_s=0.7, hsv_v=0.4, degrees=0.0, translate=0.1, scale=0.5, shear=0.0, perspective=0.0, flipud=0.0, fliplr=0.5, bgr=0.0, mosaic=1.0, mixup=0.0, copy_paste=0.0, copy_paste_mode=flip, auto_augment=randaugment, erasing=0.4, cfg=None, tracker=botsort.yaml, save_hybrid=False, label_smoothing=0.0, crop_fraction=1.0, save_dir=YOLOv8/yolov8n3\n",
            "Overriding model.yaml nc=80 with nc=1\n",
            "\n",
            "                   from  n    params  module                                       arguments                     \n",
            "  0                  -1  1       464  ultralytics.nn.modules.conv.Conv             [3, 16, 3, 2]                 \n",
            "  1                  -1  1      4672  ultralytics.nn.modules.conv.Conv             [16, 32, 3, 2]                \n",
            "  2                  -1  1      7360  ultralytics.nn.modules.block.C2f             [32, 32, 1, True]             \n",
            "  3                  -1  1     18560  ultralytics.nn.modules.conv.Conv             [32, 64, 3, 2]                \n",
            "  4                  -1  2     49664  ultralytics.nn.modules.block.C2f             [64, 64, 2, True]             \n",
            "  5                  -1  1     73984  ultralytics.nn.modules.conv.Conv             [64, 128, 3, 2]               \n",
            "  6                  -1  2    197632  ultralytics.nn.modules.block.C2f             [128, 128, 2, True]           \n",
            "  7                  -1  1    295424  ultralytics.nn.modules.conv.Conv             [128, 256, 3, 2]              \n",
            "  8                  -1  1    460288  ultralytics.nn.modules.block.C2f             [256, 256, 1, True]           \n",
            "  9                  -1  1    164608  ultralytics.nn.modules.block.SPPF            [256, 256, 5]                 \n",
            " 10                  -1  1         0  torch.nn.modules.upsampling.Upsample         [None, 2, 'nearest']          \n",
            " 11             [-1, 6]  1         0  ultralytics.nn.modules.conv.Concat           [1]                           \n",
            " 12                  -1  1    148224  ultralytics.nn.modules.block.C2f             [384, 128, 1]                 \n",
            " 13                  -1  1         0  torch.nn.modules.upsampling.Upsample         [None, 2, 'nearest']          \n",
            " 14             [-1, 4]  1         0  ultralytics.nn.modules.conv.Concat           [1]                           \n",
            " 15                  -1  1     37248  ultralytics.nn.modules.block.C2f             [192, 64, 1]                  \n",
            " 16                  -1  1     36992  ultralytics.nn.modules.conv.Conv             [64, 64, 3, 2]                \n",
            " 17            [-1, 12]  1         0  ultralytics.nn.modules.conv.Concat           [1]                           \n",
            " 18                  -1  1    123648  ultralytics.nn.modules.block.C2f             [192, 128, 1]                 \n",
            " 19                  -1  1    147712  ultralytics.nn.modules.conv.Conv             [128, 128, 3, 2]              \n",
            " 20             [-1, 9]  1         0  ultralytics.nn.modules.conv.Concat           [1]                           \n",
            " 21                  -1  1    493056  ultralytics.nn.modules.block.C2f             [384, 256, 1]                 \n",
            " 22        [15, 18, 21]  1    751507  ultralytics.nn.modules.head.Detect           [1, [64, 128, 256]]           \n",
            "Model summary: 129 layers, 3,011,043 parameters, 3,011,027 gradients, 8.2 GFLOPs\n",
            "\n",
            "Transferred 319/355 items from pretrained weights\n",
            "Freezing layer 'model.22.dfl.conv.weight'\n",
            "\u001b[34m\u001b[1mAMP: \u001b[0mrunning Automatic Mixed Precision (AMP) checks...\n",
            "\u001b[34m\u001b[1mAMP: \u001b[0mchecks passed ✅\n",
            "\u001b[34m\u001b[1mtrain: \u001b[0mFast image access ✅ (ping: 0.7±0.2 ms, read: 36.4±17.1 MB/s, size: 80.4 KB)\n"
          ]
        },
        {
          "output_type": "stream",
          "name": "stderr",
          "text": [
            "\u001b[34m\u001b[1mtrain: \u001b[0mScanning /content/drive/Shareddrives/CV CEP/train/labels.cache... 677 images, 0 backgrounds, 0 corrupt: 100%|██████████| 677/677 [00:00<?, ?it/s]\n",
            "\u001b[34m\u001b[1mtrain: \u001b[0mCaching images (0.8GB Disk): 100%|██████████| 677/677 [00:00<00:00, 2959.67it/s]"
          ]
        },
        {
          "output_type": "stream",
          "name": "stdout",
          "text": [
            "\u001b[34m\u001b[1malbumentations: \u001b[0mBlur(p=0.01, blur_limit=(3, 7)), MedianBlur(p=0.01, blur_limit=(3, 7)), ToGray(p=0.01, num_output_channels=3, method='weighted_average'), CLAHE(p=0.01, clip_limit=(1.0, 4.0), tile_grid_size=(8, 8))\n"
          ]
        },
        {
          "output_type": "stream",
          "name": "stderr",
          "text": [
            "\n"
          ]
        },
        {
          "output_type": "stream",
          "name": "stdout",
          "text": [
            "\u001b[34m\u001b[1mval: \u001b[0mFast image access ✅ (ping: 1.0±0.7 ms, read: 16.6±12.3 MB/s, size: 83.0 KB)\n"
          ]
        },
        {
          "output_type": "stream",
          "name": "stderr",
          "text": [
            "\u001b[34m\u001b[1mval: \u001b[0mScanning /content/drive/Shareddrives/CV CEP/valid/labels.cache... 93 images, 0 backgrounds, 0 corrupt: 100%|██████████| 93/93 [00:00<?, ?it/s]\n",
            "\u001b[34m\u001b[1mval: \u001b[0mCaching images (0.1GB Disk): 100%|██████████| 93/93 [00:00<00:00, 1193.54it/s]\n"
          ]
        },
        {
          "output_type": "stream",
          "name": "stdout",
          "text": [
            "WARNING ⚠️ 'label_smoothing' is deprecated and will be removed in in the future.\n",
            "WARNING ⚠️ 'save_hybrid' is deprecated and will be removed in in the future.\n",
            "WARNING ⚠️ 'crop_fraction' is deprecated and will be removed in in the future.\n",
            "Plotting labels to YOLOv8/yolov8n3/labels.jpg... \n",
            "WARNING ⚠️ \n",
            "\u001b[34m\u001b[1moptimizer:\u001b[0m SGD(lr=0.01, momentum=0.937) with parameter groups 57 weight(decay=0.0), 64 weight(decay=0.001), 63 bias(decay=0.0)\n"
          ]
        },
        {
          "output_type": "error",
          "ename": "AssertionError",
          "evalue": "yolov8n.pt training to 500 epochs is finished, nothing to resume.\nStart a new training without resuming, i.e. 'yolo train model=yolov8n.pt'",
          "traceback": [
            "\u001b[0;31m---------------------------------------------------------------------------\u001b[0m",
            "\u001b[0;31mAssertionError\u001b[0m                            Traceback (most recent call last)",
            "\u001b[0;32m<ipython-input-6-58f996d7368d>\u001b[0m in \u001b[0;36m<cell line: 0>\u001b[0;34m()\u001b[0m\n\u001b[1;32m      5\u001b[0m \u001b[0;34m\u001b[0m\u001b[0m\n\u001b[1;32m      6\u001b[0m \u001b[0;31m# Resume training\u001b[0m\u001b[0;34m\u001b[0m\u001b[0;34m\u001b[0m\u001b[0m\n\u001b[0;32m----> 7\u001b[0;31m model.train(\n\u001b[0m\u001b[1;32m      8\u001b[0m     \u001b[0mdata\u001b[0m\u001b[0;34m=\u001b[0m\u001b[0;34m\"/content/drive/Shareddrives/CV CEP/data.yaml\"\u001b[0m\u001b[0;34m,\u001b[0m\u001b[0;34m\u001b[0m\u001b[0;34m\u001b[0m\u001b[0m\n\u001b[1;32m      9\u001b[0m     \u001b[0mepochs\u001b[0m\u001b[0;34m=\u001b[0m\u001b[0;36m200\u001b[0m\u001b[0;34m,\u001b[0m  \u001b[0;31m# Total number of epochs (not from where to resume, but overall)\u001b[0m\u001b[0;34m\u001b[0m\u001b[0;34m\u001b[0m\u001b[0m\n",
            "\u001b[0;32m/usr/local/lib/python3.11/dist-packages/ultralytics/engine/model.py\u001b[0m in \u001b[0;36mtrain\u001b[0;34m(self, trainer, **kwargs)\u001b[0m\n\u001b[1;32m    788\u001b[0m \u001b[0;34m\u001b[0m\u001b[0m\n\u001b[1;32m    789\u001b[0m         \u001b[0mself\u001b[0m\u001b[0;34m.\u001b[0m\u001b[0mtrainer\u001b[0m\u001b[0;34m.\u001b[0m\u001b[0mhub_session\u001b[0m \u001b[0;34m=\u001b[0m \u001b[0mself\u001b[0m\u001b[0;34m.\u001b[0m\u001b[0msession\u001b[0m  \u001b[0;31m# attach optional HUB session\u001b[0m\u001b[0;34m\u001b[0m\u001b[0;34m\u001b[0m\u001b[0m\n\u001b[0;32m--> 790\u001b[0;31m         \u001b[0mself\u001b[0m\u001b[0;34m.\u001b[0m\u001b[0mtrainer\u001b[0m\u001b[0;34m.\u001b[0m\u001b[0mtrain\u001b[0m\u001b[0;34m(\u001b[0m\u001b[0;34m)\u001b[0m\u001b[0;34m\u001b[0m\u001b[0;34m\u001b[0m\u001b[0m\n\u001b[0m\u001b[1;32m    791\u001b[0m         \u001b[0;31m# Update model and cfg after training\u001b[0m\u001b[0;34m\u001b[0m\u001b[0;34m\u001b[0m\u001b[0m\n\u001b[1;32m    792\u001b[0m         \u001b[0;32mif\u001b[0m \u001b[0mRANK\u001b[0m \u001b[0;32min\u001b[0m \u001b[0;34m{\u001b[0m\u001b[0;34m-\u001b[0m\u001b[0;36m1\u001b[0m\u001b[0;34m,\u001b[0m \u001b[0;36m0\u001b[0m\u001b[0;34m}\u001b[0m\u001b[0;34m:\u001b[0m\u001b[0;34m\u001b[0m\u001b[0;34m\u001b[0m\u001b[0m\n",
            "\u001b[0;32m/usr/local/lib/python3.11/dist-packages/ultralytics/engine/trainer.py\u001b[0m in \u001b[0;36mtrain\u001b[0;34m(self)\u001b[0m\n\u001b[1;32m    208\u001b[0m \u001b[0;34m\u001b[0m\u001b[0m\n\u001b[1;32m    209\u001b[0m         \u001b[0;32melse\u001b[0m\u001b[0;34m:\u001b[0m\u001b[0;34m\u001b[0m\u001b[0;34m\u001b[0m\u001b[0m\n\u001b[0;32m--> 210\u001b[0;31m             \u001b[0mself\u001b[0m\u001b[0;34m.\u001b[0m\u001b[0m_do_train\u001b[0m\u001b[0;34m(\u001b[0m\u001b[0mworld_size\u001b[0m\u001b[0;34m)\u001b[0m\u001b[0;34m\u001b[0m\u001b[0;34m\u001b[0m\u001b[0m\n\u001b[0m\u001b[1;32m    211\u001b[0m \u001b[0;34m\u001b[0m\u001b[0m\n\u001b[1;32m    212\u001b[0m     \u001b[0;32mdef\u001b[0m \u001b[0m_setup_scheduler\u001b[0m\u001b[0;34m(\u001b[0m\u001b[0mself\u001b[0m\u001b[0;34m)\u001b[0m\u001b[0;34m:\u001b[0m\u001b[0;34m\u001b[0m\u001b[0;34m\u001b[0m\u001b[0m\n",
            "\u001b[0;32m/usr/local/lib/python3.11/dist-packages/ultralytics/engine/trainer.py\u001b[0m in \u001b[0;36m_do_train\u001b[0;34m(self, world_size)\u001b[0m\n\u001b[1;32m    324\u001b[0m         \u001b[0;32mif\u001b[0m \u001b[0mworld_size\u001b[0m \u001b[0;34m>\u001b[0m \u001b[0;36m1\u001b[0m\u001b[0;34m:\u001b[0m\u001b[0;34m\u001b[0m\u001b[0;34m\u001b[0m\u001b[0m\n\u001b[1;32m    325\u001b[0m             \u001b[0mself\u001b[0m\u001b[0;34m.\u001b[0m\u001b[0m_setup_ddp\u001b[0m\u001b[0;34m(\u001b[0m\u001b[0mworld_size\u001b[0m\u001b[0;34m)\u001b[0m\u001b[0;34m\u001b[0m\u001b[0;34m\u001b[0m\u001b[0m\n\u001b[0;32m--> 326\u001b[0;31m         \u001b[0mself\u001b[0m\u001b[0;34m.\u001b[0m\u001b[0m_setup_train\u001b[0m\u001b[0;34m(\u001b[0m\u001b[0mworld_size\u001b[0m\u001b[0;34m)\u001b[0m\u001b[0;34m\u001b[0m\u001b[0;34m\u001b[0m\u001b[0m\n\u001b[0m\u001b[1;32m    327\u001b[0m \u001b[0;34m\u001b[0m\u001b[0m\n\u001b[1;32m    328\u001b[0m         \u001b[0mnb\u001b[0m \u001b[0;34m=\u001b[0m \u001b[0mlen\u001b[0m\u001b[0;34m(\u001b[0m\u001b[0mself\u001b[0m\u001b[0;34m.\u001b[0m\u001b[0mtrain_loader\u001b[0m\u001b[0;34m)\u001b[0m  \u001b[0;31m# number of batches\u001b[0m\u001b[0;34m\u001b[0m\u001b[0;34m\u001b[0m\u001b[0m\n",
            "\u001b[0;32m/usr/local/lib/python3.11/dist-packages/ultralytics/engine/trainer.py\u001b[0m in \u001b[0;36m_setup_train\u001b[0;34m(self, world_size)\u001b[0m\n\u001b[1;32m    316\u001b[0m         \u001b[0mself\u001b[0m\u001b[0;34m.\u001b[0m\u001b[0m_setup_scheduler\u001b[0m\u001b[0;34m(\u001b[0m\u001b[0;34m)\u001b[0m\u001b[0;34m\u001b[0m\u001b[0;34m\u001b[0m\u001b[0m\n\u001b[1;32m    317\u001b[0m         \u001b[0mself\u001b[0m\u001b[0;34m.\u001b[0m\u001b[0mstopper\u001b[0m\u001b[0;34m,\u001b[0m \u001b[0mself\u001b[0m\u001b[0;34m.\u001b[0m\u001b[0mstop\u001b[0m \u001b[0;34m=\u001b[0m \u001b[0mEarlyStopping\u001b[0m\u001b[0;34m(\u001b[0m\u001b[0mpatience\u001b[0m\u001b[0;34m=\u001b[0m\u001b[0mself\u001b[0m\u001b[0;34m.\u001b[0m\u001b[0margs\u001b[0m\u001b[0;34m.\u001b[0m\u001b[0mpatience\u001b[0m\u001b[0;34m)\u001b[0m\u001b[0;34m,\u001b[0m \u001b[0;32mFalse\u001b[0m\u001b[0;34m\u001b[0m\u001b[0;34m\u001b[0m\u001b[0m\n\u001b[0;32m--> 318\u001b[0;31m         \u001b[0mself\u001b[0m\u001b[0;34m.\u001b[0m\u001b[0mresume_training\u001b[0m\u001b[0;34m(\u001b[0m\u001b[0mckpt\u001b[0m\u001b[0;34m)\u001b[0m\u001b[0;34m\u001b[0m\u001b[0;34m\u001b[0m\u001b[0m\n\u001b[0m\u001b[1;32m    319\u001b[0m         \u001b[0mself\u001b[0m\u001b[0;34m.\u001b[0m\u001b[0mscheduler\u001b[0m\u001b[0;34m.\u001b[0m\u001b[0mlast_epoch\u001b[0m \u001b[0;34m=\u001b[0m \u001b[0mself\u001b[0m\u001b[0;34m.\u001b[0m\u001b[0mstart_epoch\u001b[0m \u001b[0;34m-\u001b[0m \u001b[0;36m1\u001b[0m  \u001b[0;31m# do not move\u001b[0m\u001b[0;34m\u001b[0m\u001b[0;34m\u001b[0m\u001b[0m\n\u001b[1;32m    320\u001b[0m         \u001b[0mself\u001b[0m\u001b[0;34m.\u001b[0m\u001b[0mrun_callbacks\u001b[0m\u001b[0;34m(\u001b[0m\u001b[0;34m\"on_pretrain_routine_end\"\u001b[0m\u001b[0;34m)\u001b[0m\u001b[0;34m\u001b[0m\u001b[0;34m\u001b[0m\u001b[0m\n",
            "\u001b[0;32m/usr/local/lib/python3.11/dist-packages/ultralytics/engine/trainer.py\u001b[0m in \u001b[0;36mresume_training\u001b[0;34m(self, ckpt)\u001b[0m\n\u001b[1;32m    762\u001b[0m             \u001b[0mself\u001b[0m\u001b[0;34m.\u001b[0m\u001b[0mema\u001b[0m\u001b[0;34m.\u001b[0m\u001b[0mema\u001b[0m\u001b[0;34m.\u001b[0m\u001b[0mload_state_dict\u001b[0m\u001b[0;34m(\u001b[0m\u001b[0mckpt\u001b[0m\u001b[0;34m[\u001b[0m\u001b[0;34m\"ema\"\u001b[0m\u001b[0;34m]\u001b[0m\u001b[0;34m.\u001b[0m\u001b[0mfloat\u001b[0m\u001b[0;34m(\u001b[0m\u001b[0;34m)\u001b[0m\u001b[0;34m.\u001b[0m\u001b[0mstate_dict\u001b[0m\u001b[0;34m(\u001b[0m\u001b[0;34m)\u001b[0m\u001b[0;34m)\u001b[0m  \u001b[0;31m# EMA\u001b[0m\u001b[0;34m\u001b[0m\u001b[0;34m\u001b[0m\u001b[0m\n\u001b[1;32m    763\u001b[0m             \u001b[0mself\u001b[0m\u001b[0;34m.\u001b[0m\u001b[0mema\u001b[0m\u001b[0;34m.\u001b[0m\u001b[0mupdates\u001b[0m \u001b[0;34m=\u001b[0m \u001b[0mckpt\u001b[0m\u001b[0;34m[\u001b[0m\u001b[0;34m\"updates\"\u001b[0m\u001b[0;34m]\u001b[0m\u001b[0;34m\u001b[0m\u001b[0;34m\u001b[0m\u001b[0m\n\u001b[0;32m--> 764\u001b[0;31m         assert start_epoch > 0, (\n\u001b[0m\u001b[1;32m    765\u001b[0m             \u001b[0;34mf\"{self.args.model} training to {self.epochs} epochs is finished, nothing to resume.\\n\"\u001b[0m\u001b[0;34m\u001b[0m\u001b[0;34m\u001b[0m\u001b[0m\n\u001b[1;32m    766\u001b[0m             \u001b[0;34mf\"Start a new training without resuming, i.e. 'yolo train model={self.args.model}'\"\u001b[0m\u001b[0;34m\u001b[0m\u001b[0;34m\u001b[0m\u001b[0m\n",
            "\u001b[0;31mAssertionError\u001b[0m: yolov8n.pt training to 500 epochs is finished, nothing to resume.\nStart a new training without resuming, i.e. 'yolo train model=yolov8n.pt'"
          ]
        }
      ]
    },
    {
      "cell_type": "code",
      "source": [
        "import os\n",
        "from google.colab import drive\n",
        "\n",
        "# Mount Google Drive\n",
        "drive.mount('/content/drive')"
      ],
      "metadata": {
        "colab": {
          "base_uri": "https://localhost:8080/"
        },
        "id": "kedCVk3vsvH_",
        "outputId": "e1f26477-2c2f-45ab-f347-add560bdc7fc"
      },
      "execution_count": 4,
      "outputs": [
        {
          "output_type": "stream",
          "name": "stdout",
          "text": [
            "Drive already mounted at /content/drive; to attempt to forcibly remount, call drive.mount(\"/content/drive\", force_remount=True).\n"
          ]
        }
      ]
    },
    {
      "cell_type": "code",
      "source": [
        "# Create directory inside Google Drive if it doesn't exist\n",
        "!mkdir -p content/drive/MyDrive/YOLOAZ\n"
      ],
      "metadata": {
        "id": "JsnGD4E2jnAL"
      },
      "execution_count": null,
      "outputs": []
    },
    {
      "cell_type": "code",
      "source": [
        "# Copy training folder to Drive\n",
        "!cp -r /content/runs/detect/train3  content/drive/MyDrive/YOLOAZ"
      ],
      "metadata": {
        "id": "WuUcvILRjnqp"
      },
      "execution_count": null,
      "outputs": []
    },
    {
      "cell_type": "code",
      "source": [
        "%cd /content/drive/MyDrive/YOLOAZ"
      ],
      "metadata": {
        "colab": {
          "base_uri": "https://localhost:8080/"
        },
        "id": "nDl_Jn4uumv1",
        "outputId": "038634eb-c15b-4256-9b9a-0d0796fcac84"
      },
      "execution_count": 8,
      "outputs": [
        {
          "output_type": "stream",
          "name": "stdout",
          "text": [
            "/content/drive/MyDrive/YOLOAZ\n"
          ]
        }
      ]
    },
    {
      "cell_type": "code",
      "source": [
        "!zip -r train3.zip /content/runs/detect/train3"
      ],
      "metadata": {
        "colab": {
          "base_uri": "https://localhost:8080/"
        },
        "id": "EA-sC2cBuyfo",
        "outputId": "a16cdad3-e839-4f55-fc45-274db5bac5dc"
      },
      "execution_count": null,
      "outputs": [
        {
          "output_type": "stream",
          "name": "stdout",
          "text": [
            "  adding: content/runs/detect/train3/ (stored 0%)\n",
            "  adding: content/runs/detect/train3/P_curve.png (deflated 24%)\n",
            "  adding: content/runs/detect/train3/confusion_matrix_normalized.png (deflated 36%)\n",
            "  adding: content/runs/detect/train3/labels.jpg (deflated 37%)\n",
            "  adding: content/runs/detect/train3/confusion_matrix.png (deflated 39%)\n",
            "  adding: content/runs/detect/train3/args.yaml (deflated 52%)\n",
            "  adding: content/runs/detect/train3/results.png (deflated 8%)\n",
            "  adding: content/runs/detect/train3/R_curve.png (deflated 18%)\n",
            "  adding: content/runs/detect/train3/weights/ (stored 0%)\n",
            "  adding: content/runs/detect/train3/weights/last.pt (deflated 10%)\n",
            "  adding: content/runs/detect/train3/weights/best.pt (deflated 10%)\n",
            "  adding: content/runs/detect/train3/results.csv (deflated 63%)\n",
            "  adding: content/runs/detect/train3/untitled (stored 0%)\n",
            "  adding: content/runs/detect/train3/train_batch3870.jpg (deflated 5%)\n",
            "  adding: content/runs/detect/train3/val_batch2_pred.jpg (deflated 5%)\n",
            "  adding: content/runs/detect/train3/train_batch3871.jpg (deflated 4%)\n",
            "  adding: content/runs/detect/train3/labels_correlogram.jpg (deflated 40%)\n",
            "  adding: content/runs/detect/train3/F1_curve.png (deflated 18%)\n",
            "  adding: content/runs/detect/train3/val_batch1_labels.jpg (deflated 4%)\n",
            "  adding: content/runs/detect/train3/train_batch1.jpg (deflated 1%)\n",
            "  adding: content/runs/detect/train3/val_batch1_pred.jpg (deflated 4%)\n",
            "  adding: content/runs/detect/train3/train_batch0.jpg (deflated 1%)\n",
            "  adding: content/runs/detect/train3/val_batch0_labels.jpg (deflated 5%)\n",
            "  adding: content/runs/detect/train3/train_batch2.jpg (deflated 1%)\n",
            "  adding: content/runs/detect/train3/PR_curve.png (deflated 28%)\n",
            "  adding: content/runs/detect/train3/val_batch2_labels.jpg (deflated 5%)\n",
            "  adding: content/runs/detect/train3/val_batch0_pred.jpg (deflated 5%)\n",
            "  adding: content/runs/detect/train3/train_batch3872.jpg (deflated 3%)\n"
          ]
        }
      ]
    },
    {
      "cell_type": "code",
      "source": [
        "from google.colab import files\n",
        "files.download('train3.zip')\n"
      ],
      "metadata": {
        "colab": {
          "base_uri": "https://localhost:8080/",
          "height": 17
        },
        "id": "RyVF6FSpv3gG",
        "outputId": "005c7352-5fea-4e41-8771-74834c9e5748"
      },
      "execution_count": null,
      "outputs": [
        {
          "output_type": "display_data",
          "data": {
            "text/plain": [
              "<IPython.core.display.Javascript object>"
            ],
            "application/javascript": [
              "\n",
              "    async function download(id, filename, size) {\n",
              "      if (!google.colab.kernel.accessAllowed) {\n",
              "        return;\n",
              "      }\n",
              "      const div = document.createElement('div');\n",
              "      const label = document.createElement('label');\n",
              "      label.textContent = `Downloading \"${filename}\": `;\n",
              "      div.appendChild(label);\n",
              "      const progress = document.createElement('progress');\n",
              "      progress.max = size;\n",
              "      div.appendChild(progress);\n",
              "      document.body.appendChild(div);\n",
              "\n",
              "      const buffers = [];\n",
              "      let downloaded = 0;\n",
              "\n",
              "      const channel = await google.colab.kernel.comms.open(id);\n",
              "      // Send a message to notify the kernel that we're ready.\n",
              "      channel.send({})\n",
              "\n",
              "      for await (const message of channel.messages) {\n",
              "        // Send a message to notify the kernel that we're ready.\n",
              "        channel.send({})\n",
              "        if (message.buffers) {\n",
              "          for (const buffer of message.buffers) {\n",
              "            buffers.push(buffer);\n",
              "            downloaded += buffer.byteLength;\n",
              "            progress.value = downloaded;\n",
              "          }\n",
              "        }\n",
              "      }\n",
              "      const blob = new Blob(buffers, {type: 'application/binary'});\n",
              "      const a = document.createElement('a');\n",
              "      a.href = window.URL.createObjectURL(blob);\n",
              "      a.download = filename;\n",
              "      div.appendChild(a);\n",
              "      a.click();\n",
              "      div.remove();\n",
              "    }\n",
              "  "
            ]
          },
          "metadata": {}
        },
        {
          "output_type": "display_data",
          "data": {
            "text/plain": [
              "<IPython.core.display.Javascript object>"
            ],
            "application/javascript": [
              "download(\"download_40e5d47e-f75b-4c4e-b272-db58335455ec\", \"train3.zip\", 21389483)"
            ]
          },
          "metadata": {}
        }
      ]
    },
    {
      "cell_type": "code",
      "source": [
        "from ultralytics import YOLO\n",
        "\n",
        "# Load your trained model (this will be the best.pt saved after training)\n",
        "model = YOLO(\"/content/drive/MyDrive/YOLOAZ/runs/detect (1)/train3/weights/best.pt\")  # adjust path if needed\n",
        "\n",
        "# Validate the model\n",
        "metrics = model.val(\n",
        "    data=\"/content/License-Plate-Detector-2/data.yaml\",\n",
        "    imgsz=640\n",
        ")\n"
      ],
      "metadata": {
        "id": "AyejKdoQxpDP",
        "outputId": "2597f25c-6e0a-4437-fcf2-0aa912f9e8a1",
        "colab": {
          "base_uri": "https://localhost:8080/"
        }
      },
      "execution_count": 10,
      "outputs": [
        {
          "output_type": "stream",
          "name": "stdout",
          "text": [
            "Ultralytics 8.3.112 🚀 Python-3.11.12 torch-2.6.0+cu124 CUDA:0 (Tesla T4, 15095MiB)\n",
            "Model summary (fused): 72 layers, 3,005,843 parameters, 0 gradients, 8.1 GFLOPs\n",
            "Downloading https://ultralytics.com/assets/Arial.ttf to '/root/.config/Ultralytics/Arial.ttf'...\n"
          ]
        },
        {
          "output_type": "stream",
          "name": "stderr",
          "text": [
            "100%|██████████| 755k/755k [00:00<00:00, 97.9MB/s]"
          ]
        },
        {
          "output_type": "stream",
          "name": "stdout",
          "text": [
            "\u001b[34m\u001b[1mval: \u001b[0mFast image access ✅ (ping: 0.0±0.0 ms, read: 27.9±10.5 MB/s, size: 83.5 KB)\n"
          ]
        },
        {
          "output_type": "stream",
          "name": "stderr",
          "text": [
            "\n",
            "\u001b[34m\u001b[1mval: \u001b[0mScanning /content/License-Plate-Detector-2/valid/labels... 93 images, 0 backgrounds, 0 corrupt: 100%|██████████| 93/93 [00:00<00:00, 412.05it/s]"
          ]
        },
        {
          "output_type": "stream",
          "name": "stdout",
          "text": [
            "\u001b[34m\u001b[1mval: \u001b[0mNew cache created: /content/License-Plate-Detector-2/valid/labels.cache\n"
          ]
        },
        {
          "output_type": "stream",
          "name": "stderr",
          "text": [
            "\n",
            "                 Class     Images  Instances      Box(P          R      mAP50  mAP50-95): 100%|██████████| 6/6 [00:03<00:00,  1.57it/s]\n"
          ]
        },
        {
          "output_type": "stream",
          "name": "stdout",
          "text": [
            "                   all         93         93      0.988      0.978      0.983      0.847\n",
            "Speed: 4.2ms preprocess, 8.3ms inference, 0.1ms loss, 6.7ms postprocess per image\n",
            "Results saved to \u001b[1mruns/detect/val\u001b[0m\n"
          ]
        }
      ]
    },
    {
      "cell_type": "code",
      "source": [
        "model.predict(source=\"/content/drive/Shareddrives/CV CEP/test/images\", save=True, imgsz=640)\n"
      ],
      "metadata": {
        "colab": {
          "base_uri": "https://localhost:8080/"
        },
        "id": "4e3CWC-1JwI1",
        "outputId": "60549ccf-fe3d-417a-e8d9-8bb02e54f785"
      },
      "execution_count": 11,
      "outputs": [
        {
          "output_type": "stream",
          "name": "stdout",
          "text": [
            "\n",
            "image 1/48 /content/drive/Shareddrives/CV CEP/test/images/07e787a7-6cc3-482c-9ce5-f0ce115b47f1___new_VW-Polo-GT-TSI-badges-on-the-boot-lid-jpg_jpeg.rf.1ca0dfd28a9603f3d736e31e3b622b64.jpg: 640x640 1 LicensePlate, 7.5ms\n",
            "image 2/48 /content/drive/Shareddrives/CV CEP/test/images/0a720df9-e4ef-4e44-8c13-b39b9be8444d___3e7fd381-0ae5-4421-8a70-279ee0ec1c61_Nissan-Terrano-6_jpg.rf.45c39e9821fb0daf1dfca8efa6e7163d.jpg: 640x640 1 LicensePlate, 13.3ms\n",
            "image 3/48 /content/drive/Shareddrives/CV CEP/test/images/1438b735-2d21-4879-8ed4-e5fa086e70c8___Maruti-Suzuki-Swift-Dzire-1-jpg_jpeg.rf.642feedb9aaad1601e8d85266e4e7212.jpg: 640x640 1 LicensePlate, 10.1ms\n",
            "image 4/48 /content/drive/Shareddrives/CV CEP/test/images/18d2b870-7817-46da-a59a-6406c1b472c9___1033_png.rf.f7b3a2b037d45f0be7f1c38c95a4ce59.jpg: 640x640 1 LicensePlate, 7.4ms\n",
            "image 5/48 /content/drive/Shareddrives/CV CEP/test/images/1e7151e6-8626-4fb2-b7e8-0fb6a8fde713___3e7fd381-0ae5-4421-8a70-279ee0ec1c61_a19be5870f8f2593c994c465a691477e_555X416_1_jpg.rf.fbc34a4f503888d7cc95eeee4ac1acdf.jpg: 640x640 1 LicensePlate, 8.9ms\n",
            "image 6/48 /content/drive/Shareddrives/CV CEP/test/images/1f0a7fe8-ac9b-4b54-9d55-e11f34f9f98b___9f6521b2ddb7b8e40ffd510966ffcca3-jpg_jpeg.rf.af53d561708c304818d6b5a45febed22.jpg: 640x640 1 LicensePlate, 7.4ms\n",
            "image 7/48 /content/drive/Shareddrives/CV CEP/test/images/21cc678a-b9c5-4bbb-ace0-9e096e799632___unnamed-300x225-jpg-Copy_jpeg.rf.ff0915dfb002a6be5727f05ff731e656.jpg: 640x640 (no detections), 7.4ms\n",
            "image 8/48 /content/drive/Shareddrives/CV CEP/test/images/2424211e-e6ba-4478-8ed1-6a04e25499c7___main-qimg-7673aeac86d0ef987deb837552c5dd4c-1_png.rf.27e9751d7dceb0ea20206b1ad2aac654.jpg: 640x640 1 LicensePlate, 7.5ms\n",
            "image 9/48 /content/drive/Shareddrives/CV CEP/test/images/26cfb3dd-3731-4fd0-a6c2-c44e3ce7498a___used_cars_in_keralaused_bikes_in_keralaautomotive_news7-jpg_jpeg.rf.36e7e751395205adcb09bc5c039ddd6a.jpg: 640x640 1 LicensePlate, 7.4ms\n",
            "image 10/48 /content/drive/Shareddrives/CV CEP/test/images/347c849b-6cfa-4edb-af1f-b29bdad25c4d___new_New-Volkswagen-Polo-jpg_jpeg.rf.4db8413b73a3e163a76c80e95c7449f6.jpg: 640x640 1 LicensePlate, 7.5ms\n",
            "image 11/48 /content/drive/Shareddrives/CV CEP/test/images/5c85a40f-ce81-44b4-82b2-dfdac281217d___new_Skoda-Octavia-1-8-TSI-5-jpg_jpeg.rf.171a418ec9fb581bb965da859c7ebf8d.jpg: 640x640 1 LicensePlate, 7.5ms\n",
            "image 12/48 /content/drive/Shareddrives/CV CEP/test/images/7073bd18-c0bf-47da-9e43-8c9d27831f11___new_Skoda-Laura-rear-jpg_jpeg.rf.2301257cf195341bf2b2cdf1f21780b9.jpg: 640x640 1 LicensePlate, 12.1ms\n",
            "image 13/48 /content/drive/Shareddrives/CV CEP/test/images/7506a48d-2c70-4b12-b300-463754bc7837___165979d1427773878-new-volkswagen-vento-2016-launched-india-vw-vento-facelift-rear-india-spotted-test-jpg_jpeg.rf.33905ef075a837e596576f1e243b47bf.jpg: 640x640 1 LicensePlate, 7.4ms\n",
            "image 14/48 /content/drive/Shareddrives/CV CEP/test/images/7c6227ed-9e92-4062-9591-b172cb32ec10___3e7fd381-0ae5-4421-8a70-279ee0ec1c61_Honda-Jazz-Front-Number-Plates-Designs_jpg.rf.19259813e6f81eb8eb15730257881be3.jpg: 640x640 1 LicensePlate, 7.5ms\n",
            "image 15/48 /content/drive/Shareddrives/CV CEP/test/images/7f7e27cc-930a-46cb-b3af-6e43da8b566d___3e7fd381-0ae5-4421-8a70-279ee0ec1c61_Nissan-Terrano-Petrol-Review-Images-Black-Front-Grille-720x480_jpg.rf.0170c5d7a6923b6fc9c692adc16cfdf5.jpg: 640x640 1 LicensePlate, 7.4ms\n",
            "image 16/48 /content/drive/Shareddrives/CV CEP/test/images/85d7e25d-5aa1-4e5f-9c4e-4e671f14ddbe___77cca4b6f3864b3928824a030ba101d2-jpg_jpeg.rf.5a94cec6e00fab050ed3511d235d8473.jpg: 640x640 1 LicensePlate, 8.8ms\n",
            "image 17/48 /content/drive/Shareddrives/CV CEP/test/images/8906af57-0d29-417d-ac46-408425527b57___VW-Vento-TDI-CNG-Spy-Pic-2-jpg_jpeg.rf.414ed57a7e772a26e7a947d9b01b5234.jpg: 640x640 1 LicensePlate, 7.4ms\n",
            "image 18/48 /content/drive/Shareddrives/CV CEP/test/images/8edca6de-d964-4027-823d-f70d3f872412___12042943_1003224833031653_9073848483429898813_n-jpg_jpeg.rf.5f0902a4eb243cd792c43f95bda8c38b.jpg: 640x640 1 LicensePlate, 8.6ms\n",
            "image 19/48 /content/drive/Shareddrives/CV CEP/test/images/a34aeb21-ffe8-4357-80d3-8f212c62c816___new_main_cropped-jpg_jpeg.rf.828e228f88136d64c8b65c16d3ce9ee0.jpg: 640x640 1 LicensePlate, 7.8ms\n",
            "image 20/48 /content/drive/Shareddrives/CV CEP/test/images/a615016b-4d07-46c7-a52b-8d4319fe3a10___3e7fd381-0ae5-4421-8a70-279ee0ec1c61_nissan-terrano-rear-view_jpg.rf.ff543fec9e3593393ff7057a86f025d1.jpg: 640x640 1 LicensePlate, 7.6ms\n",
            "image 21/48 /content/drive/Shareddrives/CV CEP/test/images/ae0bb069-0e7e-412a-9473-e8e0d4041cbc___135718d1400912281-skoda-rapid-1-6tdi-cr-mt-elegance-ultima-candy-white-white-monster-_mg_3000comp-jpg_jpeg.rf.48c0b5ecc4f3ab2f93bdc9ae95db4411.jpg: 640x640 1 LicensePlate, 7.4ms\n",
            "image 22/48 /content/drive/Shareddrives/CV CEP/test/images/af058398-67d6-4d0e-a6d9-afc1cb184e5b___3e7fd381-0ae5-4421-8a70-279ee0ec1c61_hqdefault3_jpg.rf.807588f4bc1f18b137ee9c5d2e169eae.jpg: 640x640 1 LicensePlate, 7.5ms\n",
            "image 23/48 /content/drive/Shareddrives/CV CEP/test/images/b266759c-f9e9-47c1-9042-4c7aef7d441d___1711769d1514801394t-toyota-innova-crysta-2-4-gx-ownership-review-edit-10-000-km-service-done-vs-jpg_jpeg.rf.b919c50f7f8ad8a9c87be29e465060e1.jpg: 640x640 1 LicensePlate, 7.9ms\n",
            "image 24/48 /content/drive/Shareddrives/CV CEP/test/images/b79f870d-15c7-48e3-8874-7c0e53e29f75___3e7fd381-0ae5-4421-8a70-279ee0ec1c61_754eab882b8290b29a0454dd45580a39_555X416_1-Copy-2-_jpg.rf.f4c6a410ba9825cd3550ebd7c6b97d36.jpg: 640x640 1 LicensePlate, 8.8ms\n",
            "image 25/48 /content/drive/Shareddrives/CV CEP/test/images/b79f870d-15c7-48e3-8874-7c0e53e29f75___3e7fd381-0ae5-4421-8a70-279ee0ec1c61_754eab882b8290b29a0454dd45580a39_555X416_1_jpg.rf.3ad6e7b81f95f91609908cdf7d44e7b7.jpg: 640x640 1 LicensePlate, 7.5ms\n",
            "image 26/48 /content/drive/Shareddrives/CV CEP/test/images/bbf22d00-3dd6-4338-b701-264e0c0c0aff___Maruti-Swift-DZire-Photos-1-jpg_jpeg.rf.471571ffc14efb29ba6836b9a79f3338.jpg: 640x640 1 LicensePlate, 13.3ms\n",
            "image 27/48 /content/drive/Shareddrives/CV CEP/test/images/bd742e42-bacc-430e-b9aa-9df666f5d9b3___kicker-647_010517112446-jpg_jpeg.rf.72992f680e38e8242647041b1b03f4eb.jpg: 640x640 1 LicensePlate, 7.4ms\n",
            "image 28/48 /content/drive/Shareddrives/CV CEP/test/images/c8a79e91-8c48-42d0-9b80-137fd033493c___automakers-number-plates-nitin-gadkari_827x510_61522653557-jpg_jpeg.rf.403746072d242ffa3ef8cc6937f36dc7.jpg: 640x640 1 LicensePlate, 7.5ms\n",
            "image 29/48 /content/drive/Shareddrives/CV CEP/test/images/car-wbs-KA05MG1909_00000_png.rf.449e2f3e360b22d16265fe7d7c2d0d50.jpg: 640x640 1 LicensePlate, 7.4ms\n",
            "image 30/48 /content/drive/Shareddrives/CV CEP/test/images/car-wbs-KL454455_00000_jpeg.rf.470356f57b524a3b7c1294efb8ea5ea2.jpg: 640x640 1 LicensePlate, 7.5ms\n",
            "image 31/48 /content/drive/Shareddrives/CV CEP/test/images/car-wbs-KL60N5344_00000_jpeg.rf.5be64c5080cd2d5cc57cf0a44a870e2a.jpg: 640x640 1 LicensePlate, 9.0ms\n",
            "image 32/48 /content/drive/Shareddrives/CV CEP/test/images/car-wbs-KL65H4383_00000_jpg.rf.ee577143c72d0abc71fe09bbf3676349.jpg: 640x640 1 LicensePlate, 12.0ms\n",
            "image 33/48 /content/drive/Shareddrives/CV CEP/test/images/car-wbs-MH01BU5207_00000_jpeg.rf.7f0d430f56a2faabbe31ff039c408ac0.jpg: 640x640 1 LicensePlate, 7.4ms\n",
            "image 34/48 /content/drive/Shareddrives/CV CEP/test/images/car-wbs-MH02BM5048_00000_jpeg.rf.1cf2a40045d0cd8ec2ae37ffb586d5d0.jpg: 640x640 1 LicensePlate, 7.5ms\n",
            "image 35/48 /content/drive/Shareddrives/CV CEP/test/images/car-wbs-MH06AW8929_00001_jpeg.rf.62a2db96910d0892484d9f6ce01f5b32.jpg: 640x640 1 LicensePlate, 7.4ms\n",
            "image 36/48 /content/drive/Shareddrives/CV CEP/test/images/car-wbs-MH20CS9817_00000_jpeg.rf.9992756e481d1fe38ad9c7c763655f25.jpg: 640x640 1 LicensePlate, 7.5ms\n",
            "image 37/48 /content/drive/Shareddrives/CV CEP/test/images/car-wbs-MH20DJ0419_00000_jpeg.rf.a4991505128c5856726f0e69909f0f26.jpg: 640x640 1 LicensePlate, 7.5ms\n",
            "image 38/48 /content/drive/Shareddrives/CV CEP/test/images/car-wbs-MH20EE7598_00000_jpeg.rf.ec6800412a0fa16acb16a3103461a802.jpg: 640x640 1 LicensePlate, 21.7ms\n",
            "image 39/48 /content/drive/Shareddrives/CV CEP/test/images/car-wbs-TN21BC6225_00000_png.rf.f0c87818cf7fc79dce08bae4a7703060.jpg: 640x640 1 LicensePlate, 7.5ms\n",
            "image 40/48 /content/drive/Shareddrives/CV CEP/test/images/car-wbs-TN21BY0166_00000_png.rf.23587a0813d34303b10b1e1120c20daa.jpg: 640x640 1 LicensePlate, 7.5ms\n",
            "image 41/48 /content/drive/Shareddrives/CV CEP/test/images/car-wbs-TN99F2378_00000_png.rf.a4454ad6c0bc77e14dc4d69733ac71f1.jpg: 640x640 1 LicensePlate, 7.5ms\n",
            "image 42/48 /content/drive/Shareddrives/CV CEP/test/images/e29b6eea-504a-4da2-8503-5bd3443f3bd8___maruti-suzuki-wagon-r-front-left-rim-jpg_jpeg.rf.1c5c86f21a5272a8d1ee70975cfa6880.jpg: 640x640 1 LicensePlate, 7.4ms\n",
            "image 43/48 /content/drive/Shareddrives/CV CEP/test/images/e4907f73-1fbc-412c-a766-9c81bb31449c___2016-Chevrolet-TrailBlazer-India-Test-Drive-Review-e1442832290349-jpg_jpeg.rf.5d7bb2fc9181a3f62094050f10776c23.jpg: 640x640 1 LicensePlate, 12.7ms\n",
            "image 44/48 /content/drive/Shareddrives/CV CEP/test/images/e706cec0-783a-42bc-b934-64788481cd92___4-Innova-After-2-jpg_jpeg.rf.511927888ca8c8583c4c4089af7a6e27.jpg: 640x640 1 LicensePlate, 11.0ms\n",
            "image 45/48 /content/drive/Shareddrives/CV CEP/test/images/ef2dc97f-bc6d-49a3-9ddb-03f54f3a20e7___Skoda-Rapid-new-Exterior-84398-jpg_jpeg.rf.550d5e6bb29f38acb82fe37823281635.jpg: 640x640 1 LicensePlate, 7.4ms\n",
            "image 46/48 /content/drive/Shareddrives/CV CEP/test/images/f7ba7a93-e8d7-4253-b327-d87e3f2bb747___3e7fd381-0ae5-4421-8a70-279ee0ec1c61_2013-Nissan-Terrano-Rear_jpg.rf.a8b331240941ee4315c4254d2205f1ec.jpg: 640x640 1 LicensePlate, 7.4ms\n",
            "image 47/48 /content/drive/Shareddrives/CV CEP/test/images/fb939bb1-5257-4879-bafb-539472ffb73d___Maruti-Suzuki-Brezza-Number-Plates-Design-jpg_jpeg.rf.e5c4c4aca58587e0548b51db721be9e6.jpg: 640x640 1 LicensePlate, 7.5ms\n",
            "image 48/48 /content/drive/Shareddrives/CV CEP/test/images/fbc107b7-13d8-4a2d-b8be-7c96bd7d609c___new_9214a754343030395508e104d7948167_large-jpg_jpeg.rf.da3583a89b3a27881d8aa3e4ff3b33f6.jpg: 640x640 1 LicensePlate, 7.4ms\n",
            "Speed: 2.6ms preprocess, 8.6ms inference, 1.5ms postprocess per image at shape (1, 3, 640, 640)\n",
            "Results saved to \u001b[1mruns/detect/predict\u001b[0m\n"
          ]
        },
        {
          "output_type": "execute_result",
          "data": {
            "text/plain": [
              "[ultralytics.engine.results.Results object with attributes:\n",
              " \n",
              " boxes: ultralytics.engine.results.Boxes object\n",
              " keypoints: None\n",
              " masks: None\n",
              " names: {0: 'LicensePlate'}\n",
              " obb: None\n",
              " orig_img: array([[[185, 167, 168],\n",
              "         [188, 170, 171],\n",
              "         [193, 175, 176],\n",
              "         ...,\n",
              "         [206, 174, 169],\n",
              "         [205, 173, 168],\n",
              "         [204, 172, 167]],\n",
              " \n",
              "        [[184, 166, 167],\n",
              "         [188, 170, 171],\n",
              "         [193, 175, 176],\n",
              "         ...,\n",
              "         [204, 172, 167],\n",
              "         [203, 171, 166],\n",
              "         [202, 170, 165]],\n",
              " \n",
              "        [[184, 166, 167],\n",
              "         [187, 169, 170],\n",
              "         [192, 174, 175],\n",
              "         ...,\n",
              "         [206, 176, 171],\n",
              "         [205, 175, 170],\n",
              "         [204, 174, 169]],\n",
              " \n",
              "        ...,\n",
              " \n",
              "        [[ 39,  42,  56],\n",
              "         [ 34,  40,  53],\n",
              "         [ 37,  40,  54],\n",
              "         ...,\n",
              "         [  1,   1,   1],\n",
              "         [  3,   0,   5],\n",
              "         [  4,   0,   8]],\n",
              " \n",
              "        [[ 31,  36,  51],\n",
              "         [ 26,  33,  48],\n",
              "         [ 29,  34,  49],\n",
              "         ...,\n",
              "         [  1,   0,   2],\n",
              "         [  2,   0,   8],\n",
              "         [  2,   0,   9]],\n",
              " \n",
              "        [[ 37,  44,  59],\n",
              "         [ 33,  40,  55],\n",
              "         [ 33,  40,  55],\n",
              "         ...,\n",
              "         [  2,   1,   3],\n",
              "         [  3,   0,   9],\n",
              "         [  3,   0,  10]]], dtype=uint8)\n",
              " orig_shape: (640, 640)\n",
              " path: '/content/drive/Shareddrives/CV CEP/test/images/07e787a7-6cc3-482c-9ce5-f0ce115b47f1___new_VW-Polo-GT-TSI-badges-on-the-boot-lid-jpg_jpeg.rf.1ca0dfd28a9603f3d736e31e3b622b64.jpg'\n",
              " probs: None\n",
              " save_dir: 'runs/detect/predict'\n",
              " speed: {'preprocess': 2.323316000001796, 'inference': 7.460075999915716, 'postprocess': 1.51783800015437},\n",
              " ultralytics.engine.results.Results object with attributes:\n",
              " \n",
              " boxes: ultralytics.engine.results.Boxes object\n",
              " keypoints: None\n",
              " masks: None\n",
              " names: {0: 'LicensePlate'}\n",
              " obb: None\n",
              " orig_img: array([[[178, 166, 162],\n",
              "         [183, 171, 167],\n",
              "         [193, 181, 177],\n",
              "         ...,\n",
              "         [185, 173, 167],\n",
              "         [184, 174, 167],\n",
              "         [184, 174, 167]],\n",
              " \n",
              "        [[194, 182, 178],\n",
              "         [194, 182, 178],\n",
              "         [196, 184, 180],\n",
              "         ...,\n",
              "         [185, 173, 167],\n",
              "         [184, 174, 167],\n",
              "         [184, 174, 167]],\n",
              " \n",
              "        [[207, 195, 191],\n",
              "         [203, 191, 187],\n",
              "         [199, 187, 183],\n",
              "         ...,\n",
              "         [185, 173, 167],\n",
              "         [184, 174, 167],\n",
              "         [184, 174, 167]],\n",
              " \n",
              "        ...,\n",
              " \n",
              "        [[ 36,  48,  76],\n",
              "         [126, 138, 166],\n",
              "         [185, 196, 223],\n",
              "         ...,\n",
              "         [  0,   4,  25],\n",
              "         [  0,   0,  15],\n",
              "         [ 72,  92, 110]],\n",
              " \n",
              "        [[ 26,  39,  61],\n",
              "         [ 87, 100, 122],\n",
              "         [129, 142, 164],\n",
              "         ...,\n",
              "         [ 10,  29,  50],\n",
              "         [  0,   0,  15],\n",
              "         [  8,  26,  43]],\n",
              " \n",
              "        [[ 51,  65,  84],\n",
              "         [124, 138, 157],\n",
              "         [ 77,  88, 108],\n",
              "         ...,\n",
              "         [116, 136, 154],\n",
              "         [120, 135, 154],\n",
              "         [112, 128, 145]]], dtype=uint8)\n",
              " orig_shape: (640, 640)\n",
              " path: '/content/drive/Shareddrives/CV CEP/test/images/0a720df9-e4ef-4e44-8c13-b39b9be8444d___3e7fd381-0ae5-4421-8a70-279ee0ec1c61_Nissan-Terrano-6_jpg.rf.45c39e9821fb0daf1dfca8efa6e7163d.jpg'\n",
              " probs: None\n",
              " save_dir: 'runs/detect/predict'\n",
              " speed: {'preprocess': 2.935918000048332, 'inference': 13.335764000203199, 'postprocess': 1.4635300001373253},\n",
              " ultralytics.engine.results.Results object with attributes:\n",
              " \n",
              " boxes: ultralytics.engine.results.Boxes object\n",
              " keypoints: None\n",
              " masks: None\n",
              " names: {0: 'LicensePlate'}\n",
              " obb: None\n",
              " orig_img: array([[[252, 252, 252],\n",
              "         [252, 252, 252],\n",
              "         [252, 252, 252],\n",
              "         ...,\n",
              "         [221, 217, 212],\n",
              "         [223, 219, 214],\n",
              "         [210, 206, 201]],\n",
              " \n",
              "        [[252, 252, 252],\n",
              "         [252, 252, 252],\n",
              "         [252, 252, 252],\n",
              "         ...,\n",
              "         [217, 213, 208],\n",
              "         [221, 217, 212],\n",
              "         [210, 206, 201]],\n",
              " \n",
              "        [[252, 252, 252],\n",
              "         [252, 252, 252],\n",
              "         [252, 252, 252],\n",
              "         ...,\n",
              "         [215, 211, 206],\n",
              "         [220, 216, 211],\n",
              "         [209, 205, 200]],\n",
              " \n",
              "        ...,\n",
              " \n",
              "        [[129, 143, 155],\n",
              "         [215, 229, 241],\n",
              "         [229, 243, 255],\n",
              "         ...,\n",
              "         [147, 146, 148],\n",
              "         [131, 132, 136],\n",
              "         [119, 121, 122]],\n",
              " \n",
              "        [[191, 205, 217],\n",
              "         [209, 223, 235],\n",
              "         [167, 181, 193],\n",
              "         ...,\n",
              "         [149, 148, 152],\n",
              "         [139, 139, 145],\n",
              "         [129, 130, 134]],\n",
              " \n",
              "        [[220, 234, 246],\n",
              "         [139, 153, 165],\n",
              "         [ 82,  96, 108],\n",
              "         ...,\n",
              "         [151, 149, 155],\n",
              "         [139, 139, 145],\n",
              "         [126, 126, 132]]], dtype=uint8)\n",
              " orig_shape: (640, 640)\n",
              " path: '/content/drive/Shareddrives/CV CEP/test/images/1438b735-2d21-4879-8ed4-e5fa086e70c8___Maruti-Suzuki-Swift-Dzire-1-jpg_jpeg.rf.642feedb9aaad1601e8d85266e4e7212.jpg'\n",
              " probs: None\n",
              " save_dir: 'runs/detect/predict'\n",
              " speed: {'preprocess': 2.984965999985434, 'inference': 10.05524900006094, 'postprocess': 1.3398249998317624},\n",
              " ultralytics.engine.results.Results object with attributes:\n",
              " \n",
              " boxes: ultralytics.engine.results.Boxes object\n",
              " keypoints: None\n",
              " masks: None\n",
              " names: {0: 'LicensePlate'}\n",
              " obb: None\n",
              " orig_img: array([[[231, 233, 233],\n",
              "         [219, 221, 221],\n",
              "         [209, 211, 211],\n",
              "         ...,\n",
              "         [104, 148, 131],\n",
              "         [ 84, 129, 112],\n",
              "         [ 66, 111,  94]],\n",
              " \n",
              "        [[237, 239, 239],\n",
              "         [229, 231, 231],\n",
              "         [222, 224, 224],\n",
              "         ...,\n",
              "         [102, 146, 129],\n",
              "         [ 82, 126, 109],\n",
              "         [ 64, 109,  92]],\n",
              " \n",
              "        [[244, 246, 246],\n",
              "         [242, 244, 244],\n",
              "         [241, 243, 243],\n",
              "         ...,\n",
              "         [ 97, 139, 122],\n",
              "         [ 88, 130, 113],\n",
              "         [ 77, 121, 104]],\n",
              " \n",
              "        ...,\n",
              " \n",
              "        [[  7, 125, 220],\n",
              "         [  7, 125, 220],\n",
              "         [  5, 124, 217],\n",
              "         ...,\n",
              "         [130, 116, 118],\n",
              "         [122, 108, 110],\n",
              "         [113,  99, 101]],\n",
              " \n",
              "        [[  5, 123, 218],\n",
              "         [  5, 123, 218],\n",
              "         [  4, 123, 216],\n",
              "         ...,\n",
              "         [143, 129, 131],\n",
              "         [133, 119, 121],\n",
              "         [122, 108, 110]],\n",
              " \n",
              "        [[  4, 122, 217],\n",
              "         [  4, 122, 217],\n",
              "         [  3, 122, 215],\n",
              "         ...,\n",
              "         [157, 143, 145],\n",
              "         [148, 134, 136],\n",
              "         [136, 122, 124]]], dtype=uint8)\n",
              " orig_shape: (640, 640)\n",
              " path: '/content/drive/Shareddrives/CV CEP/test/images/18d2b870-7817-46da-a59a-6406c1b472c9___1033_png.rf.f7b3a2b037d45f0be7f1c38c95a4ce59.jpg'\n",
              " probs: None\n",
              " save_dir: 'runs/detect/predict'\n",
              " speed: {'preprocess': 2.0354279999992286, 'inference': 7.441869000103907, 'postprocess': 1.3041360000443092},\n",
              " ultralytics.engine.results.Results object with attributes:\n",
              " \n",
              " boxes: ultralytics.engine.results.Boxes object\n",
              " keypoints: None\n",
              " masks: None\n",
              " names: {0: 'LicensePlate'}\n",
              " obb: None\n",
              " orig_img: array([[[224, 255, 250],\n",
              "         [219, 255, 246],\n",
              "         [213, 255, 243],\n",
              "         ...,\n",
              "         [ 44, 211, 102],\n",
              "         [ 36, 207,  98],\n",
              "         [ 31, 204,  92]],\n",
              " \n",
              "        [[223, 255, 249],\n",
              "         [221, 255, 246],\n",
              "         [213, 255, 243],\n",
              "         ...,\n",
              "         [ 34, 194,  88],\n",
              "         [ 24, 188,  81],\n",
              "         [ 16, 183,  74]],\n",
              " \n",
              "        [[221, 252, 243],\n",
              "         [218, 254, 242],\n",
              "         [211, 254, 239],\n",
              "         ...,\n",
              "         [ 37, 182,  83],\n",
              "         [ 22, 172,  72],\n",
              "         [ 13, 164,  61]],\n",
              " \n",
              "        ...,\n",
              " \n",
              "        [[202, 206, 194],\n",
              "         [196, 200, 188],\n",
              "         [191, 195, 183],\n",
              "         ...,\n",
              "         [183, 186, 177],\n",
              "         [177, 180, 171],\n",
              "         [178, 181, 172]],\n",
              " \n",
              "        [[202, 206, 194],\n",
              "         [197, 201, 189],\n",
              "         [195, 199, 187],\n",
              "         ...,\n",
              "         [197, 200, 191],\n",
              "         [194, 197, 188],\n",
              "         [194, 197, 188]],\n",
              " \n",
              "        [[203, 207, 195],\n",
              "         [200, 204, 192],\n",
              "         [199, 203, 191],\n",
              "         ...,\n",
              "         [203, 206, 197],\n",
              "         [197, 200, 191],\n",
              "         [195, 198, 189]]], dtype=uint8)\n",
              " orig_shape: (640, 640)\n",
              " path: '/content/drive/Shareddrives/CV CEP/test/images/1e7151e6-8626-4fb2-b7e8-0fb6a8fde713___3e7fd381-0ae5-4421-8a70-279ee0ec1c61_a19be5870f8f2593c994c465a691477e_555X416_1_jpg.rf.fbc34a4f503888d7cc95eeee4ac1acdf.jpg'\n",
              " probs: None\n",
              " save_dir: 'runs/detect/predict'\n",
              " speed: {'preprocess': 2.6914299999134528, 'inference': 8.906361000072138, 'postprocess': 1.637792000110494},\n",
              " ultralytics.engine.results.Results object with attributes:\n",
              " \n",
              " boxes: ultralytics.engine.results.Boxes object\n",
              " keypoints: None\n",
              " masks: None\n",
              " names: {0: 'LicensePlate'}\n",
              " obb: None\n",
              " orig_img: array([[[ 48,  50,  51],\n",
              "         [ 16,  18,  19],\n",
              "         [  5,   7,   8],\n",
              "         ...,\n",
              "         [243, 245, 245],\n",
              "         [243, 245, 245],\n",
              "         [244, 246, 246]],\n",
              " \n",
              "        [[ 46,  48,  49],\n",
              "         [ 18,  20,  21],\n",
              "         [  9,  11,  12],\n",
              "         ...,\n",
              "         [246, 248, 248],\n",
              "         [244, 246, 246],\n",
              "         [244, 246, 246]],\n",
              " \n",
              "        [[ 32,  34,  35],\n",
              "         [ 14,  16,  17],\n",
              "         [  8,  10,  11],\n",
              "         ...,\n",
              "         [211, 211, 211],\n",
              "         [207, 207, 207],\n",
              "         [205, 205, 205]],\n",
              " \n",
              "        ...,\n",
              " \n",
              "        [[101, 122, 137],\n",
              "         [103, 124, 139],\n",
              "         [114, 135, 150],\n",
              "         ...,\n",
              "         [159, 183, 207],\n",
              "         [174, 198, 222],\n",
              "         [198, 222, 246]],\n",
              " \n",
              "        [[ 87, 108, 123],\n",
              "         [ 83, 104, 119],\n",
              "         [ 89, 110, 125],\n",
              "         ...,\n",
              "         [155, 179, 203],\n",
              "         [165, 189, 213],\n",
              "         [184, 208, 232]],\n",
              " \n",
              "        [[ 94, 115, 130],\n",
              "         [ 84, 105, 120],\n",
              "         [ 84, 105, 120],\n",
              "         ...,\n",
              "         [154, 178, 202],\n",
              "         [165, 189, 213],\n",
              "         [178, 202, 226]]], dtype=uint8)\n",
              " orig_shape: (640, 640)\n",
              " path: '/content/drive/Shareddrives/CV CEP/test/images/1f0a7fe8-ac9b-4b54-9d55-e11f34f9f98b___9f6521b2ddb7b8e40ffd510966ffcca3-jpg_jpeg.rf.af53d561708c304818d6b5a45febed22.jpg'\n",
              " probs: None\n",
              " save_dir: 'runs/detect/predict'\n",
              " speed: {'preprocess': 2.066593999870747, 'inference': 7.447165000030509, 'postprocess': 1.3252749999992375},\n",
              " ultralytics.engine.results.Results object with attributes:\n",
              " \n",
              " boxes: ultralytics.engine.results.Boxes object\n",
              " keypoints: None\n",
              " masks: None\n",
              " names: {0: 'LicensePlate'}\n",
              " obb: None\n",
              " orig_img: array([[[210, 214, 203],\n",
              "         [210, 214, 203],\n",
              "         [210, 214, 203],\n",
              "         ...,\n",
              "         [228, 229, 255],\n",
              "         [230, 229, 255],\n",
              "         [230, 229, 255]],\n",
              " \n",
              "        [[212, 216, 205],\n",
              "         [212, 216, 205],\n",
              "         [212, 216, 205],\n",
              "         ...,\n",
              "         [228, 229, 255],\n",
              "         [230, 229, 255],\n",
              "         [230, 229, 255]],\n",
              " \n",
              "        [[202, 206, 195],\n",
              "         [202, 206, 195],\n",
              "         [202, 206, 195],\n",
              "         ...,\n",
              "         [229, 228, 254],\n",
              "         [229, 229, 253],\n",
              "         [229, 229, 253]],\n",
              " \n",
              "        ...,\n",
              " \n",
              "        [[104, 129, 133],\n",
              "         [104, 129, 133],\n",
              "         [104, 128, 134],\n",
              "         ...,\n",
              "         [ 48,  64,  57],\n",
              "         [ 48,  64,  57],\n",
              "         [ 48,  64,  57]],\n",
              " \n",
              "        [[101, 123, 128],\n",
              "         [101, 123, 128],\n",
              "         [101, 123, 129],\n",
              "         ...,\n",
              "         [ 53,  67,  63],\n",
              "         [ 53,  67,  63],\n",
              "         [ 53,  67,  63]],\n",
              " \n",
              "        [[103, 125, 130],\n",
              "         [103, 125, 130],\n",
              "         [103, 125, 131],\n",
              "         ...,\n",
              "         [ 50,  64,  60],\n",
              "         [ 50,  64,  60],\n",
              "         [ 50,  64,  60]]], dtype=uint8)\n",
              " orig_shape: (640, 640)\n",
              " path: '/content/drive/Shareddrives/CV CEP/test/images/21cc678a-b9c5-4bbb-ace0-9e096e799632___unnamed-300x225-jpg-Copy_jpeg.rf.ff0915dfb002a6be5727f05ff731e656.jpg'\n",
              " probs: None\n",
              " save_dir: 'runs/detect/predict'\n",
              " speed: {'preprocess': 2.011918000107471, 'inference': 7.448352999972485, 'postprocess': 0.5989490000501974},\n",
              " ultralytics.engine.results.Results object with attributes:\n",
              " \n",
              " boxes: ultralytics.engine.results.Boxes object\n",
              " keypoints: None\n",
              " masks: None\n",
              " names: {0: 'LicensePlate'}\n",
              " obb: None\n",
              " orig_img: array([[[ 61,  73,  79],\n",
              "         [ 61,  75,  81],\n",
              "         [ 64,  78,  84],\n",
              "         ...,\n",
              "         [ 23,  40,  59],\n",
              "         [ 13,  33,  51],\n",
              "         [  7,  27,  45]],\n",
              " \n",
              "        [[ 61,  73,  79],\n",
              "         [ 60,  74,  80],\n",
              "         [ 60,  76,  82],\n",
              "         ...,\n",
              "         [ 17,  37,  55],\n",
              "         [  9,  29,  47],\n",
              "         [  4,  24,  42]],\n",
              " \n",
              "        [[ 60,  74,  80],\n",
              "         [ 58,  74,  80],\n",
              "         [ 59,  75,  81],\n",
              "         ...,\n",
              "         [ 13,  32,  53],\n",
              "         [  8,  28,  46],\n",
              "         [  3,  25,  43]],\n",
              " \n",
              "        ...,\n",
              " \n",
              "        [[  0,   1,   8],\n",
              "         [  0,  10,  18],\n",
              "         [  4,  16,  26],\n",
              "         ...,\n",
              "         [  1,  37,  75],\n",
              "         [ 15,  45,  80],\n",
              "         [ 23,  51,  82]],\n",
              " \n",
              "        [[ 35,  45,  52],\n",
              "         [ 38,  49,  57],\n",
              "         [ 44,  56,  66],\n",
              "         ...,\n",
              "         [ 40,  71, 110],\n",
              "         [ 46,  72, 108],\n",
              "         [ 29,  52,  84]],\n",
              " \n",
              "        [[ 78,  88,  95],\n",
              "         [ 54,  65,  73],\n",
              "         [ 56,  68,  78],\n",
              "         ...,\n",
              "         [ 53,  82, 121],\n",
              "         [ 58,  82, 118],\n",
              "         [ 27,  48,  80]]], dtype=uint8)\n",
              " orig_shape: (640, 640)\n",
              " path: '/content/drive/Shareddrives/CV CEP/test/images/2424211e-e6ba-4478-8ed1-6a04e25499c7___main-qimg-7673aeac86d0ef987deb837552c5dd4c-1_png.rf.27e9751d7dceb0ea20206b1ad2aac654.jpg'\n",
              " probs: None\n",
              " save_dir: 'runs/detect/predict'\n",
              " speed: {'preprocess': 2.129391999915242, 'inference': 7.46035700012726, 'postprocess': 1.3395250000485248},\n",
              " ultralytics.engine.results.Results object with attributes:\n",
              " \n",
              " boxes: ultralytics.engine.results.Boxes object\n",
              " keypoints: None\n",
              " masks: None\n",
              " names: {0: 'LicensePlate'}\n",
              " obb: None\n",
              " orig_img: array([[[ 40,  40,  22],\n",
              "         [ 96,  97,  77],\n",
              "         [120, 123,  97],\n",
              "         ...,\n",
              "         [183, 190, 175],\n",
              "         [203, 211, 194],\n",
              "         [213, 221, 204]],\n",
              " \n",
              "        [[121, 121, 103],\n",
              "         [110, 111,  91],\n",
              "         [116, 119,  93],\n",
              "         ...,\n",
              "         [190, 197, 182],\n",
              "         [204, 212, 195],\n",
              "         [208, 216, 199]],\n",
              " \n",
              "        [[110, 110,  92],\n",
              "         [ 51,  52,  32],\n",
              "         [ 51,  54,  28],\n",
              "         ...,\n",
              "         [194, 199, 184],\n",
              "         [199, 205, 188],\n",
              "         [194, 200, 183]],\n",
              " \n",
              "        ...,\n",
              " \n",
              "        [[ 82,  90,  97],\n",
              "         [ 86,  94, 101],\n",
              "         [ 90,  99, 108],\n",
              "         ...,\n",
              "         [213, 227, 249],\n",
              "         [214, 228, 250],\n",
              "         [218, 232, 254]],\n",
              " \n",
              "        [[ 81,  89,  96],\n",
              "         [ 83,  91,  98],\n",
              "         [ 84,  92,  99],\n",
              "         ...,\n",
              "         [214, 228, 250],\n",
              "         [215, 229, 251],\n",
              "         [221, 235, 255]],\n",
              " \n",
              "        [[ 80,  88,  95],\n",
              "         [ 81,  89,  96],\n",
              "         [ 79,  87,  94],\n",
              "         ...,\n",
              "         [212, 226, 248],\n",
              "         [214, 228, 250],\n",
              "         [219, 233, 255]]], dtype=uint8)\n",
              " orig_shape: (640, 640)\n",
              " path: '/content/drive/Shareddrives/CV CEP/test/images/26cfb3dd-3731-4fd0-a6c2-c44e3ce7498a___used_cars_in_keralaused_bikes_in_keralaautomotive_news7-jpg_jpeg.rf.36e7e751395205adcb09bc5c039ddd6a.jpg'\n",
              " probs: None\n",
              " save_dir: 'runs/detect/predict'\n",
              " speed: {'preprocess': 1.9730870001239964, 'inference': 7.44874399993023, 'postprocess': 1.3437769998745352},\n",
              " ultralytics.engine.results.Results object with attributes:\n",
              " \n",
              " boxes: ultralytics.engine.results.Boxes object\n",
              " keypoints: None\n",
              " masks: None\n",
              " names: {0: 'LicensePlate'}\n",
              " obb: None\n",
              " orig_img: array([[[139, 137, 126],\n",
              "         [139, 137, 126],\n",
              "         [144, 142, 131],\n",
              "         ...,\n",
              "         [168, 157, 149],\n",
              "         [164, 153, 145],\n",
              "         [165, 154, 146]],\n",
              " \n",
              "        [[139, 137, 126],\n",
              "         [139, 137, 126],\n",
              "         [143, 141, 130],\n",
              "         ...,\n",
              "         [168, 157, 149],\n",
              "         [164, 153, 145],\n",
              "         [165, 154, 146]],\n",
              " \n",
              "        [[139, 137, 126],\n",
              "         [140, 138, 127],\n",
              "         [143, 141, 130],\n",
              "         ...,\n",
              "         [166, 155, 147],\n",
              "         [163, 152, 144],\n",
              "         [165, 154, 146]],\n",
              " \n",
              "        ...,\n",
              " \n",
              "        [[150, 131, 128],\n",
              "         [150, 131, 128],\n",
              "         [160, 141, 138],\n",
              "         ...,\n",
              "         [ 41,  41,  41],\n",
              "         [ 41,  41,  41],\n",
              "         [ 40,  40,  40]],\n",
              " \n",
              "        [[155, 136, 133],\n",
              "         [150, 131, 128],\n",
              "         [157, 138, 135],\n",
              "         ...,\n",
              "         [ 40,  40,  40],\n",
              "         [ 37,  37,  37],\n",
              "         [ 36,  36,  36]],\n",
              " \n",
              "        [[154, 135, 132],\n",
              "         [151, 132, 129],\n",
              "         [160, 141, 138],\n",
              "         ...,\n",
              "         [ 40,  40,  40],\n",
              "         [ 35,  35,  35],\n",
              "         [ 34,  34,  34]]], dtype=uint8)\n",
              " orig_shape: (640, 640)\n",
              " path: '/content/drive/Shareddrives/CV CEP/test/images/347c849b-6cfa-4edb-af1f-b29bdad25c4d___new_New-Volkswagen-Polo-jpg_jpeg.rf.4db8413b73a3e163a76c80e95c7449f6.jpg'\n",
              " probs: None\n",
              " save_dir: 'runs/detect/predict'\n",
              " speed: {'preprocess': 1.9946080001318478, 'inference': 7.496283999898878, 'postprocess': 1.5483619999940856},\n",
              " ultralytics.engine.results.Results object with attributes:\n",
              " \n",
              " boxes: ultralytics.engine.results.Boxes object\n",
              " keypoints: None\n",
              " masks: None\n",
              " names: {0: 'LicensePlate'}\n",
              " obb: None\n",
              " orig_img: array([[[126, 167, 122],\n",
              "         [133, 193, 145],\n",
              "         [ 91, 185, 131],\n",
              "         ...,\n",
              "         [ 19,  21,  21],\n",
              "         [ 10,  15,  14],\n",
              "         [  4,   9,   8]],\n",
              " \n",
              "        [[112, 161, 115],\n",
              "         [109, 175, 126],\n",
              "         [ 76, 174, 120],\n",
              "         ...,\n",
              "         [ 15,  17,  17],\n",
              "         [ 10,  15,  14],\n",
              "         [ 11,  16,  15]],\n",
              " \n",
              "        [[ 37, 103,  54],\n",
              "         [ 12,  91,  40],\n",
              "         [  0,  91,  36],\n",
              "         ...,\n",
              "         [  2,   4,   4],\n",
              "         [ 15,  17,  17],\n",
              "         [ 29,  31,  31]],\n",
              " \n",
              "        ...,\n",
              " \n",
              "        [[ 15,  14,  23],\n",
              "         [  7,   6,  15],\n",
              "         [ 28,  30,  38],\n",
              "         ...,\n",
              "         [ 71,  83,  89],\n",
              "         [ 92, 104, 110],\n",
              "         [ 72,  84,  90]],\n",
              " \n",
              "        [[ 10,   9,  18],\n",
              "         [ 15,  14,  23],\n",
              "         [ 40,  42,  50],\n",
              "         ...,\n",
              "         [126, 137, 145],\n",
              "         [132, 143, 151],\n",
              "         [ 83,  94, 102]],\n",
              " \n",
              "        [[  3,   2,  11],\n",
              "         [ 24,  23,  32],\n",
              "         [ 48,  50,  58],\n",
              "         ...,\n",
              "         [129, 140, 148],\n",
              "         [138, 149, 157],\n",
              "         [ 81,  92, 100]]], dtype=uint8)\n",
              " orig_shape: (640, 640)\n",
              " path: '/content/drive/Shareddrives/CV CEP/test/images/5c85a40f-ce81-44b4-82b2-dfdac281217d___new_Skoda-Octavia-1-8-TSI-5-jpg_jpeg.rf.171a418ec9fb581bb965da859c7ebf8d.jpg'\n",
              " probs: None\n",
              " save_dir: 'runs/detect/predict'\n",
              " speed: {'preprocess': 2.066781999928935, 'inference': 7.450197999787633, 'postprocess': 1.3179059999401943},\n",
              " ultralytics.engine.results.Results object with attributes:\n",
              " \n",
              " boxes: ultralytics.engine.results.Boxes object\n",
              " keypoints: None\n",
              " masks: None\n",
              " names: {0: 'LicensePlate'}\n",
              " obb: None\n",
              " orig_img: array([[[100,  70,  65],\n",
              "         [125,  96,  87],\n",
              "         [126,  97,  82],\n",
              "         ...,\n",
              "         [149, 188, 196],\n",
              "         [137, 180, 189],\n",
              "         [164, 210, 218]],\n",
              " \n",
              "        [[104,  78,  72],\n",
              "         [123,  96,  86],\n",
              "         [118,  93,  77],\n",
              "         ...,\n",
              "         [152, 191, 199],\n",
              "         [143, 184, 193],\n",
              "         [153, 199, 207]],\n",
              " \n",
              "        [[116,  97,  90],\n",
              "         [121, 103,  92],\n",
              "         [112,  94,  77],\n",
              "         ...,\n",
              "         [144, 181, 189],\n",
              "         [132, 171, 180],\n",
              "         [116, 159, 168]],\n",
              " \n",
              "        ...,\n",
              " \n",
              "        [[ 59,  59,  75],\n",
              "         [ 58,  59,  73],\n",
              "         [ 49,  52,  66],\n",
              "         ...,\n",
              "         [ 46,  45,  49],\n",
              "         [ 50,  49,  53],\n",
              "         [ 45,  44,  48]],\n",
              " \n",
              "        [[ 37,  38,  52],\n",
              "         [ 37,  39,  50],\n",
              "         [ 36,  40,  51],\n",
              "         ...,\n",
              "         [ 56,  55,  59],\n",
              "         [ 63,  62,  66],\n",
              "         [ 53,  52,  56]],\n",
              " \n",
              "        [[ 38,  40,  51],\n",
              "         [ 40,  42,  53],\n",
              "         [ 43,  48,  57],\n",
              "         ...,\n",
              "         [ 51,  50,  54],\n",
              "         [ 54,  53,  57],\n",
              "         [ 37,  36,  40]]], dtype=uint8)\n",
              " orig_shape: (640, 640)\n",
              " path: '/content/drive/Shareddrives/CV CEP/test/images/7073bd18-c0bf-47da-9e43-8c9d27831f11___new_Skoda-Laura-rear-jpg_jpeg.rf.2301257cf195341bf2b2cdf1f21780b9.jpg'\n",
              " probs: None\n",
              " save_dir: 'runs/detect/predict'\n",
              " speed: {'preprocess': 3.168499000139491, 'inference': 12.071318000153042, 'postprocess': 1.955339999994976},\n",
              " ultralytics.engine.results.Results object with attributes:\n",
              " \n",
              " boxes: ultralytics.engine.results.Boxes object\n",
              " keypoints: None\n",
              " masks: None\n",
              " names: {0: 'LicensePlate'}\n",
              " obb: None\n",
              " orig_img: array([[[ 92, 110,  69],\n",
              "         [109, 127,  86],\n",
              "         [179, 197, 156],\n",
              "         ...,\n",
              "         [113, 149,  79],\n",
              "         [119, 154,  87],\n",
              "         [107, 142,  75]],\n",
              " \n",
              "        [[ 82, 100,  59],\n",
              "         [ 94, 112,  71],\n",
              "         [168, 186, 145],\n",
              "         ...,\n",
              "         [116, 151,  84],\n",
              "         [112, 147,  80],\n",
              "         [101, 136,  69]],\n",
              " \n",
              "        [[ 87, 105,  64],\n",
              "         [ 97, 115,  74],\n",
              "         [163, 181, 140],\n",
              "         ...,\n",
              "         [117, 149,  84],\n",
              "         [109, 143,  78],\n",
              "         [102, 136,  71]],\n",
              " \n",
              "        ...,\n",
              " \n",
              "        [[ 96, 107,  75],\n",
              "         [155, 166, 134],\n",
              "         [179, 190, 158],\n",
              "         ...,\n",
              "         [ 85, 113, 113],\n",
              "         [162, 193, 192],\n",
              "         [195, 227, 226]],\n",
              " \n",
              "        [[170, 181, 148],\n",
              "         [192, 203, 170],\n",
              "         [193, 204, 171],\n",
              "         ...,\n",
              "         [132, 163, 162],\n",
              "         [165, 197, 196],\n",
              "         [176, 210, 209]],\n",
              " \n",
              "        [[229, 240, 207],\n",
              "         [222, 233, 200],\n",
              "         [210, 221, 188],\n",
              "         ...,\n",
              "         [166, 198, 197],\n",
              "         [156, 188, 187],\n",
              "         [139, 173, 172]]], dtype=uint8)\n",
              " orig_shape: (640, 640)\n",
              " path: '/content/drive/Shareddrives/CV CEP/test/images/7506a48d-2c70-4b12-b300-463754bc7837___165979d1427773878-new-volkswagen-vento-2016-launched-india-vw-vento-facelift-rear-india-spotted-test-jpg_jpeg.rf.33905ef075a837e596576f1e243b47bf.jpg'\n",
              " probs: None\n",
              " save_dir: 'runs/detect/predict'\n",
              " speed: {'preprocess': 2.512316999855102, 'inference': 7.443466000040644, 'postprocess': 1.459069999782514},\n",
              " ultralytics.engine.results.Results object with attributes:\n",
              " \n",
              " boxes: ultralytics.engine.results.Boxes object\n",
              " keypoints: None\n",
              " masks: None\n",
              " names: {0: 'LicensePlate'}\n",
              " obb: None\n",
              " orig_img: array([[[182, 171, 149],\n",
              "         [187, 176, 154],\n",
              "         [195, 184, 162],\n",
              "         ...,\n",
              "         [ 20,  18,   8],\n",
              "         [ 20,  17,   9],\n",
              "         [ 20,  17,   9]],\n",
              " \n",
              "        [[187, 176, 154],\n",
              "         [189, 178, 156],\n",
              "         [193, 182, 160],\n",
              "         ...,\n",
              "         [ 20,  18,   8],\n",
              "         [ 20,  17,   9],\n",
              "         [ 20,  17,   9]],\n",
              " \n",
              "        [[205, 197, 174],\n",
              "         [201, 193, 170],\n",
              "         [196, 188, 165],\n",
              "         ...,\n",
              "         [ 20,  18,   8],\n",
              "         [ 20,  17,   9],\n",
              "         [ 20,  17,   9]],\n",
              " \n",
              "        ...,\n",
              " \n",
              "        [[136, 178, 197],\n",
              "         [ 64, 107, 126],\n",
              "         [ 99, 145, 163],\n",
              "         ...,\n",
              "         [ 11,  48,  56],\n",
              "         [ 14,  53,  61],\n",
              "         [ 22,  64,  71]],\n",
              " \n",
              "        [[126, 169, 190],\n",
              "         [ 70, 115, 136],\n",
              "         [113, 160, 181],\n",
              "         ...,\n",
              "         [  8,  46,  51],\n",
              "         [ 12,  50,  55],\n",
              "         [ 16,  56,  61]],\n",
              " \n",
              "        [[ 92, 135, 156],\n",
              "         [ 80, 125, 146],\n",
              "         [140, 190, 210],\n",
              "         ...,\n",
              "         [ 13,  49,  55],\n",
              "         [ 10,  48,  53],\n",
              "         [  8,  46,  51]]], dtype=uint8)\n",
              " orig_shape: (640, 640)\n",
              " path: '/content/drive/Shareddrives/CV CEP/test/images/7c6227ed-9e92-4062-9591-b172cb32ec10___3e7fd381-0ae5-4421-8a70-279ee0ec1c61_Honda-Jazz-Front-Number-Plates-Designs_jpg.rf.19259813e6f81eb8eb15730257881be3.jpg'\n",
              " probs: None\n",
              " save_dir: 'runs/detect/predict'\n",
              " speed: {'preprocess': 2.556784000034895, 'inference': 7.45063499994103, 'postprocess': 1.2991959999908431},\n",
              " ultralytics.engine.results.Results object with attributes:\n",
              " \n",
              " boxes: ultralytics.engine.results.Boxes object\n",
              " keypoints: None\n",
              " masks: None\n",
              " names: {0: 'LicensePlate'}\n",
              " obb: None\n",
              " orig_img: array([[[ 69, 100,  67],\n",
              "         [ 77, 106,  73],\n",
              "         [ 88, 114,  84],\n",
              "         ...,\n",
              "         [ 50,  68,  79],\n",
              "         [ 47,  64,  77],\n",
              "         [ 43,  60,  73]],\n",
              " \n",
              "        [[ 70, 101,  68],\n",
              "         [ 85, 114,  81],\n",
              "         [108, 134, 104],\n",
              "         ...,\n",
              "         [ 59,  77,  88],\n",
              "         [ 52,  70,  81],\n",
              "         [ 44,  62,  73]],\n",
              " \n",
              "        [[ 78, 109,  76],\n",
              "         [101, 130,  97],\n",
              "         [140, 166, 136],\n",
              "         ...,\n",
              "         [ 58,  77,  85],\n",
              "         [ 51,  70,  78],\n",
              "         [ 42,  61,  69]],\n",
              " \n",
              "        ...,\n",
              " \n",
              "        [[187, 221, 210],\n",
              "         [176, 210, 199],\n",
              "         [158, 189, 180],\n",
              "         ...,\n",
              "         [ 62,  64,  65],\n",
              "         [ 49,  51,  52],\n",
              "         [ 42,  44,  45]],\n",
              " \n",
              "        [[183, 219, 205],\n",
              "         [179, 213, 202],\n",
              "         [159, 190, 181],\n",
              "         ...,\n",
              "         [ 52,  54,  55],\n",
              "         [ 44,  46,  47],\n",
              "         [ 48,  50,  51]],\n",
              " \n",
              "        [[181, 217, 203],\n",
              "         [179, 215, 201],\n",
              "         [160, 191, 182],\n",
              "         ...,\n",
              "         [  8,  10,  11],\n",
              "         [ 26,  28,  29],\n",
              "         [ 65,  67,  68]]], dtype=uint8)\n",
              " orig_shape: (640, 640)\n",
              " path: '/content/drive/Shareddrives/CV CEP/test/images/7f7e27cc-930a-46cb-b3af-6e43da8b566d___3e7fd381-0ae5-4421-8a70-279ee0ec1c61_Nissan-Terrano-Petrol-Review-Images-Black-Front-Grille-720x480_jpg.rf.0170c5d7a6923b6fc9c692adc16cfdf5.jpg'\n",
              " probs: None\n",
              " save_dir: 'runs/detect/predict'\n",
              " speed: {'preprocess': 2.472394000051281, 'inference': 7.4388390000876825, 'postprocess': 1.2628310000764031},\n",
              " ultralytics.engine.results.Results object with attributes:\n",
              " \n",
              " boxes: ultralytics.engine.results.Boxes object\n",
              " keypoints: None\n",
              " masks: None\n",
              " names: {0: 'LicensePlate'}\n",
              " obb: None\n",
              " orig_img: array([[[183, 162, 141],\n",
              "         [183, 162, 141],\n",
              "         [183, 162, 141],\n",
              "         ...,\n",
              "         [155, 142, 120],\n",
              "         [154, 141, 119],\n",
              "         [155, 142, 120]],\n",
              " \n",
              "        [[183, 162, 141],\n",
              "         [183, 162, 141],\n",
              "         [183, 162, 141],\n",
              "         ...,\n",
              "         [143, 130, 108],\n",
              "         [142, 129, 107],\n",
              "         [143, 130, 108]],\n",
              " \n",
              "        [[183, 162, 141],\n",
              "         [183, 162, 141],\n",
              "         [183, 162, 141],\n",
              "         ...,\n",
              "         [140, 127, 105],\n",
              "         [139, 126, 104],\n",
              "         [141, 128, 106]],\n",
              " \n",
              "        ...,\n",
              " \n",
              "        [[222, 211, 191],\n",
              "         [236, 225, 205],\n",
              "         [237, 226, 206],\n",
              "         ...,\n",
              "         [124, 111,  97],\n",
              "         [126, 113,  99],\n",
              "         [137, 124, 110]],\n",
              " \n",
              "        [[227, 216, 196],\n",
              "         [232, 221, 201],\n",
              "         [226, 215, 195],\n",
              "         ...,\n",
              "         [127, 114, 100],\n",
              "         [100,  86,  74],\n",
              "         [135, 121, 109]],\n",
              " \n",
              "        [[ 98,  87,  67],\n",
              "         [ 90,  79,  59],\n",
              "         [106,  95,  75],\n",
              "         ...,\n",
              "         [ 70,  57,  43],\n",
              "         [ 88,  73,  64],\n",
              "         [213, 198, 189]]], dtype=uint8)\n",
              " orig_shape: (640, 640)\n",
              " path: '/content/drive/Shareddrives/CV CEP/test/images/85d7e25d-5aa1-4e5f-9c4e-4e671f14ddbe___77cca4b6f3864b3928824a030ba101d2-jpg_jpeg.rf.5a94cec6e00fab050ed3511d235d8473.jpg'\n",
              " probs: None\n",
              " save_dir: 'runs/detect/predict'\n",
              " speed: {'preprocess': 2.66810300013276, 'inference': 8.755361999874367, 'postprocess': 1.6112260000227252},\n",
              " ultralytics.engine.results.Results object with attributes:\n",
              " \n",
              " boxes: ultralytics.engine.results.Boxes object\n",
              " keypoints: None\n",
              " masks: None\n",
              " names: {0: 'LicensePlate'}\n",
              " obb: None\n",
              " orig_img: array([[[20, 19, 15],\n",
              "         [31, 30, 26],\n",
              "         [14, 11,  6],\n",
              "         ...,\n",
              "         [82, 80, 69],\n",
              "         [60, 58, 47],\n",
              "         [54, 52, 41]],\n",
              " \n",
              "        [[22, 21, 17],\n",
              "         [25, 24, 20],\n",
              "         [23, 20, 15],\n",
              "         ...,\n",
              "         [72, 70, 59],\n",
              "         [45, 43, 32],\n",
              "         [47, 45, 34]],\n",
              " \n",
              "        [[24, 21, 17],\n",
              "         [25, 22, 18],\n",
              "         [39, 36, 31],\n",
              "         ...,\n",
              "         [68, 66, 55],\n",
              "         [44, 42, 31],\n",
              "         [40, 38, 27]],\n",
              " \n",
              "        ...,\n",
              " \n",
              "        [[ 9,  6, 31],\n",
              "         [ 8,  5, 30],\n",
              "         [ 9,  6, 31],\n",
              "         ...,\n",
              "         [25, 25, 31],\n",
              "         [18, 20, 21],\n",
              "         [10, 12, 12]],\n",
              " \n",
              "        [[12,  9, 35],\n",
              "         [10,  7, 32],\n",
              "         [ 9,  6, 31],\n",
              "         ...,\n",
              "         [26, 26, 32],\n",
              "         [27, 30, 34],\n",
              "         [13, 17, 18]],\n",
              " \n",
              "        [[14, 11, 37],\n",
              "         [12,  9, 35],\n",
              "         [10,  7, 32],\n",
              "         ...,\n",
              "         [26, 26, 32],\n",
              "         [35, 38, 43],\n",
              "         [16, 19, 23]]], dtype=uint8)\n",
              " orig_shape: (640, 640)\n",
              " path: '/content/drive/Shareddrives/CV CEP/test/images/8906af57-0d29-417d-ac46-408425527b57___VW-Vento-TDI-CNG-Spy-Pic-2-jpg_jpeg.rf.414ed57a7e772a26e7a947d9b01b5234.jpg'\n",
              " probs: None\n",
              " save_dir: 'runs/detect/predict'\n",
              " speed: {'preprocess': 2.4591930000497086, 'inference': 7.4474409998401825, 'postprocess': 1.6226509999341943},\n",
              " ultralytics.engine.results.Results object with attributes:\n",
              " \n",
              " boxes: ultralytics.engine.results.Boxes object\n",
              " keypoints: None\n",
              " masks: None\n",
              " names: {0: 'LicensePlate'}\n",
              " obb: None\n",
              " orig_img: array([[[243, 249, 248],\n",
              "         [212, 218, 217],\n",
              "         [147, 153, 152],\n",
              "         ...,\n",
              "         [  4,  23,  31],\n",
              "         [ 11,  29,  36],\n",
              "         [ 68,  86,  93]],\n",
              " \n",
              "        [[235, 241, 240],\n",
              "         [227, 233, 232],\n",
              "         [170, 176, 175],\n",
              "         ...,\n",
              "         [  4,  23,  31],\n",
              "         [ 14,  32,  39],\n",
              "         [ 69,  87,  94]],\n",
              " \n",
              "        [[240, 245, 244],\n",
              "         [247, 252, 251],\n",
              "         [191, 196, 195],\n",
              "         ...,\n",
              "         [  3,  22,  30],\n",
              "         [ 17,  35,  42],\n",
              "         [ 69,  87,  94]],\n",
              " \n",
              "        ...,\n",
              " \n",
              "        [[ 89, 116, 160],\n",
              "         [ 96, 123, 167],\n",
              "         [158, 185, 229],\n",
              "         ...,\n",
              "         [125, 180, 247],\n",
              "         [121, 179, 245],\n",
              "         [122, 180, 246]],\n",
              " \n",
              "        [[ 51,  80, 125],\n",
              "         [ 25,  54,  98],\n",
              "         [113, 142, 186],\n",
              "         ...,\n",
              "         [131, 186, 253],\n",
              "         [122, 180, 246],\n",
              "         [121, 179, 245]],\n",
              " \n",
              "        [[ 17,  48,  93],\n",
              "         [  0,  18,  63],\n",
              "         [107, 136, 180],\n",
              "         ...,\n",
              "         [134, 189, 255],\n",
              "         [123, 181, 247],\n",
              "         [120, 178, 244]]], dtype=uint8)\n",
              " orig_shape: (640, 640)\n",
              " path: '/content/drive/Shareddrives/CV CEP/test/images/8edca6de-d964-4027-823d-f70d3f872412___12042943_1003224833031653_9073848483429898813_n-jpg_jpeg.rf.5f0902a4eb243cd792c43f95bda8c38b.jpg'\n",
              " probs: None\n",
              " save_dir: 'runs/detect/predict'\n",
              " speed: {'preprocess': 3.4432060001563514, 'inference': 8.623194999927364, 'postprocess': 1.5678249999382388},\n",
              " ultralytics.engine.results.Results object with attributes:\n",
              " \n",
              " boxes: ultralytics.engine.results.Boxes object\n",
              " keypoints: None\n",
              " masks: None\n",
              " names: {0: 'LicensePlate'}\n",
              " obb: None\n",
              " orig_img: array([[[245, 245, 245],\n",
              "         [255, 255, 255],\n",
              "         [255, 255, 255],\n",
              "         ...,\n",
              "         [255, 255, 255],\n",
              "         [255, 255, 255],\n",
              "         [255, 255, 255]],\n",
              " \n",
              "        [[241, 241, 241],\n",
              "         [252, 252, 252],\n",
              "         [255, 255, 255],\n",
              "         ...,\n",
              "         [255, 255, 255],\n",
              "         [255, 255, 255],\n",
              "         [255, 255, 255]],\n",
              " \n",
              "        [[250, 250, 250],\n",
              "         [249, 249, 249],\n",
              "         [237, 237, 237],\n",
              "         ...,\n",
              "         [255, 255, 255],\n",
              "         [255, 255, 255],\n",
              "         [255, 255, 255]],\n",
              " \n",
              "        ...,\n",
              " \n",
              "        [[233, 219, 220],\n",
              "         [235, 221, 222],\n",
              "         [231, 215, 216],\n",
              "         ...,\n",
              "         [175, 208, 204],\n",
              "         [178, 211, 207],\n",
              "         [176, 209, 205]],\n",
              " \n",
              "        [[227, 213, 214],\n",
              "         [229, 215, 216],\n",
              "         [226, 210, 211],\n",
              "         ...,\n",
              "         [179, 210, 207],\n",
              "         [185, 216, 213],\n",
              "         [183, 214, 211]],\n",
              " \n",
              "        [[228, 214, 215],\n",
              "         [231, 217, 218],\n",
              "         [227, 211, 212],\n",
              "         ...,\n",
              "         [182, 213, 210],\n",
              "         [191, 222, 219],\n",
              "         [188, 219, 216]]], dtype=uint8)\n",
              " orig_shape: (640, 640)\n",
              " path: '/content/drive/Shareddrives/CV CEP/test/images/a34aeb21-ffe8-4357-80d3-8f212c62c816___new_main_cropped-jpg_jpeg.rf.828e228f88136d64c8b65c16d3ce9ee0.jpg'\n",
              " probs: None\n",
              " save_dir: 'runs/detect/predict'\n",
              " speed: {'preprocess': 2.4398699999892415, 'inference': 7.785571999875174, 'postprocess': 1.3179439999930764},\n",
              " ultralytics.engine.results.Results object with attributes:\n",
              " \n",
              " boxes: ultralytics.engine.results.Boxes object\n",
              " keypoints: None\n",
              " masks: None\n",
              " names: {0: 'LicensePlate'}\n",
              " obb: None\n",
              " orig_img: array([[[ 89, 141, 177],\n",
              "         [115, 168, 201],\n",
              "         [ 75, 123, 157],\n",
              "         ...,\n",
              "         [ 36,  68,  91],\n",
              "         [ 41,  72,  93],\n",
              "         [ 48,  79, 100]],\n",
              " \n",
              "        [[ 98, 150, 186],\n",
              "         [120, 173, 206],\n",
              "         [ 74, 122, 156],\n",
              "         ...,\n",
              "         [ 70, 103, 123],\n",
              "         [104, 135, 156],\n",
              "         [111, 142, 163]],\n",
              " \n",
              "        [[121, 173, 209],\n",
              "         [139, 192, 225],\n",
              "         [ 91, 139, 173],\n",
              "         ...,\n",
              "         [ 75, 108, 128],\n",
              "         [105, 136, 157],\n",
              "         [ 93, 125, 144]],\n",
              " \n",
              "        ...,\n",
              " \n",
              "        [[113, 129, 152],\n",
              "         [134, 150, 173],\n",
              "         [148, 164, 187],\n",
              "         ...,\n",
              "         [150, 168, 191],\n",
              "         [143, 162, 183],\n",
              "         [145, 164, 185]],\n",
              " \n",
              "        [[ 66,  83, 104],\n",
              "         [101, 118, 139],\n",
              "         [108, 125, 146],\n",
              "         ...,\n",
              "         [153, 171, 194],\n",
              "         [149, 168, 189],\n",
              "         [156, 175, 196]],\n",
              " \n",
              "        [[ 45,  62,  83],\n",
              "         [ 90, 107, 128],\n",
              "         [ 94, 111, 132],\n",
              "         ...,\n",
              "         [154, 172, 195],\n",
              "         [154, 173, 194],\n",
              "         [165, 184, 205]]], dtype=uint8)\n",
              " orig_shape: (640, 640)\n",
              " path: '/content/drive/Shareddrives/CV CEP/test/images/a615016b-4d07-46c7-a52b-8d4319fe3a10___3e7fd381-0ae5-4421-8a70-279ee0ec1c61_nissan-terrano-rear-view_jpg.rf.ff543fec9e3593393ff7057a86f025d1.jpg'\n",
              " probs: None\n",
              " save_dir: 'runs/detect/predict'\n",
              " speed: {'preprocess': 2.4428619999525836, 'inference': 7.630804999962493, 'postprocess': 1.975587999822892},\n",
              " ultralytics.engine.results.Results object with attributes:\n",
              " \n",
              " boxes: ultralytics.engine.results.Boxes object\n",
              " keypoints: None\n",
              " masks: None\n",
              " names: {0: 'LicensePlate'}\n",
              " obb: None\n",
              " orig_img: array([[[102, 139, 173],\n",
              "         [114, 151, 185],\n",
              "         [121, 157, 195],\n",
              "         ...,\n",
              "         [ 40,  72, 101],\n",
              "         [ 38,  70,  99],\n",
              "         [ 38,  70,  99]],\n",
              " \n",
              "        [[120, 156, 192],\n",
              "         [124, 160, 196],\n",
              "         [121, 157, 195],\n",
              "         ...,\n",
              "         [ 44,  76, 105],\n",
              "         [ 43,  75, 104],\n",
              "         [ 42,  74, 103]],\n",
              " \n",
              "        [[138, 175, 213],\n",
              "         [134, 170, 210],\n",
              "         [120, 155, 198],\n",
              "         ...,\n",
              "         [ 49,  81, 110],\n",
              "         [ 47,  79, 108],\n",
              "         [ 46,  78, 107]],\n",
              " \n",
              "        ...,\n",
              " \n",
              "        [[ 10,  34,  46],\n",
              "         [189, 215, 227],\n",
              "         [205, 229, 241],\n",
              "         ...,\n",
              "         [ 36,  43,  62],\n",
              "         [ 37,  44,  63],\n",
              "         [ 37,  44,  63]],\n",
              " \n",
              "        [[ 13,  39,  53],\n",
              "         [189, 216, 230],\n",
              "         [204, 230, 244],\n",
              "         ...,\n",
              "         [ 37,  44,  63],\n",
              "         [ 38,  45,  64],\n",
              "         [ 38,  45,  64]],\n",
              " \n",
              "        [[ 15,  42,  56],\n",
              "         [190, 217, 231],\n",
              "         [203, 229, 245],\n",
              "         ...,\n",
              "         [ 37,  44,  63],\n",
              "         [ 38,  45,  64],\n",
              "         [ 39,  46,  65]]], dtype=uint8)\n",
              " orig_shape: (640, 640)\n",
              " path: '/content/drive/Shareddrives/CV CEP/test/images/ae0bb069-0e7e-412a-9473-e8e0d4041cbc___135718d1400912281-skoda-rapid-1-6tdi-cr-mt-elegance-ultima-candy-white-white-monster-_mg_3000comp-jpg_jpeg.rf.48c0b5ecc4f3ab2f93bdc9ae95db4411.jpg'\n",
              " probs: None\n",
              " save_dir: 'runs/detect/predict'\n",
              " speed: {'preprocess': 2.414873000134321, 'inference': 7.436004999817669, 'postprocess': 1.2717019999399781},\n",
              " ultralytics.engine.results.Results object with attributes:\n",
              " \n",
              " boxes: ultralytics.engine.results.Boxes object\n",
              " keypoints: None\n",
              " masks: None\n",
              " names: {0: 'LicensePlate'}\n",
              " obb: None\n",
              " orig_img: array([[[7, 7, 7],\n",
              "         [7, 7, 7],\n",
              "         [7, 7, 7],\n",
              "         ...,\n",
              "         [7, 7, 7],\n",
              "         [7, 7, 7],\n",
              "         [7, 7, 7]],\n",
              " \n",
              "        [[7, 7, 7],\n",
              "         [7, 7, 7],\n",
              "         [7, 7, 7],\n",
              "         ...,\n",
              "         [7, 7, 7],\n",
              "         [7, 7, 7],\n",
              "         [7, 7, 7]],\n",
              " \n",
              "        [[7, 7, 7],\n",
              "         [7, 7, 7],\n",
              "         [7, 7, 7],\n",
              "         ...,\n",
              "         [7, 7, 7],\n",
              "         [7, 7, 7],\n",
              "         [7, 7, 7]],\n",
              " \n",
              "        ...,\n",
              " \n",
              "        [[7, 7, 7],\n",
              "         [7, 7, 7],\n",
              "         [7, 7, 7],\n",
              "         ...,\n",
              "         [7, 7, 7],\n",
              "         [7, 7, 7],\n",
              "         [7, 7, 7]],\n",
              " \n",
              "        [[7, 7, 7],\n",
              "         [7, 7, 7],\n",
              "         [7, 7, 7],\n",
              "         ...,\n",
              "         [7, 7, 7],\n",
              "         [7, 7, 7],\n",
              "         [7, 7, 7]],\n",
              " \n",
              "        [[7, 7, 7],\n",
              "         [7, 7, 7],\n",
              "         [7, 7, 7],\n",
              "         ...,\n",
              "         [7, 7, 7],\n",
              "         [7, 7, 7],\n",
              "         [7, 7, 7]]], dtype=uint8)\n",
              " orig_shape: (640, 640)\n",
              " path: '/content/drive/Shareddrives/CV CEP/test/images/af058398-67d6-4d0e-a6d9-afc1cb184e5b___3e7fd381-0ae5-4421-8a70-279ee0ec1c61_hqdefault3_jpg.rf.807588f4bc1f18b137ee9c5d2e169eae.jpg'\n",
              " probs: None\n",
              " save_dir: 'runs/detect/predict'\n",
              " speed: {'preprocess': 2.4830770000789926, 'inference': 7.473939999954382, 'postprocess': 1.3951920000181417},\n",
              " ultralytics.engine.results.Results object with attributes:\n",
              " \n",
              " boxes: ultralytics.engine.results.Boxes object\n",
              " keypoints: None\n",
              " masks: None\n",
              " names: {0: 'LicensePlate'}\n",
              " obb: None\n",
              " orig_img: array([[[ 77,  68,  59],\n",
              "         [ 70,  63,  54],\n",
              "         [ 90,  83,  74],\n",
              "         ...,\n",
              "         [138, 183, 166],\n",
              "         [ 65, 113,  95],\n",
              "         [ 66, 114,  96]],\n",
              " \n",
              "        [[ 77,  68,  59],\n",
              "         [ 72,  65,  56],\n",
              "         [ 93,  86,  77],\n",
              "         ...,\n",
              "         [134, 179, 162],\n",
              "         [ 72, 117, 100],\n",
              "         [ 72, 120, 102]],\n",
              " \n",
              "        [[ 68,  59,  50],\n",
              "         [ 67,  60,  51],\n",
              "         [ 93,  86,  77],\n",
              "         ...,\n",
              "         [131, 174, 159],\n",
              "         [ 91, 134, 119],\n",
              "         [ 97, 142, 126]],\n",
              " \n",
              "        ...,\n",
              " \n",
              "        [[100, 132, 185],\n",
              "         [103, 135, 188],\n",
              "         [107, 139, 192],\n",
              "         ...,\n",
              "         [ 68,  86, 117],\n",
              "         [ 68,  86, 117],\n",
              "         [ 67,  85, 116]],\n",
              " \n",
              "        [[ 98, 130, 183],\n",
              "         [101, 133, 186],\n",
              "         [106, 138, 191],\n",
              "         ...,\n",
              "         [ 78,  96, 127],\n",
              "         [ 78,  96, 127],\n",
              "         [ 77,  95, 126]],\n",
              " \n",
              "        [[ 97, 129, 182],\n",
              "         [100, 132, 185],\n",
              "         [106, 138, 191],\n",
              "         ...,\n",
              "         [ 78,  96, 127],\n",
              "         [ 77,  95, 126],\n",
              "         [ 76,  94, 125]]], dtype=uint8)\n",
              " orig_shape: (640, 640)\n",
              " path: '/content/drive/Shareddrives/CV CEP/test/images/b266759c-f9e9-47c1-9042-4c7aef7d441d___1711769d1514801394t-toyota-innova-crysta-2-4-gx-ownership-review-edit-10-000-km-service-done-vs-jpg_jpeg.rf.b919c50f7f8ad8a9c87be29e465060e1.jpg'\n",
              " probs: None\n",
              " save_dir: 'runs/detect/predict'\n",
              " speed: {'preprocess': 2.4234899999555637, 'inference': 7.852793999973073, 'postprocess': 1.263406999896688},\n",
              " ultralytics.engine.results.Results object with attributes:\n",
              " \n",
              " boxes: ultralytics.engine.results.Boxes object\n",
              " keypoints: None\n",
              " masks: None\n",
              " names: {0: 'LicensePlate'}\n",
              " obb: None\n",
              " orig_img: array([[[131, 131, 125],\n",
              "         [133, 133, 127],\n",
              "         [135, 132, 127],\n",
              "         ...,\n",
              "         [172, 163, 160],\n",
              "         [171, 162, 159],\n",
              "         [171, 162, 159]],\n",
              " \n",
              "        [[131, 131, 125],\n",
              "         [133, 133, 127],\n",
              "         [135, 132, 127],\n",
              "         ...,\n",
              "         [172, 163, 160],\n",
              "         [172, 163, 160],\n",
              "         [172, 163, 160]],\n",
              " \n",
              "        [[133, 130, 125],\n",
              "         [135, 132, 127],\n",
              "         [135, 132, 127],\n",
              "         ...,\n",
              "         [172, 163, 160],\n",
              "         [173, 164, 161],\n",
              "         [174, 165, 162]],\n",
              " \n",
              "        ...,\n",
              " \n",
              "        [[ 75,  85,  92],\n",
              "         [ 75,  85,  92],\n",
              "         [ 77,  88,  96],\n",
              "         ...,\n",
              "         [113, 127, 145],\n",
              "         [124, 138, 156],\n",
              "         [124, 138, 156]],\n",
              " \n",
              "        [[ 82,  92,  99],\n",
              "         [ 82,  92,  99],\n",
              "         [ 82,  93, 101],\n",
              "         ...,\n",
              "         [126, 140, 158],\n",
              "         [134, 148, 166],\n",
              "         [133, 147, 165]],\n",
              " \n",
              "        [[ 84,  94, 101],\n",
              "         [ 84,  94, 101],\n",
              "         [ 81,  92, 100],\n",
              "         ...,\n",
              "         [130, 144, 162],\n",
              "         [128, 142, 160],\n",
              "         [123, 137, 155]]], dtype=uint8)\n",
              " orig_shape: (640, 640)\n",
              " path: '/content/drive/Shareddrives/CV CEP/test/images/b79f870d-15c7-48e3-8874-7c0e53e29f75___3e7fd381-0ae5-4421-8a70-279ee0ec1c61_754eab882b8290b29a0454dd45580a39_555X416_1-Copy-2-_jpg.rf.f4c6a410ba9825cd3550ebd7c6b97d36.jpg'\n",
              " probs: None\n",
              " save_dir: 'runs/detect/predict'\n",
              " speed: {'preprocess': 3.2839489999787475, 'inference': 8.823251999956483, 'postprocess': 1.6978329999801645},\n",
              " ultralytics.engine.results.Results object with attributes:\n",
              " \n",
              " boxes: ultralytics.engine.results.Boxes object\n",
              " keypoints: None\n",
              " masks: None\n",
              " names: {0: 'LicensePlate'}\n",
              " obb: None\n",
              " orig_img: array([[[215, 216, 214],\n",
              "         [220, 221, 219],\n",
              "         [224, 225, 223],\n",
              "         ...,\n",
              "         [236, 253, 249],\n",
              "         [241, 255, 254],\n",
              "         [234, 254, 249]],\n",
              " \n",
              "        [[227, 228, 226],\n",
              "         [224, 227, 225],\n",
              "         [226, 227, 225],\n",
              "         ...,\n",
              "         [235, 252, 248],\n",
              "         [228, 248, 243],\n",
              "         [232, 254, 249]],\n",
              " \n",
              "        [[227, 230, 228],\n",
              "         [217, 222, 220],\n",
              "         [212, 215, 213],\n",
              "         ...,\n",
              "         [233, 255, 250],\n",
              "         [236, 255, 254],\n",
              "         [236, 255, 254]],\n",
              " \n",
              "        ...,\n",
              " \n",
              "        [[255, 255, 254],\n",
              "         [241, 242, 240],\n",
              "         [218, 219, 217],\n",
              "         ...,\n",
              "         [244, 245, 243],\n",
              "         [247, 248, 246],\n",
              "         [249, 250, 248]],\n",
              " \n",
              "        [[236, 237, 235],\n",
              "         [240, 241, 239],\n",
              "         [248, 249, 247],\n",
              "         ...,\n",
              "         [245, 245, 245],\n",
              "         [244, 244, 244],\n",
              "         [245, 245, 245]],\n",
              " \n",
              "        [[248, 249, 247],\n",
              "         [243, 244, 242],\n",
              "         [245, 246, 244],\n",
              "         ...,\n",
              "         [248, 248, 248],\n",
              "         [246, 246, 246],\n",
              "         [246, 246, 246]]], dtype=uint8)\n",
              " orig_shape: (640, 640)\n",
              " path: '/content/drive/Shareddrives/CV CEP/test/images/b79f870d-15c7-48e3-8874-7c0e53e29f75___3e7fd381-0ae5-4421-8a70-279ee0ec1c61_754eab882b8290b29a0454dd45580a39_555X416_1_jpg.rf.3ad6e7b81f95f91609908cdf7d44e7b7.jpg'\n",
              " probs: None\n",
              " save_dir: 'runs/detect/predict'\n",
              " speed: {'preprocess': 2.535861000069417, 'inference': 7.465369999863469, 'postprocess': 1.2675139998918894},\n",
              " ultralytics.engine.results.Results object with attributes:\n",
              " \n",
              " boxes: ultralytics.engine.results.Boxes object\n",
              " keypoints: None\n",
              " masks: None\n",
              " names: {0: 'LicensePlate'}\n",
              " obb: None\n",
              " orig_img: array([[[ 17,  53,  29],\n",
              "         [ 47,  83,  59],\n",
              "         [ 64,  95,  74],\n",
              "         ...,\n",
              "         [ 40,  88,  76],\n",
              "         [ 73, 126, 113],\n",
              "         [ 87, 144, 129]],\n",
              " \n",
              "        [[ 41,  77,  53],\n",
              "         [ 53,  89,  65],\n",
              "         [ 53,  84,  63],\n",
              "         ...,\n",
              "         [ 44,  92,  80],\n",
              "         [ 70, 123, 110],\n",
              "         [ 79, 136, 121]],\n",
              " \n",
              "        [[ 73, 109,  85],\n",
              "         [ 60,  96,  72],\n",
              "         [ 33,  64,  43],\n",
              "         ...,\n",
              "         [ 45,  93,  81],\n",
              "         [ 61, 114, 101],\n",
              "         [ 64, 121, 106]],\n",
              " \n",
              "        ...,\n",
              " \n",
              "        [[ 71,  81,  81],\n",
              "         [ 59,  69,  69],\n",
              "         [ 57,  67,  67],\n",
              "         ...,\n",
              "         [173, 180, 195],\n",
              "         [171, 178, 195],\n",
              "         [165, 172, 189]],\n",
              " \n",
              "        [[ 72,  84,  86],\n",
              "         [ 54,  66,  68],\n",
              "         [ 52,  64,  66],\n",
              "         ...,\n",
              "         [165, 170, 185],\n",
              "         [162, 166, 184],\n",
              "         [153, 157, 176]],\n",
              " \n",
              "        [[ 69,  81,  83],\n",
              "         [ 47,  59,  61],\n",
              "         [ 46,  58,  60],\n",
              "         ...,\n",
              "         [163, 168, 183],\n",
              "         [165, 166, 186],\n",
              "         [152, 153, 173]]], dtype=uint8)\n",
              " orig_shape: (640, 640)\n",
              " path: '/content/drive/Shareddrives/CV CEP/test/images/bbf22d00-3dd6-4338-b701-264e0c0c0aff___Maruti-Swift-DZire-Photos-1-jpg_jpeg.rf.471571ffc14efb29ba6836b9a79f3338.jpg'\n",
              " probs: None\n",
              " save_dir: 'runs/detect/predict'\n",
              " speed: {'preprocess': 3.322719000152574, 'inference': 13.258267000082924, 'postprocess': 2.150748000076419},\n",
              " ultralytics.engine.results.Results object with attributes:\n",
              " \n",
              " boxes: ultralytics.engine.results.Boxes object\n",
              " keypoints: None\n",
              " masks: None\n",
              " names: {0: 'LicensePlate'}\n",
              " obb: None\n",
              " orig_img: array([[[ 93, 163, 187],\n",
              "         [ 92, 162, 186],\n",
              "         [ 86, 156, 180],\n",
              "         ...,\n",
              "         [ 85,  89,  94],\n",
              "         [ 99, 103, 108],\n",
              "         [115, 119, 124]],\n",
              " \n",
              "        [[ 97, 167, 191],\n",
              "         [ 92, 162, 186],\n",
              "         [ 82, 152, 176],\n",
              "         ...,\n",
              "         [ 76,  80,  85],\n",
              "         [ 87,  91,  96],\n",
              "         [102, 106, 111]],\n",
              " \n",
              "        [[ 90, 160, 184],\n",
              "         [ 81, 151, 175],\n",
              "         [ 67, 137, 161],\n",
              "         ...,\n",
              "         [ 61,  65,  70],\n",
              "         [ 70,  74,  79],\n",
              "         [ 84,  88,  93]],\n",
              " \n",
              "        ...,\n",
              " \n",
              "        [[ 65,  76,  74],\n",
              "         [ 54,  65,  63],\n",
              "         [ 26,  39,  37],\n",
              "         ...,\n",
              "         [124, 139, 155],\n",
              "         [124, 139, 155],\n",
              "         [146, 161, 177]],\n",
              " \n",
              "        [[ 75,  88,  86],\n",
              "         [ 65,  78,  76],\n",
              "         [ 41,  54,  52],\n",
              "         ...,\n",
              "         [153, 166, 182],\n",
              "         [151, 164, 180],\n",
              "         [168, 181, 197]],\n",
              " \n",
              "        [[ 83,  96,  94],\n",
              "         [ 74,  87,  85],\n",
              "         [ 48,  61,  59],\n",
              "         ...,\n",
              "         [166, 179, 195],\n",
              "         [163, 176, 192],\n",
              "         [174, 187, 203]]], dtype=uint8)\n",
              " orig_shape: (640, 640)\n",
              " path: '/content/drive/Shareddrives/CV CEP/test/images/bd742e42-bacc-430e-b9aa-9df666f5d9b3___kicker-647_010517112446-jpg_jpeg.rf.72992f680e38e8242647041b1b03f4eb.jpg'\n",
              " probs: None\n",
              " save_dir: 'runs/detect/predict'\n",
              " speed: {'preprocess': 2.4409259999629285, 'inference': 7.440264000024399, 'postprocess': 1.2752589998399344},\n",
              " ultralytics.engine.results.Results object with attributes:\n",
              " \n",
              " boxes: ultralytics.engine.results.Boxes object\n",
              " keypoints: None\n",
              " masks: None\n",
              " names: {0: 'LicensePlate'}\n",
              " obb: None\n",
              " orig_img: array([[[  8,   0,  20],\n",
              "         [ 14,   5,  31],\n",
              "         [ 49,  40,  73],\n",
              "         ...,\n",
              "         [ 86,  91,  94],\n",
              "         [ 85,  89,  94],\n",
              "         [ 85,  89,  94]],\n",
              " \n",
              "        [[ 16,   8,  31],\n",
              "         [ 22,  13,  39],\n",
              "         [ 54,  47,  80],\n",
              "         ...,\n",
              "         [ 89,  94,  97],\n",
              "         [ 94,  98, 103],\n",
              "         [ 97, 101, 106]],\n",
              " \n",
              "        [[  8,   2,  27],\n",
              "         [  8,   3,  30],\n",
              "         [ 33,  27,  62],\n",
              "         ...,\n",
              "         [ 65,  68,  72],\n",
              "         [ 70,  73,  78],\n",
              "         [ 72,  75,  80]],\n",
              " \n",
              "        ...,\n",
              " \n",
              "        [[150, 177, 204],\n",
              "         [150, 177, 204],\n",
              "         [149, 176, 203],\n",
              "         ...,\n",
              "         [ 37,  57,  62],\n",
              "         [ 42,  61,  68],\n",
              "         [ 50,  70,  75]],\n",
              " \n",
              "        [[149, 176, 203],\n",
              "         [149, 176, 203],\n",
              "         [147, 174, 201],\n",
              "         ...,\n",
              "         [ 42,  61,  64],\n",
              "         [ 51,  70,  75],\n",
              "         [ 63,  82,  85]],\n",
              " \n",
              "        [[149, 176, 203],\n",
              "         [148, 175, 202],\n",
              "         [145, 172, 199],\n",
              "         ...,\n",
              "         [ 45,  62,  65],\n",
              "         [ 53,  72,  75],\n",
              "         [ 66,  85,  88]]], dtype=uint8)\n",
              " orig_shape: (640, 640)\n",
              " path: '/content/drive/Shareddrives/CV CEP/test/images/c8a79e91-8c48-42d0-9b80-137fd033493c___automakers-number-plates-nitin-gadkari_827x510_61522653557-jpg_jpeg.rf.403746072d242ffa3ef8cc6937f36dc7.jpg'\n",
              " probs: None\n",
              " save_dir: 'runs/detect/predict'\n",
              " speed: {'preprocess': 2.530129999968267, 'inference': 7.45371600010003, 'postprocess': 1.8130009998458263},\n",
              " ultralytics.engine.results.Results object with attributes:\n",
              " \n",
              " boxes: ultralytics.engine.results.Boxes object\n",
              " keypoints: None\n",
              " masks: None\n",
              " names: {0: 'LicensePlate'}\n",
              " obb: None\n",
              " orig_img: array([[[119, 138, 145],\n",
              "         [126, 145, 152],\n",
              "         [136, 156, 161],\n",
              "         ...,\n",
              "         [ 82, 130, 136],\n",
              "         [ 84, 135, 145],\n",
              "         [ 81, 134, 144]],\n",
              " \n",
              "        [[120, 139, 146],\n",
              "         [124, 143, 150],\n",
              "         [131, 151, 156],\n",
              "         ...,\n",
              "         [ 98, 146, 152],\n",
              "         [ 92, 143, 153],\n",
              "         [ 82, 135, 145]],\n",
              " \n",
              "        [[128, 148, 153],\n",
              "         [127, 147, 152],\n",
              "         [130, 150, 155],\n",
              "         ...,\n",
              "         [ 73, 119, 126],\n",
              "         [ 55, 104, 114],\n",
              "         [ 34,  85,  95]],\n",
              " \n",
              "        ...,\n",
              " \n",
              "        [[ 46,  53,  62],\n",
              "         [ 74,  81,  90],\n",
              "         [101, 108, 117],\n",
              "         ...,\n",
              "         [  8,   8,   8],\n",
              "         [  5,   6,   4],\n",
              "         [  5,   6,   4]],\n",
              " \n",
              "        [[ 44,  50,  61],\n",
              "         [ 52,  58,  69],\n",
              "         [ 57,  63,  74],\n",
              "         ...,\n",
              "         [ 14,  14,  14],\n",
              "         [  7,   7,   7],\n",
              "         [  4,   4,   4]],\n",
              " \n",
              "        [[ 53,  59,  70],\n",
              "         [ 57,  63,  74],\n",
              "         [ 61,  67,  78],\n",
              "         ...,\n",
              "         [ 21,  21,  21],\n",
              "         [ 13,  13,  13],\n",
              "         [  8,   8,   8]]], dtype=uint8)\n",
              " orig_shape: (640, 640)\n",
              " path: '/content/drive/Shareddrives/CV CEP/test/images/car-wbs-KA05MG1909_00000_png.rf.449e2f3e360b22d16265fe7d7c2d0d50.jpg'\n",
              " probs: None\n",
              " save_dir: 'runs/detect/predict'\n",
              " speed: {'preprocess': 2.4763809999512887, 'inference': 7.447552000030555, 'postprocess': 2.1982599998864316},\n",
              " ultralytics.engine.results.Results object with attributes:\n",
              " \n",
              " boxes: ultralytics.engine.results.Boxes object\n",
              " keypoints: None\n",
              " masks: None\n",
              " names: {0: 'LicensePlate'}\n",
              " obb: None\n",
              " orig_img: array([[[118, 101,  88],\n",
              "         [120, 103,  90],\n",
              "         [125, 108,  95],\n",
              "         ...,\n",
              "         [  0,   0,   0],\n",
              "         [ 10,  10,  10],\n",
              "         [  6,   7,   5]],\n",
              " \n",
              "        [[119, 102,  89],\n",
              "         [121, 104,  91],\n",
              "         [125, 108,  95],\n",
              "         ...,\n",
              "         [  0,   0,   0],\n",
              "         [ 10,  10,  10],\n",
              "         [  4,   5,   3]],\n",
              " \n",
              "        [[120, 103,  90],\n",
              "         [121, 104,  91],\n",
              "         [124, 107,  94],\n",
              "         ...,\n",
              "         [  0,   0,   0],\n",
              "         [ 10,  10,  10],\n",
              "         [  2,   3,   1]],\n",
              " \n",
              "        ...,\n",
              " \n",
              "        [[117, 144, 230],\n",
              "         [116, 143, 229],\n",
              "         [115, 143, 227],\n",
              "         ...,\n",
              "         [ 73,  96, 134],\n",
              "         [105, 127, 169],\n",
              "         [119, 140, 185]],\n",
              " \n",
              "        [[117, 144, 230],\n",
              "         [116, 143, 229],\n",
              "         [116, 144, 228],\n",
              "         ...,\n",
              "         [ 88, 110, 151],\n",
              "         [105, 126, 171],\n",
              "         [108, 128, 175]],\n",
              " \n",
              "        [[117, 144, 230],\n",
              "         [116, 143, 229],\n",
              "         [117, 145, 229],\n",
              "         ...,\n",
              "         [ 86, 108, 149],\n",
              "         [106, 126, 173],\n",
              "         [112, 132, 180]]], dtype=uint8)\n",
              " orig_shape: (640, 640)\n",
              " path: '/content/drive/Shareddrives/CV CEP/test/images/car-wbs-KL454455_00000_jpeg.rf.470356f57b524a3b7c1294efb8ea5ea2.jpg'\n",
              " probs: None\n",
              " save_dir: 'runs/detect/predict'\n",
              " speed: {'preprocess': 2.457581000044229, 'inference': 7.454722999909791, 'postprocess': 1.2494960001276922},\n",
              " ultralytics.engine.results.Results object with attributes:\n",
              " \n",
              " boxes: ultralytics.engine.results.Boxes object\n",
              " keypoints: None\n",
              " masks: None\n",
              " names: {0: 'LicensePlate'}\n",
              " obb: None\n",
              " orig_img: array([[[ 32,  45,  21],\n",
              "         [ 29,  42,  18],\n",
              "         [ 27,  39,  17],\n",
              "         ...,\n",
              "         [151, 129, 188],\n",
              "         [183, 159, 217],\n",
              "         [194, 171, 226]],\n",
              " \n",
              "        [[ 40,  53,  29],\n",
              "         [ 36,  49,  25],\n",
              "         [ 31,  43,  21],\n",
              "         ...,\n",
              "         [152, 130, 189],\n",
              "         [182, 158, 216],\n",
              "         [191, 168, 223]],\n",
              " \n",
              "        [[ 25,  35,  12],\n",
              "         [ 24,  34,  11],\n",
              "         [ 23,  32,  11],\n",
              "         ...,\n",
              "         [154, 132, 191],\n",
              "         [183, 159, 217],\n",
              "         [193, 170, 225]],\n",
              " \n",
              "        ...,\n",
              " \n",
              "        [[  7,   7,   7],\n",
              "         [  7,   7,   7],\n",
              "         [  7,   7,   7],\n",
              "         ...,\n",
              "         [ 39,  40,   0],\n",
              "         [ 46,  47,   5],\n",
              "         [ 53,  54,  12]],\n",
              " \n",
              "        [[  7,   7,   7],\n",
              "         [  7,   7,   7],\n",
              "         [  7,   7,   7],\n",
              "         ...,\n",
              "         [ 60,  57,  13],\n",
              "         [ 70,  64,  21],\n",
              "         [ 76,  70,  27]],\n",
              " \n",
              "        [[  7,   7,   7],\n",
              "         [  7,   7,   7],\n",
              "         [  7,   7,   7],\n",
              "         ...,\n",
              "         [ 62,  56,  13],\n",
              "         [ 70,  64,  19],\n",
              "         [ 75,  69,  24]]], dtype=uint8)\n",
              " orig_shape: (640, 640)\n",
              " path: '/content/drive/Shareddrives/CV CEP/test/images/car-wbs-KL60N5344_00000_jpeg.rf.5be64c5080cd2d5cc57cf0a44a870e2a.jpg'\n",
              " probs: None\n",
              " save_dir: 'runs/detect/predict'\n",
              " speed: {'preprocess': 3.280048999840801, 'inference': 8.956939000199782, 'postprocess': 1.5979290001268964},\n",
              " ultralytics.engine.results.Results object with attributes:\n",
              " \n",
              " boxes: ultralytics.engine.results.Boxes object\n",
              " keypoints: None\n",
              " masks: None\n",
              " names: {0: 'LicensePlate'}\n",
              " obb: None\n",
              " orig_img: array([[[ 17,  20,  28],\n",
              "         [ 15,  21,  28],\n",
              "         [ 18,  26,  33],\n",
              "         ...,\n",
              "         [255, 248, 214],\n",
              "         [255, 245, 211],\n",
              "         [253, 241, 207]],\n",
              " \n",
              "        [[ 10,  13,  21],\n",
              "         [  3,   9,  16],\n",
              "         [  0,   8,  15],\n",
              "         ...,\n",
              "         [255, 246, 212],\n",
              "         [255, 245, 211],\n",
              "         [253, 243, 209]],\n",
              " \n",
              "        [[ 13,  15,  23],\n",
              "         [  7,  10,  18],\n",
              "         [  3,   9,  16],\n",
              "         ...,\n",
              "         [253, 244, 210],\n",
              "         [254, 245, 211],\n",
              "         [254, 245, 211]],\n",
              " \n",
              "        ...,\n",
              " \n",
              "        [[134, 184, 250],\n",
              "         [141, 189, 253],\n",
              "         [150, 196, 255],\n",
              "         ...,\n",
              "         [119, 152, 202],\n",
              "         [115, 150, 200],\n",
              "         [113, 148, 198]],\n",
              " \n",
              "        [[139, 187, 251],\n",
              "         [143, 192, 254],\n",
              "         [152, 199, 255],\n",
              "         ...,\n",
              "         [112, 145, 195],\n",
              "         [115, 150, 200],\n",
              "         [119, 154, 204]],\n",
              " \n",
              "        [[137, 186, 248],\n",
              "         [140, 189, 251],\n",
              "         [153, 198, 255],\n",
              "         ...,\n",
              "         [110, 143, 193],\n",
              "         [114, 147, 197],\n",
              "         [115, 150, 200]]], dtype=uint8)\n",
              " orig_shape: (640, 640)\n",
              " path: '/content/drive/Shareddrives/CV CEP/test/images/car-wbs-KL65H4383_00000_jpg.rf.ee577143c72d0abc71fe09bbf3676349.jpg'\n",
              " probs: None\n",
              " save_dir: 'runs/detect/predict'\n",
              " speed: {'preprocess': 3.195225000126811, 'inference': 11.974458000167942, 'postprocess': 1.9409310000355617},\n",
              " ultralytics.engine.results.Results object with attributes:\n",
              " \n",
              " boxes: ultralytics.engine.results.Boxes object\n",
              " keypoints: None\n",
              " masks: None\n",
              " names: {0: 'LicensePlate'}\n",
              " obb: None\n",
              " orig_img: array([[[  7,   7,   7],\n",
              "         [  7,   7,   7],\n",
              "         [  7,   7,   7],\n",
              "         ...,\n",
              "         [  5,   9,   4],\n",
              "         [  7,   9,   3],\n",
              "         [  8,   9,   0]],\n",
              " \n",
              "        [[  7,   7,   7],\n",
              "         [  7,   7,   7],\n",
              "         [  7,   7,   7],\n",
              "         ...,\n",
              "         [  5,   9,   4],\n",
              "         [  7,   9,   3],\n",
              "         [  8,   9,   0]],\n",
              " \n",
              "        [[  7,   7,   7],\n",
              "         [  7,   7,   7],\n",
              "         [  7,   7,   7],\n",
              "         ...,\n",
              "         [  5,   9,   4],\n",
              "         [  7,   9,   3],\n",
              "         [  8,   9,   0]],\n",
              " \n",
              "        ...,\n",
              " \n",
              "        [[ 50,  55,  53],\n",
              "         [ 55,  60,  58],\n",
              "         [ 61,  66,  64],\n",
              "         ...,\n",
              "         [ 96,  99,  97],\n",
              "         [ 97, 100,  98],\n",
              "         [ 93,  96,  94]],\n",
              " \n",
              "        [[ 51,  56,  54],\n",
              "         [ 55,  60,  58],\n",
              "         [ 60,  65,  63],\n",
              "         ...,\n",
              "         [ 98, 101,  99],\n",
              "         [ 97, 100,  98],\n",
              "         [ 92,  95,  93]],\n",
              " \n",
              "        [[ 50,  55,  53],\n",
              "         [ 54,  59,  57],\n",
              "         [ 59,  64,  62],\n",
              "         ...,\n",
              "         [ 99, 102, 100],\n",
              "         [ 98, 101,  99],\n",
              "         [ 92,  95,  93]]], dtype=uint8)\n",
              " orig_shape: (640, 640)\n",
              " path: '/content/drive/Shareddrives/CV CEP/test/images/car-wbs-MH01BU5207_00000_jpeg.rf.7f0d430f56a2faabbe31ff039c408ac0.jpg'\n",
              " probs: None\n",
              " save_dir: 'runs/detect/predict'\n",
              " speed: {'preprocess': 2.5051259999600006, 'inference': 7.447572000046421, 'postprocess': 1.269445999923846},\n",
              " ultralytics.engine.results.Results object with attributes:\n",
              " \n",
              " boxes: ultralytics.engine.results.Boxes object\n",
              " keypoints: None\n",
              " masks: None\n",
              " names: {0: 'LicensePlate'}\n",
              " obb: None\n",
              " orig_img: array([[[138,  96,  51],\n",
              "         [138,  96,  51],\n",
              "         [137,  95,  50],\n",
              "         ...,\n",
              "         [255, 255, 255],\n",
              "         [255, 255, 255],\n",
              "         [255, 255, 255]],\n",
              " \n",
              "        [[135,  93,  48],\n",
              "         [135,  93,  48],\n",
              "         [134,  92,  47],\n",
              "         ...,\n",
              "         [255, 255, 255],\n",
              "         [255, 255, 255],\n",
              "         [255, 255, 255]],\n",
              " \n",
              "        [[132,  89,  46],\n",
              "         [132,  89,  46],\n",
              "         [132,  89,  46],\n",
              "         ...,\n",
              "         [255, 255, 255],\n",
              "         [255, 255, 255],\n",
              "         [255, 255, 255]],\n",
              " \n",
              "        ...,\n",
              " \n",
              "        [[121, 148, 138],\n",
              "         [122, 149, 139],\n",
              "         [124, 151, 141],\n",
              "         ...,\n",
              "         [162, 151, 137],\n",
              "         [165, 154, 140],\n",
              "         [169, 158, 144]],\n",
              " \n",
              "        [[121, 148, 138],\n",
              "         [121, 148, 138],\n",
              "         [121, 148, 138],\n",
              "         ...,\n",
              "         [162, 151, 137],\n",
              "         [165, 154, 140],\n",
              "         [169, 158, 144]],\n",
              " \n",
              "        [[124, 151, 141],\n",
              "         [123, 150, 140],\n",
              "         [122, 149, 139],\n",
              "         ...,\n",
              "         [163, 152, 138],\n",
              "         [166, 155, 141],\n",
              "         [170, 159, 145]]], dtype=uint8)\n",
              " orig_shape: (640, 640)\n",
              " path: '/content/drive/Shareddrives/CV CEP/test/images/car-wbs-MH02BM5048_00000_jpeg.rf.1cf2a40045d0cd8ec2ae37ffb586d5d0.jpg'\n",
              " probs: None\n",
              " save_dir: 'runs/detect/predict'\n",
              " speed: {'preprocess': 2.4528369999643473, 'inference': 7.471663999922384, 'postprocess': 1.2592159998803254},\n",
              " ultralytics.engine.results.Results object with attributes:\n",
              " \n",
              " boxes: ultralytics.engine.results.Boxes object\n",
              " keypoints: None\n",
              " masks: None\n",
              " names: {0: 'LicensePlate'}\n",
              " obb: None\n",
              " orig_img: array([[[ 73, 120,  88],\n",
              "         [ 57, 106,  74],\n",
              "         [ 49,  99,  69],\n",
              "         ...,\n",
              "         [ 24,  80,  61],\n",
              "         [ 24,  76,  59],\n",
              "         [ 51, 100,  84]],\n",
              " \n",
              "        [[ 74, 121,  89],\n",
              "         [ 58, 105,  73],\n",
              "         [ 46,  96,  66],\n",
              "         ...,\n",
              "         [ 25,  81,  62],\n",
              "         [ 22,  71,  55],\n",
              "         [ 41,  90,  74]],\n",
              " \n",
              "        [[ 73, 117,  86],\n",
              "         [ 53, 100,  68],\n",
              "         [ 40,  88,  59],\n",
              "         ...,\n",
              "         [ 19,  74,  55],\n",
              "         [ 17,  64,  48],\n",
              "         [ 33,  80,  64]],\n",
              " \n",
              "        ...,\n",
              " \n",
              "        [[ 10,   8,   7],\n",
              "         [ 32,  30,  29],\n",
              "         [ 34,  32,  31],\n",
              "         ...,\n",
              "         [ 56,  52,  51],\n",
              "         [ 20,  16,  15],\n",
              "         [ 68,  64,  63]],\n",
              " \n",
              "        [[ 28,  26,  25],\n",
              "         [ 56,  54,  53],\n",
              "         [ 46,  44,  43],\n",
              "         ...,\n",
              "         [ 55,  51,  50],\n",
              "         [  9,   5,   4],\n",
              "         [ 53,  49,  48]],\n",
              " \n",
              "        [[ 24,  22,  21],\n",
              "         [ 60,  58,  57],\n",
              "         [ 50,  48,  47],\n",
              "         ...,\n",
              "         [ 42,  38,  37],\n",
              "         [  6,   2,   1],\n",
              "         [ 62,  58,  57]]], dtype=uint8)\n",
              " orig_shape: (640, 640)\n",
              " path: '/content/drive/Shareddrives/CV CEP/test/images/car-wbs-MH06AW8929_00001_jpeg.rf.62a2db96910d0892484d9f6ce01f5b32.jpg'\n",
              " probs: None\n",
              " save_dir: 'runs/detect/predict'\n",
              " speed: {'preprocess': 2.452977000075407, 'inference': 7.449765000046682, 'postprocess': 1.3301029998729064},\n",
              " ultralytics.engine.results.Results object with attributes:\n",
              " \n",
              " boxes: ultralytics.engine.results.Boxes object\n",
              " keypoints: None\n",
              " masks: None\n",
              " names: {0: 'LicensePlate'}\n",
              " obb: None\n",
              " orig_img: array([[[154, 159, 168],\n",
              "         [129, 134, 143],\n",
              "         [101, 102, 112],\n",
              "         ...,\n",
              "         [216, 219, 223],\n",
              "         [219, 223, 228],\n",
              "         [211, 215, 220]],\n",
              " \n",
              "        [[145, 150, 159],\n",
              "         [128, 133, 142],\n",
              "         [113, 114, 124],\n",
              "         ...,\n",
              "         [206, 209, 213],\n",
              "         [209, 213, 218],\n",
              "         [205, 209, 214]],\n",
              " \n",
              "        [[140, 145, 154],\n",
              "         [140, 145, 154],\n",
              "         [105, 106, 116],\n",
              "         ...,\n",
              "         [218, 221, 225],\n",
              "         [213, 217, 222],\n",
              "         [210, 214, 219]],\n",
              " \n",
              "        ...,\n",
              " \n",
              "        [[ 42,  55,  53],\n",
              "         [ 49,  62,  60],\n",
              "         [ 61,  74,  72],\n",
              "         ...,\n",
              "         [ 61,  61,  61],\n",
              "         [ 59,  59,  59],\n",
              "         [ 57,  57,  57]],\n",
              " \n",
              "        [[ 53,  67,  65],\n",
              "         [ 56,  70,  68],\n",
              "         [ 66,  80,  78],\n",
              "         ...,\n",
              "         [ 64,  64,  64],\n",
              "         [ 62,  62,  62],\n",
              "         [ 60,  60,  60]],\n",
              " \n",
              "        [[ 46,  60,  58],\n",
              "         [ 48,  62,  60],\n",
              "         [ 58,  72,  70],\n",
              "         ...,\n",
              "         [ 65,  65,  65],\n",
              "         [ 63,  63,  63],\n",
              "         [ 62,  62,  62]]], dtype=uint8)\n",
              " orig_shape: (640, 640)\n",
              " path: '/content/drive/Shareddrives/CV CEP/test/images/car-wbs-MH20CS9817_00000_jpeg.rf.9992756e481d1fe38ad9c7c763655f25.jpg'\n",
              " probs: None\n",
              " save_dir: 'runs/detect/predict'\n",
              " speed: {'preprocess': 2.439245999994455, 'inference': 7.450410000046759, 'postprocess': 1.283073999957196},\n",
              " ultralytics.engine.results.Results object with attributes:\n",
              " \n",
              " boxes: ultralytics.engine.results.Boxes object\n",
              " keypoints: None\n",
              " masks: None\n",
              " names: {0: 'LicensePlate'}\n",
              " obb: None\n",
              " orig_img: array([[[152, 194, 201],\n",
              "         [155, 194, 202],\n",
              "         [171, 209, 214],\n",
              "         ...,\n",
              "         [ 88,  71,  58],\n",
              "         [ 70,  52,  41],\n",
              "         [ 62,  44,  33]],\n",
              " \n",
              "        [[157, 196, 204],\n",
              "         [161, 200, 208],\n",
              "         [174, 210, 216],\n",
              "         ...,\n",
              "         [ 85,  68,  55],\n",
              "         [ 68,  50,  39],\n",
              "         [ 60,  42,  31]],\n",
              " \n",
              "        [[151, 189, 194],\n",
              "         [161, 199, 204],\n",
              "         [170, 206, 212],\n",
              "         ...,\n",
              "         [ 80,  63,  50],\n",
              "         [ 64,  48,  36],\n",
              "         [ 59,  43,  31]],\n",
              " \n",
              "        ...,\n",
              " \n",
              "        [[ 61,  73,  73],\n",
              "         [ 63,  75,  75],\n",
              "         [ 66,  79,  77],\n",
              "         ...,\n",
              "         [ 11,  10,   6],\n",
              "         [ 37,  36,  32],\n",
              "         [ 47,  46,  42]],\n",
              " \n",
              "        [[ 60,  70,  70],\n",
              "         [ 61,  71,  71],\n",
              "         [ 64,  74,  74],\n",
              "         ...,\n",
              "         [  9,   8,   4],\n",
              "         [ 36,  35,  31],\n",
              "         [ 48,  47,  43]],\n",
              " \n",
              "        [[ 60,  70,  70],\n",
              "         [ 62,  72,  72],\n",
              "         [ 64,  74,  74],\n",
              "         ...,\n",
              "         [  8,   7,   3],\n",
              "         [ 35,  34,  30],\n",
              "         [ 49,  48,  44]]], dtype=uint8)\n",
              " orig_shape: (640, 640)\n",
              " path: '/content/drive/Shareddrives/CV CEP/test/images/car-wbs-MH20DJ0419_00000_jpeg.rf.a4991505128c5856726f0e69909f0f26.jpg'\n",
              " probs: None\n",
              " save_dir: 'runs/detect/predict'\n",
              " speed: {'preprocess': 2.442401000052996, 'inference': 7.4627520000376535, 'postprocess': 1.3125360001140507},\n",
              " ultralytics.engine.results.Results object with attributes:\n",
              " \n",
              " boxes: ultralytics.engine.results.Boxes object\n",
              " keypoints: None\n",
              " masks: None\n",
              " names: {0: 'LicensePlate'}\n",
              " obb: None\n",
              " orig_img: array([[[ 17,  12,   9],\n",
              "         [ 17,  12,   9],\n",
              "         [ 18,  13,  10],\n",
              "         ...,\n",
              "         [  8,   3,   5],\n",
              "         [  6,   3,   5],\n",
              "         [  6,   3,   5]],\n",
              " \n",
              "        [[ 16,  11,   8],\n",
              "         [ 17,  12,   9],\n",
              "         [ 17,  12,   9],\n",
              "         ...,\n",
              "         [  9,   4,   6],\n",
              "         [  6,   3,   5],\n",
              "         [  6,   3,   5]],\n",
              " \n",
              "        [[ 17,  11,   6],\n",
              "         [ 18,  12,   7],\n",
              "         [ 19,  13,   8],\n",
              "         ...,\n",
              "         [  9,   4,   5],\n",
              "         [  9,   4,   6],\n",
              "         [  8,   3,   5]],\n",
              " \n",
              "        ...,\n",
              " \n",
              "        [[127, 156, 163],\n",
              "         [121, 150, 157],\n",
              "         [141, 170, 177],\n",
              "         ...,\n",
              "         [ 60,  88,  89],\n",
              "         [191, 216, 218],\n",
              "         [197, 225, 226]],\n",
              " \n",
              "        [[101, 130, 137],\n",
              "         [ 89, 118, 125],\n",
              "         [ 85, 114, 121],\n",
              "         ...,\n",
              "         [ 26,  51,  53],\n",
              "         [165, 188, 190],\n",
              "         [158, 183, 185]],\n",
              " \n",
              "        [[ 89, 118, 125],\n",
              "         [ 98, 127, 134],\n",
              "         [ 87, 116, 123],\n",
              "         ...,\n",
              "         [ 21,  44,  46],\n",
              "         [159, 182, 184],\n",
              "         [161, 184, 186]]], dtype=uint8)\n",
              " orig_shape: (640, 640)\n",
              " path: '/content/drive/Shareddrives/CV CEP/test/images/car-wbs-MH20EE7598_00000_jpeg.rf.ec6800412a0fa16acb16a3103461a802.jpg'\n",
              " probs: None\n",
              " save_dir: 'runs/detect/predict'\n",
              " speed: {'preprocess': 3.633455999988655, 'inference': 21.702814000036597, 'postprocess': 1.9694119998803217},\n",
              " ultralytics.engine.results.Results object with attributes:\n",
              " \n",
              " boxes: ultralytics.engine.results.Boxes object\n",
              " keypoints: None\n",
              " masks: None\n",
              " names: {0: 'LicensePlate'}\n",
              " obb: None\n",
              " orig_img: array([[[115, 104, 106],\n",
              "         [116, 105, 107],\n",
              "         [118, 107, 109],\n",
              "         ...,\n",
              "         [ 27,  27,  27],\n",
              "         [ 26,  26,  26],\n",
              "         [ 25,  25,  25]],\n",
              " \n",
              "        [[113, 102, 104],\n",
              "         [115, 104, 106],\n",
              "         [117, 106, 108],\n",
              "         ...,\n",
              "         [ 26,  26,  26],\n",
              "         [ 25,  25,  25],\n",
              "         [ 25,  25,  25]],\n",
              " \n",
              "        [[114, 103, 105],\n",
              "         [117, 106, 108],\n",
              "         [120, 109, 111],\n",
              "         ...,\n",
              "         [ 27,  27,  27],\n",
              "         [ 27,  27,  27],\n",
              "         [ 26,  26,  26]],\n",
              " \n",
              "        ...,\n",
              " \n",
              "        [[ 57, 117, 153],\n",
              "         [ 56, 116, 152],\n",
              "         [ 54, 114, 150],\n",
              "         ...,\n",
              "         [ 66, 115, 117],\n",
              "         [ 68, 117, 119],\n",
              "         [ 69, 118, 120]],\n",
              " \n",
              "        [[ 60, 120, 156],\n",
              "         [ 58, 118, 154],\n",
              "         [ 57, 117, 153],\n",
              "         ...,\n",
              "         [ 72, 123, 125],\n",
              "         [ 72, 126, 127],\n",
              "         [ 74, 128, 129]],\n",
              " \n",
              "        [[ 60, 120, 156],\n",
              "         [ 59, 119, 155],\n",
              "         [ 57, 117, 153],\n",
              "         ...,\n",
              "         [ 66, 120, 121],\n",
              "         [ 65, 121, 122],\n",
              "         [ 66, 122, 123]]], dtype=uint8)\n",
              " orig_shape: (640, 640)\n",
              " path: '/content/drive/Shareddrives/CV CEP/test/images/car-wbs-TN21BC6225_00000_png.rf.f0c87818cf7fc79dce08bae4a7703060.jpg'\n",
              " probs: None\n",
              " save_dir: 'runs/detect/predict'\n",
              " speed: {'preprocess': 2.44585200016445, 'inference': 7.509016999847518, 'postprocess': 1.2835129998620687},\n",
              " ultralytics.engine.results.Results object with attributes:\n",
              " \n",
              " boxes: ultralytics.engine.results.Boxes object\n",
              " keypoints: None\n",
              " masks: None\n",
              " names: {0: 'LicensePlate'}\n",
              " obb: None\n",
              " orig_img: array([[[237, 255, 243],\n",
              "         [236, 255, 242],\n",
              "         [235, 255, 241],\n",
              "         ...,\n",
              "         [205, 254, 255],\n",
              "         [206, 254, 255],\n",
              "         [203, 251, 253]],\n",
              " \n",
              "        [[236, 255, 242],\n",
              "         [236, 255, 242],\n",
              "         [235, 255, 241],\n",
              "         ...,\n",
              "         [206, 255, 255],\n",
              "         [206, 255, 255],\n",
              "         [204, 252, 254]],\n",
              " \n",
              "        [[235, 255, 242],\n",
              "         [235, 255, 242],\n",
              "         [234, 254, 241],\n",
              "         ...,\n",
              "         [204, 255, 255],\n",
              "         [206, 255, 255],\n",
              "         [203, 252, 254]],\n",
              " \n",
              "        ...,\n",
              " \n",
              "        [[186, 197, 124],\n",
              "         [186, 197, 124],\n",
              "         [186, 197, 124],\n",
              "         ...,\n",
              "         [146, 153,  92],\n",
              "         [146, 154,  91],\n",
              "         [147, 155,  92]],\n",
              " \n",
              "        [[185, 196, 123],\n",
              "         [184, 195, 122],\n",
              "         [183, 194, 121],\n",
              "         ...,\n",
              "         [146, 154,  89],\n",
              "         [147, 156,  89],\n",
              "         [149, 158,  91]],\n",
              " \n",
              "        [[188, 199, 126],\n",
              "         [188, 199, 126],\n",
              "         [186, 197, 124],\n",
              "         ...,\n",
              "         [143, 152,  85],\n",
              "         [145, 155,  85],\n",
              "         [148, 158,  88]]], dtype=uint8)\n",
              " orig_shape: (640, 640)\n",
              " path: '/content/drive/Shareddrives/CV CEP/test/images/car-wbs-TN21BY0166_00000_png.rf.23587a0813d34303b10b1e1120c20daa.jpg'\n",
              " probs: None\n",
              " save_dir: 'runs/detect/predict'\n",
              " speed: {'preprocess': 2.485253000031662, 'inference': 7.468205000122907, 'postprocess': 1.335498000116786},\n",
              " ultralytics.engine.results.Results object with attributes:\n",
              " \n",
              " boxes: ultralytics.engine.results.Boxes object\n",
              " keypoints: None\n",
              " masks: None\n",
              " names: {0: 'LicensePlate'}\n",
              " obb: None\n",
              " orig_img: array([[[155, 141, 135],\n",
              "         [152, 138, 132],\n",
              "         [151, 135, 128],\n",
              "         ...,\n",
              "         [247, 244, 240],\n",
              "         [247, 244, 239],\n",
              "         [247, 244, 239]],\n",
              " \n",
              "        [[156, 142, 136],\n",
              "         [153, 139, 133],\n",
              "         [151, 135, 128],\n",
              "         ...,\n",
              "         [247, 244, 240],\n",
              "         [247, 244, 239],\n",
              "         [248, 245, 240]],\n",
              " \n",
              "        [[157, 143, 137],\n",
              "         [154, 140, 134],\n",
              "         [152, 136, 129],\n",
              "         ...,\n",
              "         [249, 245, 240],\n",
              "         [249, 245, 240],\n",
              "         [250, 246, 241]],\n",
              " \n",
              "        ...,\n",
              " \n",
              "        [[127, 150, 158],\n",
              "         [121, 144, 152],\n",
              "         [128, 149, 157],\n",
              "         ...,\n",
              "         [ 61,  72,  80],\n",
              "         [ 57,  68,  76],\n",
              "         [ 64,  75,  83]],\n",
              " \n",
              "        [[116, 142, 149],\n",
              "         [104, 127, 135],\n",
              "         [100, 121, 129],\n",
              "         ...,\n",
              "         [ 64,  75,  83],\n",
              "         [ 53,  64,  72],\n",
              "         [ 55,  66,  74]],\n",
              " \n",
              "        [[111, 137, 144],\n",
              "         [110, 136, 143],\n",
              "         [119, 140, 148],\n",
              "         ...,\n",
              "         [ 68,  79,  87],\n",
              "         [ 60,  71,  79],\n",
              "         [ 61,  72,  80]]], dtype=uint8)\n",
              " orig_shape: (640, 640)\n",
              " path: '/content/drive/Shareddrives/CV CEP/test/images/car-wbs-TN99F2378_00000_png.rf.a4454ad6c0bc77e14dc4d69733ac71f1.jpg'\n",
              " probs: None\n",
              " save_dir: 'runs/detect/predict'\n",
              " speed: {'preprocess': 2.9024269999808894, 'inference': 7.529127999987395, 'postprocess': 1.2608749998435087},\n",
              " ultralytics.engine.results.Results object with attributes:\n",
              " \n",
              " boxes: ultralytics.engine.results.Boxes object\n",
              " keypoints: None\n",
              " masks: None\n",
              " names: {0: 'LicensePlate'}\n",
              " obb: None\n",
              " orig_img: array([[[ 47,  14,  49],\n",
              "         [ 47,  14,  49],\n",
              "         [ 47,  14,  49],\n",
              "         ...,\n",
              "         [131, 172, 175],\n",
              "         [140, 178, 182],\n",
              "         [137, 175, 179]],\n",
              " \n",
              "        [[ 47,  14,  49],\n",
              "         [ 47,  14,  49],\n",
              "         [ 47,  14,  49],\n",
              "         ...,\n",
              "         [133, 174, 177],\n",
              "         [143, 181, 185],\n",
              "         [140, 178, 182]],\n",
              " \n",
              "        [[ 47,  14,  49],\n",
              "         [ 47,  14,  49],\n",
              "         [ 47,  14,  49],\n",
              "         ...,\n",
              "         [125, 163, 167],\n",
              "         [139, 176, 180],\n",
              "         [141, 178, 182]],\n",
              " \n",
              "        ...,\n",
              " \n",
              "        [[112, 110, 122],\n",
              "         [113, 111, 123],\n",
              "         [114, 112, 124],\n",
              "         ...,\n",
              "         [ 17,   1,  18],\n",
              "         [ 20,   5,  19],\n",
              "         [ 22,   7,  21]],\n",
              " \n",
              "        [[113, 111, 123],\n",
              "         [114, 112, 124],\n",
              "         [115, 113, 125],\n",
              "         ...,\n",
              "         [ 17,   1,  18],\n",
              "         [ 20,   5,  19],\n",
              "         [ 22,   7,  21]],\n",
              " \n",
              "        [[114, 112, 124],\n",
              "         [114, 112, 124],\n",
              "         [115, 113, 125],\n",
              "         ...,\n",
              "         [ 17,   1,  18],\n",
              "         [ 20,   5,  19],\n",
              "         [ 22,   7,  21]]], dtype=uint8)\n",
              " orig_shape: (640, 640)\n",
              " path: '/content/drive/Shareddrives/CV CEP/test/images/e29b6eea-504a-4da2-8503-5bd3443f3bd8___maruti-suzuki-wagon-r-front-left-rim-jpg_jpeg.rf.1c5c86f21a5272a8d1ee70975cfa6880.jpg'\n",
              " probs: None\n",
              " save_dir: 'runs/detect/predict'\n",
              " speed: {'preprocess': 2.377775000013571, 'inference': 7.441644000209635, 'postprocess': 1.2885210001059022},\n",
              " ultralytics.engine.results.Results object with attributes:\n",
              " \n",
              " boxes: ultralytics.engine.results.Boxes object\n",
              " keypoints: None\n",
              " masks: None\n",
              " names: {0: 'LicensePlate'}\n",
              " obb: None\n",
              " orig_img: array([[[107, 170, 126],\n",
              "         [111, 174, 130],\n",
              "         [109, 172, 132],\n",
              "         ...,\n",
              "         [ 23,  39,  28],\n",
              "         [ 29,  45,  34],\n",
              "         [ 22,  39,  28]],\n",
              " \n",
              "        [[111, 174, 132],\n",
              "         [114, 177, 135],\n",
              "         [113, 176, 136],\n",
              "         ...,\n",
              "         [ 37,  51,  40],\n",
              "         [ 35,  51,  40],\n",
              "         [ 24,  40,  29]],\n",
              " \n",
              "        [[111, 173, 133],\n",
              "         [115, 177, 137],\n",
              "         [113, 176, 136],\n",
              "         ...,\n",
              "         [ 39,  50,  40],\n",
              "         [ 25,  36,  26],\n",
              "         [  4,  18,   7]],\n",
              " \n",
              "        ...,\n",
              " \n",
              "        [[101, 109, 108],\n",
              "         [106, 114, 113],\n",
              "         [108, 116, 115],\n",
              "         ...,\n",
              "         [166, 180, 192],\n",
              "         [165, 179, 191],\n",
              "         [164, 178, 190]],\n",
              " \n",
              "        [[108, 116, 115],\n",
              "         [114, 122, 121],\n",
              "         [117, 125, 124],\n",
              "         ...,\n",
              "         [167, 181, 193],\n",
              "         [167, 181, 193],\n",
              "         [167, 181, 193]],\n",
              " \n",
              "        [[104, 112, 111],\n",
              "         [111, 119, 118],\n",
              "         [115, 123, 122],\n",
              "         ...,\n",
              "         [168, 182, 194],\n",
              "         [169, 183, 195],\n",
              "         [170, 184, 196]]], dtype=uint8)\n",
              " orig_shape: (640, 640)\n",
              " path: '/content/drive/Shareddrives/CV CEP/test/images/e4907f73-1fbc-412c-a766-9c81bb31449c___2016-Chevrolet-TrailBlazer-India-Test-Drive-Review-e1442832290349-jpg_jpeg.rf.5d7bb2fc9181a3f62094050f10776c23.jpg'\n",
              " probs: None\n",
              " save_dir: 'runs/detect/predict'\n",
              " speed: {'preprocess': 3.2280070001888816, 'inference': 12.699982999947679, 'postprocess': 2.452661999996053},\n",
              " ultralytics.engine.results.Results object with attributes:\n",
              " \n",
              " boxes: ultralytics.engine.results.Boxes object\n",
              " keypoints: None\n",
              " masks: None\n",
              " names: {0: 'LicensePlate'}\n",
              " obb: None\n",
              " orig_img: array([[[100, 160, 142],\n",
              "         [ 89, 147, 129],\n",
              "         [ 78, 132, 115],\n",
              "         ...,\n",
              "         [ 22,  25,  23],\n",
              "         [  0,   4,   2],\n",
              "         [  1,   6,   4]],\n",
              " \n",
              "        [[ 94, 152, 134],\n",
              "         [ 79, 134, 117],\n",
              "         [ 65, 117, 100],\n",
              "         ...,\n",
              "         [ 19,  22,  20],\n",
              "         [  0,   5,   3],\n",
              "         [  4,   9,   7]],\n",
              " \n",
              "        [[ 99, 154, 137],\n",
              "         [ 74, 128, 111],\n",
              "         [ 53, 102,  86],\n",
              "         ...,\n",
              "         [  8,  11,   9],\n",
              "         [  0,   1,   0],\n",
              "         [  3,   8,   6]],\n",
              " \n",
              "        ...,\n",
              " \n",
              "        [[237, 237, 237],\n",
              "         [236, 234, 234],\n",
              "         [237, 232, 233],\n",
              "         ...,\n",
              "         [144, 189, 193],\n",
              "         [155, 202, 206],\n",
              "         [155, 202, 206]],\n",
              " \n",
              "        [[236, 236, 236],\n",
              "         [241, 239, 239],\n",
              "         [242, 237, 238],\n",
              "         ...,\n",
              "         [135, 182, 186],\n",
              "         [129, 176, 180],\n",
              "         [128, 175, 179]],\n",
              " \n",
              "        [[235, 235, 235],\n",
              "         [242, 240, 240],\n",
              "         [241, 236, 237],\n",
              "         ...,\n",
              "         [131, 178, 182],\n",
              "         [112, 159, 163],\n",
              "         [101, 148, 152]]], dtype=uint8)\n",
              " orig_shape: (640, 640)\n",
              " path: '/content/drive/Shareddrives/CV CEP/test/images/e706cec0-783a-42bc-b934-64788481cd92___4-Innova-After-2-jpg_jpeg.rf.511927888ca8c8583c4c4089af7a6e27.jpg'\n",
              " probs: None\n",
              " save_dir: 'runs/detect/predict'\n",
              " speed: {'preprocess': 3.3183600000938895, 'inference': 10.967748999973992, 'postprocess': 1.9386809999559773},\n",
              " ultralytics.engine.results.Results object with attributes:\n",
              " \n",
              " boxes: ultralytics.engine.results.Boxes object\n",
              " keypoints: None\n",
              " masks: None\n",
              " names: {0: 'LicensePlate'}\n",
              " obb: None\n",
              " orig_img: array([[[ 59,  72,  70],\n",
              "         [ 38,  51,  49],\n",
              "         [ 17,  30,  28],\n",
              "         ...,\n",
              "         [191, 202, 200],\n",
              "         [191, 202, 200],\n",
              "         [242, 253, 251]],\n",
              " \n",
              "        [[ 65,  78,  76],\n",
              "         [ 44,  57,  55],\n",
              "         [ 20,  33,  31],\n",
              "         ...,\n",
              "         [183, 194, 192],\n",
              "         [197, 208, 206],\n",
              "         [245, 255, 254]],\n",
              " \n",
              "        [[ 55,  66,  64],\n",
              "         [ 44,  55,  53],\n",
              "         [ 30,  41,  39],\n",
              "         ...,\n",
              "         [195, 206, 204],\n",
              "         [218, 229, 227],\n",
              "         [244, 255, 253]],\n",
              " \n",
              "        ...,\n",
              " \n",
              "        [[254, 243, 239],\n",
              "         [254, 243, 239],\n",
              "         [255, 244, 240],\n",
              "         ...,\n",
              "         [213, 213, 213],\n",
              "         [220, 220, 220],\n",
              "         [216, 216, 216]],\n",
              " \n",
              "        [[255, 244, 240],\n",
              "         [255, 244, 240],\n",
              "         [255, 245, 241],\n",
              "         ...,\n",
              "         [211, 211, 211],\n",
              "         [217, 217, 217],\n",
              "         [213, 213, 213]],\n",
              " \n",
              "        [[255, 245, 241],\n",
              "         [255, 246, 242],\n",
              "         [255, 246, 242],\n",
              "         ...,\n",
              "         [210, 210, 210],\n",
              "         [216, 216, 216],\n",
              "         [210, 210, 210]]], dtype=uint8)\n",
              " orig_shape: (640, 640)\n",
              " path: '/content/drive/Shareddrives/CV CEP/test/images/ef2dc97f-bc6d-49a3-9ddb-03f54f3a20e7___Skoda-Rapid-new-Exterior-84398-jpg_jpeg.rf.550d5e6bb29f38acb82fe37823281635.jpg'\n",
              " probs: None\n",
              " save_dir: 'runs/detect/predict'\n",
              " speed: {'preprocess': 2.5102680001509725, 'inference': 7.440596000151345, 'postprocess': 1.2822189999042166},\n",
              " ultralytics.engine.results.Results object with attributes:\n",
              " \n",
              " boxes: ultralytics.engine.results.Boxes object\n",
              " keypoints: None\n",
              " masks: None\n",
              " names: {0: 'LicensePlate'}\n",
              " obb: None\n",
              " orig_img: array([[[253, 253, 253],\n",
              "         [253, 253, 253],\n",
              "         [253, 253, 253],\n",
              "         ...,\n",
              "         [161, 181, 168],\n",
              "         [181, 203, 191],\n",
              "         [193, 215, 203]],\n",
              " \n",
              "        [[253, 253, 253],\n",
              "         [253, 253, 253],\n",
              "         [253, 253, 253],\n",
              "         ...,\n",
              "         [162, 182, 169],\n",
              "         [186, 206, 194],\n",
              "         [197, 219, 207]],\n",
              " \n",
              "        [[253, 253, 253],\n",
              "         [253, 253, 253],\n",
              "         [253, 253, 253],\n",
              "         ...,\n",
              "         [164, 184, 172],\n",
              "         [190, 209, 200],\n",
              "         [204, 223, 214]],\n",
              " \n",
              "        ...,\n",
              " \n",
              "        [[249, 235, 236],\n",
              "         [245, 231, 232],\n",
              "         [244, 232, 232],\n",
              "         ...,\n",
              "         [218, 210, 203],\n",
              "         [213, 205, 198],\n",
              "         [207, 199, 192]],\n",
              " \n",
              "        [[238, 224, 225],\n",
              "         [238, 224, 225],\n",
              "         [237, 223, 224],\n",
              "         ...,\n",
              "         [218, 210, 203],\n",
              "         [215, 207, 200],\n",
              "         [209, 201, 194]],\n",
              " \n",
              "        [[232, 218, 219],\n",
              "         [235, 221, 222],\n",
              "         [233, 219, 220],\n",
              "         ...,\n",
              "         [218, 210, 203],\n",
              "         [216, 208, 201],\n",
              "         [211, 203, 196]]], dtype=uint8)\n",
              " orig_shape: (640, 640)\n",
              " path: '/content/drive/Shareddrives/CV CEP/test/images/f7ba7a93-e8d7-4253-b327-d87e3f2bb747___3e7fd381-0ae5-4421-8a70-279ee0ec1c61_2013-Nissan-Terrano-Rear_jpg.rf.a8b331240941ee4315c4254d2205f1ec.jpg'\n",
              " probs: None\n",
              " save_dir: 'runs/detect/predict'\n",
              " speed: {'preprocess': 2.4636309999550576, 'inference': 7.4376580000716785, 'postprocess': 1.7477839999173739},\n",
              " ultralytics.engine.results.Results object with attributes:\n",
              " \n",
              " boxes: ultralytics.engine.results.Boxes object\n",
              " keypoints: None\n",
              " masks: None\n",
              " names: {0: 'LicensePlate'}\n",
              " obb: None\n",
              " orig_img: array([[[ 84,  60,  54],\n",
              "         [ 81,  57,  51],\n",
              "         [ 76,  52,  46],\n",
              "         ...,\n",
              "         [ 66,  74,  57],\n",
              "         [ 57,  67,  51],\n",
              "         [ 65,  75,  59]],\n",
              " \n",
              "        [[ 80,  56,  50],\n",
              "         [ 78,  54,  48],\n",
              "         [ 74,  50,  44],\n",
              "         ...,\n",
              "         [ 71,  79,  62],\n",
              "         [ 70,  77,  62],\n",
              "         [ 64,  74,  58]],\n",
              " \n",
              "        [[ 74,  50,  44],\n",
              "         [ 73,  49,  43],\n",
              "         [ 71,  47,  41],\n",
              "         ...,\n",
              "         [ 65,  73,  56],\n",
              "         [ 91,  99,  82],\n",
              "         [ 90,  98,  81]],\n",
              " \n",
              "        ...,\n",
              " \n",
              "        [[179, 200, 232],\n",
              "         [179, 200, 232],\n",
              "         [176, 196, 231],\n",
              "         ...,\n",
              "         [163, 183, 201],\n",
              "         [161, 180, 201],\n",
              "         [159, 179, 197]],\n",
              " \n",
              "        [[179, 200, 232],\n",
              "         [180, 201, 233],\n",
              "         [177, 197, 232],\n",
              "         ...,\n",
              "         [152, 171, 192],\n",
              "         [151, 169, 192],\n",
              "         [151, 170, 191]],\n",
              " \n",
              "        [[179, 200, 232],\n",
              "         [180, 201, 233],\n",
              "         [178, 198, 233],\n",
              "         ...,\n",
              "         [142, 160, 183],\n",
              "         [143, 161, 184],\n",
              "         [144, 162, 185]]], dtype=uint8)\n",
              " orig_shape: (640, 640)\n",
              " path: '/content/drive/Shareddrives/CV CEP/test/images/fb939bb1-5257-4879-bafb-539472ffb73d___Maruti-Suzuki-Brezza-Number-Plates-Design-jpg_jpeg.rf.e5c4c4aca58587e0548b51db721be9e6.jpg'\n",
              " probs: None\n",
              " save_dir: 'runs/detect/predict'\n",
              " speed: {'preprocess': 2.4839360000896704, 'inference': 7.452031000184434, 'postprocess': 1.2665530000504077},\n",
              " ultralytics.engine.results.Results object with attributes:\n",
              " \n",
              " boxes: ultralytics.engine.results.Boxes object\n",
              " keypoints: None\n",
              " masks: None\n",
              " names: {0: 'LicensePlate'}\n",
              " obb: None\n",
              " orig_img: array([[[ 80, 100, 105],\n",
              "         [ 70,  90,  95],\n",
              "         [ 67,  86,  91],\n",
              "         ...,\n",
              "         [143, 150, 177],\n",
              "         [168, 173, 198],\n",
              "         [202, 207, 232]],\n",
              " \n",
              "        [[ 79,  99, 104],\n",
              "         [ 71,  91,  96],\n",
              "         [ 71,  90,  95],\n",
              "         ...,\n",
              "         [118, 125, 152],\n",
              "         [170, 175, 200],\n",
              "         [208, 213, 238]],\n",
              " \n",
              "        [[ 75,  94,  99],\n",
              "         [ 69,  88,  93],\n",
              "         [ 74,  90,  96],\n",
              "         ...,\n",
              "         [ 91,  98, 125],\n",
              "         [171, 176, 201],\n",
              "         [208, 213, 238]],\n",
              " \n",
              "        ...,\n",
              " \n",
              "        [[166, 193, 230],\n",
              "         [171, 198, 235],\n",
              "         [177, 205, 240],\n",
              "         ...,\n",
              "         [119, 132, 148],\n",
              "         [120, 133, 149],\n",
              "         [123, 136, 152]],\n",
              " \n",
              "        [[172, 199, 236],\n",
              "         [170, 197, 234],\n",
              "         [174, 202, 237],\n",
              "         ...,\n",
              "         [125, 138, 154],\n",
              "         [141, 154, 170],\n",
              "         [151, 164, 180]],\n",
              " \n",
              "        [[162, 189, 226],\n",
              "         [159, 186, 223],\n",
              "         [166, 194, 229],\n",
              "         ...,\n",
              "         [135, 148, 164],\n",
              "         [142, 155, 171],\n",
              "         [144, 157, 173]]], dtype=uint8)\n",
              " orig_shape: (640, 640)\n",
              " path: '/content/drive/Shareddrives/CV CEP/test/images/fbc107b7-13d8-4a2d-b8be-7c96bd7d609c___new_9214a754343030395508e104d7948167_large-jpg_jpeg.rf.da3583a89b3a27881d8aa3e4ff3b33f6.jpg'\n",
              " probs: None\n",
              " save_dir: 'runs/detect/predict'\n",
              " speed: {'preprocess': 2.6834109999072098, 'inference': 7.448208999903727, 'postprocess': 1.2588829999913287}]"
            ]
          },
          "metadata": {},
          "execution_count": 11
        }
      ]
    }
  ],
  "metadata": {
    "accelerator": "GPU",
    "colab": {
      "gpuType": "T4",
      "provenance": [],
      "mount_file_id": "1klHQrWk_sOaCmuoTuWgIbnrcORPRlgvk",
      "authorship_tag": "ABX9TyOx+uJjemqUWxYgvKlCYYT0",
      "include_colab_link": true
    },
    "kernelspec": {
      "display_name": "Python 3",
      "name": "python3"
    },
    "language_info": {
      "name": "python"
    }
  },
  "nbformat": 4,
  "nbformat_minor": 0
}